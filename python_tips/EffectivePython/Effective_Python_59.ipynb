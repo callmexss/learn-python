{
 "cells": [
  {
   "cell_type": "markdown",
   "metadata": {
    "collapsed": true
   },
   "source": [
    "# Effective Python 59"
   ]
  },
  {
   "cell_type": "markdown",
   "metadata": {},
   "source": [
    "## Chap 0. 有用的函数"
   ]
  },
  {
   "cell_type": "code",
   "execution_count": 4,
   "metadata": {},
   "outputs": [],
   "source": [
    "# lib import\n",
    "import random"
   ]
  },
  {
   "cell_type": "code",
   "execution_count": 5,
   "metadata": {},
   "outputs": [],
   "source": [
    "def random_ints(n=10, s=0, e=100):\n",
    "    return [random.randint(s, e) for x in range(n)]"
   ]
  },
  {
   "cell_type": "markdown",
   "metadata": {},
   "source": [
    "## Chap 1. 用pythonic方式来思考"
   ]
  },
  {
   "cell_type": "markdown",
   "metadata": {},
   "source": [
    "### Item 5. 了解序列切片的方法"
   ]
  },
  {
   "cell_type": "markdown",
   "metadata": {},
   "source": [
    "实现了`__getitem__`和`__setitem__`这两个特殊方法的python类都可以使用切片操作"
   ]
  },
  {
   "cell_type": "markdown",
   "metadata": {},
   "source": [
    "切片操作的基本写法是`somelist[begin:end]`，其中`begin`和`end`可以越界。"
   ]
  },
  {
   "cell_type": "code",
   "execution_count": 1,
   "metadata": {},
   "outputs": [
    {
     "name": "stdout",
     "output_type": "stream",
     "text": [
      "[1, 2, 3, 4, 5]\n",
      "[4, 5]\n",
      "[1, 2]\n"
     ]
    }
   ],
   "source": [
    "li = [1, 2, 3, 4, 5]\n",
    "print(li[:])\n",
    "print(li[3:10])\n",
    "print(li[-10:-3])"
   ]
  },
  {
   "cell_type": "markdown",
   "metadata": {},
   "source": [
    "如果作为索引时越界会抛出一个异常。"
   ]
  },
  {
   "cell_type": "code",
   "execution_count": 2,
   "metadata": {},
   "outputs": [
    {
     "ename": "IndexError",
     "evalue": "list index out of range",
     "output_type": "error",
     "traceback": [
      "\u001b[0;31m---------------------------------------------------------------------------\u001b[0m",
      "\u001b[0;31mIndexError\u001b[0m                                Traceback (most recent call last)",
      "\u001b[0;32m<ipython-input-2-f201d77b98ad>\u001b[0m in \u001b[0;36m<module>\u001b[0;34m()\u001b[0m\n\u001b[0;32m----> 1\u001b[0;31m \u001b[0mli\u001b[0m\u001b[0;34m[\u001b[0m\u001b[0;36m10\u001b[0m\u001b[0;34m]\u001b[0m\u001b[0;34m\u001b[0m\u001b[0m\n\u001b[0m",
      "\u001b[0;31mIndexError\u001b[0m: list index out of range"
     ]
    }
   ],
   "source": [
    "li[10]"
   ]
  },
  {
   "cell_type": "markdown",
   "metadata": {},
   "source": [
    "切片操作产生的一份全新的列表，对新列表操作不会对原列表产生影响。"
   ]
  },
  {
   "cell_type": "code",
   "execution_count": 3,
   "metadata": {},
   "outputs": [
    {
     "name": "stdout",
     "output_type": "stream",
     "text": [
      "li:  [1, 2, 3, 4, 5]\n",
      "new_li [-999, 2, 3, 4, 5]\n"
     ]
    }
   ],
   "source": [
    "new_li = li[:]\n",
    "new_li[0] = -999\n",
    "print(\"li: \", li)\n",
    "print(\"new_li\", new_li)"
   ]
  },
  {
   "cell_type": "markdown",
   "metadata": {},
   "source": [
    "在赋值时对左侧列表使用切割操作，会把该列表中处在指定范围内的对象替换为新值。此切片无需新值的个数相等。"
   ]
  },
  {
   "cell_type": "code",
   "execution_count": 4,
   "metadata": {},
   "outputs": [
    {
     "name": "stdout",
     "output_type": "stream",
     "text": [
      "Before: [-999, 2, 3, 4, 5]\n",
      "After: [-999, 'a', 'b', 5]\n"
     ]
    }
   ],
   "source": [
    "print(\"Before:\", new_li)\n",
    "new_li[1:4] = ['a', 'b']\n",
    "print(\"After:\", new_li)"
   ]
  },
  {
   "cell_type": "code",
   "execution_count": 5,
   "metadata": {},
   "outputs": [
    {
     "name": "stdout",
     "output_type": "stream",
     "text": [
      "True\n",
      "False\n"
     ]
    }
   ],
   "source": [
    "new_li2 = new_li[:]\n",
    "print(new_li2 == new_li)  # value equals\n",
    "print(new_li2 is new_li)  # address equals"
   ]
  },
  {
   "cell_type": "code",
   "execution_count": 6,
   "metadata": {},
   "outputs": [
    {
     "name": "stdout",
     "output_type": "stream",
     "text": [
      "140635689657416\n",
      "140635689657416\n",
      "True\n"
     ]
    }
   ],
   "source": [
    "new_li3 = new_li2  # reference, new_li2 and new_li3 points to same address\n",
    "assert id(new_li3) == id(new_li2)  # True\n",
    "print(id(new_li2))\n",
    "new_li2[:] = [101, 102, 103]  # do the operation at original list\n",
    "print(id(new_li2))\n",
    "print(new_li2 is new_li3)"
   ]
  },
  {
   "cell_type": "markdown",
   "metadata": {},
   "source": [
    "### Item 6. 在单次切片操作中，不要同时指定`start`，`end`和`stride`"
   ]
  },
  {
   "cell_type": "markdown",
   "metadata": {},
   "source": [
    "- 同时有`start`，`end`和`stride`的切片操作的可读性较差。\n",
    "- 尽量不要三者同时使用，stride尽量使用正数。\n",
    "- 使用范围切割和步进切割代替这种做法。或者使用itertools模块中的islice。"
   ]
  },
  {
   "cell_type": "markdown",
   "metadata": {},
   "source": [
    "### Item 7. 使用列表解析取代`map`和`filter`"
   ]
  },
  {
   "cell_type": "code",
   "execution_count": 7,
   "metadata": {},
   "outputs": [
    {
     "name": "stdout",
     "output_type": "stream",
     "text": [
      "[0, 4, 16, 36, 64]\n",
      "[0, 4, 16, 36, 64]\n"
     ]
    },
    {
     "ename": "AssertionError",
     "evalue": "",
     "output_type": "error",
     "traceback": [
      "\u001b[0;31m---------------------------------------------------------------------------\u001b[0m",
      "\u001b[0;31mAssertionError\u001b[0m                            Traceback (most recent call last)",
      "\u001b[0;32m<ipython-input-7-c49740edcb31>\u001b[0m in \u001b[0;36m<module>\u001b[0;34m()\u001b[0m\n\u001b[1;32m      4\u001b[0m \u001b[0mprint\u001b[0m\u001b[0;34m(\u001b[0m\u001b[0meven_square\u001b[0m\u001b[0;34m)\u001b[0m\u001b[0;34m\u001b[0m\u001b[0m\n\u001b[1;32m      5\u001b[0m \u001b[0mprint\u001b[0m\u001b[0;34m(\u001b[0m\u001b[0mlist\u001b[0m\u001b[0;34m(\u001b[0m\u001b[0meven_square_new\u001b[0m\u001b[0;34m)\u001b[0m\u001b[0;34m)\u001b[0m\u001b[0;34m\u001b[0m\u001b[0m\n\u001b[0;32m----> 6\u001b[0;31m \u001b[0;32massert\u001b[0m \u001b[0meven_square\u001b[0m \u001b[0;34m==\u001b[0m \u001b[0mlist\u001b[0m\u001b[0;34m(\u001b[0m\u001b[0meven_square_new\u001b[0m\u001b[0;34m)\u001b[0m\u001b[0;34m\u001b[0m\u001b[0m\n\u001b[0m",
      "\u001b[0;31mAssertionError\u001b[0m: "
     ]
    }
   ],
   "source": [
    "li = [x for x in range(10)]  # [0, 1, 2, 3, 4, 5, 6, 7, 8, 9]\n",
    "even_square = [x ** 2 for x in li if x % 2 == 0]\n",
    "even_square_new = map(lambda x: x ** 2, filter(lambda x: x % 2 == 0, li))\n",
    "print(even_square)\n",
    "print(list(even_square_new))\n",
    "assert even_square == list(even_square_new)"
   ]
  },
  {
   "cell_type": "markdown",
   "metadata": {},
   "source": [
    "字典和集合也有类似操作。\n"
   ]
  },
  {
   "cell_type": "code",
   "execution_count": 8,
   "metadata": {},
   "outputs": [
    {
     "name": "stdout",
     "output_type": "stream",
     "text": [
      "{'ghost': 1, 'cayenne': 3, 'habanero': 2}\n",
      "{1: 'ghost', 2: 'habanero', 3: 'cayenne'}\n",
      "{8, 5, 7}\n"
     ]
    }
   ],
   "source": [
    "chile_ranks = {'ghost': 1, 'habanero': 2, 'cayenne': 3}\n",
    "rank_dict = {rank: name for name, rank in chile_ranks.items()}\n",
    "len_set = {len(name) for name in rank_dict.values()}\n",
    "print(chile_ranks)\n",
    "print(rank_dict)\n",
    "print(len_set)"
   ]
  },
  {
   "cell_type": "markdown",
   "metadata": {},
   "source": [
    "### Item 8. 不要使用含有两个以上表达式的列表推导"
   ]
  },
  {
   "cell_type": "code",
   "execution_count": 9,
   "metadata": {},
   "outputs": [
    {
     "name": "stdout",
     "output_type": "stream",
     "text": [
      "[1, 2, 3, 4, 5, 6, 7, 8, 9]\n",
      "[[1, 4, 9], [16, 25, 36], [49, 64, 81]]\n",
      "[[1, 4, 7], [2, 5, 8], [3, 6, 9]]\n"
     ]
    }
   ],
   "source": [
    "matrix = [[1, 2, 3], [4, 5, 6], [7, 8, 9]]\n",
    "flat = [x for row in matrix for x in row]\n",
    "print(flat)\n",
    "squared = [[x ** 2 for x in row] for row in matrix]\n",
    "print(squared)\n",
    "transpose = [ [row[i] for row in matrix] for i in range(len(matrix[0]))]\n",
    "print(transpose)"
   ]
  },
  {
   "cell_type": "markdown",
   "metadata": {},
   "source": [
    "### Item 9. 用生成器表达式来改写数据量较大的列表推导"
   ]
  },
  {
   "cell_type": "code",
   "execution_count": 18,
   "metadata": {},
   "outputs": [
    {
     "name": "stdout",
     "output_type": "stream",
     "text": [
      "<generator object <genexpr> at 0x7fe84c4750f8>\n"
     ]
    }
   ],
   "source": [
    "it = (x for x in range(10))\n",
    "print(it)"
   ]
  },
  {
   "cell_type": "code",
   "execution_count": 19,
   "metadata": {},
   "outputs": [
    {
     "name": "stdout",
     "output_type": "stream",
     "text": [
      "0\n",
      "1\n"
     ]
    }
   ],
   "source": [
    "print(next(it))\n",
    "print(next(it))"
   ]
  },
  {
   "cell_type": "markdown",
   "metadata": {},
   "source": [
    "迭代器是有状态的迭代完一轮后就不要再使用了。"
   ]
  },
  {
   "cell_type": "code",
   "execution_count": 20,
   "metadata": {},
   "outputs": [
    {
     "name": "stdout",
     "output_type": "stream",
     "text": [
      "2\n",
      "3\n",
      "4\n",
      "5\n",
      "6\n",
      "7\n",
      "8\n",
      "9\n",
      "All the values have been used.\n"
     ]
    }
   ],
   "source": [
    "try:\n",
    "    while True:\n",
    "        print(next(it))\n",
    "except StopIteration:\n",
    "    print(\"All the values have been used.\")"
   ]
  },
  {
   "cell_type": "code",
   "execution_count": 21,
   "metadata": {},
   "outputs": [
    {
     "ename": "StopIteration",
     "evalue": "",
     "output_type": "error",
     "traceback": [
      "\u001b[0;31m---------------------------------------------------------------------------\u001b[0m",
      "\u001b[0;31mStopIteration\u001b[0m                             Traceback (most recent call last)",
      "\u001b[0;32m<ipython-input-21-9e5446ef4239>\u001b[0m in \u001b[0;36m<module>\u001b[0;34m()\u001b[0m\n\u001b[0;32m----> 1\u001b[0;31m \u001b[0mnext\u001b[0m\u001b[0;34m(\u001b[0m\u001b[0mit\u001b[0m\u001b[0;34m)\u001b[0m  \u001b[0;31m# will raise an exception\u001b[0m\u001b[0;34m\u001b[0m\u001b[0m\n\u001b[0m",
      "\u001b[0;31mStopIteration\u001b[0m: "
     ]
    }
   ],
   "source": [
    "next(it)  # will raise an exception"
   ]
  },
  {
   "cell_type": "markdown",
   "metadata": {},
   "source": [
    "### Item 10. 尽量用enumerate取代range"
   ]
  },
  {
   "cell_type": "code",
   "execution_count": 24,
   "metadata": {},
   "outputs": [
    {
     "name": "stdout",
     "output_type": "stream",
     "text": [
      "17930375783278079614\n"
     ]
    }
   ],
   "source": [
    "import random\n",
    "\n",
    "random_bits = 0\n",
    "for i in range(64):\n",
    "    if random.randint(0, 1):\n",
    "        random_bits |= 1 << i\n",
    "        \n",
    "print(random_bits)"
   ]
  },
  {
   "cell_type": "code",
   "execution_count": 28,
   "metadata": {},
   "outputs": [
    {
     "name": "stdout",
     "output_type": "stream",
     "text": [
      "fruit: apple \t rank: 1\n",
      "fruit: banana \t rank: 2\n",
      "fruit: orange \t rank: 3\n"
     ]
    }
   ],
   "source": [
    "fruits = ['apple', 'banana', 'orange']\n",
    "\n",
    "for rank, fruit in enumerate(fruits, 1):\n",
    "    print(\"fruit: {} \\t rank: {}\".format(fruit, rank))"
   ]
  },
  {
   "cell_type": "markdown",
   "metadata": {},
   "source": [
    "### Item 11. 用zip函数同时遍历两个迭代器"
   ]
  },
  {
   "cell_type": "code",
   "execution_count": 30,
   "metadata": {},
   "outputs": [
    {
     "name": "stdout",
     "output_type": "stream",
     "text": [
      "Longest name is Cecilia, the lenth of which is 7\n"
     ]
    }
   ],
   "source": [
    "names = ['Cecilia', 'Lise', 'Marie']\n",
    "letters = [len(name) for name in names]\n",
    "\n",
    "longest_name = None\n",
    "max_letters = 0\n",
    "\n",
    "for name, count in zip(names, letters):\n",
    "    if count > max_letters:\n",
    "        longest_name = name\n",
    "        max_letters = count\n",
    "        \n",
    "print(\"Longest name is {}, the lenth of which is {}\".format(longest_name, max_letters))"
   ]
  },
  {
   "cell_type": "markdown",
   "metadata": {},
   "source": [
    "Python2 中应使用itertools内置模块的中的izip函数。"
   ]
  },
  {
   "cell_type": "code",
   "execution_count": 31,
   "metadata": {},
   "outputs": [
    {
     "name": "stdout",
     "output_type": "stream",
     "text": [
      "Cecilia\n",
      "Lise\n",
      "Marie\n"
     ]
    }
   ],
   "source": [
    "names.append('Rosalind')\n",
    "\n",
    "for name, count in zip(names, letters):\n",
    "    print(name)"
   ]
  },
  {
   "cell_type": "markdown",
   "metadata": {},
   "source": [
    "zip函数中只要有一个迭代器结束了，整个函数就结束了。如果不能确定zip封装的列表是否等长，可以考虑使用itertools里的zip_longest函数（Python2里叫izip_longest)。"
   ]
  },
  {
   "cell_type": "markdown",
   "metadata": {},
   "source": [
    "### Item 12. 不要在for和while循环后面写else块"
   ]
  },
  {
   "cell_type": "code",
   "execution_count": 40,
   "metadata": {},
   "outputs": [],
   "source": [
    "for i in range(10, 15):\n",
    "    num = 7\n",
    "    if i % num == 0:\n",
    "        break\n",
    "else:\n",
    "    print(\"All the values in range(10, 20) mod %d don't equal 0.\" % num)"
   ]
  },
  {
   "cell_type": "code",
   "execution_count": 41,
   "metadata": {},
   "outputs": [
    {
     "name": "stdout",
     "output_type": "stream",
     "text": [
      "All the values in range(10, 20) mod 9 don't equal 0.\n"
     ]
    }
   ],
   "source": [
    "for i in range(10, 15):\n",
    "    num = 9\n",
    "    if i % num == 0:\n",
    "        break\n",
    "else:\n",
    "    print(\"All the values in range(10, 20) mod %d don't equal 0.\" % num)"
   ]
  },
  {
   "cell_type": "markdown",
   "metadata": {},
   "source": [
    "只有当整个循环主体都没有遇到break时，循环后面的else块才会执行。"
   ]
  },
  {
   "cell_type": "markdown",
   "metadata": {},
   "source": [
    "### Item 13. 合理利用try/except/else/finally结构中的每个代码块"
   ]
  },
  {
   "cell_type": "markdown",
   "metadata": {},
   "source": [
    "有点明白又不是特别明白...."
   ]
  },
  {
   "cell_type": "markdown",
   "metadata": {},
   "source": [
    "## Chap 2. 函数\n"
   ]
  },
  {
   "cell_type": "markdown",
   "metadata": {},
   "source": [
    "### 尽量用异常来表示特殊情况，而不要用None"
   ]
  },
  {
   "cell_type": "code",
   "execution_count": 8,
   "metadata": {},
   "outputs": [],
   "source": [
    "def divide(a, b):\n",
    "    try:\n",
    "        return a / b\n",
    "    except ZeroDivisionError:\n",
    "        return None"
   ]
  },
  {
   "cell_type": "code",
   "execution_count": 9,
   "metadata": {},
   "outputs": [
    {
     "name": "stdout",
     "output_type": "stream",
     "text": [
      "Invalid arguments: (0, 5)\n"
     ]
    }
   ],
   "source": [
    "x, y = 0, 5\n",
    "result = devide(x, y)\n",
    "if not result:\n",
    "    print('Invalid arguments:', (x, y))  # this is wrong!"
   ]
  },
  {
   "cell_type": "code",
   "execution_count": 17,
   "metadata": {},
   "outputs": [],
   "source": [
    "def divide(x, y):\n",
    "    try:\n",
    "        return x / y\n",
    "    except ZeroDivisionError as e:\n",
    "        raise ValueError('Invalid arguments:', (x, y)) from e"
   ]
  },
  {
   "cell_type": "code",
   "execution_count": 18,
   "metadata": {},
   "outputs": [
    {
     "ename": "ValueError",
     "evalue": "('Invalid arguments:', (5, 0))",
     "output_type": "error",
     "traceback": [
      "\u001b[0;31m---------------------------------------------------------------------------\u001b[0m",
      "\u001b[0;31mZeroDivisionError\u001b[0m                         Traceback (most recent call last)",
      "\u001b[0;32m<ipython-input-17-8518d99c044e>\u001b[0m in \u001b[0;36mdivide\u001b[0;34m(x, y)\u001b[0m\n\u001b[1;32m      2\u001b[0m     \u001b[0;32mtry\u001b[0m\u001b[0;34m:\u001b[0m\u001b[0;34m\u001b[0m\u001b[0m\n\u001b[0;32m----> 3\u001b[0;31m         \u001b[0;32mreturn\u001b[0m \u001b[0mx\u001b[0m \u001b[0;34m/\u001b[0m \u001b[0my\u001b[0m\u001b[0;34m\u001b[0m\u001b[0m\n\u001b[0m\u001b[1;32m      4\u001b[0m     \u001b[0;32mexcept\u001b[0m \u001b[0mZeroDivisionError\u001b[0m \u001b[0;32mas\u001b[0m \u001b[0me\u001b[0m\u001b[0;34m:\u001b[0m\u001b[0;34m\u001b[0m\u001b[0m\n",
      "\u001b[0;31mZeroDivisionError\u001b[0m: division by zero",
      "\nThe above exception was the direct cause of the following exception:\n",
      "\u001b[0;31mValueError\u001b[0m                                Traceback (most recent call last)",
      "\u001b[0;32m<ipython-input-18-41880823ce33>\u001b[0m in \u001b[0;36m<module>\u001b[0;34m()\u001b[0m\n\u001b[0;32m----> 1\u001b[0;31m \u001b[0mdivide\u001b[0m\u001b[0;34m(\u001b[0m\u001b[0;36m5\u001b[0m\u001b[0;34m,\u001b[0m \u001b[0;36m0\u001b[0m\u001b[0;34m)\u001b[0m\u001b[0;34m\u001b[0m\u001b[0m\n\u001b[0m",
      "\u001b[0;32m<ipython-input-17-8518d99c044e>\u001b[0m in \u001b[0;36mdivide\u001b[0;34m(x, y)\u001b[0m\n\u001b[1;32m      3\u001b[0m         \u001b[0;32mreturn\u001b[0m \u001b[0mx\u001b[0m \u001b[0;34m/\u001b[0m \u001b[0my\u001b[0m\u001b[0;34m\u001b[0m\u001b[0m\n\u001b[1;32m      4\u001b[0m     \u001b[0;32mexcept\u001b[0m \u001b[0mZeroDivisionError\u001b[0m \u001b[0;32mas\u001b[0m \u001b[0me\u001b[0m\u001b[0;34m:\u001b[0m\u001b[0;34m\u001b[0m\u001b[0m\n\u001b[0;32m----> 5\u001b[0;31m         \u001b[0;32mraise\u001b[0m \u001b[0mValueError\u001b[0m\u001b[0;34m(\u001b[0m\u001b[0;34m'Invalid arguments:'\u001b[0m\u001b[0;34m,\u001b[0m \u001b[0;34m(\u001b[0m\u001b[0mx\u001b[0m\u001b[0;34m,\u001b[0m \u001b[0my\u001b[0m\u001b[0;34m)\u001b[0m\u001b[0;34m)\u001b[0m \u001b[0;32mfrom\u001b[0m \u001b[0me\u001b[0m\u001b[0;34m\u001b[0m\u001b[0m\n\u001b[0m",
      "\u001b[0;31mValueError\u001b[0m: ('Invalid arguments:', (5, 0))"
     ]
    }
   ],
   "source": [
    "divide(5, 0)"
   ]
  },
  {
   "cell_type": "markdown",
   "metadata": {},
   "source": [
    "上面这种抛出异常的行为，应该写入开发文档。\n",
    "- 用None这个返回值来表示特殊意义的函数,很容易使调用者犯错,因为None和0及空字符串之类的值,在条件表达式里都会评估为False。\n",
    "- 函数在遇到特殊情况时,应该抛出异常,而不要返回None。调用者看到该函数的文档中所描述的异常之后,应该就会编写相应的代码来处理它们了。"
   ]
  },
  {
   "cell_type": "markdown",
   "metadata": {},
   "source": [
    "### Item 15. 了解如何在闭包里使用外围作用域中的变量"
   ]
  },
  {
   "cell_type": "code",
   "execution_count": 2,
   "metadata": {},
   "outputs": [],
   "source": [
    "def sort_priority(values, group):\n",
    "    def helper(x):\n",
    "        if x in group:\n",
    "            return (0, x)\n",
    "        return (1, x)\n",
    "    values.sort(key=helper)"
   ]
  },
  {
   "cell_type": "code",
   "execution_count": 6,
   "metadata": {},
   "outputs": [
    {
     "data": {
      "text/plain": [
       "[70, 55, 7, 6, 71, 90, 58, 30, 64, 14]"
      ]
     },
     "execution_count": 6,
     "metadata": {},
     "output_type": "execute_result"
    }
   ],
   "source": [
    "random_ints()"
   ]
  },
  {
   "cell_type": "code",
   "execution_count": 7,
   "metadata": {},
   "outputs": [
    {
     "name": "stdout",
     "output_type": "stream",
     "text": [
      "[1, 4, 5, 30, 31, 55, 81, 83, 86, 94]\n"
     ]
    }
   ],
   "source": [
    "numbers = [4, 31, 94, 30, 1, 55, 81, 86, 83, 5]\n",
    "group = {4, 1, 5}\n",
    "sort_priority(numbers, group)\n",
    "print(numbers)"
   ]
  },
  {
   "cell_type": "markdown",
   "metadata": {},
   "source": [
    "这个函数之所以能够正常运作，是基于一下三个原因\n",
    "1. python支持闭包：闭包是一种定义在某个作用域中的函数，这个函数引用了那个作用域里的变量。helper之所以能够访问sort_prority和group参数，原因就在于它是闭包。\n",
    "2. python的函数是一级对象，也就是说，我们可以直接引用函数、把函数赋给变量、把函数当成参数传给其它函数，并通过表达式和if语句对其进行判断等等。\n",
    "3. python用特殊的规则比较两个元组。它首先比较各元组中下标为0的对应元素，如果相等，再比较下标为1的元组，如果还是相等，就继续比较下标为2的元组，以此类推。"
   ]
  },
  {
   "cell_type": "code",
   "execution_count": 14,
   "metadata": {},
   "outputs": [],
   "source": [
    "def sort_priority2(values, group):\n",
    "    found = False\n",
    "    def helper(x):\n",
    "        if x in group:\n",
    "            found = True\n",
    "            return (0, x)\n",
    "        return (1, x)\n",
    "    values.sort(key=helper)\n",
    "    return found"
   ]
  },
  {
   "cell_type": "code",
   "execution_count": 19,
   "metadata": {},
   "outputs": [
    {
     "name": "stdout",
     "output_type": "stream",
     "text": [
      "False\n",
      "[1, 4, 5, 30, 31, 55, 81, 83, 86, 94]\n"
     ]
    }
   ],
   "source": [
    "found = sort_priority2(numbers, group)\n",
    "print(found)\n",
    "print(numbers)"
   ]
  },
  {
   "cell_type": "markdown",
   "metadata": {},
   "source": [
    "排序的结果是对的，found的值却不对。在表达式中引用变量时，Python解释器将按照如下顺序遍历个作用域，以解析该引用：\n",
    "\n",
    "1. 当前函数的作用域\n",
    "2. 任何外围作用域（例如，包含当前函数的其它函数）\n",
    "3. 包含当前代码的那个模块的作用域（也叫全局作用域，global scope）\n",
    "4. 内置作用域（也就是包含len，str等函数的那个作用域）\n",
    "\n",
    "如果上面这些地方都没有定义过名称相符的变量，那就抛出`NameError`异常。\n",
    "\n",
    "**给变量赋值时**，规则有所不同。如果当前作用域内已经定义了该变量，那么改变量就会具有新值。若是当前作用域没有这个变量，python就会把这次赋值视为对该变量的定义。而新定义的这个变量，其作用域就是包含赋值操作的这个函数。"
   ]
  },
  {
   "cell_type": "code",
   "execution_count": 17,
   "metadata": {},
   "outputs": [],
   "source": [
    "def sort_priority2(values, group):\n",
    "    found = False\n",
    "    def helper(x):\n",
    "        if x in group:\n",
    "            found = True  # 在闭包里的这次赋值操作，就相当于在helper里定义了名为found的新变量，而不是给sort_priority2函数中的那个found赋值\n",
    "            return (0, x)\n",
    "        return (1, x)\n",
    "    values.sort(key=helper)\n",
    "    return found  # 这里的返回值found是sort_priority2函数中定义的found（False）"
   ]
  },
  {
   "cell_type": "markdown",
   "metadata": {},
   "source": [
    "获取闭包中的数据。在python3中使用nonlocal语句来表明这样的意图，也就是，给相关变量赋值的时候，应该在上层作用域中查找该变量。nonlocal唯一的限制在于，它不能延伸到模块级别，这是为了防止它污染全局作用域。"
   ]
  },
  {
   "cell_type": "code",
   "execution_count": 23,
   "metadata": {},
   "outputs": [],
   "source": [
    "def sort_priority3(values, group):\n",
    "    found = False\n",
    "    def helper(x):\n",
    "        nonlocal found\n",
    "        if x in group:\n",
    "            found = True\n",
    "            return (0, x)\n",
    "        return (1, x)\n",
    "    values.sort(key=helper)\n",
    "    return found"
   ]
  },
  {
   "cell_type": "code",
   "execution_count": 24,
   "metadata": {},
   "outputs": [
    {
     "name": "stdout",
     "output_type": "stream",
     "text": [
      "True\n",
      "[1, 4, 5, 30, 31, 55, 81, 83, 86, 94]\n"
     ]
    }
   ],
   "source": [
    "found = sort_priority3(numbers, group)\n",
    "print(found)\n",
    "print(numbers)"
   ]
  },
  {
   "cell_type": "markdown",
   "metadata": {},
   "source": [
    "nonlocal语句清楚的表明：如果在闭包内给该变量赋值，那么修改的其实是闭包外那个作用域的变量。这与global语句互为补充，global用来表示对该变量的赋值操作，将会直接修改模块作用域里的那个变量。nonlocal和global都应该小心，只应该在及其简单的函数中使用这种机制。nonlocal的副作用是难以追踪。\n",
    "如果使用nonlocal的那些代码学写越复杂，那就应该将相关的状态封装成辅助类。下面定义的类，与nonlocal达成的功能相同。"
   ]
  },
  {
   "cell_type": "code",
   "execution_count": 25,
   "metadata": {},
   "outputs": [],
   "source": [
    "class Sorter(object):\n",
    "    def __init__(self, group):\n",
    "        self.group = group\n",
    "        self.found = False\n",
    "        \n",
    "    def __call__(self, x):\n",
    "        if x in self.group:\n",
    "            self.found = True\n",
    "            return (0, x)\n",
    "        return (1, x)"
   ]
  },
  {
   "cell_type": "code",
   "execution_count": 26,
   "metadata": {},
   "outputs": [],
   "source": [
    "sorter = Sorter(group)\n",
    "numbers.sort(key=sorter)\n",
    "assert sorter.found is True"
   ]
  },
  {
   "cell_type": "markdown",
   "metadata": {},
   "source": [
    "python2中的值。python2不支持nonlocal关键字。为了实现类似的功能，我们需要利用python的作用域规则来解决。"
   ]
  },
  {
   "cell_type": "code",
   "execution_count": 30,
   "metadata": {},
   "outputs": [],
   "source": [
    "# python2\n",
    "def sort_priority(values, group):\n",
    "    found = [False]\n",
    "    def helper(x):\n",
    "        if x in group:\n",
    "            found[0] = True  # python要解析found变量的当前值，按照引用变量的规则，会找到闭包外的found列表定义，修改其值。适用于可变对象，诸如字典和集合\n",
    "            return (0, x)\n",
    "        return (1, x)\n",
    "    values.sort(key=helper)\n",
    "    return found[0]"
   ]
  },
  {
   "cell_type": "code",
   "execution_count": 29,
   "metadata": {},
   "outputs": [
    {
     "name": "stdout",
     "output_type": "stream",
     "text": [
      "True\n",
      "[1, 4, 5, 30, 31, 55, 81, 83, 86, 94]\n"
     ]
    }
   ],
   "source": [
    "found = sort_priority3(numbers, group)\n",
    "print(found)\n",
    "print(numbers)"
   ]
  },
  {
   "cell_type": "markdown",
   "metadata": {},
   "source": [
    "**要点**\n",
    "- 对于定义在某作用域内的闭包来说，它可以引用这些作用域中的闭包。\n",
    "- 使用默认方式对闭包内的变量赋值，不会影响外围作用域的同名变量。\n",
    "- 在python3中，程序可以在闭包内用nonlocal语句来修饰某个名称，使该闭包能够修改外围作用域中的同名变量。\n",
    "- 在python2中，程序可以使用可变值（例如，包含某个单元素的列表）来实现与nonlocal相仿的机制。\n",
    "- 除了那种比较简单的函数，尽量不要用nonlocal语句。\n",
    "\n",
    "这一条真是看得脑壳疼..."
   ]
  },
  {
   "cell_type": "markdown",
   "metadata": {},
   "source": [
    "### Item 16. 考虑用生成器来改写直接返回列表的函数"
   ]
  }
 ],
 "metadata": {
  "kernelspec": {
   "display_name": "Python 3",
   "language": "python",
   "name": "python3"
  },
  "language_info": {
   "codemirror_mode": {
    "name": "ipython",
    "version": 3
   },
   "file_extension": ".py",
   "mimetype": "text/x-python",
   "name": "python",
   "nbconvert_exporter": "python",
   "pygments_lexer": "ipython3",
   "version": "3.6.7"
  }
 },
 "nbformat": 4,
 "nbformat_minor": 1
}
