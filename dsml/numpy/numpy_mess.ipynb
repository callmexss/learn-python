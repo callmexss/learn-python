{
 "cells": [
  {
   "cell_type": "code",
   "execution_count": 1,
   "metadata": {
    "ExecuteTime": {
     "end_time": "2018-12-10T08:28:32.264002Z",
     "start_time": "2018-12-10T08:28:32.206054Z"
    }
   },
   "outputs": [],
   "source": [
    "import numpy as np"
   ]
  },
  {
   "cell_type": "code",
   "execution_count": 2,
   "metadata": {
    "ExecuteTime": {
     "end_time": "2018-12-10T08:28:48.413319Z",
     "start_time": "2018-12-10T08:28:48.399707Z"
    }
   },
   "outputs": [
    {
     "data": {
      "text/plain": [
       "array([ 0,  1,  2,  3,  4,  5,  6,  7,  8,  9, 10, 11, 12, 13, 14, 15, 16,\n",
       "       17, 18, 19, 20, 21, 22, 23, 24, 25, 26, 27, 28, 29, 30, 31, 32, 33,\n",
       "       34, 35, 36, 37, 38, 39, 40, 41, 42, 43, 44, 45, 46, 47, 48, 49])"
      ]
     },
     "execution_count": 2,
     "metadata": {},
     "output_type": "execute_result"
    }
   ],
   "source": [
    "T1 = np.arange(50)\n",
    "T1.view()"
   ]
  },
  {
   "cell_type": "code",
   "execution_count": 3,
   "metadata": {
    "ExecuteTime": {
     "end_time": "2018-12-10T08:31:32.412093Z",
     "start_time": "2018-12-10T08:31:32.404588Z"
    }
   },
   "outputs": [
    {
     "data": {
      "text/plain": [
       "array([38, 32, 24, 49, 20, 26, 31, 18, 20, 47, 17, 10, 27, 25,  2, 12, 45,\n",
       "       40, 11, 40, 46, 32, 22, 23, 48, 41, 18, 32, 32, 29, 22, 39, 24,  6,\n",
       "       14, 44, 48, 43, 35, 43, 29, 24,  1, 33,  6, 20, 39, 44, 44, 38])"
      ]
     },
     "execution_count": 3,
     "metadata": {},
     "output_type": "execute_result"
    }
   ],
   "source": [
    "T2 = np.random.randint(0, 50, 50)\n",
    "T2.view()"
   ]
  },
  {
   "cell_type": "code",
   "execution_count": 4,
   "metadata": {
    "ExecuteTime": {
     "end_time": "2018-12-10T08:31:49.494022Z",
     "start_time": "2018-12-10T08:31:49.484570Z"
    }
   },
   "outputs": [
    {
     "data": {
      "text/plain": [
       "array([-0.02614949, -1.1624458 , -1.29343242, -0.12829562,  1.14117588,\n",
       "       -0.91297161, -0.46125295,  0.29985892, -0.29690129, -2.13098551,\n",
       "       -1.5186426 ,  0.54032952, -0.35512778,  0.40655598,  0.07814176,\n",
       "       -0.67909284, -1.61080126,  1.23762671,  0.29052631,  1.00405632,\n",
       "        2.15499197, -1.7715466 , -2.8915461 , -0.15850904, -0.26384017,\n",
       "        0.31446877, -0.59556588, -0.42816963,  0.3662839 , -0.69523808,\n",
       "       -0.37573168,  0.04676264, -1.19475888,  0.14564225, -0.0471913 ,\n",
       "       -1.34479564,  0.02119466,  0.4246868 ,  0.40433337, -1.17755311,\n",
       "       -0.63864422, -0.72195801,  1.00400899,  0.40997976,  0.20460053,\n",
       "        2.0128841 ,  1.18169698,  1.18115797,  0.71110355, -2.92833688])"
      ]
     },
     "execution_count": 4,
     "metadata": {},
     "output_type": "execute_result"
    }
   ],
   "source": [
    "T3 = np.random.randn(50)\n",
    "T3.view()"
   ]
  }
 ],
 "metadata": {
  "kernelspec": {
   "display_name": "Python 3",
   "language": "python",
   "name": "python3"
  },
  "language_info": {
   "codemirror_mode": {
    "name": "ipython",
    "version": 3
   },
   "file_extension": ".py",
   "mimetype": "text/x-python",
   "name": "python",
   "nbconvert_exporter": "python",
   "pygments_lexer": "ipython3",
   "version": "3.5.2"
  },
  "toc": {
   "base_numbering": 1,
   "nav_menu": {},
   "number_sections": true,
   "sideBar": true,
   "skip_h1_title": false,
   "title_cell": "Table of Contents",
   "title_sidebar": "Contents",
   "toc_cell": false,
   "toc_position": {},
   "toc_section_display": true,
   "toc_window_display": false
  }
 },
 "nbformat": 4,
 "nbformat_minor": 2
}
