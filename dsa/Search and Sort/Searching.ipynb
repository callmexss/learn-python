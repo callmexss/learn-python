{
 "cells": [
  {
   "cell_type": "markdown",
   "metadata": {},
   "source": [
    "## Searching"
   ]
  },
  {
   "cell_type": "code",
   "execution_count": 1,
   "metadata": {
    "ExecuteTime": {
     "end_time": "2019-01-07T12:42:33.790020Z",
     "start_time": "2019-01-07T12:42:33.786001Z"
    }
   },
   "outputs": [],
   "source": [
    "import random"
   ]
  },
  {
   "cell_type": "code",
   "execution_count": 2,
   "metadata": {
    "ExecuteTime": {
     "end_time": "2019-01-07T12:42:33.824124Z",
     "start_time": "2019-01-07T12:42:33.795600Z"
    }
   },
   "outputs": [],
   "source": [
    "%run ../funclib.py"
   ]
  },
  {
   "cell_type": "code",
   "execution_count": 3,
   "metadata": {
    "ExecuteTime": {
     "end_time": "2019-01-07T12:42:33.834842Z",
     "start_time": "2019-01-07T12:42:33.829024Z"
    }
   },
   "outputs": [],
   "source": [
    "def gen_list(size=10, scope=(-100, 100), duplicated=False):\n",
    "    \"\"\"Generate a random list.\"\"\"\n",
    "    start, end = scope\n",
    "    if duplicated:\n",
    "        return [random.randint(start, end) for count in range(size)]\n",
    "    else:\n",
    "        return random.sample(range(start, end), size)"
   ]
  },
  {
   "cell_type": "markdown",
   "metadata": {},
   "source": [
    "### Basic Search"
   ]
  },
  {
   "cell_type": "code",
   "execution_count": 4,
   "metadata": {
    "ExecuteTime": {
     "end_time": "2019-01-07T12:42:33.844207Z",
     "start_time": "2019-01-07T12:42:33.839685Z"
    }
   },
   "outputs": [],
   "source": [
    "def basic_search(numbers, target):\n",
    "    for number in numbers:\n",
    "        if target == number:\n",
    "            return True\n",
    "    return False"
   ]
  },
  {
   "cell_type": "code",
   "execution_count": 5,
   "metadata": {
    "ExecuteTime": {
     "end_time": "2019-01-07T12:42:33.855717Z",
     "start_time": "2019-01-07T12:42:33.848662Z"
    },
    "scrolled": true
   },
   "outputs": [
    {
     "name": "stdout",
     "output_type": "stream",
     "text": [
      "[8, 10, -3, 1, 0, -4, -6, 4, -9, 9, 6, 0, -1, 5, 9, -9, -3, 5, 5, 5]\n"
     ]
    }
   ],
   "source": [
    "li = gen_list(size=20, scope=(-10, 10), duplicated=True)\n",
    "print(li)"
   ]
  },
  {
   "cell_type": "code",
   "execution_count": 6,
   "metadata": {
    "ExecuteTime": {
     "end_time": "2019-01-07T12:42:33.873186Z",
     "start_time": "2019-01-07T12:42:33.858224Z"
    }
   },
   "outputs": [
    {
     "data": {
      "text/plain": [
       "True"
      ]
     },
     "execution_count": 6,
     "metadata": {},
     "output_type": "execute_result"
    }
   ],
   "source": [
    "basic_search(li, 0)"
   ]
  },
  {
   "cell_type": "markdown",
   "metadata": {},
   "source": [
    "### Binary Search"
   ]
  },
  {
   "cell_type": "code",
   "execution_count": 7,
   "metadata": {
    "ExecuteTime": {
     "end_time": "2019-01-07T12:42:33.889110Z",
     "start_time": "2019-01-07T12:42:33.883142Z"
    }
   },
   "outputs": [],
   "source": [
    "def binary_search(numbers, target):\n",
    "    \"\"\"Recursion version.\"\"\"\n",
    "    if len(numbers) == 0:\n",
    "        return False\n",
    "    else:\n",
    "        mid = len(numbers) // 2\n",
    "        if numbers[mid] == target:\n",
    "            return True\n",
    "        elif numbers[mid] < target:\n",
    "            return binary_search(numbers[mid+1:], target)\n",
    "        else:\n",
    "            return binary_search(numbers[:mid], target)"
   ]
  },
  {
   "cell_type": "markdown",
   "metadata": {},
   "source": [
    "The `slice` operation acctually cost $O(k)$ time complexity. So the time complexity is not stringent $O(logn)$. Strict $O(logn)$ time complexity binary search recursion can be implemented by pass the start and end index as argument."
   ]
  },
  {
   "cell_type": "code",
   "execution_count": 8,
   "metadata": {
    "ExecuteTime": {
     "end_time": "2019-01-07T12:42:33.901054Z",
     "start_time": "2019-01-07T12:42:33.895221Z"
    }
   },
   "outputs": [],
   "source": [
    "def binary_search(numbers, start, end, target):\n",
    "    \"\"\"Recursion version with O(logn) time complexity.\"\"\"\n",
    "    mid = (end + start) // 2\n",
    "    # print(start, end, mid)\n",
    "    if numbers[mid] == target:\n",
    "        return True\n",
    "    if start >= end:\n",
    "        return False\n",
    "    elif numbers[mid] < target:\n",
    "        return binary_search(numbers, mid+1, end, target)\n",
    "    else:\n",
    "        return binary_search(numbers, start, mid-1, target)"
   ]
  },
  {
   "cell_type": "code",
   "execution_count": 9,
   "metadata": {
    "ExecuteTime": {
     "end_time": "2019-01-07T12:42:33.910177Z",
     "start_time": "2019-01-07T12:42:33.905732Z"
    }
   },
   "outputs": [],
   "source": [
    "li = sorted(li)"
   ]
  },
  {
   "cell_type": "code",
   "execution_count": 10,
   "metadata": {
    "ExecuteTime": {
     "end_time": "2019-01-07T12:42:33.919523Z",
     "start_time": "2019-01-07T12:42:33.914648Z"
    }
   },
   "outputs": [
    {
     "name": "stdout",
     "output_type": "stream",
     "text": [
      "[-9, -9, -6, -4, -3, -3, -1, 0, 0, 1, 4, 5, 5, 5, 5, 6, 8, 9, 9, 10]\n"
     ]
    }
   ],
   "source": [
    "print(li)"
   ]
  },
  {
   "cell_type": "code",
   "execution_count": 11,
   "metadata": {
    "ExecuteTime": {
     "end_time": "2019-01-07T12:42:33.928075Z",
     "start_time": "2019-01-07T12:42:33.921471Z"
    }
   },
   "outputs": [
    {
     "data": {
      "text/plain": [
       "False"
      ]
     },
     "execution_count": 11,
     "metadata": {},
     "output_type": "execute_result"
    }
   ],
   "source": [
    "binary_search(li, 0, len(li), -10)"
   ]
  },
  {
   "cell_type": "code",
   "execution_count": 14,
   "metadata": {
    "ExecuteTime": {
     "end_time": "2019-01-07T12:42:52.580025Z",
     "start_time": "2019-01-07T12:42:52.566373Z"
    }
   },
   "outputs": [
    {
     "name": "stdout",
     "output_type": "stream",
     "text": [
      "search -10 ... False\n",
      "search -9 ... True\n",
      "search -8 ... False\n",
      "search -7 ... False\n",
      "search -6 ... True\n",
      "search -5 ... False\n",
      "search -4 ... True\n",
      "search -3 ... True\n",
      "search -2 ... False\n",
      "search -1 ... True\n",
      "search 0 ... True\n",
      "search 1 ... True\n",
      "search 2 ... False\n",
      "search 3 ... False\n",
      "search 4 ... True\n",
      "search 5 ... True\n",
      "search 6 ... True\n",
      "search 7 ... False\n",
      "search 8 ... True\n",
      "search 9 ... True\n"
     ]
    }
   ],
   "source": [
    "for each in range(-10, 10):\n",
    "    print('search {} ...'.format(each), end=' ')\n",
    "    # res = binary_search(li, 0, len(li)-1, each)\n",
    "    res = binary_search(li, each)\n",
    "    print(res)"
   ]
  },
  {
   "cell_type": "code",
   "execution_count": 13,
   "metadata": {
    "ExecuteTime": {
     "end_time": "2019-01-07T12:42:49.938001Z",
     "start_time": "2019-01-07T12:42:49.929919Z"
    }
   },
   "outputs": [],
   "source": [
    "def binary_search(numbers, target):\n",
    "    \"\"\"Non-Recursion version.\"\"\"\n",
    "    start = 0\n",
    "    end = len(numbers) - 1\n",
    "    \n",
    "    while start <= end:\n",
    "        # cause python will not overflow, so it won't necessary to write mid = start + (end - start) // 2\n",
    "        # optimal: mid = (end + start) >> 1 or mid = start + ((end - start) >> 1)\n",
    "        # be careful with the precedence of operator >>\n",
    "        mid = (end + start) // 2  \n",
    "        if target == numbers[mid]:\n",
    "            return True\n",
    "        elif target < numbers[mid]:\n",
    "            end = mid - 1\n",
    "        else:\n",
    "            start = mid + 1\n",
    "    return False\n"
   ]
  },
  {
   "cell_type": "markdown",
   "metadata": {},
   "source": [
    "## In Action"
   ]
  },
  {
   "cell_type": "markdown",
   "metadata": {},
   "source": [
    "### Sqrt"
   ]
  },
  {
   "cell_type": "code",
   "execution_count": 15,
   "metadata": {
    "ExecuteTime": {
     "end_time": "2019-01-07T12:42:57.102103Z",
     "start_time": "2019-01-07T12:42:57.094271Z"
    }
   },
   "outputs": [],
   "source": [
    "def sqrt(n, precision=1e-6):\n",
    "    \"\"\"Sqrt use binary search.\"\"\"\n",
    "    delta = n  # Control the precision\n",
    "    \n",
    "    left = 0\n",
    "    right = n\n",
    "    mid = n / 2\n",
    "    \n",
    "    while abs(delta) > precision:\n",
    "        # print(mid, n)\n",
    "        if mid * mid == n:\n",
    "            return mid\n",
    "        elif mid * mid > n:\n",
    "            right = mid\n",
    "        else:\n",
    "            left = mid\n",
    "            \n",
    "        mid = (left + right) / 2\n",
    "        delta = n - mid ** 2\n",
    "        # print(delta)\n",
    "    return mid\n",
    "    "
   ]
  },
  {
   "cell_type": "code",
   "execution_count": 16,
   "metadata": {
    "ExecuteTime": {
     "end_time": "2019-01-07T12:42:57.903782Z",
     "start_time": "2019-01-07T12:42:57.899577Z"
    }
   },
   "outputs": [],
   "source": [
    "root = sqrt(365)"
   ]
  },
  {
   "cell_type": "code",
   "execution_count": 17,
   "metadata": {
    "ExecuteTime": {
     "end_time": "2019-01-07T12:42:58.815589Z",
     "start_time": "2019-01-07T12:42:58.810084Z"
    }
   },
   "outputs": [
    {
     "data": {
      "text/plain": [
       "365.00000017242536"
      ]
     },
     "execution_count": 17,
     "metadata": {},
     "output_type": "execute_result"
    }
   ],
   "source": [
    "root ** 2"
   ]
  },
  {
   "cell_type": "markdown",
   "metadata": {},
   "source": [
    "### 查找第一个值等于给定值的元素"
   ]
  },
  {
   "cell_type": "code",
   "execution_count": 18,
   "metadata": {
    "ExecuteTime": {
     "end_time": "2019-01-07T12:43:02.659989Z",
     "start_time": "2019-01-07T12:43:02.651958Z"
    }
   },
   "outputs": [],
   "source": [
    "def binary_search(li, target):\n",
    "    \"\"\"Advanced solution.\"\"\"\n",
    "    start = 0\n",
    "    end = len(li) - 1\n",
    "    \n",
    "    while start <= end:\n",
    "        mid = (start + end) // 2\n",
    "        print(start, end, mid)\n",
    "        if li[mid] >= target:\n",
    "            end = mid - 1\n",
    "        else:\n",
    "            start = mid + 1\n",
    "            \n",
    "    print(start, li[start])\n",
    "    return start if li[start] == target and start < len(li) else -1\n",
    "            "
   ]
  },
  {
   "cell_type": "code",
   "execution_count": 19,
   "metadata": {
    "ExecuteTime": {
     "end_time": "2019-01-07T12:43:03.554517Z",
     "start_time": "2019-01-07T12:43:03.546691Z"
    }
   },
   "outputs": [],
   "source": [
    "def binary_search(li, target):\n",
    "    start = 0\n",
    "    end = len(li) - 1\n",
    "    \n",
    "    while start <= end:\n",
    "        mid = (start + end) // 2\n",
    "        if li[mid] > target:\n",
    "            end = mid - 1\n",
    "        elif li[mid] < target:\n",
    "            start = mid + 1\n",
    "        else:\n",
    "            if mid == 0 or li[mid - 1] != target:\n",
    "                return mid\n",
    "            else:\n",
    "                end = mid - 1\n",
    "                \n",
    "    return -1\n",
    "        "
   ]
  },
  {
   "cell_type": "code",
   "execution_count": 20,
   "metadata": {
    "ExecuteTime": {
     "end_time": "2019-01-07T12:43:04.468027Z",
     "start_time": "2019-01-07T12:43:04.464366Z"
    }
   },
   "outputs": [
    {
     "name": "stdout",
     "output_type": "stream",
     "text": [
      "[-9, -9, -6, -4, -3, -3, -1, 0, 0, 1, 4, 5, 5, 5, 5, 6, 8, 9, 9, 10]\n"
     ]
    }
   ],
   "source": [
    "li.sort()\n",
    "print(li)"
   ]
  },
  {
   "cell_type": "code",
   "execution_count": 21,
   "metadata": {
    "ExecuteTime": {
     "end_time": "2019-01-07T12:43:05.414701Z",
     "start_time": "2019-01-07T12:43:05.410091Z"
    }
   },
   "outputs": [
    {
     "name": "stdout",
     "output_type": "stream",
     "text": [
      "3\n"
     ]
    }
   ],
   "source": [
    "print(binary_search(li, -4))"
   ]
  },
  {
   "cell_type": "markdown",
   "metadata": {},
   "source": [
    "### 查找最后一个等于给定值的元素"
   ]
  },
  {
   "cell_type": "code",
   "execution_count": 22,
   "metadata": {
    "ExecuteTime": {
     "end_time": "2019-01-07T12:43:11.599154Z",
     "start_time": "2019-01-07T12:43:11.591433Z"
    }
   },
   "outputs": [],
   "source": [
    "def binary_search(li, target):\n",
    "    start = 0\n",
    "    end = len(li) - 1\n",
    "    \n",
    "    while start <= end:\n",
    "        mid = (start + end) // 2\n",
    "        print(start, end, mid)\n",
    "        if li[mid] < target:\n",
    "            start = mid + 1\n",
    "        elif li[mid] > target:\n",
    "            end = mid - 1\n",
    "        else:\n",
    "            if mid == len(li) - 1 or li[mid + 1] != target:\n",
    "                return mid\n",
    "            else:\n",
    "                start = mid + 1\n",
    "            \n",
    "    return -1"
   ]
  },
  {
   "cell_type": "code",
   "execution_count": null,
   "metadata": {},
   "outputs": [],
   "source": []
  },
  {
   "cell_type": "markdown",
   "metadata": {},
   "source": [
    "### 查找最后一个等于给定值的元素"
   ]
  },
  {
   "cell_type": "markdown",
   "metadata": {},
   "source": [
    "### 查找最后一个等于给定值的元素"
   ]
  },
  {
   "cell_type": "code",
   "execution_count": null,
   "metadata": {},
   "outputs": [],
   "source": []
  }
 ],
 "metadata": {
  "kernelspec": {
   "display_name": "Python 3",
   "language": "python",
   "name": "python3"
  },
  "language_info": {
   "codemirror_mode": {
    "name": "ipython",
    "version": 3
   },
   "file_extension": ".py",
   "mimetype": "text/x-python",
   "name": "python",
   "nbconvert_exporter": "python",
   "pygments_lexer": "ipython3",
   "version": "3.5.2"
  },
  "toc": {
   "base_numbering": 1,
   "nav_menu": {},
   "number_sections": true,
   "sideBar": true,
   "skip_h1_title": false,
   "title_cell": "Table of Contents",
   "title_sidebar": "Contents",
   "toc_cell": false,
   "toc_position": {},
   "toc_section_display": true,
   "toc_window_display": false
  }
 },
 "nbformat": 4,
 "nbformat_minor": 2
}
