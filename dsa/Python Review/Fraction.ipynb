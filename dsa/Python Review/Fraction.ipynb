{
 "cells": [
  {
   "cell_type": "code",
   "execution_count": 24,
   "metadata": {
    "ExecuteTime": {
     "end_time": "2018-12-18T07:34:13.931463Z",
     "start_time": "2018-12-18T07:34:13.928422Z"
    }
   },
   "outputs": [],
   "source": [
    "import random\n",
    "from doctest import testmod"
   ]
  },
  {
   "cell_type": "code",
   "execution_count": 25,
   "metadata": {
    "ExecuteTime": {
     "end_time": "2018-12-18T07:34:14.383268Z",
     "start_time": "2018-12-18T07:34:14.378492Z"
    }
   },
   "outputs": [],
   "source": [
    "def gcd(m, n):\n",
    "    m, n = abs(m), abs(n)\n",
    "    while m % n != 0:\n",
    "        m, n = n, m % n\n",
    "    return n"
   ]
  },
  {
   "cell_type": "markdown",
   "metadata": {},
   "source": [
    "## Fraction Definition"
   ]
  },
  {
   "cell_type": "code",
   "execution_count": 26,
   "metadata": {
    "ExecuteTime": {
     "end_time": "2018-12-18T07:34:15.700769Z",
     "start_time": "2018-12-18T07:34:15.678046Z"
    }
   },
   "outputs": [],
   "source": [
    "class Fraction(object):\n",
    "    def __init__(self, up, down):\n",
    "        self.num = up\n",
    "        if down == 0:\n",
    "            raise ValueError(\"Denominator can not be zero!\")\n",
    "        self.den = down\n",
    "        \n",
    "    def __str__(self):\n",
    "        if self.den == 1:\n",
    "            return str(self.num)\n",
    "        else:\n",
    "            return '{}/{}'.format(self.num, self.den)\n",
    "        \n",
    "    def __add__(self, another):\n",
    "        another = self._convert(another)\n",
    "        new_num = self.num * another.den + another.num * self.den\n",
    "        new_den = self.den * another.den\n",
    "        gcd_num = gcd(new_num, new_den)\n",
    "        \n",
    "        return Fraction(new_num // gcd_num, new_den // gcd_num)\n",
    "    \n",
    "    def __sub__(self, another):\n",
    "        another = self._convert(another)\n",
    "        # import pdb; pdb.set_trace()\n",
    "        new_num = self.num * another.den - another.num * self.den\n",
    "        new_den = self.den * another.den\n",
    "        \n",
    "        gcd_num = gcd(new_num, new_den)\n",
    "        \n",
    "        return Fraction(new_num // gcd_num, new_den // gcd_num)\n",
    "    \n",
    "    def __mul__(self, another):\n",
    "        another = self._convert(another)\n",
    "        new_num = self.num * another.num\n",
    "        new_den = self.den * another.den\n",
    "        gcd_num = gcd(new_num, new_den)\n",
    "        \n",
    "        return Fraction(new_num // gcd_num, new_den // gcd_num)\n",
    "    \n",
    "    def __truediv__(self, another):\n",
    "        if another == 0:\n",
    "            raise ZeroDivisionError\n",
    "            \n",
    "        another = self._convert(another)\n",
    "        reciprocal = Fraction(another.den, another.num)\n",
    "        res = self * reciprocal\n",
    "        gcd_num = gcd(res.num, res.den)\n",
    "        \n",
    "        return Fraction(res.num // gcd_num, res.den // gcd_num) \n",
    "    \n",
    "    def __eq__(self, another):\n",
    "        another = self._convert(another)\n",
    "        firstnum = self.num * another.den\n",
    "        secondnum = another.num * self.den\n",
    "        \n",
    "        return firstnum == secondnum\n",
    "    \n",
    "    def __lt__(self, another):\n",
    "        another = self._convert(another)\n",
    "        firstnum = self.num * another.den\n",
    "        secondnum = another.num * self.den\n",
    "        \n",
    "        return firstnum < secondnum\n",
    "    \n",
    "    def __gt__(self, another):\n",
    "        another = self._convert(another)\n",
    "        firstnum = self.num * another.den\n",
    "        secondnum = another.num * self.den\n",
    "        \n",
    "        return firstnum > secondnum\n",
    "    \n",
    "    def __le__(self, another):\n",
    "        another = self._convert(another)\n",
    "        firstnum = self.num * another.den\n",
    "        secondnum = another.num * self.den\n",
    "        \n",
    "        return firstnum <= secondnum\n",
    "    \n",
    "    def __ge__(self, another):\n",
    "        another = self._convert(another)\n",
    "        firstnum = self.num * another.den\n",
    "        secondnum = another.num * self.den\n",
    "        \n",
    "        return firstnum >= secondnum\n",
    "    \n",
    "    def _convert(self, who):\n",
    "        if isinstance(who, Fraction):\n",
    "            return who\n",
    "        if type(who) == int or type(who) == float:\n",
    "            return Fraction(who, 1)\n",
    "        else:\n",
    "            raise TypeError(\"Invalid type: {}\".format(type(who)))\n",
    "    \n",
    "    def show(self):\n",
    "        if self.den == 1:\n",
    "            print(self.num)\n",
    "        else:\n",
    "            print('{}/{}'.format(self.num, self.den))\n",
    "            \n",
    "    def to_float(self):\n",
    "        return self.num / self.den\n",
    "    \n",
    "    def get_num(self):\n",
    "        return self.num\n",
    "    \n",
    "    def get_den(self):\n",
    "        return self.den"
   ]
  },
  {
   "cell_type": "code",
   "execution_count": 27,
   "metadata": {
    "ExecuteTime": {
     "end_time": "2018-12-18T07:34:16.280593Z",
     "start_time": "2018-12-18T07:34:16.273049Z"
    }
   },
   "outputs": [
    {
     "data": {
      "text/plain": [
       "2"
      ]
     },
     "execution_count": 27,
     "metadata": {},
     "output_type": "execute_result"
    }
   ],
   "source": [
    "# For test\n",
    "gcd(6, 8)"
   ]
  },
  {
   "cell_type": "code",
   "execution_count": 28,
   "metadata": {
    "ExecuteTime": {
     "end_time": "2018-12-18T07:34:16.759347Z",
     "start_time": "2018-12-18T07:34:16.752457Z"
    }
   },
   "outputs": [
    {
     "name": "stdout",
     "output_type": "stream",
     "text": [
      "3/2\n",
      "1.5\n",
      "True\n"
     ]
    }
   ],
   "source": [
    "three_upon_two = Fraction(3, 2)\n",
    "three_upon_two.show()\n",
    "print(three_upon_two.to_float())\n",
    "print(three_upon_two >= 1.2)"
   ]
  },
  {
   "cell_type": "code",
   "execution_count": 29,
   "metadata": {
    "ExecuteTime": {
     "end_time": "2018-12-18T07:34:17.279011Z",
     "start_time": "2018-12-18T07:34:17.273032Z"
    }
   },
   "outputs": [
    {
     "data": {
      "text/plain": [
       "'3/2'"
      ]
     },
     "execution_count": 29,
     "metadata": {},
     "output_type": "execute_result"
    }
   ],
   "source": [
    "str(three_upon_two)"
   ]
  },
  {
   "cell_type": "code",
   "execution_count": 30,
   "metadata": {
    "ExecuteTime": {
     "end_time": "2018-12-18T07:34:18.179643Z",
     "start_time": "2018-12-18T07:34:18.168759Z"
    }
   },
   "outputs": [
    {
     "name": "stdout",
     "output_type": "stream",
     "text": [
      "3\n",
      "5/6\n",
      "0\n",
      "2/7\n",
      "9/4\n",
      "1\n",
      "2/3\n",
      "-1/6\n",
      "-0.16666666666666666\n"
     ]
    }
   ],
   "source": [
    "res = three_upon_two + three_upon_two\n",
    "print(res)\n",
    "\n",
    "res = Fraction(1, 2) + Fraction(1, 3)\n",
    "print(res)\n",
    "\n",
    "res = three_upon_two - three_upon_two\n",
    "print(res)\n",
    "\n",
    "res = Fraction(3, 7) - Fraction(1, 7)\n",
    "print(res)\n",
    "\n",
    "res = three_upon_two * three_upon_two\n",
    "print(res)\n",
    "\n",
    "res = three_upon_two / three_upon_two\n",
    "print(res)\n",
    "\n",
    "res = Fraction(1, 3) / Fraction(1, 2)\n",
    "print(res)\n",
    "\n",
    "res = Fraction(1, 3) - Fraction(1, 2)\n",
    "print(res)\n",
    "print(res.to_float())"
   ]
  },
  {
   "cell_type": "code",
   "execution_count": 31,
   "metadata": {
    "ExecuteTime": {
     "end_time": "2018-12-18T07:34:18.891348Z",
     "start_time": "2018-12-18T07:34:18.886008Z"
    }
   },
   "outputs": [
    {
     "data": {
      "text/plain": [
       "True"
      ]
     },
     "execution_count": 31,
     "metadata": {},
     "output_type": "execute_result"
    }
   ],
   "source": [
    "isinstance(three_upon_two, Fraction)"
   ]
  },
  {
   "cell_type": "code",
   "execution_count": 32,
   "metadata": {
    "ExecuteTime": {
     "end_time": "2018-12-18T07:34:19.680219Z",
     "start_time": "2018-12-18T07:34:19.673751Z"
    }
   },
   "outputs": [
    {
     "data": {
      "text/plain": [
       "__main__.Fraction"
      ]
     },
     "execution_count": 32,
     "metadata": {},
     "output_type": "execute_result"
    }
   ],
   "source": [
    "type(three_upon_two)"
   ]
  },
  {
   "cell_type": "code",
   "execution_count": 33,
   "metadata": {
    "ExecuteTime": {
     "end_time": "2018-12-18T07:34:20.188364Z",
     "start_time": "2018-12-18T07:34:20.183629Z"
    }
   },
   "outputs": [
    {
     "name": "stdout",
     "output_type": "stream",
     "text": [
      "Denominator can not be zero!\n"
     ]
    }
   ],
   "source": [
    "try:\n",
    "    one_upon_zero = Fraction(1, 0)\n",
    "except ValueError as err:\n",
    "    print(err)"
   ]
  },
  {
   "cell_type": "markdown",
   "metadata": {},
   "source": [
    "## Fraction Test"
   ]
  },
  {
   "cell_type": "code",
   "execution_count": 34,
   "metadata": {
    "ExecuteTime": {
     "end_time": "2018-12-18T07:34:21.532895Z",
     "start_time": "2018-12-18T07:34:21.529970Z"
    }
   },
   "outputs": [],
   "source": [
    "import unittest"
   ]
  },
  {
   "cell_type": "code",
   "execution_count": 35,
   "metadata": {
    "ExecuteTime": {
     "end_time": "2018-12-18T07:34:22.154155Z",
     "start_time": "2018-12-18T07:34:22.147590Z"
    }
   },
   "outputs": [],
   "source": [
    "class TestGcdFunction(unittest.TestCase):\n",
    "    \n",
    "    def test(self):\n",
    "        self.assertEqual(gcd(2, 1), 1)\n",
    "        self.assertEqual(gcd(6, 4), 2)"
   ]
  },
  {
   "cell_type": "code",
   "execution_count": 174,
   "metadata": {
    "ExecuteTime": {
     "end_time": "2018-12-18T08:10:36.838775Z",
     "start_time": "2018-12-18T08:10:36.822092Z"
    }
   },
   "outputs": [],
   "source": [
    "class TestFractionMethods(unittest.TestCase):\n",
    "    \n",
    "    def test_add(self):\n",
    "        self.assertEqual(Fraction(1, 3) + Fraction(1, 2), Fraction(5, 6))\n",
    "        self.assertEqual(Fraction(1, 3) + Fraction(-1, 3), 0)\n",
    "        self.assertEqual(Fraction(1, 3) + Fraction(1, -3), 0)\n",
    "        self.assertEqual(Fraction(1, 3) + 1, Fraction(4, 3))\n",
    "        \n",
    "    def test_sub(self):\n",
    "        self.assertEqual(Fraction(1, 3) - Fraction(1, 2), Fraction(-1, 6))\n",
    "        self.assertEqual(Fraction(1, 3) - Fraction(-1, 3), Fraction(2, 3))\n",
    "        self.assertEqual(Fraction(1, 3) - 1, Fraction(-2, 3))\n",
    "        \n",
    "    def test_mul(self):\n",
    "        self.assertEqual(Fraction(1, 3) * Fraction(1, 2), Fraction(1, 6))\n",
    "        self.assertEqual(Fraction(1, 3) * Fraction(-1, 3), Fraction(-1, 9))\n",
    "        self.assertEqual(Fraction(1, 3) * 1, Fraction(1, 3))\n",
    "        \n",
    "    def test_div(self):\n",
    "        self.assertEqual(Fraction(1, 3) / Fraction(1, 2), Fraction(2, 3))\n",
    "        self.assertEqual(Fraction(1, 3) / Fraction(-1, 3), -1)\n",
    "        self.assertEqual(Fraction(1, 3) / 1, Fraction(1, 3))\n",
    "        \n",
    "    def test_compare(self):\n",
    "        self.assertEqual(Fraction(1, 2), 0.5)\n",
    "        self.assertLessEqual(Fraction(1, 2), 0.5)\n",
    "        self.assertGreaterEqual(Fraction(1, 2), 0.5)\n",
    "        self.assertLess(Fraction(1, 2), 0.6)\n",
    "        self.assertLess(Fraction(0, 2), 0.6)\n",
    "        self.assertEqual(Fraction(0, 2), 0)\n",
    "        \n",
    "        "
   ]
  },
  {
   "cell_type": "code",
   "execution_count": 175,
   "metadata": {
    "ExecuteTime": {
     "end_time": "2018-12-18T08:10:37.541378Z",
     "start_time": "2018-12-18T08:10:37.519941Z"
    }
   },
   "outputs": [
    {
     "name": "stderr",
     "output_type": "stream",
     "text": [
      "test_add (__main__.TestFractionMethods) ... ok\n",
      "test_compare (__main__.TestFractionMethods) ... ok\n",
      "test_div (__main__.TestFractionMethods) ... ok\n",
      "test_mul (__main__.TestFractionMethods) ... ok\n",
      "test_sub (__main__.TestFractionMethods) ... ok\n",
      "test (__main__.TestGcdFunction) ... ok\n",
      "\n",
      "----------------------------------------------------------------------\n",
      "Ran 6 tests in 0.009s\n",
      "\n",
      "OK\n"
     ]
    },
    {
     "data": {
      "text/plain": [
       "<unittest.main.TestProgram at 0x7f5c2411c320>"
      ]
     },
     "execution_count": 175,
     "metadata": {},
     "output_type": "execute_result"
    }
   ],
   "source": [
    "unittest.main(argv=[''], verbosity=2, exit=False)"
   ]
  },
  {
   "cell_type": "markdown",
   "metadata": {},
   "source": [
    "## Modified Fraction"
   ]
  },
  {
   "cell_type": "code",
   "execution_count": 159,
   "metadata": {
    "ExecuteTime": {
     "end_time": "2018-12-18T08:10:09.579835Z",
     "start_time": "2018-12-18T08:10:09.556157Z"
    }
   },
   "outputs": [],
   "source": [
    "class Fraction(object):\n",
    "    def __init__(self, up, down):\n",
    "        if type(up) not in [int, float] or type(down) not in [int, float]:\n",
    "            raise TypeError(\"Integer required.\")\n",
    "        gcd_num = gcd(up, down)\n",
    "        self.num = up // gcd_num\n",
    "        if down == 0:\n",
    "            raise ValueError(\"Denominator can not be zero!\")\n",
    "        self.den = down // gcd_num\n",
    "        \n",
    "    def __str__(self):\n",
    "        if self.den == 1:\n",
    "            return str(self.num)\n",
    "        else:\n",
    "            return '{}/{}'.format(self.num, self.den)\n",
    "        \n",
    "    def __add__(self, another):\n",
    "        another = self._convert(another)\n",
    "        new_num = self.num * another.den + another.num * self.den\n",
    "        new_den = self.den * another.den\n",
    "        \n",
    "        return Fraction(new_num, new_den)\n",
    "    \n",
    "#     def __radd__(self, another):\n",
    "#         another = self._convert(another)\n",
    "#         new_num = self.num * another.den + another.num * self.den\n",
    "#         new_den = self.den * another.den\n",
    "        \n",
    "#         return Fraction(new_num, new_den)\n",
    "        \n",
    "    \n",
    "    def __sub__(self, another):\n",
    "        another = self._convert(another)\n",
    "        # import pdb; pdb.set_trace()\n",
    "        new_num = self.num * another.den - another.num * self.den\n",
    "        new_den = self.den * another.den\n",
    "        \n",
    "        return Fraction(new_num, new_den)\n",
    "    \n",
    "    def __mul__(self, another):\n",
    "        another = self._convert(another)\n",
    "        new_num = self.num * another.num\n",
    "        new_den = self.den * another.den\n",
    "        \n",
    "        return Fraction(new_num, new_den)\n",
    "    \n",
    "    def __truediv__(self, another):\n",
    "        if another == 0:\n",
    "            raise ZeroDivisionError\n",
    "            \n",
    "        another = self._convert(another)\n",
    "        reciprocal = Fraction(another.den, another.num)\n",
    "        res = self * reciprocal\n",
    "        \n",
    "        return Fraction(res.num, res.den) \n",
    "    \n",
    "    def __eq__(self, another):\n",
    "        another = self._convert(another)\n",
    "        firstnum = self.num * another.den\n",
    "        secondnum = another.num * self.den\n",
    "        \n",
    "        return firstnum == secondnum\n",
    "    \n",
    "    def __lt__(self, another):\n",
    "        another = self._convert(another)\n",
    "        firstnum = self.num * another.den\n",
    "        secondnum = another.num * self.den\n",
    "        \n",
    "        return firstnum < secondnum\n",
    "    \n",
    "    def __gt__(self, another):\n",
    "        another = self._convert(another)\n",
    "        firstnum = self.num * another.den\n",
    "        secondnum = another.num * self.den\n",
    "        \n",
    "        return firstnum > secondnum\n",
    "    \n",
    "    def __le__(self, another):\n",
    "        another = self._convert(another)\n",
    "        firstnum = self.num * another.den\n",
    "        secondnum = another.num * self.den\n",
    "        \n",
    "        return firstnum <= secondnum\n",
    "    \n",
    "    def __ge__(self, another):\n",
    "        another = self._convert(another)\n",
    "        firstnum = self.num * another.den\n",
    "        secondnum = another.num * self.den\n",
    "        \n",
    "        return firstnum >= secondnum\n",
    "    \n",
    "    def _convert(self, who):\n",
    "        if isinstance(who, Fraction):\n",
    "            return who\n",
    "        if type(who) == int or type(who) == float:\n",
    "            return Fraction(who, 1)\n",
    "        else:\n",
    "            raise TypeError(\"Invalid type: {}\".format(type(who)))\n",
    "            \n",
    "    def __repr__(self):\n",
    "        return \"<class 'Fraction'>\"\n",
    "    \n",
    "    def show(self):\n",
    "        if self.num == 0:\n",
    "            print(0)\n",
    "        elif self.den == 1:\n",
    "            print(self.num)\n",
    "        else:\n",
    "            sign = 1 if self.num * self.den > 0 else 0\n",
    "            if sign:\n",
    "                print('{}/{}'.format(abs(self.num), abs(self.den)))\n",
    "            else:\n",
    "                print('-{}/{}'.format(abs(self.num), abs(self.den)))\n",
    "            \n",
    "    def to_float(self):\n",
    "        return self.num / self.den\n",
    "    \n",
    "    def __float__(self):\n",
    "        return float(self.num / self.den)\n",
    "    \n",
    "    def get_num(self):\n",
    "        return self.num\n",
    "    \n",
    "    def get_den(self):\n",
    "        return self.den"
   ]
  },
  {
   "cell_type": "code",
   "execution_count": 160,
   "metadata": {
    "ExecuteTime": {
     "end_time": "2018-12-18T08:10:10.420578Z",
     "start_time": "2018-12-18T08:10:10.414029Z"
    }
   },
   "outputs": [
    {
     "name": "stdout",
     "output_type": "stream",
     "text": [
      "3/2\n"
     ]
    }
   ],
   "source": [
    "three_two = Fraction(6, 4)\n",
    "three_two.show()"
   ]
  },
  {
   "cell_type": "code",
   "execution_count": 161,
   "metadata": {
    "ExecuteTime": {
     "end_time": "2018-12-18T08:10:11.149649Z",
     "start_time": "2018-12-18T08:10:11.142589Z"
    }
   },
   "outputs": [
    {
     "name": "stdout",
     "output_type": "stream",
     "text": [
      "1/3\n"
     ]
    }
   ],
   "source": [
    "res = Fraction(1, 6) + Fraction(1, 6)\n",
    "res.show()"
   ]
  },
  {
   "cell_type": "code",
   "execution_count": 162,
   "metadata": {
    "ExecuteTime": {
     "end_time": "2018-12-18T08:10:11.546649Z",
     "start_time": "2018-12-18T08:10:11.537529Z"
    }
   },
   "outputs": [
    {
     "data": {
      "text/plain": [
       "False"
      ]
     },
     "execution_count": 162,
     "metadata": {},
     "output_type": "execute_result"
    }
   ],
   "source": [
    "Fraction(1, 6) != Fraction(1, 6)"
   ]
  },
  {
   "cell_type": "code",
   "execution_count": 163,
   "metadata": {
    "ExecuteTime": {
     "end_time": "2018-12-18T08:10:11.895159Z",
     "start_time": "2018-12-18T08:10:11.889211Z"
    }
   },
   "outputs": [
    {
     "name": "stdout",
     "output_type": "stream",
     "text": [
      "Integer required.\n"
     ]
    }
   ],
   "source": [
    "try:\n",
    "    Fraction(1, 'a')\n",
    "except TypeError as err:\n",
    "    print(err)"
   ]
  },
  {
   "cell_type": "code",
   "execution_count": 164,
   "metadata": {
    "ExecuteTime": {
     "end_time": "2018-12-18T08:10:12.226136Z",
     "start_time": "2018-12-18T08:10:12.215109Z"
    }
   },
   "outputs": [
    {
     "name": "stdout",
     "output_type": "stream",
     "text": [
      "1/6\n",
      "0.16666666666666666\n"
     ]
    }
   ],
   "source": [
    "res = Fraction(1, -6) + Fraction(1, 3)\n",
    "res.show()\n",
    "print(res.to_float())"
   ]
  },
  {
   "cell_type": "code",
   "execution_count": 165,
   "metadata": {
    "ExecuteTime": {
     "end_time": "2018-12-18T08:10:12.581723Z",
     "start_time": "2018-12-18T08:10:12.576439Z"
    }
   },
   "outputs": [
    {
     "name": "stdout",
     "output_type": "stream",
     "text": [
      "0\n"
     ]
    }
   ],
   "source": [
    "res = Fraction(1, 3) + Fraction(1, -3)\n",
    "res.show()"
   ]
  },
  {
   "cell_type": "code",
   "execution_count": 166,
   "metadata": {
    "ExecuteTime": {
     "end_time": "2018-12-18T08:10:12.917319Z",
     "start_time": "2018-12-18T08:10:12.909623Z"
    }
   },
   "outputs": [
    {
     "name": "stdout",
     "output_type": "stream",
     "text": [
      "5/6\n",
      "5/6\n"
     ]
    }
   ],
   "source": [
    "first = Fraction(1, 3)\n",
    "second = Fraction(1, 2)\n",
    "res1 = first + second\n",
    "res2 = second + first \n",
    "res1.show()\n",
    "res2.show()"
   ]
  },
  {
   "cell_type": "code",
   "execution_count": 167,
   "metadata": {
    "ExecuteTime": {
     "end_time": "2018-12-18T08:10:13.296198Z",
     "start_time": "2018-12-18T08:10:13.292968Z"
    }
   },
   "outputs": [],
   "source": [
    "res1 += res2"
   ]
  },
  {
   "cell_type": "code",
   "execution_count": 168,
   "metadata": {
    "ExecuteTime": {
     "end_time": "2018-12-18T08:10:13.714023Z",
     "start_time": "2018-12-18T08:10:13.709287Z"
    }
   },
   "outputs": [
    {
     "name": "stdout",
     "output_type": "stream",
     "text": [
      "5/3\n"
     ]
    }
   ],
   "source": [
    "res1.show()"
   ]
  },
  {
   "cell_type": "code",
   "execution_count": 169,
   "metadata": {
    "ExecuteTime": {
     "end_time": "2018-12-18T08:10:14.042956Z",
     "start_time": "2018-12-18T08:10:14.034683Z"
    }
   },
   "outputs": [
    {
     "data": {
      "text/plain": [
       "1.6666666666666667"
      ]
     },
     "execution_count": 169,
     "metadata": {},
     "output_type": "execute_result"
    }
   ],
   "source": [
    "float(res1)"
   ]
  },
  {
   "cell_type": "code",
   "execution_count": 170,
   "metadata": {
    "ExecuteTime": {
     "end_time": "2018-12-18T08:10:14.392146Z",
     "start_time": "2018-12-18T08:10:14.386459Z"
    }
   },
   "outputs": [
    {
     "data": {
      "text/plain": [
       "\"<class 'Fraction'>\""
      ]
     },
     "execution_count": 170,
     "metadata": {},
     "output_type": "execute_result"
    }
   ],
   "source": [
    "repr(res1)"
   ]
  },
  {
   "cell_type": "code",
   "execution_count": 171,
   "metadata": {
    "ExecuteTime": {
     "end_time": "2018-12-18T08:10:14.804064Z",
     "start_time": "2018-12-18T08:10:14.797821Z"
    }
   },
   "outputs": [
    {
     "data": {
      "text/plain": [
       "\"<class '__main__.Fraction'>\""
      ]
     },
     "execution_count": 171,
     "metadata": {},
     "output_type": "execute_result"
    }
   ],
   "source": [
    "repr(Fraction)"
   ]
  },
  {
   "cell_type": "code",
   "execution_count": 172,
   "metadata": {
    "ExecuteTime": {
     "end_time": "2018-12-18T08:10:15.261214Z",
     "start_time": "2018-12-18T08:10:15.253607Z"
    }
   },
   "outputs": [
    {
     "data": {
      "text/plain": [
       "'-1/-3'"
      ]
     },
     "execution_count": 172,
     "metadata": {},
     "output_type": "execute_result"
    }
   ],
   "source": [
    "str(Fraction(-1, -3))"
   ]
  },
  {
   "cell_type": "code",
   "execution_count": 173,
   "metadata": {
    "ExecuteTime": {
     "end_time": "2018-12-18T08:10:15.640712Z",
     "start_time": "2018-12-18T08:10:15.632547Z"
    }
   },
   "outputs": [
    {
     "data": {
      "text/plain": [
       "<class 'Fraction'>"
      ]
     },
     "execution_count": 173,
     "metadata": {},
     "output_type": "execute_result"
    }
   ],
   "source": [
    "Fraction(0.3, 2)"
   ]
  },
  {
   "cell_type": "code",
   "execution_count": null,
   "metadata": {},
   "outputs": [],
   "source": []
  }
 ],
 "metadata": {
  "kernelspec": {
   "display_name": "Python 3",
   "language": "python",
   "name": "python3"
  },
  "language_info": {
   "codemirror_mode": {
    "name": "ipython",
    "version": 3
   },
   "file_extension": ".py",
   "mimetype": "text/x-python",
   "name": "python",
   "nbconvert_exporter": "python",
   "pygments_lexer": "ipython3",
   "version": "3.5.2"
  },
  "toc": {
   "base_numbering": 1,
   "nav_menu": {},
   "number_sections": true,
   "sideBar": true,
   "skip_h1_title": false,
   "title_cell": "Table of Contents",
   "title_sidebar": "Contents",
   "toc_cell": false,
   "toc_position": {
    "height": "calc(100% - 180px)",
    "left": "10px",
    "top": "150px",
    "width": "189.225px"
   },
   "toc_section_display": true,
   "toc_window_display": true
  }
 },
 "nbformat": 4,
 "nbformat_minor": 2
}
