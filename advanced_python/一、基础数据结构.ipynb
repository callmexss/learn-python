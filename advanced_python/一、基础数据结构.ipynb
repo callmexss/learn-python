{
 "cells": [
  {
   "cell_type": "code",
   "execution_count": 82,
   "metadata": {
    "ExecuteTime": {
     "end_time": "2019-08-06T02:48:54.015462Z",
     "start_time": "2019-08-06T02:48:54.010774Z"
    }
   },
   "outputs": [],
   "source": [
    "import random\n",
    "import string\n",
    "import pickle\n",
    "import time\n",
    "\n",
    "from pprint import pprint\n",
    "from functools import reduce\n",
    "from collections import namedtuple\n",
    "from collections import Counter\n",
    "from collections import OrderedDict\n",
    "from collections import deque"
   ]
  },
  {
   "cell_type": "markdown",
   "metadata": {},
   "source": [
    "## 筛选元素"
   ]
  },
  {
   "cell_type": "code",
   "execution_count": 18,
   "metadata": {
    "ExecuteTime": {
     "end_time": "2019-08-06T02:30:07.598856Z",
     "start_time": "2019-08-06T02:30:07.590766Z"
    }
   },
   "outputs": [
    {
     "name": "stdout",
     "output_type": "stream",
     "text": [
      "[-9, 10, 4, 8, 1, 9, -6, -7, 1, 5]\n",
      "{'a': 93, 'b': 79, 'c': 74, 'd': 61, 'e': 90, 'f': 77}\n",
      "{1, 4, 5, 8, 9, 10, -9, -7, -6}\n"
     ]
    }
   ],
   "source": [
    "data = [random.randint(-10, 10) for _ in range(10)]\n",
    "print(data)\n",
    "\n",
    "d = dict(zip(\"abcdef\", [random.randint(60, 100) for i in range(6)]))\n",
    "print(d)\n",
    "\n",
    "s = set(data)\n",
    "print(s)"
   ]
  },
  {
   "cell_type": "markdown",
   "metadata": {
    "ExecuteTime": {
     "end_time": "2019-08-06T02:26:10.367428Z",
     "start_time": "2019-08-06T02:26:10.365008Z"
    }
   },
   "source": [
    "### 列表解析"
   ]
  },
  {
   "cell_type": "code",
   "execution_count": 13,
   "metadata": {
    "ExecuteTime": {
     "end_time": "2019-08-06T02:27:43.963398Z",
     "start_time": "2019-08-06T02:27:39.182821Z"
    }
   },
   "outputs": [
    {
     "name": "stdout",
     "output_type": "stream",
     "text": [
      "589 ns ± 11.3 ns per loop (mean ± std. dev. of 7 runs, 1000000 loops each)\n"
     ]
    }
   ],
   "source": [
    "timeit [x for x in data if x > 0]"
   ]
  },
  {
   "cell_type": "code",
   "execution_count": 19,
   "metadata": {
    "ExecuteTime": {
     "end_time": "2019-08-06T02:30:52.084339Z",
     "start_time": "2019-08-06T02:30:46.607508Z"
    }
   },
   "outputs": [
    {
     "name": "stdout",
     "output_type": "stream",
     "text": [
      "675 ns ± 1.56 ns per loop (mean ± std. dev. of 7 runs, 1000000 loops each)\n"
     ]
    }
   ],
   "source": [
    "timeit {x for x in s if x > 0}"
   ]
  },
  {
   "cell_type": "code",
   "execution_count": 20,
   "metadata": {
    "ExecuteTime": {
     "end_time": "2019-08-06T02:31:27.303027Z",
     "start_time": "2019-08-06T02:31:21.598027Z"
    }
   },
   "outputs": [
    {
     "name": "stdout",
     "output_type": "stream",
     "text": [
      "702 ns ± 6.76 ns per loop (mean ± std. dev. of 7 runs, 1000000 loops each)\n"
     ]
    }
   ],
   "source": [
    "timeit {k: v for k, v in d.items() if v > 90}"
   ]
  },
  {
   "cell_type": "markdown",
   "metadata": {},
   "source": [
    "### filter"
   ]
  },
  {
   "cell_type": "code",
   "execution_count": 14,
   "metadata": {
    "ExecuteTime": {
     "end_time": "2019-08-06T02:27:46.585484Z",
     "start_time": "2019-08-06T02:27:45.152167Z"
    }
   },
   "outputs": [
    {
     "name": "stdout",
     "output_type": "stream",
     "text": [
      "1.66 µs ± 8.63 ns per loop (mean ± std. dev. of 7 runs, 100000 loops each)\n"
     ]
    }
   ],
   "source": [
    "timeit list(filter(lambda x: x > 0, data))"
   ]
  },
  {
   "cell_type": "code",
   "execution_count": 21,
   "metadata": {
    "ExecuteTime": {
     "end_time": "2019-08-06T02:31:58.836863Z",
     "start_time": "2019-08-06T02:31:44.439639Z"
    }
   },
   "outputs": [
    {
     "name": "stdout",
     "output_type": "stream",
     "text": [
      "1.77 µs ± 22.2 ns per loop (mean ± std. dev. of 7 runs, 1000000 loops each)\n"
     ]
    }
   ],
   "source": [
    "timeit set(filter(lambda x: x > 0, s))"
   ]
  },
  {
   "cell_type": "code",
   "execution_count": 22,
   "metadata": {
    "ExecuteTime": {
     "end_time": "2019-08-06T02:32:42.784135Z",
     "start_time": "2019-08-06T02:32:28.053847Z"
    }
   },
   "outputs": [
    {
     "name": "stdout",
     "output_type": "stream",
     "text": [
      "1.82 µs ± 12.3 ns per loop (mean ± std. dev. of 7 runs, 1000000 loops each)\n"
     ]
    }
   ],
   "source": [
    "timeit dict(filter(lambda x: x[1] > 90, d.items()))"
   ]
  },
  {
   "cell_type": "markdown",
   "metadata": {},
   "source": [
    "## namedtuple, Counter"
   ]
  },
  {
   "cell_type": "code",
   "execution_count": 25,
   "metadata": {
    "ExecuteTime": {
     "end_time": "2019-08-06T02:35:51.058246Z",
     "start_time": "2019-08-06T02:35:51.052825Z"
    }
   },
   "outputs": [],
   "source": [
    "Student = namedtuple(\"Student\", [\"name\", \"age\", \"gender\"])"
   ]
  },
  {
   "cell_type": "code",
   "execution_count": 27,
   "metadata": {
    "ExecuteTime": {
     "end_time": "2019-08-06T02:37:05.153336Z",
     "start_time": "2019-08-06T02:37:05.149104Z"
    }
   },
   "outputs": [],
   "source": [
    "Bob = Student(\"Bob\", 20, \"boy\")"
   ]
  },
  {
   "cell_type": "code",
   "execution_count": 28,
   "metadata": {
    "ExecuteTime": {
     "end_time": "2019-08-06T02:37:05.569045Z",
     "start_time": "2019-08-06T02:37:05.565666Z"
    }
   },
   "outputs": [],
   "source": [
    "def print_info(s):\n",
    "    print(\"my name is {}, i'm {} years old, i am a {}.\".format(*Bob))"
   ]
  },
  {
   "cell_type": "code",
   "execution_count": 29,
   "metadata": {
    "ExecuteTime": {
     "end_time": "2019-08-06T02:37:12.377047Z",
     "start_time": "2019-08-06T02:37:12.373714Z"
    }
   },
   "outputs": [
    {
     "name": "stdout",
     "output_type": "stream",
     "text": [
      "my name is Bob, i'm 20 years old, i am a boy.\n"
     ]
    }
   ],
   "source": [
    "print_info(Bob)"
   ]
  },
  {
   "cell_type": "code",
   "execution_count": 42,
   "metadata": {
    "ExecuteTime": {
     "end_time": "2019-08-06T02:39:04.202326Z",
     "start_time": "2019-08-06T02:39:04.196320Z"
    }
   },
   "outputs": [],
   "source": [
    "li = [random.choice(string.ascii_letters) for _ in range(1000)]"
   ]
  },
  {
   "cell_type": "code",
   "execution_count": 43,
   "metadata": {
    "ExecuteTime": {
     "end_time": "2019-08-06T02:39:04.332265Z",
     "start_time": "2019-08-06T02:39:04.325711Z"
    }
   },
   "outputs": [
    {
     "data": {
      "text/plain": [
       "[('m', 30), ('I', 27), ('L', 27)]"
      ]
     },
     "execution_count": 43,
     "metadata": {},
     "output_type": "execute_result"
    }
   ],
   "source": [
    "counter = Counter(li)\n",
    "counter.most_common(3)"
   ]
  },
  {
   "cell_type": "markdown",
   "metadata": {},
   "source": [
    "## 公共键"
   ]
  },
  {
   "cell_type": "code",
   "execution_count": 74,
   "metadata": {
    "ExecuteTime": {
     "end_time": "2019-08-06T02:43:54.307159Z",
     "start_time": "2019-08-06T02:43:54.299699Z"
    }
   },
   "outputs": [
    {
     "name": "stdout",
     "output_type": "stream",
     "text": [
      "[{'b': 1, 'e': 4, 'f': 4}, {'b': 1, 'd': 4, 'f': 4}, {'c': 4, 'e': 5, 'f': 2}]\n"
     ]
    }
   ],
   "source": [
    "p = \"abcdef\"\n",
    "dl = []\n",
    "for i in range(3):\n",
    "    dl.append(dict(zip(random.sample(p, 4), [random.randint(1, 5) for _ in range(3)])))\n",
    "    \n",
    "pprint(dl)"
   ]
  },
  {
   "cell_type": "code",
   "execution_count": 75,
   "metadata": {
    "ExecuteTime": {
     "end_time": "2019-08-06T02:43:54.474014Z",
     "start_time": "2019-08-06T02:43:54.467123Z"
    }
   },
   "outputs": [
    {
     "data": {
      "text/plain": [
       "{'f'}"
      ]
     },
     "execution_count": 75,
     "metadata": {},
     "output_type": "execute_result"
    }
   ],
   "source": [
    "reduce(lambda x, y: x & y, [d.keys() for d in dl])"
   ]
  },
  {
   "cell_type": "markdown",
   "metadata": {},
   "source": [
    "## 有序字典"
   ]
  },
  {
   "cell_type": "code",
   "execution_count": 77,
   "metadata": {
    "ExecuteTime": {
     "end_time": "2019-08-06T02:44:43.304427Z",
     "start_time": "2019-08-06T02:44:43.300600Z"
    }
   },
   "outputs": [],
   "source": [
    "od = OrderedDict()"
   ]
  },
  {
   "cell_type": "code",
   "execution_count": 79,
   "metadata": {
    "ExecuteTime": {
     "end_time": "2019-08-06T02:47:38.413862Z",
     "start_time": "2019-08-06T02:47:35.626677Z"
    }
   },
   "outputs": [
    {
     "name": "stdout",
     "output_type": "stream",
     "text": [
      "a 0.24230098724365234\n",
      "e 1.2374789714813232\n",
      "d 1.3957879543304443\n",
      "b 1.9253172874450684\n",
      "f 2.0101730823516846\n",
      "c 2.778743028640747\n",
      "OrderedDict([('a', 0.24230098724365234),\n",
      "             ('e', 1.2374789714813232),\n",
      "             ('d', 1.3957879543304443),\n",
      "             ('b', 1.9253172874450684),\n",
      "             ('f', 2.0101730823516846),\n",
      "             ('c', 2.778743028640747)])\n"
     ]
    }
   ],
   "source": [
    "start = time.time()\n",
    "p = [x for x in \"abcdef\"]\n",
    "for i in range(6):\n",
    "    time.sleep(random.random())\n",
    "    end = time.time()\n",
    "    random.shuffle(p)\n",
    "    player = p.pop()\n",
    "    od[player] = end - start\n",
    "    print(player, end - start)\n",
    "    \n",
    "pprint(od)"
   ]
  },
  {
   "cell_type": "markdown",
   "metadata": {
    "ExecuteTime": {
     "end_time": "2019-08-06T02:48:27.452703Z",
     "start_time": "2019-08-06T02:48:27.450208Z"
    }
   },
   "source": [
    "## 历史记录"
   ]
  },
  {
   "cell_type": "code",
   "execution_count": 90,
   "metadata": {
    "ExecuteTime": {
     "end_time": "2019-08-06T02:52:23.090262Z",
     "start_time": "2019-08-06T02:52:23.083333Z"
    }
   },
   "outputs": [],
   "source": [
    "class Logger:\n",
    "    def __init__(self, max_len=5):\n",
    "        self.q = deque([], max_len)\n",
    "        \n",
    "    def log(self, msg):\n",
    "        self.q.append(\"{}: {}\".format(time.asctime(), msg))\n",
    "        \n",
    "    def show(self):\n",
    "        pprint([item for item in self.q])"
   ]
  },
  {
   "cell_type": "code",
   "execution_count": 91,
   "metadata": {
    "ExecuteTime": {
     "end_time": "2019-08-06T02:52:23.691444Z",
     "start_time": "2019-08-06T02:52:23.688740Z"
    }
   },
   "outputs": [],
   "source": [
    "logger = Logger()"
   ]
  },
  {
   "cell_type": "code",
   "execution_count": 94,
   "metadata": {
    "ExecuteTime": {
     "end_time": "2019-08-06T02:52:47.095894Z",
     "start_time": "2019-08-06T02:52:46.089811Z"
    }
   },
   "outputs": [
    {
     "name": "stdout",
     "output_type": "stream",
     "text": [
      "['Tue Aug  6 10:52:24 2019: Shutdown',\n",
      " 'Tue Aug  6 10:52:40 2019: Start',\n",
      " 'Tue Aug  6 10:52:42 2019: Shutdown',\n",
      " 'Tue Aug  6 10:52:46 2019: Start',\n",
      " 'Tue Aug  6 10:52:47 2019: Shutdown']\n"
     ]
    }
   ],
   "source": [
    "logger.log(\"Start\")\n",
    "time.sleep(random.randint(1, 3))\n",
    "logger.log(\"Shutdown\")\n",
    "logger.show()"
   ]
  }
 ],
 "metadata": {
  "kernelspec": {
   "display_name": "Python 3",
   "language": "python",
   "name": "python3"
  },
  "language_info": {
   "codemirror_mode": {
    "name": "ipython",
    "version": 3
   },
   "file_extension": ".py",
   "mimetype": "text/x-python",
   "name": "python",
   "nbconvert_exporter": "python",
   "pygments_lexer": "ipython3",
   "version": "3.6.3"
  },
  "toc": {
   "base_numbering": 1,
   "nav_menu": {},
   "number_sections": true,
   "sideBar": true,
   "skip_h1_title": false,
   "title_cell": "Table of Contents",
   "title_sidebar": "Contents",
   "toc_cell": false,
   "toc_position": {},
   "toc_section_display": true,
   "toc_window_display": false
  }
 },
 "nbformat": 4,
 "nbformat_minor": 2
}
