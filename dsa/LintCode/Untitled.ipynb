{
 "cells": [
  {
   "cell_type": "markdown",
   "metadata": {},
   "source": [
    "147. 水仙花数\n",
    "水仙花数的定义是，这个数等于他每一位上数的幂次之和 见维基百科的定义\n",
    "\n",
    "比如一个3位的十进制整数153就是一个水仙花数。因为 153 = 13 + 53 + 33。\n",
    "\n",
    "而一个4位的十进制数1634也是一个水仙花数，因为 1634 = 14 + 64 + 34 + 44。\n",
    "\n",
    "给出n，找到所有的n位十进制水仙花数。\n",
    "\n",
    "样例\n",
    "比如 n = 1, 所有水仙花数为：[0,1,2,3,4,5,6,7,8,9]。\n",
    "而对于 n = 2, 则没有2位的水仙花数，返回 []。\n",
    "\n",
    "注意事项\n",
    "你可以认为n小于8。"
   ]
  },
  {
   "cell_type": "code",
   "execution_count": 2,
   "metadata": {
    "ExecuteTime": {
     "end_time": "2018-12-28T11:10:54.667478Z",
     "start_time": "2018-12-28T11:10:54.658873Z"
    }
   },
   "outputs": [],
   "source": [
    "def getNarcissisticNumbers(n):\n",
    "    # write your code here\n",
    "    table = {}\n",
    "    total = []\n",
    "    min_num = 10**(n - 1)\n",
    "    max_num = int('9' * n)\n",
    "    for i in range(10):\n",
    "        num = i**n\n",
    "        if num < max_num:\n",
    "            table[i] = num\n",
    "\n",
    "    for num in range(min_num, max_num):\n",
    "        res = [table[int(x)] for x in str(num)]\n",
    "        if sum(res) == num:\n",
    "            total.append(num)\n",
    "\n",
    "    return total"
   ]
  },
  {
   "cell_type": "code",
   "execution_count": 19,
   "metadata": {
    "ExecuteTime": {
     "end_time": "2018-12-28T11:42:58.942267Z",
     "start_time": "2018-12-28T11:42:56.757704Z"
    }
   },
   "outputs": [
    {
     "name": "stdout",
     "output_type": "stream",
     "text": [
      "[1741725, 4210818, 9800817, 9926315]\n"
     ]
    }
   ],
   "source": [
    "def narcissistic(n):\n",
    "    pows = [_i**n for _i in range(10)]\n",
    "    res = pows[1:]\n",
    "    for _i in range(n-1):\n",
    "        res=[s+pows[d] for s in res for d in range(10)]\n",
    "    lower = 10**(n-1) \n",
    "    return [k+lower for k,v in enumerate(res) if k+lower == v]\n",
    "\n",
    "print(narcissistic(7))"
   ]
  },
  {
   "cell_type": "code",
   "execution_count": 20,
   "metadata": {
    "ExecuteTime": {
     "end_time": "2018-12-28T11:43:34.513252Z",
     "start_time": "2018-12-28T11:43:11.688948Z"
    }
   },
   "outputs": [
    {
     "data": {
      "text/plain": [
       "[1741725, 4210818, 9800817, 9926315]"
      ]
     },
     "execution_count": 20,
     "metadata": {},
     "output_type": "execute_result"
    }
   ],
   "source": [
    "getNarcissisticNumbers(7)"
   ]
  },
  {
   "cell_type": "markdown",
   "metadata": {},
   "source": []
  },
  {
   "cell_type": "code",
   "execution_count": 14,
   "metadata": {
    "ExecuteTime": {
     "end_time": "2018-12-28T11:38:18.213282Z",
     "start_time": "2018-12-28T11:38:18.208882Z"
    }
   },
   "outputs": [],
   "source": [
    "def rotateString(str, offset):\n",
    "        # write your code here\n",
    "        return ''.join((str[-offset:] + str[:-offset]))"
   ]
  },
  {
   "cell_type": "code",
   "execution_count": 15,
   "metadata": {
    "ExecuteTime": {
     "end_time": "2018-12-28T11:38:18.556739Z",
     "start_time": "2018-12-28T11:38:18.543664Z"
    }
   },
   "outputs": [
    {
     "data": {
      "text/plain": [
       "'efgabcd'"
      ]
     },
     "execution_count": 15,
     "metadata": {},
     "output_type": "execute_result"
    }
   ],
   "source": [
    "rotateString(\"abcdefg\", 3)"
   ]
  },
  {
   "cell_type": "code",
   "execution_count": 22,
   "metadata": {
    "ExecuteTime": {
     "end_time": "2018-12-28T11:48:48.888122Z",
     "start_time": "2018-12-28T11:48:48.885000Z"
    }
   },
   "outputs": [],
   "source": [
    "set1 = {1, 3, 4}"
   ]
  },
  {
   "cell_type": "code",
   "execution_count": 23,
   "metadata": {
    "ExecuteTime": {
     "end_time": "2018-12-28T11:48:58.850479Z",
     "start_time": "2018-12-28T11:48:58.844128Z"
    }
   },
   "outputs": [
    {
     "data": {
      "text/plain": [
       "1"
      ]
     },
     "execution_count": 23,
     "metadata": {},
     "output_type": "execute_result"
    }
   ],
   "source": [
    "set1.pop()"
   ]
  },
  {
   "cell_type": "code",
   "execution_count": 30,
   "metadata": {
    "ExecuteTime": {
     "end_time": "2018-12-28T14:41:12.700152Z",
     "start_time": "2018-12-28T14:41:12.693870Z"
    }
   },
   "outputs": [
    {
     "data": {
      "text/plain": [
       "True"
      ]
     },
     "execution_count": 30,
     "metadata": {},
     "output_type": "execute_result"
    }
   ],
   "source": [
    "isinstance(set1, set)"
   ]
  },
  {
   "cell_type": "code",
   "execution_count": null,
   "metadata": {
    "ExecuteTime": {
     "end_time": "2018-12-28T14:28:28.155055Z",
     "start_time": "2018-12-28T14:28:28.140560Z"
    }
   },
   "outputs": [],
   "source": []
  },
  {
   "cell_type": "code",
   "execution_count": 28,
   "metadata": {
    "ExecuteTime": {
     "end_time": "2018-12-28T12:03:41.368288Z",
     "start_time": "2018-12-28T12:03:41.360514Z"
    }
   },
   "outputs": [
    {
     "data": {
      "text/plain": [
       "[3, 2, 1]"
      ]
     },
     "execution_count": 28,
     "metadata": {},
     "output_type": "execute_result"
    }
   ],
   "source": [
    "li = [1, 2, 3]\n",
    "list(reversed(li))"
   ]
  },
  {
   "cell_type": "code",
   "execution_count": null,
   "metadata": {},
   "outputs": [],
   "source": []
  }
 ],
 "metadata": {
  "kernelspec": {
   "display_name": "Python 3",
   "language": "python",
   "name": "python3"
  },
  "language_info": {
   "codemirror_mode": {
    "name": "ipython",
    "version": 3
   },
   "file_extension": ".py",
   "mimetype": "text/x-python",
   "name": "python",
   "nbconvert_exporter": "python",
   "pygments_lexer": "ipython3",
   "version": "3.5.2"
  },
  "toc": {
   "base_numbering": 1,
   "nav_menu": {},
   "number_sections": true,
   "sideBar": true,
   "skip_h1_title": false,
   "title_cell": "Table of Contents",
   "title_sidebar": "Contents",
   "toc_cell": false,
   "toc_position": {},
   "toc_section_display": true,
   "toc_window_display": false
  }
 },
 "nbformat": 4,
 "nbformat_minor": 2
}
