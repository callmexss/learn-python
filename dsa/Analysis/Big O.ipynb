{
 "cells": [
  {
   "cell_type": "code",
   "execution_count": 1,
   "metadata": {
    "ExecuteTime": {
     "end_time": "2018-12-19T07:32:11.254913Z",
     "start_time": "2018-12-19T07:32:11.247776Z"
    }
   },
   "outputs": [
    {
     "name": "stdout",
     "output_type": "stream",
     "text": [
      "[45383, 66611, 56439, 73000, 61272, 48616, 92810, 84452, 46056, 85778, 72394, 67430, 22518, 30140, 20451, 81411, 5864, 14183, 79622, 8074, 71042, 9737, 9903, 35653, 65967, 83528, 53485, 54560, 16699, 43164, 59874, 42648, 71161, 59576, 26797, 88470, 53087, 87421, 24571, 94763, 8777, 84883, 65216, 25072, 30046, 72304, 92936, 672, 30934, 29360, 57801, 96639, 77132, 42995, 47599, 75661, 56746, 86472, 56191, 84715, 16522, 23763, 85346, 18405, 9451, 61830, 5057, 95916, 630, 33878, 7218, 39342, 38754, 1292, 54601, 89447, 24204, 57670, 85961, 92309, 14750, 41490, 599, 17979, 22163, 36194, 69273, 3709, 58657, 12280, 8642, 79506, 94569, 575, 45734, 35481, 39704, 59900, 49414, 23443]\n"
     ]
    }
   ],
   "source": [
    "import random\n",
    "\n",
    "li = [random.randint(0, 100000) for x in range(100)]\n",
    "print(li)"
   ]
  },
  {
   "cell_type": "code",
   "execution_count": 2,
   "metadata": {
    "ExecuteTime": {
     "end_time": "2018-12-19T07:32:11.265846Z",
     "start_time": "2018-12-19T07:32:11.260941Z"
    }
   },
   "outputs": [],
   "source": [
    "def find_min_o2(li):\n",
    "    for each in li:\n",
    "        is_min = True\n",
    "        for cmp in li:\n",
    "            if each == cmp:\n",
    "                continue\n",
    "            if each > cmp:\n",
    "                is_min = False\n",
    "        if is_min:\n",
    "            return each"
   ]
  },
  {
   "cell_type": "code",
   "execution_count": 3,
   "metadata": {
    "ExecuteTime": {
     "end_time": "2018-12-19T07:32:16.796052Z",
     "start_time": "2018-12-19T07:32:11.269995Z"
    }
   },
   "outputs": [],
   "source": [
    "for i in range(10000):\n",
    "    find_min_o2(li)"
   ]
  },
  {
   "cell_type": "code",
   "execution_count": 4,
   "metadata": {
    "ExecuteTime": {
     "end_time": "2018-12-19T07:32:16.805659Z",
     "start_time": "2018-12-19T07:32:16.801162Z"
    }
   },
   "outputs": [],
   "source": [
    "def find_min_o1(li):\n",
    "    min_val = li[0]\n",
    "    for each in li:\n",
    "        if each < min_val:\n",
    "            min_val = each\n",
    "    return min_val"
   ]
  },
  {
   "cell_type": "code",
   "execution_count": 5,
   "metadata": {
    "ExecuteTime": {
     "end_time": "2018-12-19T07:32:16.847825Z",
     "start_time": "2018-12-19T07:32:16.811391Z"
    }
   },
   "outputs": [],
   "source": [
    "for i in range(10000):\n",
    "    find_min_o1(li)"
   ]
  },
  {
   "cell_type": "code",
   "execution_count": 6,
   "metadata": {
    "ExecuteTime": {
     "end_time": "2018-12-19T07:32:16.858850Z",
     "start_time": "2018-12-19T07:32:16.852575Z"
    }
   },
   "outputs": [],
   "source": [
    "def anagramSolution1(s1, s2):\n",
    "    alist = list(s2)\n",
    "    pos1 = 0\n",
    "    still_ok = True\n",
    "    \n",
    "    while pos1 < len(s1) and still_ok:\n",
    "        pos2 = 0\n",
    "        found = False\n",
    "        while pos2 < len(alist) and not found:\n",
    "            if s1[pos1] == alist[pos2]:\n",
    "                found = True\n",
    "            else:\n",
    "                pos2 = pos2 + 1\n",
    "                \n",
    "        if found:\n",
    "            alist[pos2] = None\n",
    "        else:\n",
    "            still_ok = False\n",
    "            \n",
    "        pos1 += 1\n",
    "        \n",
    "    return still_ok\n",
    "    "
   ]
  },
  {
   "cell_type": "code",
   "execution_count": 7,
   "metadata": {
    "ExecuteTime": {
     "end_time": "2018-12-19T07:32:16.874425Z",
     "start_time": "2018-12-19T07:32:16.869005Z"
    }
   },
   "outputs": [],
   "source": [
    "def anagramSolution2(s1, s2):\n",
    "    alist1 = list(s1)\n",
    "    alist2 = list(s2)\n",
    "    \n",
    "    alist1.sort()\n",
    "    alist2.sort()\n",
    "    \n",
    "    pos = 0\n",
    "    matches = True\n",
    "    \n",
    "    while pos < len(alist1) and matches:\n",
    "        if alist1[pos] == alist2[pos]:\n",
    "            pos += 1\n",
    "        else:\n",
    "            matches = False\n",
    "        \n",
    "    return matches"
   ]
  },
  {
   "cell_type": "code",
   "execution_count": 8,
   "metadata": {
    "ExecuteTime": {
     "end_time": "2018-12-19T07:32:16.883439Z",
     "start_time": "2018-12-19T07:32:16.879777Z"
    }
   },
   "outputs": [],
   "source": [
    "def anagramSolution3(s1, s2):\n",
    "    pass"
   ]
  },
  {
   "cell_type": "code",
   "execution_count": 9,
   "metadata": {
    "ExecuteTime": {
     "end_time": "2018-12-19T07:32:16.894404Z",
     "start_time": "2018-12-19T07:32:16.886279Z"
    }
   },
   "outputs": [],
   "source": [
    "def anagramSolution4(s1, s2):\n",
    "    c1 = [0] * 26\n",
    "    c2 = [0] * 26\n",
    "    \n",
    "    for i in range(len(s1)):\n",
    "        pos = ord(s1[i]) - ord('a')\n",
    "        c1[pos] += 1\n",
    "        \n",
    "    for i in range(len(s2)):\n",
    "        pos = ord(s2[i]) - ord('a')\n",
    "        c2[pos] += 1\n",
    "        \n",
    "    j = 0\n",
    "    still_ok = True\n",
    "    \n",
    "    while j < 26 and still_ok:\n",
    "        if c1[j] == c2[j]:\n",
    "            j += 1\n",
    "        else:\n",
    "            still_ok = False\n",
    "            \n",
    "    return still_ok"
   ]
  },
  {
   "cell_type": "code",
   "execution_count": 10,
   "metadata": {
    "ExecuteTime": {
     "end_time": "2018-12-19T07:32:16.921478Z",
     "start_time": "2018-12-19T07:32:16.898935Z"
    }
   },
   "outputs": [],
   "source": [
    "s_ori = ''.join('abcdefghijklmnopqrstuvwxyz'[random.randrange(26)] for i in range(10000))\n",
    "s = list(s_ori)\n",
    "random.shuffle(s)\n",
    "s_new = ''.join(s)"
   ]
  },
  {
   "cell_type": "code",
   "execution_count": 11,
   "metadata": {
    "ExecuteTime": {
     "end_time": "2018-12-19T07:32:27.014492Z",
     "start_time": "2018-12-19T07:32:16.925911Z"
    }
   },
   "outputs": [
    {
     "name": "stdout",
     "output_type": "stream",
     "text": [
      "True\n"
     ]
    }
   ],
   "source": [
    "print(anagramSolution1(s_ori, s_new))"
   ]
  },
  {
   "cell_type": "code",
   "execution_count": 12,
   "metadata": {
    "ExecuteTime": {
     "end_time": "2018-12-19T07:32:27.032101Z",
     "start_time": "2018-12-19T07:32:27.018943Z"
    }
   },
   "outputs": [
    {
     "name": "stdout",
     "output_type": "stream",
     "text": [
      "True\n"
     ]
    }
   ],
   "source": [
    "print(anagramSolution2(s_ori, s_new))"
   ]
  },
  {
   "cell_type": "code",
   "execution_count": 13,
   "metadata": {
    "ExecuteTime": {
     "end_time": "2018-12-19T07:32:27.048807Z",
     "start_time": "2018-12-19T07:32:27.036748Z"
    }
   },
   "outputs": [
    {
     "name": "stdout",
     "output_type": "stream",
     "text": [
      "True\n"
     ]
    }
   ],
   "source": [
    "print(anagramSolution4(s_ori, s_new))"
   ]
  },
  {
   "cell_type": "code",
   "execution_count": null,
   "metadata": {},
   "outputs": [],
   "source": []
  }
 ],
 "metadata": {
  "kernelspec": {
   "display_name": "Python 3",
   "language": "python",
   "name": "python3"
  },
  "language_info": {
   "codemirror_mode": {
    "name": "ipython",
    "version": 3
   },
   "file_extension": ".py",
   "mimetype": "text/x-python",
   "name": "python",
   "nbconvert_exporter": "python",
   "pygments_lexer": "ipython3",
   "version": "3.5.2"
  },
  "toc": {
   "base_numbering": 1,
   "nav_menu": {},
   "number_sections": true,
   "sideBar": true,
   "skip_h1_title": false,
   "title_cell": "Table of Contents",
   "title_sidebar": "Contents",
   "toc_cell": false,
   "toc_position": {},
   "toc_section_display": true,
   "toc_window_display": false
  }
 },
 "nbformat": 4,
 "nbformat_minor": 2
}
