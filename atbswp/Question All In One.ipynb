{
 "cells": [
  {
   "cell_type": "code",
   "execution_count": 16,
   "metadata": {
    "ExecuteTime": {
     "end_time": "2018-12-08T08:44:18.809794Z",
     "start_time": "2018-12-08T08:44:18.802073Z"
    }
   },
   "outputs": [],
   "source": [
    "# imports\n",
    "import re\n",
    "\n",
    "from pprint import pprint"
   ]
  },
  {
   "cell_type": "markdown",
   "metadata": {
    "ExecuteTime": {
     "end_time": "2018-12-08T07:58:18.060567Z",
     "start_time": "2018-12-08T07:58:18.054067Z"
    }
   },
   "source": [
    "## Class"
   ]
  },
  {
   "cell_type": "markdown",
   "metadata": {
    "ExecuteTime": {
     "end_time": "2018-12-08T07:58:48.552326Z",
     "start_time": "2018-12-08T07:58:48.546616Z"
    }
   },
   "source": [
    "### '_' Starts Functions (Shuold it be this???)"
   ]
  },
  {
   "cell_type": "code",
   "execution_count": 17,
   "metadata": {
    "ExecuteTime": {
     "end_time": "2018-12-08T08:44:19.321762Z",
     "start_time": "2018-12-08T08:44:19.312665Z"
    }
   },
   "outputs": [],
   "source": [
    "class Test():\n",
    "    \"\"\"Simple Test\"\"\"\n",
    "    def __init__(self):\n",
    "        \"\"\"Constructor\"\"\"\n",
    "        pass\n",
    "    \n",
    "    def func(self):\n",
    "        \"\"\"Do nothing\"\"\"\n",
    "        pass"
   ]
  },
  {
   "cell_type": "markdown",
   "metadata": {
    "ExecuteTime": {
     "end_time": "2018-12-08T08:03:18.402825Z",
     "start_time": "2018-12-08T08:03:18.392422Z"
    }
   },
   "source": [
    "```python\n",
    "pprint(dir(Test))\n",
    "\n",
    "['__class__',  # Class `type` (This is a special call. Should inspect it latter.)\n",
    " '__delattr__',\n",
    " '__dict__',\n",
    " '__dir__',\n",
    " '__doc__',\n",
    " '__eq__',\n",
    " '__format__',\n",
    " '__ge__',\n",
    " '__getattribute__',\n",
    " '__gt__',\n",
    " '__hash__',\n",
    " '__init__',\n",
    " '__le__',\n",
    " '__lt__',\n",
    " '__module__',\n",
    " '__ne__',\n",
    " '__new__',\n",
    " '__reduce__',\n",
    " '__reduce_ex__',\n",
    " '__repr__',\n",
    " '__setattr__',\n",
    " '__sizeof__',\n",
    " '__str__',\n",
    " '__subclasshook__',\n",
    " '__weakref__',\n",
    " 'func']\n",
    "```"
   ]
  },
  {
   "cell_type": "code",
   "execution_count": 15,
   "metadata": {
    "ExecuteTime": {
     "end_time": "2018-12-08T08:07:04.622281Z",
     "start_time": "2018-12-08T08:07:04.616455Z"
    }
   },
   "outputs": [
    {
     "name": "stdout",
     "output_type": "stream",
     "text": [
      "Help on wrapper_descriptor:\n",
      "\n",
      "__delattr__(self, name, /)\n",
      "    Implement delattr(self, name).\n",
      "\n",
      "Help on built-in function delattr in module builtins:\n",
      "\n",
      "delattr(obj, name, /)\n",
      "    Deletes the named attribute from the given object.\n",
      "    \n",
      "    delattr(x, 'y') is equivalent to ``del x.y''\n",
      "\n"
     ]
    }
   ],
   "source": [
    "help(Test.__delattr__)\n",
    "help(delattr)"
   ]
  },
  {
   "cell_type": "markdown",
   "metadata": {},
   "source": [
    "## Loop"
   ]
  },
  {
   "cell_type": "markdown",
   "metadata": {
    "ExecuteTime": {
     "end_time": "2018-12-08T08:44:52.980715Z",
     "start_time": "2018-12-08T08:44:52.977158Z"
    }
   },
   "source": [
    "### enumerate"
   ]
  },
  {
   "cell_type": "code",
   "execution_count": 19,
   "metadata": {
    "ExecuteTime": {
     "end_time": "2018-12-08T08:45:57.644149Z",
     "start_time": "2018-12-08T08:45:57.636447Z"
    }
   },
   "outputs": [
    {
     "name": "stdout",
     "output_type": "stream",
     "text": [
      "no. 1 \t apple\n",
      "no. 2 \t peer\n",
      "no. 3 \t orange\n"
     ]
    }
   ],
   "source": [
    "fruits = ['apple', 'peer', 'orange']\n",
    "for n, f in enumerate(fruits, 1):\n",
    "    print('no.', n, '\\t', f)"
   ]
  }
 ],
 "metadata": {
  "kernelspec": {
   "display_name": "Python 3",
   "language": "python",
   "name": "python3"
  },
  "language_info": {
   "codemirror_mode": {
    "name": "ipython",
    "version": 3
   },
   "file_extension": ".py",
   "mimetype": "text/x-python",
   "name": "python",
   "nbconvert_exporter": "python",
   "pygments_lexer": "ipython3",
   "version": "3.5.2"
  },
  "toc": {
   "base_numbering": 1,
   "nav_menu": {},
   "number_sections": true,
   "sideBar": true,
   "skip_h1_title": false,
   "title_cell": "Table of Contents",
   "title_sidebar": "Contents",
   "toc_cell": false,
   "toc_position": {},
   "toc_section_display": true,
   "toc_window_display": true
  }
 },
 "nbformat": 4,
 "nbformat_minor": 2
}
