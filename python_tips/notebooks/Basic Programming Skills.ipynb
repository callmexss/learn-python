{
 "cells": [
  {
   "cell_type": "markdown",
   "metadata": {},
   "source": [
    "# 基础编程技能"
   ]
  },
  {
   "cell_type": "markdown",
   "metadata": {},
   "source": [
    "## 一些常用函数"
   ]
  },
  {
   "cell_type": "markdown",
   "metadata": {},
   "source": [
    "### 定义"
   ]
  },
  {
   "cell_type": "code",
   "execution_count": 1,
   "metadata": {
    "ExecuteTime": {
     "end_time": "2019-04-10T08:14:14.147913Z",
     "start_time": "2019-04-10T08:14:14.144579Z"
    }
   },
   "outputs": [],
   "source": [
    "import random"
   ]
  },
  {
   "cell_type": "code",
   "execution_count": 2,
   "metadata": {
    "ExecuteTime": {
     "end_time": "2019-04-10T08:16:06.882206Z",
     "start_time": "2019-04-10T08:16:06.876810Z"
    }
   },
   "outputs": [],
   "source": [
    "def show_methods_of(obj):\n",
    "    print([x for x in dir(obj) if '_' not in x])"
   ]
  },
  {
   "cell_type": "code",
   "execution_count": 3,
   "metadata": {
    "ExecuteTime": {
     "end_time": "2019-04-10T08:18:22.352355Z",
     "start_time": "2019-04-10T08:18:22.347073Z"
    }
   },
   "outputs": [],
   "source": [
    "def random_int_list(size=10, unique=True, scope=[0, 10]):\n",
    "    return random.sample(range(*scope), size) if \\\n",
    "           unique else [random.randint(*scope) for i in range(size)]"
   ]
  },
  {
   "cell_type": "code",
   "execution_count": 4,
   "metadata": {
    "ExecuteTime": {
     "end_time": "2019-04-10T08:35:19.582913Z",
     "start_time": "2019-04-10T08:35:19.577726Z"
    }
   },
   "outputs": [],
   "source": [
    "def print_diff(func):\n",
    "    def wrapper(obj, *args, **kwargs):\n",
    "        print(\"before\", func.__name__)\n",
    "        print(obj)\n",
    "        func(*args, **kwargs)\n",
    "        print(\"after\", func.__name__)\n",
    "        print(obj)\n",
    "    return wrapper"
   ]
  },
  {
   "cell_type": "markdown",
   "metadata": {},
   "source": [
    "### 测试"
   ]
  },
  {
   "cell_type": "code",
   "execution_count": 184,
   "metadata": {
    "ExecuteTime": {
     "end_time": "2019-04-10T08:35:20.196148Z",
     "start_time": "2019-04-10T08:35:20.190418Z"
    }
   },
   "outputs": [
    {
     "data": {
      "text/plain": [
       "[9, 3, 8, 5, 4, 0, 7, 1, 6, 2]"
      ]
     },
     "execution_count": 184,
     "metadata": {},
     "output_type": "execute_result"
    }
   ],
   "source": [
    "random_int_list()"
   ]
  },
  {
   "cell_type": "code",
   "execution_count": 187,
   "metadata": {
    "ExecuteTime": {
     "end_time": "2019-04-10T08:36:43.421834Z",
     "start_time": "2019-04-10T08:36:43.414736Z"
    }
   },
   "outputs": [
    {
     "name": "stdout",
     "output_type": "stream",
     "text": [
      "[2, 0, 9, 3, 5, 8, 4, 6, 7, 1]\n",
      "[2, 0, 9, 3, 5, 8, 4, 6, 7, 1, 666]\n"
     ]
    }
   ],
   "source": [
    "li = random_int_list()\n",
    "\n",
    "@print_diff\n",
    "def list_append_op():\n",
    "    li.append(666)\n",
    "\n",
    "list_append_op(li)"
   ]
  },
  {
   "cell_type": "markdown",
   "metadata": {},
   "source": [
    "## 基本语法"
   ]
  },
  {
   "cell_type": "markdown",
   "metadata": {},
   "source": [
    "### 常量"
   ]
  },
  {
   "cell_type": "code",
   "execution_count": 11,
   "metadata": {
    "ExecuteTime": {
     "end_time": "2019-04-09T09:09:35.582290Z",
     "start_time": "2019-04-09T09:09:35.579556Z"
    }
   },
   "outputs": [],
   "source": [
    "COUNTRY = 'CHINA'  # 常量只是名称上的，实际可以被修改"
   ]
  },
  {
   "cell_type": "markdown",
   "metadata": {},
   "source": [
    "### 变量"
   ]
  },
  {
   "cell_type": "code",
   "execution_count": 5,
   "metadata": {
    "ExecuteTime": {
     "end_time": "2019-04-09T09:07:03.121977Z",
     "start_time": "2019-04-09T09:07:03.119094Z"
    }
   },
   "outputs": [],
   "source": [
    "name = 'Tom'"
   ]
  },
  {
   "cell_type": "code",
   "execution_count": 6,
   "metadata": {
    "ExecuteTime": {
     "end_time": "2019-04-09T09:07:03.441049Z",
     "start_time": "2019-04-09T09:07:03.436676Z"
    }
   },
   "outputs": [],
   "source": [
    "age = 18"
   ]
  },
  {
   "cell_type": "markdown",
   "metadata": {},
   "source": [
    "### 表达式"
   ]
  },
  {
   "cell_type": "markdown",
   "metadata": {},
   "source": [
    "表达式和语句的区别:\n",
    "\n",
    "- 语句是Python解释器可以执行的一条指令。例如赋值语句、while语句、for语句、if语句和import语句。(还有其他种类!)\n",
    "- 表达式是值、变量、操作符和函数调用的组合。表达式需要计算。例如如果要求Python打印表达式，解释器将计算表达式并显示结果。"
   ]
  },
  {
   "cell_type": "code",
   "execution_count": 22,
   "metadata": {
    "ExecuteTime": {
     "end_time": "2019-04-09T09:15:05.279888Z",
     "start_time": "2019-04-09T09:15:05.275786Z"
    }
   },
   "outputs": [],
   "source": [
    "assert 1 + 1 == 2"
   ]
  },
  {
   "cell_type": "markdown",
   "metadata": {},
   "source": [
    "### 函数"
   ]
  },
  {
   "cell_type": "code",
   "execution_count": 7,
   "metadata": {
    "ExecuteTime": {
     "end_time": "2019-04-09T09:08:02.640913Z",
     "start_time": "2019-04-09T09:08:02.638008Z"
    }
   },
   "outputs": [],
   "source": [
    "def get_age():\n",
    "    return age"
   ]
  },
  {
   "cell_type": "code",
   "execution_count": 8,
   "metadata": {
    "ExecuteTime": {
     "end_time": "2019-04-09T09:08:05.259963Z",
     "start_time": "2019-04-09T09:08:05.244906Z"
    }
   },
   "outputs": [
    {
     "data": {
      "text/plain": [
       "18"
      ]
     },
     "execution_count": 8,
     "metadata": {},
     "output_type": "execute_result"
    }
   ],
   "source": [
    "get_age()"
   ]
  },
  {
   "cell_type": "code",
   "execution_count": 9,
   "metadata": {
    "ExecuteTime": {
     "end_time": "2019-04-09T09:08:57.179028Z",
     "start_time": "2019-04-09T09:08:57.175908Z"
    }
   },
   "outputs": [],
   "source": [
    "def print_info():\n",
    "    print('My name is {}, I\\'m {} years old'.format(name, age))"
   ]
  },
  {
   "cell_type": "code",
   "execution_count": 10,
   "metadata": {
    "ExecuteTime": {
     "end_time": "2019-04-09T09:09:00.577633Z",
     "start_time": "2019-04-09T09:09:00.570977Z"
    }
   },
   "outputs": [
    {
     "name": "stdout",
     "output_type": "stream",
     "text": [
      "My name is Tom, I'm 18 years old\n"
     ]
    }
   ],
   "source": [
    "print_info()"
   ]
  },
  {
   "cell_type": "code",
   "execution_count": 12,
   "metadata": {
    "ExecuteTime": {
     "end_time": "2019-04-09T09:11:24.181035Z",
     "start_time": "2019-04-09T09:11:24.176444Z"
    }
   },
   "outputs": [],
   "source": [
    "def change_name(new_name):\n",
    "    name = new_name  # 由于字符串是不可变类型，因此这里是产生了一个新的字符串\n",
    "    assert id(name) == id(new_name)"
   ]
  },
  {
   "cell_type": "code",
   "execution_count": 13,
   "metadata": {
    "ExecuteTime": {
     "end_time": "2019-04-09T09:11:34.096747Z",
     "start_time": "2019-04-09T09:11:34.091888Z"
    }
   },
   "outputs": [],
   "source": [
    "change_name(\"Bob\")"
   ]
  },
  {
   "cell_type": "code",
   "execution_count": 15,
   "metadata": {
    "ExecuteTime": {
     "end_time": "2019-04-09T09:12:49.951915Z",
     "start_time": "2019-04-09T09:12:49.947798Z"
    }
   },
   "outputs": [
    {
     "name": "stdout",
     "output_type": "stream",
     "text": [
      "My name is Tom, I'm 18 years old\n"
     ]
    }
   ],
   "source": [
    "print_info()  # 此处 name 没有发生变化是因为变量的作用域，函数内的 name 和函数外的 name 是不同的"
   ]
  },
  {
   "cell_type": "code",
   "execution_count": 17,
   "metadata": {
    "ExecuteTime": {
     "end_time": "2019-04-09T09:13:29.943792Z",
     "start_time": "2019-04-09T09:13:29.940079Z"
    }
   },
   "outputs": [],
   "source": [
    "def change_name2(new_name):\n",
    "    global name\n",
    "    name = new_name\n",
    "    assert id(name) == id(new_name)"
   ]
  },
  {
   "cell_type": "code",
   "execution_count": 18,
   "metadata": {
    "ExecuteTime": {
     "end_time": "2019-04-09T09:13:35.451329Z",
     "start_time": "2019-04-09T09:13:35.447392Z"
    }
   },
   "outputs": [],
   "source": [
    "change_name2('Bob')"
   ]
  },
  {
   "cell_type": "code",
   "execution_count": 20,
   "metadata": {
    "ExecuteTime": {
     "end_time": "2019-04-09T09:13:52.729085Z",
     "start_time": "2019-04-09T09:13:52.725002Z"
    }
   },
   "outputs": [
    {
     "name": "stdout",
     "output_type": "stream",
     "text": [
      "My name is Bob, I'm 18 years old\n"
     ]
    }
   ],
   "source": [
    "print_info()  # 这里就改名成功了"
   ]
  },
  {
   "cell_type": "markdown",
   "metadata": {},
   "source": [
    "### 语句"
   ]
  },
  {
   "cell_type": "markdown",
   "metadata": {},
   "source": [
    "#### 条件"
   ]
  },
  {
   "cell_type": "code",
   "execution_count": 29,
   "metadata": {
    "ExecuteTime": {
     "end_time": "2019-04-09T09:18:11.792579Z",
     "start_time": "2019-04-09T09:18:11.788120Z"
    }
   },
   "outputs": [],
   "source": [
    "def is_tom(name):\n",
    "    if name.lower() == 'tom':\n",
    "        print('Yes, it\\'s Tom')\n",
    "    else:\n",
    "        print('Wrong person. It\\'s {}.'.format(name))"
   ]
  },
  {
   "cell_type": "code",
   "execution_count": 30,
   "metadata": {
    "ExecuteTime": {
     "end_time": "2019-04-09T09:18:11.983708Z",
     "start_time": "2019-04-09T09:18:11.979043Z"
    }
   },
   "outputs": [
    {
     "name": "stdout",
     "output_type": "stream",
     "text": [
      "Wrong person. It's Bob.\n"
     ]
    }
   ],
   "source": [
    "is_tom(name)"
   ]
  },
  {
   "cell_type": "markdown",
   "metadata": {},
   "source": [
    "#### 循环"
   ]
  },
  {
   "cell_type": "code",
   "execution_count": 31,
   "metadata": {
    "ExecuteTime": {
     "end_time": "2019-04-09T09:18:53.718133Z",
     "start_time": "2019-04-09T09:18:53.712892Z"
    }
   },
   "outputs": [
    {
     "name": "stdout",
     "output_type": "stream",
     "text": [
      "a\n",
      "p\n",
      "p\n",
      "l\n",
      "e\n"
     ]
    }
   ],
   "source": [
    "# for\n",
    "for i in 'apple':\n",
    "    print(i)"
   ]
  },
  {
   "cell_type": "code",
   "execution_count": 33,
   "metadata": {
    "ExecuteTime": {
     "end_time": "2019-04-09T09:19:51.032384Z",
     "start_time": "2019-04-09T09:19:51.027518Z"
    }
   },
   "outputs": [
    {
     "name": "stdout",
     "output_type": "stream",
     "text": [
      "0\n",
      "1\n",
      "2\n",
      "3\n",
      "4\n"
     ]
    }
   ],
   "source": [
    "# while\n",
    "i = 0\n",
    "while i < 5:\n",
    "    print(i)\n",
    "    i += 1  #  这很重要，不要忘记了"
   ]
  },
  {
   "cell_type": "markdown",
   "metadata": {},
   "source": [
    "#### 分支"
   ]
  },
  {
   "cell_type": "markdown",
   "metadata": {},
   "source": [
    "Python 中没有 `switch` 语句，分支可以使用自建字典数据结构实现。\n",
    "TODO：字典实现 Python 分支语句。 "
   ]
  },
  {
   "cell_type": "markdown",
   "metadata": {},
   "source": [
    "### 基本输入输出"
   ]
  },
  {
   "cell_type": "code",
   "execution_count": 35,
   "metadata": {
    "ExecuteTime": {
     "end_time": "2019-04-09T09:22:04.153954Z",
     "start_time": "2019-04-09T09:21:58.988315Z"
    }
   },
   "outputs": [
    {
     "name": "stdout",
     "output_type": "stream",
     "text": [
      "Input your name: world\n"
     ]
    }
   ],
   "source": [
    "name = input('Input your name: ')"
   ]
  },
  {
   "cell_type": "code",
   "execution_count": 36,
   "metadata": {
    "ExecuteTime": {
     "end_time": "2019-04-09T09:24:15.706445Z",
     "start_time": "2019-04-09T09:24:15.701592Z"
    }
   },
   "outputs": [
    {
     "name": "stdout",
     "output_type": "stream",
     "text": [
      "Hello world!\n"
     ]
    }
   ],
   "source": [
    "print('Hello {}!'.format(name))"
   ]
  },
  {
   "cell_type": "markdown",
   "metadata": {},
   "source": [
    "## 内建数据结构"
   ]
  },
  {
   "cell_type": "markdown",
   "metadata": {},
   "source": [
    "### 数字"
   ]
  },
  {
   "cell_type": "markdown",
   "metadata": {},
   "source": [
    "#### 整数"
   ]
  },
  {
   "cell_type": "code",
   "execution_count": 40,
   "metadata": {
    "ExecuteTime": {
     "end_time": "2019-04-09T09:35:04.956122Z",
     "start_time": "2019-04-09T09:35:04.948261Z"
    }
   },
   "outputs": [
    {
     "name": "stdout",
     "output_type": "stream",
     "text": [
      "123456\n",
      "0b11110001001000000\n",
      "0o361100\n",
      "0x1e240\n"
     ]
    }
   ],
   "source": [
    "interger = 123456             # 十进制\n",
    "bin_int = bin(interger)       # 二进制\n",
    "oct_int = oct(interger)       # 八进制\n",
    "hex_int = hex(interger)       # 十六进制\n",
    "\n",
    "print(interger, bin_int, oct_int, hex_int, sep='\\n')"
   ]
  },
  {
   "cell_type": "code",
   "execution_count": 46,
   "metadata": {
    "ExecuteTime": {
     "end_time": "2019-04-09T09:37:19.829746Z",
     "start_time": "2019-04-09T09:37:19.823449Z"
    }
   },
   "outputs": [
    {
     "name": "stdout",
     "output_type": "stream",
     "text": [
      "97 a\n"
     ]
    }
   ],
   "source": [
    "# 字符和整数映射\n",
    "interger = ord('a')\n",
    "charachter = chr(97)\n",
    "\n",
    "print(interger, charachter)"
   ]
  },
  {
   "cell_type": "markdown",
   "metadata": {},
   "source": [
    "Python 没有无符号右移操作符 `>>>`，需要自己实现："
   ]
  },
  {
   "cell_type": "code",
   "execution_count": 61,
   "metadata": {
    "ExecuteTime": {
     "end_time": "2019-04-09T12:59:54.779607Z",
     "start_time": "2019-04-09T12:59:54.773165Z"
    }
   },
   "outputs": [
    {
     "name": "stdout",
     "output_type": "stream",
     "text": [
      "4095\n"
     ]
    }
   ],
   "source": [
    "import ctypes\n",
    "def unsigned_right_shitf(n,i):\n",
    "    # 数字小于0，则转为32位无符号uint\n",
    "    if n < 0:\n",
    "        n = ctypes.c_uint32(n).value\n",
    "    # 正常位移位数是为正数，但是为了兼容js之类的，负数就右移变成左移好了\n",
    "    if i < 0:\n",
    "        return -int_overflow(n << abs(i))\n",
    "    #print(n)\n",
    "    return int_overflow(n >> i)\n",
    "\n",
    "ret = unsigned_right_shitf(-1,20)\n",
    "print(ret)"
   ]
  },
  {
   "cell_type": "code",
   "execution_count": 54,
   "metadata": {
    "ExecuteTime": {
     "end_time": "2019-04-09T12:50:35.331428Z",
     "start_time": "2019-04-09T12:50:35.325704Z"
    }
   },
   "outputs": [
    {
     "name": "stdout",
     "output_type": "stream",
     "text": [
      "0\n",
      "1\n",
      "1\n",
      "-2\n",
      "2\n",
      "0\n"
     ]
    }
   ],
   "source": [
    "# 位运算\n",
    "and_op = 1 & 0\n",
    "or_op = 1 | 0\n",
    "xor_op = 1 ^ 0\n",
    "not_op = ~1\n",
    "left_shift = 1 << 1\n",
    "right_shift = 1 >> 1\n",
    "\n",
    "print(and_op, or_op, xor_op, not_op, left_shift, right_shift, sep='\\n')"
   ]
  },
  {
   "cell_type": "code",
   "execution_count": 58,
   "metadata": {
    "ExecuteTime": {
     "end_time": "2019-04-09T12:56:04.318155Z",
     "start_time": "2019-04-09T12:56:04.312326Z"
    }
   },
   "outputs": [],
   "source": [
    "def int_overflow(val):\n",
    "    maxint = 2147483647\n",
    "    if not -maxint-1 <= val <= maxint:\n",
    "        val = (val + (maxint + 1)) % (2 * (maxint + 1)) - maxint - 1\n",
    "    return val"
   ]
  },
  {
   "cell_type": "code",
   "execution_count": 60,
   "metadata": {
    "ExecuteTime": {
     "end_time": "2019-04-09T12:56:19.739710Z",
     "start_time": "2019-04-09T12:56:19.732544Z"
    }
   },
   "outputs": [
    {
     "data": {
      "text/plain": [
       "-763916744"
      ]
     },
     "execution_count": 60,
     "metadata": {},
     "output_type": "execute_result"
    }
   ],
   "source": [
    "int_overflow(32768888888888888888)"
   ]
  },
  {
   "cell_type": "markdown",
   "metadata": {},
   "source": [
    "#### 浮点数"
   ]
  },
  {
   "cell_type": "code",
   "execution_count": 56,
   "metadata": {
    "ExecuteTime": {
     "end_time": "2019-04-09T12:51:39.240578Z",
     "start_time": "2019-04-09T12:51:39.236537Z"
    }
   },
   "outputs": [],
   "source": [
    "import math\n",
    "float_num = 3.14\n",
    "pi = math.pi"
   ]
  },
  {
   "cell_type": "code",
   "execution_count": 57,
   "metadata": {
    "ExecuteTime": {
     "end_time": "2019-04-09T12:51:41.524099Z",
     "start_time": "2019-04-09T12:51:41.519100Z"
    }
   },
   "outputs": [
    {
     "data": {
      "text/plain": [
       "3.141592653589793"
      ]
     },
     "execution_count": 57,
     "metadata": {},
     "output_type": "execute_result"
    }
   ],
   "source": [
    "pi"
   ]
  },
  {
   "cell_type": "markdown",
   "metadata": {},
   "source": [
    "#### 复数"
   ]
  },
  {
   "cell_type": "code",
   "execution_count": 63,
   "metadata": {
    "ExecuteTime": {
     "end_time": "2019-04-09T13:06:52.294172Z",
     "start_time": "2019-04-09T13:06:52.291588Z"
    },
    "collapsed": true
   },
   "outputs": [],
   "source": [
    "complex_num = 3 + 4j"
   ]
  },
  {
   "cell_type": "code",
   "execution_count": 64,
   "metadata": {
    "ExecuteTime": {
     "end_time": "2019-04-09T13:07:00.921029Z",
     "start_time": "2019-04-09T13:07:00.915875Z"
    }
   },
   "outputs": [
    {
     "name": "stdout",
     "output_type": "stream",
     "text": [
      "(3+4j)\n"
     ]
    }
   ],
   "source": [
    "print(complex_num)"
   ]
  },
  {
   "cell_type": "markdown",
   "metadata": {},
   "source": [
    "### 字符串"
   ]
  },
  {
   "cell_type": "markdown",
   "metadata": {},
   "source": [
    "#### 构建字符串"
   ]
  },
  {
   "cell_type": "code",
   "execution_count": 125,
   "metadata": {
    "ExecuteTime": {
     "end_time": "2019-04-10T03:31:16.673887Z",
     "start_time": "2019-04-10T03:31:16.668558Z"
    }
   },
   "outputs": [
    {
     "name": "stdout",
     "output_type": "stream",
     "text": [
      "example 7 140464207453632 140464207453632\n"
     ]
    }
   ],
   "source": [
    "s = 'example'\n",
    "print(s, len(s), id(s), id('example'))"
   ]
  },
  {
   "cell_type": "markdown",
   "metadata": {},
   "source": [
    "#### 修改"
   ]
  },
  {
   "cell_type": "code",
   "execution_count": 146,
   "metadata": {
    "ExecuteTime": {
     "end_time": "2019-04-10T03:33:49.326436Z",
     "start_time": "2019-04-10T03:33:49.318614Z"
    }
   },
   "outputs": [
    {
     "name": "stdout",
     "output_type": "stream",
     "text": [
      "FISH IN THE POOL\n",
      "fish in the pool\n",
      "Fish In The Pool\n",
      "loop eht ni hsif\n",
      "cat in the pool\n",
      "fISH iN tHE pOOL\n"
     ]
    }
   ],
   "source": [
    "sentence = 'fish in the pool'\n",
    "upper = sentence.upper()\n",
    "lower = sentence.lower()\n",
    "title = sentence.title()\n",
    "reverse = sentence[::-1]\n",
    "replace = sentence.replace('fish', 'cat')\n",
    "swapcase = sentence.title().swapcase()\n",
    "\n",
    "print(upper, lower, title, reverse, replace, swapcase, sep='\\n')"
   ]
  },
  {
   "cell_type": "markdown",
   "metadata": {},
   "source": [
    "#### 查找与计数"
   ]
  },
  {
   "cell_type": "code",
   "execution_count": 127,
   "metadata": {
    "ExecuteTime": {
     "end_time": "2019-04-10T03:31:17.199797Z",
     "start_time": "2019-04-10T03:31:17.192578Z"
    }
   },
   "outputs": [
    {
     "name": "stdout",
     "output_type": "stream",
     "text": [
      "12 12 pool\n"
     ]
    }
   ],
   "source": [
    "loc_pool = sentence.find('pool')\n",
    "index_pool = sentence.index('pool')\n",
    "pool = sentence[loc_pool: loc_pool + len('pool')]\n",
    "print(loc_pool, index_pool, pool)"
   ]
  },
  {
   "cell_type": "code",
   "execution_count": 128,
   "metadata": {
    "ExecuteTime": {
     "end_time": "2019-04-10T03:31:17.318066Z",
     "start_time": "2019-04-10T03:31:17.312517Z"
    }
   },
   "outputs": [
    {
     "data": {
      "text/plain": [
       "2"
      ]
     },
     "execution_count": 128,
     "metadata": {},
     "output_type": "execute_result"
    }
   ],
   "source": [
    "sentence.count('i')"
   ]
  },
  {
   "cell_type": "code",
   "execution_count": 129,
   "metadata": {
    "ExecuteTime": {
     "end_time": "2019-04-10T03:31:17.444203Z",
     "start_time": "2019-04-10T03:31:17.439177Z"
    }
   },
   "outputs": [
    {
     "data": {
      "text/plain": [
       "True"
      ]
     },
     "execution_count": 129,
     "metadata": {},
     "output_type": "execute_result"
    }
   ],
   "source": [
    "'fish' in sentence"
   ]
  },
  {
   "cell_type": "code",
   "execution_count": 130,
   "metadata": {
    "ExecuteTime": {
     "end_time": "2019-04-10T03:31:17.525470Z",
     "start_time": "2019-04-10T03:31:17.518531Z"
    }
   },
   "outputs": [
    {
     "data": {
      "text/plain": [
       "True"
      ]
     },
     "execution_count": 130,
     "metadata": {},
     "output_type": "execute_result"
    }
   ],
   "source": [
    "'cat' not in sentence"
   ]
  },
  {
   "cell_type": "markdown",
   "metadata": {},
   "source": [
    "#### 类型判断"
   ]
  },
  {
   "cell_type": "code",
   "execution_count": 131,
   "metadata": {
    "ExecuteTime": {
     "end_time": "2019-04-10T03:31:17.760183Z",
     "start_time": "2019-04-10T03:31:17.754543Z"
    }
   },
   "outputs": [
    {
     "name": "stdout",
     "output_type": "stream",
     "text": [
      "True\n",
      "True\n",
      "True\n",
      "False\n",
      "True\n"
     ]
    }
   ],
   "source": [
    "print('1'.isdecimal())\n",
    "print('apple'.isalpha())\n",
    "print('python3'.isalnum())\n",
    "print('0.1'.isdigit())\n",
    "print('_valid'.isidentifier())"
   ]
  },
  {
   "cell_type": "markdown",
   "metadata": {
    "ExecuteTime": {
     "end_time": "2019-04-10T03:22:22.765356Z",
     "start_time": "2019-04-10T03:22:22.762985Z"
    }
   },
   "source": [
    "#### 编码与比较"
   ]
  },
  {
   "cell_type": "code",
   "execution_count": 132,
   "metadata": {
    "ExecuteTime": {
     "end_time": "2019-04-10T03:31:18.004858Z",
     "start_time": "2019-04-10T03:31:18.000280Z"
    }
   },
   "outputs": [
    {
     "data": {
      "text/plain": [
       "b'fish in the pool'"
      ]
     },
     "execution_count": 132,
     "metadata": {},
     "output_type": "execute_result"
    }
   ],
   "source": [
    "sentence.encode()"
   ]
  },
  {
   "cell_type": "code",
   "execution_count": 133,
   "metadata": {
    "ExecuteTime": {
     "end_time": "2019-04-10T03:31:18.115881Z",
     "start_time": "2019-04-10T03:31:18.111694Z"
    }
   },
   "outputs": [
    {
     "data": {
      "text/plain": [
       "True"
      ]
     },
     "execution_count": 133,
     "metadata": {},
     "output_type": "execute_result"
    }
   ],
   "source": [
    "'fish' > 'cat'"
   ]
  },
  {
   "cell_type": "code",
   "execution_count": 134,
   "metadata": {
    "ExecuteTime": {
     "end_time": "2019-04-10T03:31:18.222071Z",
     "start_time": "2019-04-10T03:31:18.218203Z"
    }
   },
   "outputs": [
    {
     "name": "stdout",
     "output_type": "stream",
     "text": [
      "apple\n"
     ]
    }
   ],
   "source": [
    "assert 'apple'.casefold() == 'APPLE'.casefold()\n",
    "print('APPLE'.casefold())"
   ]
  },
  {
   "cell_type": "markdown",
   "metadata": {},
   "source": [
    "#### 切片与合并"
   ]
  },
  {
   "cell_type": "code",
   "execution_count": 135,
   "metadata": {
    "ExecuteTime": {
     "end_time": "2019-04-10T03:31:18.497658Z",
     "start_time": "2019-04-10T03:31:18.492233Z"
    }
   },
   "outputs": [
    {
     "name": "stdout",
     "output_type": "stream",
     "text": [
      "fish in the pool\n",
      "['fish', 'in', 'the', 'pool']\n",
      "fish\tin\tthe\tpool\n"
     ]
    }
   ],
   "source": [
    "words = sentence.split(' ')\n",
    "print(sentence)\n",
    "print(words)\n",
    "print('\\t'.join(words))"
   ]
  },
  {
   "cell_type": "code",
   "execution_count": 136,
   "metadata": {
    "ExecuteTime": {
     "end_time": "2019-04-10T03:31:18.636667Z",
     "start_time": "2019-04-10T03:31:18.631856Z"
    }
   },
   "outputs": [
    {
     "data": {
      "text/plain": [
       "('fish ', 'in', ' in the pool')"
      ]
     },
     "execution_count": 136,
     "metadata": {},
     "output_type": "execute_result"
    }
   ],
   "source": [
    "'fish in in the pool'.partition('in')"
   ]
  },
  {
   "cell_type": "code",
   "execution_count": 137,
   "metadata": {
    "ExecuteTime": {
     "end_time": "2019-04-10T03:31:18.808713Z",
     "start_time": "2019-04-10T03:31:18.801435Z"
    },
    "scrolled": true
   },
   "outputs": [
    {
     "data": {
      "text/plain": [
       "('fish in ', 'in', ' the pool')"
      ]
     },
     "execution_count": 137,
     "metadata": {},
     "output_type": "execute_result"
    }
   ],
   "source": [
    "'fish in in the pool'.rpartition('in')"
   ]
  },
  {
   "cell_type": "code",
   "execution_count": 138,
   "metadata": {
    "ExecuteTime": {
     "end_time": "2019-04-10T03:31:18.980881Z",
     "start_time": "2019-04-10T03:31:18.977021Z"
    }
   },
   "outputs": [
    {
     "name": "stdout",
     "output_type": "stream",
     "text": [
      "['Fish In The Pool', 'Let me hear the sound', 'of your heart beats', 'on my toes']\n"
     ]
    }
   ],
   "source": [
    "sentences = '''Fish In The Pool\n",
    "Let me hear the sound\n",
    "of your heart beats\n",
    "on my toes\n",
    "'''\n",
    "\n",
    "lines = sentences.splitlines()\n",
    "print(lines)"
   ]
  },
  {
   "cell_type": "markdown",
   "metadata": {},
   "source": [
    "#### 填充与格式化"
   ]
  },
  {
   "cell_type": "code",
   "execution_count": 139,
   "metadata": {
    "ExecuteTime": {
     "end_time": "2019-04-10T03:31:19.285450Z",
     "start_time": "2019-04-10T03:31:19.274566Z"
    }
   },
   "outputs": [
    {
     "name": "stdout",
     "output_type": "stream",
     "text": [
      "            Fish In The Pool            \n",
      "         let me hear the sound          \n",
      "           of your heart beat           \n",
      "               on my toes               \n",
      "\n",
      "Fish In The Pool                        \n",
      "let me hear the sound                   \n",
      "of your heart beat                      \n",
      "on my toes                              \n",
      "\n",
      "                        Fish In The Pool\n",
      "                   let me hear the sound\n",
      "                      of your heart beat\n",
      "                              on my toes\n",
      "\n"
     ]
    }
   ],
   "source": [
    "lyric1 = 'let me hear the sound'\n",
    "lyric2 = 'of your heart beat'\n",
    "lyric3 = 'on my toes'\n",
    "\n",
    "print(sentence.title().center(40), \n",
    "      lyric1.center(40), \n",
    "      lyric2.center(40), \n",
    "      lyric3.center(40), sep='\\n', end='\\n\\n')\n",
    "\n",
    "print(sentence.title().ljust(40), \n",
    "      lyric1.ljust(40), \n",
    "      lyric2.ljust(40), \n",
    "      lyric3.ljust(40), sep='\\n', end='\\n\\n')\n",
    "\n",
    "print(sentence.title().rjust(40), \n",
    "      lyric1.rjust(40), \n",
    "      lyric2.rjust(40), \n",
    "      lyric3.rjust(40), sep='\\n', end='\\n\\n')"
   ]
  },
  {
   "cell_type": "code",
   "execution_count": 140,
   "metadata": {
    "ExecuteTime": {
     "end_time": "2019-04-10T03:31:19.432322Z",
     "start_time": "2019-04-10T03:31:19.425494Z"
    }
   },
   "outputs": [
    {
     "data": {
      "text/plain": [
       "'0000000123'"
      ]
     },
     "execution_count": 140,
     "metadata": {},
     "output_type": "execute_result"
    }
   ],
   "source": [
    "'123'.zfill(10)"
   ]
  },
  {
   "cell_type": "code",
   "execution_count": 141,
   "metadata": {
    "ExecuteTime": {
     "end_time": "2019-04-10T03:31:19.867234Z",
     "start_time": "2019-04-10T03:31:19.861378Z"
    }
   },
   "outputs": [
    {
     "name": "stdout",
     "output_type": "stream",
     "text": [
      "a\tp\tp\tl\te\n",
      "a       p       p       l       e\n",
      "a   p   p   l   e\n"
     ]
    }
   ],
   "source": [
    "origin = 'a\\tp\\tp\\tl\\te'\n",
    "\n",
    "print(origin, origin.expandtabs(), origin.expandtabs(4), sep='\\n')"
   ]
  },
  {
   "cell_type": "code",
   "execution_count": 142,
   "metadata": {
    "ExecuteTime": {
     "end_time": "2019-04-10T03:31:20.054502Z",
     "start_time": "2019-04-10T03:31:20.047595Z"
    }
   },
   "outputs": [
    {
     "data": {
      "text/plain": [
       "'small fish in the pool'"
      ]
     },
     "execution_count": 142,
     "metadata": {},
     "output_type": "execute_result"
    }
   ],
   "source": [
    "'{fish} in the pool'.format_map({'fish':'small fish'})"
   ]
  },
  {
   "cell_type": "markdown",
   "metadata": {
    "ExecuteTime": {
     "end_time": "2019-04-10T03:24:38.227167Z",
     "start_time": "2019-04-10T03:24:38.224752Z"
    }
   },
   "source": [
    "#### 映射"
   ]
  },
  {
   "cell_type": "code",
   "execution_count": 143,
   "metadata": {
    "ExecuteTime": {
     "end_time": "2019-04-10T03:31:20.380349Z",
     "start_time": "2019-04-10T03:31:20.370609Z"
    }
   },
   "outputs": [
    {
     "name": "stdout",
     "output_type": "stream",
     "text": [
      "['a', 'b', 'c', 'd', 'e', 'f', 'g', 'h', 'i', 'j', 'k', 'l', 'm', 'n', 'o', 'p', 'q', 'r', 's', 't', 'u', 'v', 'w', 'x', 'y', 'z']\n"
     ]
    },
    {
     "data": {
      "text/plain": [
       "'ilvk lq wkh srro'"
      ]
     },
     "execution_count": 143,
     "metadata": {},
     "output_type": "execute_result"
    }
   ],
   "source": [
    "lower_case = [chr(ord('a') + i) for i in range(26)]\n",
    "print(lower_case)\n",
    "\n",
    "translator = str.maketrans(dict(zip(lower_case, lower_case[3:] + lower_case[:3])))\n",
    "sentence.translate(translator)"
   ]
  },
  {
   "cell_type": "markdown",
   "metadata": {},
   "source": [
    "### 列表"
   ]
  },
  {
   "cell_type": "markdown",
   "metadata": {},
   "source": [
    "#### 定义列表"
   ]
  },
  {
   "cell_type": "code",
   "execution_count": 1,
   "metadata": {
    "ExecuteTime": {
     "end_time": "2019-04-10T06:53:46.313040Z",
     "start_time": "2019-04-10T06:53:46.308625Z"
    }
   },
   "outputs": [],
   "source": [
    "li = [1, 2, 3, 4, 5]"
   ]
  },
  {
   "cell_type": "markdown",
   "metadata": {},
   "source": [
    "#### 切片"
   ]
  },
  {
   "cell_type": "code",
   "execution_count": 85,
   "metadata": {
    "ExecuteTime": {
     "end_time": "2019-04-10T07:43:22.926493Z",
     "start_time": "2019-04-10T07:43:22.915739Z"
    }
   },
   "outputs": [
    {
     "name": "stdout",
     "output_type": "stream",
     "text": [
      "[2, 3, 4, 5, 6, 7]\n",
      "[2, 3]\n",
      "[4, 5, 6]\n",
      "[8, 7, 6, 5, 4, 3, 2, 1]\n",
      "[1, 2, 3, 4, 5, 6, 7, 8]\n",
      "[2, 3, 4, 5, 6, 7, 8, 1]\n",
      "[3, 4, 5, 6, 7, 8, 1, 2]\n",
      "[4, 5, 6, 7, 8, 1, 2, 3]\n",
      "[5, 6, 7, 8, 1, 2, 3, 4]\n",
      "[6, 7, 8, 1, 2, 3, 4, 5]\n",
      "[7, 8, 1, 2, 3, 4, 5, 6]\n",
      "[8, 1, 2, 3, 4, 5, 6, 7]\n",
      "[1, 2, 3, 4, 5, 6, 7, 8]\n"
     ]
    }
   ],
   "source": [
    "print(li[1:-1])\n",
    "print(li[1:3])\n",
    "print(li[3:6])  # 注意这里不会产生异常\n",
    "print(li[::-1])  # 翻转\n",
    "\n",
    "def rotate(li, i):\n",
    "    if 0 <= i <= len(li):\n",
    "        return li[i:] + li[:i]\n",
    "    else:\n",
    "        return li\n",
    "        \n",
    "for i in range(len(li) + 1):\n",
    "    print(rotate(li, i))"
   ]
  },
  {
   "cell_type": "markdown",
   "metadata": {},
   "source": [
    "#### 列表解析"
   ]
  },
  {
   "cell_type": "code",
   "execution_count": 2,
   "metadata": {
    "ExecuteTime": {
     "end_time": "2019-04-10T07:27:38.735002Z",
     "start_time": "2019-04-10T07:27:38.729045Z"
    }
   },
   "outputs": [
    {
     "name": "stdout",
     "output_type": "stream",
     "text": [
      "[1, 2, 3, 4, 5]\n"
     ]
    }
   ],
   "source": [
    "li = [x for x in range(1, 6)]\n",
    "print(li)"
   ]
  },
  {
   "cell_type": "code",
   "execution_count": 3,
   "metadata": {
    "ExecuteTime": {
     "end_time": "2019-04-10T07:27:39.030360Z",
     "start_time": "2019-04-10T07:27:39.026514Z"
    }
   },
   "outputs": [],
   "source": [
    "gi = (x for x in range(1, 6))  # 生成器"
   ]
  },
  {
   "cell_type": "code",
   "execution_count": 4,
   "metadata": {
    "ExecuteTime": {
     "end_time": "2019-04-10T07:27:39.401139Z",
     "start_time": "2019-04-10T07:27:39.394364Z"
    }
   },
   "outputs": [
    {
     "name": "stdout",
     "output_type": "stream",
     "text": [
      "[1, 4, 9, 16, 25]\n"
     ]
    }
   ],
   "source": [
    "print(list(map(lambda x: x * x, gi)))"
   ]
  },
  {
   "cell_type": "markdown",
   "metadata": {},
   "source": [
    "#### 方法"
   ]
  },
  {
   "cell_type": "code",
   "execution_count": 5,
   "metadata": {
    "ExecuteTime": {
     "end_time": "2019-04-10T07:27:40.394365Z",
     "start_time": "2019-04-10T07:27:40.390212Z"
    }
   },
   "outputs": [
    {
     "name": "stdout",
     "output_type": "stream",
     "text": [
      "[1, 2, 3, 4, 5]\n",
      "[1, 2, 3, 4, 5, 6]\n"
     ]
    }
   ],
   "source": [
    "print(li)\n",
    "li.append(6)\n",
    "print(li)"
   ]
  },
  {
   "cell_type": "code",
   "execution_count": 6,
   "metadata": {
    "ExecuteTime": {
     "end_time": "2019-04-10T07:27:41.027292Z",
     "start_time": "2019-04-10T07:27:41.016656Z"
    }
   },
   "outputs": [
    {
     "name": "stdout",
     "output_type": "stream",
     "text": [
      "140260250852360 140260250852744\n",
      "[1, 2, 3, [4, 5], 1, 2, 3, [4, 5]] [1, 2, 3, [4, 5]]\n",
      "[9, 1, 2, 3, [4, 5], 1, 2, 3, [4, 5]] [1, 2, 3, [4, 5]]\n",
      "[9, 1, 2, 3, [4, 5], 1, 2, 3] [1, 2, 3, [4, 5]]\n",
      "[1, 2, 3, [4, 5], 1, 2, 3] [1, 2, 3, [4, 5]]\n",
      "[] [1, 2, 3, [4, 5]]\n"
     ]
    }
   ],
   "source": [
    "li = [1, 2, 3, [4, 5]]\n",
    "new_li = li.copy()\n",
    "print(id(new_li), id(li))\n",
    "new_li.extend(li)\n",
    "print(new_li, li)\n",
    "new_li.insert(0, 9)\n",
    "print(new_li, li)\n",
    "new_li.pop()\n",
    "print(new_li, li)\n",
    "new_li.pop(0)\n",
    "print(new_li, li)\n",
    "new_li.clear()\n",
    "print(new_li, li)"
   ]
  },
  {
   "cell_type": "code",
   "execution_count": 60,
   "metadata": {
    "ExecuteTime": {
     "end_time": "2019-04-10T07:37:37.734525Z",
     "start_time": "2019-04-10T07:37:37.729444Z"
    }
   },
   "outputs": [
    {
     "data": {
      "text/plain": [
       "0"
      ]
     },
     "execution_count": 60,
     "metadata": {},
     "output_type": "execute_result"
    }
   ],
   "source": [
    "li.count([4, 5])"
   ]
  },
  {
   "cell_type": "code",
   "execution_count": 61,
   "metadata": {
    "ExecuteTime": {
     "end_time": "2019-04-10T07:37:38.293736Z",
     "start_time": "2019-04-10T07:37:38.287437Z"
    }
   },
   "outputs": [
    {
     "name": "stdout",
     "output_type": "stream",
     "text": [
      "[1, 2, 3, [4, 5, [6, 7, 8]]]\n"
     ]
    }
   ],
   "source": [
    "li = [1, 2, 3, [4, 5, [6, 7, 8]]]\n",
    "print(li)"
   ]
  },
  {
   "cell_type": "code",
   "execution_count": 73,
   "metadata": {
    "ExecuteTime": {
     "end_time": "2019-04-10T07:38:53.614300Z",
     "start_time": "2019-04-10T07:38:53.606635Z"
    }
   },
   "outputs": [],
   "source": [
    "def flat(li):\n",
    "    res = []\n",
    "    for each in li:\n",
    "        if isinstance(each, list):\n",
    "            res.extend(flat(each))\n",
    "        else:\n",
    "            res.append(each)\n",
    "    return res"
   ]
  },
  {
   "cell_type": "code",
   "execution_count": 76,
   "metadata": {
    "ExecuteTime": {
     "end_time": "2019-04-10T07:40:03.413192Z",
     "start_time": "2019-04-10T07:40:03.408729Z"
    }
   },
   "outputs": [],
   "source": [
    "li = extend(li)"
   ]
  },
  {
   "cell_type": "code",
   "execution_count": 77,
   "metadata": {
    "ExecuteTime": {
     "end_time": "2019-04-10T07:40:03.581097Z",
     "start_time": "2019-04-10T07:40:03.574103Z"
    }
   },
   "outputs": [
    {
     "name": "stdout",
     "output_type": "stream",
     "text": [
      "[1, 2, 3, 4, 5, 6, 7, 8]\n",
      "[8, 7, 6, 5, 4, 3, 2, 1]\n",
      "[1, 2, 3, 4, 5, 6, 7, 8]\n"
     ]
    }
   ],
   "source": [
    "print(li)\n",
    "li.reverse()\n",
    "print(li)\n",
    "li.sort()\n",
    "print(li)"
   ]
  },
  {
   "cell_type": "markdown",
   "metadata": {},
   "source": [
    "### 元组"
   ]
  },
  {
   "cell_type": "markdown",
   "metadata": {},
   "source": [
    "#### 定义元组"
   ]
  },
  {
   "cell_type": "code",
   "execution_count": 80,
   "metadata": {
    "ExecuteTime": {
     "end_time": "2019-04-10T07:41:46.985097Z",
     "start_time": "2019-04-10T07:41:46.982198Z"
    }
   },
   "outputs": [],
   "source": [
    "t = 1,"
   ]
  },
  {
   "cell_type": "code",
   "execution_count": 81,
   "metadata": {
    "ExecuteTime": {
     "end_time": "2019-04-10T07:41:50.535664Z",
     "start_time": "2019-04-10T07:41:50.530753Z"
    }
   },
   "outputs": [
    {
     "data": {
      "text/plain": [
       "tuple"
      ]
     },
     "execution_count": 81,
     "metadata": {},
     "output_type": "execute_result"
    }
   ],
   "source": [
    "type(t)"
   ]
  },
  {
   "cell_type": "markdown",
   "metadata": {},
   "source": [
    "元组是不可变类型："
   ]
  },
  {
   "cell_type": "code",
   "execution_count": 83,
   "metadata": {
    "ExecuteTime": {
     "end_time": "2019-04-10T07:42:30.855094Z",
     "start_time": "2019-04-10T07:42:30.841835Z"
    }
   },
   "outputs": [
    {
     "name": "stdout",
     "output_type": "stream",
     "text": [
      "1\n"
     ]
    },
    {
     "ename": "TypeError",
     "evalue": "'tuple' object does not support item assignment",
     "output_type": "error",
     "traceback": [
      "\u001b[0;31m---------------------------------------------------------------------------\u001b[0m",
      "\u001b[0;31mTypeError\u001b[0m                                 Traceback (most recent call last)",
      "\u001b[0;32m<ipython-input-83-3f3203a685a5>\u001b[0m in \u001b[0;36m<module>\u001b[0;34m\u001b[0m\n\u001b[1;32m      1\u001b[0m \u001b[0mprint\u001b[0m\u001b[0;34m(\u001b[0m\u001b[0mt\u001b[0m\u001b[0;34m[\u001b[0m\u001b[0;36m0\u001b[0m\u001b[0;34m]\u001b[0m\u001b[0;34m)\u001b[0m\u001b[0;34m\u001b[0m\u001b[0m\n\u001b[0;32m----> 2\u001b[0;31m \u001b[0mt\u001b[0m\u001b[0;34m[\u001b[0m\u001b[0;36m0\u001b[0m\u001b[0;34m]\u001b[0m \u001b[0;34m=\u001b[0m \u001b[0;36m2\u001b[0m\u001b[0;34m\u001b[0m\u001b[0m\n\u001b[0m",
      "\u001b[0;31mTypeError\u001b[0m: 'tuple' object does not support item assignment"
     ]
    }
   ],
   "source": [
    "print(t[0])\n",
    "t[0] = 2"
   ]
  },
  {
   "cell_type": "markdown",
   "metadata": {},
   "source": [
    "#### 切片"
   ]
  },
  {
   "cell_type": "code",
   "execution_count": 84,
   "metadata": {
    "ExecuteTime": {
     "end_time": "2019-04-10T07:42:52.922976Z",
     "start_time": "2019-04-10T07:42:52.919568Z"
    }
   },
   "outputs": [],
   "source": [
    "t = 1, 2, 3, 4, 5"
   ]
  },
  {
   "cell_type": "code",
   "execution_count": 86,
   "metadata": {
    "ExecuteTime": {
     "end_time": "2019-04-10T07:43:54.986592Z",
     "start_time": "2019-04-10T07:43:54.974844Z"
    }
   },
   "outputs": [
    {
     "name": "stdout",
     "output_type": "stream",
     "text": [
      "(2, 3, 4)\n",
      "(2, 3)\n",
      "(4, 5)\n",
      "(5, 4, 3, 2, 1)\n",
      "(1, 2, 3, 4, 5)\n",
      "(2, 3, 4, 5, 1)\n",
      "(3, 4, 5, 1, 2)\n",
      "(4, 5, 1, 2, 3)\n",
      "(5, 1, 2, 3, 4)\n",
      "(1, 2, 3, 4, 5)\n"
     ]
    }
   ],
   "source": [
    "print(t[1:-1])\n",
    "print(t[1:3])\n",
    "print(t[3:6])  # 注意这里不会产生异常\n",
    "print(t[::-1])  # 翻转\n",
    "\n",
    "def rotate(t, i):\n",
    "    if 0 <= i <= len(t):\n",
    "        return t[i:] + t[:i]\n",
    "    else:\n",
    "        return t\n",
    "        \n",
    "for i in range(len(t) + 1):\n",
    "    print(rotate(t, i))"
   ]
  },
  {
   "cell_type": "markdown",
   "metadata": {},
   "source": [
    "#### 生成器"
   ]
  },
  {
   "cell_type": "markdown",
   "metadata": {},
   "source": [
    "元组没有列表解析，使用下列方法将产生生成器："
   ]
  },
  {
   "cell_type": "code",
   "execution_count": 91,
   "metadata": {
    "ExecuteTime": {
     "end_time": "2019-04-10T07:46:25.571565Z",
     "start_time": "2019-04-10T07:46:25.568522Z"
    }
   },
   "outputs": [],
   "source": [
    "t = (x for x in range(10))"
   ]
  },
  {
   "cell_type": "code",
   "execution_count": 93,
   "metadata": {
    "ExecuteTime": {
     "end_time": "2019-04-10T07:46:28.594147Z",
     "start_time": "2019-04-10T07:46:28.587797Z"
    }
   },
   "outputs": [
    {
     "data": {
      "text/plain": [
       "generator"
      ]
     },
     "execution_count": 93,
     "metadata": {},
     "output_type": "execute_result"
    }
   ],
   "source": [
    "type(t)"
   ]
  },
  {
   "cell_type": "markdown",
   "metadata": {},
   "source": [
    "#### 方法"
   ]
  },
  {
   "cell_type": "code",
   "execution_count": 99,
   "metadata": {
    "ExecuteTime": {
     "end_time": "2019-04-10T07:47:45.048546Z",
     "start_time": "2019-04-10T07:47:45.043720Z"
    }
   },
   "outputs": [
    {
     "name": "stdout",
     "output_type": "stream",
     "text": [
      "(1, 2, 3, 4, 5)\n"
     ]
    }
   ],
   "source": [
    "t = tuple([x for x in range(1, 6)])\n",
    "print(t)"
   ]
  },
  {
   "cell_type": "code",
   "execution_count": 100,
   "metadata": {
    "ExecuteTime": {
     "end_time": "2019-04-10T07:47:53.466214Z",
     "start_time": "2019-04-10T07:47:53.459902Z"
    }
   },
   "outputs": [
    {
     "data": {
      "text/plain": [
       "1"
      ]
     },
     "execution_count": 100,
     "metadata": {},
     "output_type": "execute_result"
    }
   ],
   "source": [
    "t.count(5)"
   ]
  },
  {
   "cell_type": "code",
   "execution_count": 101,
   "metadata": {
    "ExecuteTime": {
     "end_time": "2019-04-10T07:47:57.412090Z",
     "start_time": "2019-04-10T07:47:57.405032Z"
    }
   },
   "outputs": [
    {
     "data": {
      "text/plain": [
       "2"
      ]
     },
     "execution_count": 101,
     "metadata": {},
     "output_type": "execute_result"
    }
   ],
   "source": [
    "t.index(3)"
   ]
  },
  {
   "cell_type": "markdown",
   "metadata": {},
   "source": [
    "### 集合"
   ]
  },
  {
   "cell_type": "markdown",
   "metadata": {
    "ExecuteTime": {
     "end_time": "2019-04-10T07:48:54.113058Z",
     "start_time": "2019-04-10T07:48:54.110414Z"
    }
   },
   "source": [
    "#### 定义一个集合"
   ]
  },
  {
   "cell_type": "code",
   "execution_count": 108,
   "metadata": {
    "ExecuteTime": {
     "end_time": "2019-04-10T07:50:10.193843Z",
     "start_time": "2019-04-10T07:50:10.187451Z"
    }
   },
   "outputs": [
    {
     "name": "stdout",
     "output_type": "stream",
     "text": [
      "{1, 2, 3, 4, 5}\n"
     ]
    }
   ],
   "source": [
    "aset = {1, 2, 3, 4, 5}\n",
    "print(aset)"
   ]
  },
  {
   "cell_type": "markdown",
   "metadata": {},
   "source": [
    "集合不能按下标访问："
   ]
  },
  {
   "cell_type": "code",
   "execution_count": 109,
   "metadata": {
    "ExecuteTime": {
     "end_time": "2019-04-10T07:50:35.702259Z",
     "start_time": "2019-04-10T07:50:35.689719Z"
    }
   },
   "outputs": [
    {
     "ename": "TypeError",
     "evalue": "'set' object does not support indexing",
     "output_type": "error",
     "traceback": [
      "\u001b[0;31m---------------------------------------------------------------------------\u001b[0m",
      "\u001b[0;31mTypeError\u001b[0m                                 Traceback (most recent call last)",
      "\u001b[0;32m<ipython-input-109-fb6db41b08f3>\u001b[0m in \u001b[0;36m<module>\u001b[0;34m\u001b[0m\n\u001b[0;32m----> 1\u001b[0;31m \u001b[0maset\u001b[0m\u001b[0;34m[\u001b[0m\u001b[0;36m3\u001b[0m\u001b[0;34m]\u001b[0m\u001b[0;34m\u001b[0m\u001b[0m\n\u001b[0m",
      "\u001b[0;31mTypeError\u001b[0m: 'set' object does not support indexing"
     ]
    }
   ],
   "source": [
    "aset[3]"
   ]
  },
  {
   "cell_type": "markdown",
   "metadata": {},
   "source": [
    "也没有切片操作:"
   ]
  },
  {
   "cell_type": "code",
   "execution_count": 110,
   "metadata": {
    "ExecuteTime": {
     "end_time": "2019-04-10T07:51:11.525011Z",
     "start_time": "2019-04-10T07:51:11.513995Z"
    }
   },
   "outputs": [
    {
     "ename": "TypeError",
     "evalue": "'set' object is not subscriptable",
     "output_type": "error",
     "traceback": [
      "\u001b[0;31m---------------------------------------------------------------------------\u001b[0m",
      "\u001b[0;31mTypeError\u001b[0m                                 Traceback (most recent call last)",
      "\u001b[0;32m<ipython-input-110-31ca7c83fdf9>\u001b[0m in \u001b[0;36m<module>\u001b[0;34m\u001b[0m\n\u001b[0;32m----> 1\u001b[0;31m \u001b[0maset\u001b[0m\u001b[0;34m[\u001b[0m\u001b[0;36m1\u001b[0m\u001b[0;34m:\u001b[0m\u001b[0;34m-\u001b[0m\u001b[0;36m1\u001b[0m\u001b[0;34m]\u001b[0m\u001b[0;34m\u001b[0m\u001b[0m\n\u001b[0m",
      "\u001b[0;31mTypeError\u001b[0m: 'set' object is not subscriptable"
     ]
    }
   ],
   "source": [
    "aset[1:-1]"
   ]
  },
  {
   "cell_type": "markdown",
   "metadata": {
    "ExecuteTime": {
     "end_time": "2019-04-10T07:51:40.744145Z",
     "start_time": "2019-04-10T07:51:40.739406Z"
    }
   },
   "source": [
    "集合中没有重复元素，因此可以用于去重："
   ]
  },
  {
   "cell_type": "code",
   "execution_count": 112,
   "metadata": {
    "ExecuteTime": {
     "end_time": "2019-04-10T07:52:05.941719Z",
     "start_time": "2019-04-10T07:52:05.935691Z"
    }
   },
   "outputs": [
    {
     "name": "stdout",
     "output_type": "stream",
     "text": [
      "{1, 2, 3}\n"
     ]
    }
   ],
   "source": [
    "bset = {1, 2, 3, 3, 2, 1}\n",
    "print(bset)"
   ]
  },
  {
   "cell_type": "markdown",
   "metadata": {},
   "source": [
    "#### 方法"
   ]
  },
  {
   "cell_type": "code",
   "execution_count": 159,
   "metadata": {
    "ExecuteTime": {
     "end_time": "2019-04-10T08:19:10.539656Z",
     "start_time": "2019-04-10T08:19:10.533050Z"
    }
   },
   "outputs": [
    {
     "name": "stdout",
     "output_type": "stream",
     "text": [
      "{0, 2, 3, 4, 7, 9}\n",
      "{1, 2, 3, 4, 6, 8, 9, 10}\n"
     ]
    }
   ],
   "source": [
    "aset = set(random_int_list(unique=False))\n",
    "bset = set(random_int_list(unique=False))\n",
    "print(aset, bset, sep='\\n')"
   ]
  },
  {
   "cell_type": "code",
   "execution_count": 160,
   "metadata": {
    "ExecuteTime": {
     "end_time": "2019-04-10T08:19:16.361888Z",
     "start_time": "2019-04-10T08:19:16.356622Z"
    }
   },
   "outputs": [
    {
     "data": {
      "text/plain": [
       "{0, 1, 2, 3, 4, 6, 7, 8, 9, 10}"
      ]
     },
     "execution_count": 160,
     "metadata": {},
     "output_type": "execute_result"
    }
   ],
   "source": [
    "aset | bset"
   ]
  },
  {
   "cell_type": "code",
   "execution_count": 165,
   "metadata": {
    "ExecuteTime": {
     "end_time": "2019-04-10T08:20:00.922446Z",
     "start_time": "2019-04-10T08:20:00.916649Z"
    }
   },
   "outputs": [
    {
     "data": {
      "text/plain": [
       "{0, 7}"
      ]
     },
     "execution_count": 165,
     "metadata": {},
     "output_type": "execute_result"
    }
   ],
   "source": [
    "aset - bset  # 在 aset 不在 bset 中"
   ]
  },
  {
   "cell_type": "code",
   "execution_count": 166,
   "metadata": {
    "ExecuteTime": {
     "end_time": "2019-04-10T08:20:01.266883Z",
     "start_time": "2019-04-10T08:20:01.261997Z"
    }
   },
   "outputs": [
    {
     "data": {
      "text/plain": [
       "{1, 6, 8, 10}"
      ]
     },
     "execution_count": 166,
     "metadata": {},
     "output_type": "execute_result"
    }
   ],
   "source": [
    "bset - aset  # 在 bset 不在 aset 中"
   ]
  },
  {
   "cell_type": "code",
   "execution_count": 167,
   "metadata": {
    "ExecuteTime": {
     "end_time": "2019-04-10T08:20:43.086872Z",
     "start_time": "2019-04-10T08:20:43.080624Z"
    }
   },
   "outputs": [
    {
     "data": {
      "text/plain": [
       "{2, 3, 4, 9}"
      ]
     },
     "execution_count": 167,
     "metadata": {},
     "output_type": "execute_result"
    }
   ],
   "source": [
    "aset & bset"
   ]
  },
  {
   "cell_type": "code",
   "execution_count": 168,
   "metadata": {
    "ExecuteTime": {
     "end_time": "2019-04-10T08:20:59.105748Z",
     "start_time": "2019-04-10T08:20:59.100546Z"
    }
   },
   "outputs": [
    {
     "data": {
      "text/plain": [
       "{0, 1, 6, 7, 8, 10}"
      ]
     },
     "execution_count": 168,
     "metadata": {},
     "output_type": "execute_result"
    }
   ],
   "source": [
    "aset ^ bset"
   ]
  },
  {
   "cell_type": "code",
   "execution_count": 169,
   "metadata": {
    "ExecuteTime": {
     "end_time": "2019-04-10T08:21:11.169038Z",
     "start_time": "2019-04-10T08:21:11.164263Z"
    }
   },
   "outputs": [
    {
     "name": "stdout",
     "output_type": "stream",
     "text": [
      "['add', 'clear', 'copy', 'difference', 'discard', 'intersection', 'isdisjoint', 'issubset', 'issuperset', 'pop', 'remove', 'union', 'update']\n"
     ]
    }
   ],
   "source": [
    "show_methods_of(set)"
   ]
  },
  {
   "cell_type": "code",
   "execution_count": 174,
   "metadata": {
    "ExecuteTime": {
     "end_time": "2019-04-10T08:22:11.452384Z",
     "start_time": "2019-04-10T08:22:11.447485Z"
    }
   },
   "outputs": [
    {
     "name": "stdout",
     "output_type": "stream",
     "text": [
      "{0, 2, 3, 4, 7, 9}\n",
      "{0, 2, 3, 4, 5, 7, 9}\n"
     ]
    }
   ],
   "source": [
    "print(aset)\n",
    "aset.add(5)\n",
    "print(aset)"
   ]
  },
  {
   "cell_type": "code",
   "execution_count": 176,
   "metadata": {
    "ExecuteTime": {
     "end_time": "2019-04-10T08:28:07.440683Z",
     "start_time": "2019-04-10T08:28:07.435306Z"
    }
   },
   "outputs": [
    {
     "name": "stdout",
     "output_type": "stream",
     "text": [
      "{1, 2, 3, 4, 6, 8, 9, 10}\n"
     ]
    }
   ],
   "source": [
    "cset = bset.copy()\n",
    "print(cset)"
   ]
  },
  {
   "cell_type": "code",
   "execution_count": 177,
   "metadata": {
    "ExecuteTime": {
     "end_time": "2019-04-10T08:28:21.863746Z",
     "start_time": "2019-04-10T08:28:21.856198Z"
    }
   },
   "outputs": [
    {
     "data": {
      "text/plain": [
       "{0, 5, 7}"
      ]
     },
     "execution_count": 177,
     "metadata": {},
     "output_type": "execute_result"
    }
   ],
   "source": [
    "aset.difference(bset)"
   ]
  },
  {
   "cell_type": "code",
   "execution_count": 190,
   "metadata": {
    "ExecuteTime": {
     "end_time": "2019-04-10T08:37:37.571546Z",
     "start_time": "2019-04-10T08:37:37.565055Z"
    }
   },
   "outputs": [
    {
     "name": "stdout",
     "output_type": "stream",
     "text": [
      "{0, 2, 3, 4, 7, 9}\n",
      "{0, 2, 3, 4, 7, 9}\n"
     ]
    }
   ],
   "source": [
    "@print_diff\n",
    "def set_discard_op():\n",
    "    aset.discard(5)\n",
    "    \n",
    "set_discard_op(aset)"
   ]
  },
  {
   "cell_type": "code",
   "execution_count": 191,
   "metadata": {
    "ExecuteTime": {
     "end_time": "2019-04-10T08:40:27.512314Z",
     "start_time": "2019-04-10T08:40:27.506272Z"
    }
   },
   "outputs": [
    {
     "data": {
      "text/plain": [
       "False"
      ]
     },
     "execution_count": 191,
     "metadata": {},
     "output_type": "execute_result"
    }
   ],
   "source": [
    "aset.isdisjoint(bset)"
   ]
  },
  {
   "cell_type": "code",
   "execution_count": 194,
   "metadata": {
    "ExecuteTime": {
     "end_time": "2019-04-10T08:41:00.019464Z",
     "start_time": "2019-04-10T08:41:00.012989Z"
    }
   },
   "outputs": [
    {
     "data": {
      "text/plain": [
       "True"
      ]
     },
     "execution_count": 194,
     "metadata": {},
     "output_type": "execute_result"
    }
   ],
   "source": [
    "aset.issubset(aset | bset)"
   ]
  },
  {
   "cell_type": "code",
   "execution_count": 205,
   "metadata": {
    "ExecuteTime": {
     "end_time": "2019-04-10T08:44:16.452842Z",
     "start_time": "2019-04-10T08:44:16.447552Z"
    }
   },
   "outputs": [
    {
     "name": "stdout",
     "output_type": "stream",
     "text": [
      "{0, 1, 2, 3, 4, 7, 9}\n",
      "{0, 1, 6, 7, 8, 10}\n",
      "{2, 3, 4, 6, 8, 9, 10}\n"
     ]
    }
   ],
   "source": [
    "aset.add(1)\n",
    "print(aset, bset, sep='\\n')\n",
    "print(bset.symmetric_difference(aset))"
   ]
  },
  {
   "cell_type": "markdown",
   "metadata": {},
   "source": [
    "### 字典"
   ]
  },
  {
   "cell_type": "markdown",
   "metadata": {},
   "source": [
    "#### 定义字典"
   ]
  },
  {
   "cell_type": "code",
   "execution_count": 5,
   "metadata": {},
   "outputs": [],
   "source": [
    "m = {'a': 1, 'c': 2, 'm': 3}"
   ]
  },
  {
   "cell_type": "code",
   "execution_count": 6,
   "metadata": {},
   "outputs": [
    {
     "data": {
      "text/plain": [
       "{'a': 1, 'c': 2, 'm': 3}"
      ]
     },
     "execution_count": 6,
     "metadata": {},
     "output_type": "execute_result"
    }
   ],
   "source": [
    "m"
   ]
  },
  {
   "cell_type": "code",
   "execution_count": 7,
   "metadata": {},
   "outputs": [],
   "source": [
    "m1 = zip([x for x in range(10)], [c for c in \"abcdefghij\"])\n",
    "m1 = dict(m1)"
   ]
  },
  {
   "cell_type": "code",
   "execution_count": 8,
   "metadata": {},
   "outputs": [
    {
     "data": {
      "text/plain": [
       "{0: 'a',\n",
       " 1: 'b',\n",
       " 2: 'c',\n",
       " 3: 'd',\n",
       " 4: 'e',\n",
       " 5: 'f',\n",
       " 6: 'g',\n",
       " 7: 'h',\n",
       " 8: 'i',\n",
       " 9: 'j'}"
      ]
     },
     "execution_count": 8,
     "metadata": {},
     "output_type": "execute_result"
    }
   ],
   "source": [
    "m1"
   ]
  },
  {
   "cell_type": "code",
   "execution_count": 29,
   "metadata": {},
   "outputs": [],
   "source": [
    "m2 = dict.fromkeys([x for x in range(3)], ['a', 'b', 'c'])"
   ]
  },
  {
   "cell_type": "code",
   "execution_count": 30,
   "metadata": {},
   "outputs": [
    {
     "data": {
      "text/plain": [
       "{0: ['a', 'b', 'c'], 1: ['a', 'b', 'c'], 2: ['a', 'b', 'c']}"
      ]
     },
     "execution_count": 30,
     "metadata": {},
     "output_type": "execute_result"
    }
   ],
   "source": [
    "m2"
   ]
  },
  {
   "cell_type": "markdown",
   "metadata": {},
   "source": [
    "#### 增删改查"
   ]
  },
  {
   "cell_type": "code",
   "execution_count": 9,
   "metadata": {},
   "outputs": [],
   "source": [
    "def init():\n",
    "    return {'a': 1, 'c': 2, 'm': 3}"
   ]
  },
  {
   "cell_type": "code",
   "execution_count": 10,
   "metadata": {},
   "outputs": [],
   "source": [
    "@print_diff\n",
    "def update():\n",
    "    m['b'] = 2\n",
    "    m['c'] = 3\n",
    "    m['m'] = 4"
   ]
  },
  {
   "cell_type": "code",
   "execution_count": 11,
   "metadata": {},
   "outputs": [
    {
     "name": "stdout",
     "output_type": "stream",
     "text": [
      "before update\n",
      "{'a': 1, 'm': 3, 'c': 2}\n",
      "after update\n",
      "{'a': 1, 'm': 4, 'c': 3, 'b': 2}\n"
     ]
    }
   ],
   "source": [
    "update(m)"
   ]
  },
  {
   "cell_type": "code",
   "execution_count": 12,
   "metadata": {},
   "outputs": [],
   "source": [
    "@print_diff\n",
    "def popitem():\n",
    "    m.popitem()"
   ]
  },
  {
   "cell_type": "code",
   "execution_count": 13,
   "metadata": {},
   "outputs": [
    {
     "name": "stdout",
     "output_type": "stream",
     "text": [
      "before popitem\n",
      "{'a': 1, 'm': 3, 'c': 2}\n",
      "after popitem\n",
      "{'m': 3, 'c': 2}\n"
     ]
    }
   ],
   "source": [
    "m = init()\n",
    "popitem(m)"
   ]
  },
  {
   "cell_type": "code",
   "execution_count": 14,
   "metadata": {},
   "outputs": [],
   "source": [
    "@print_diff\n",
    "def pop(val=\"\"):\n",
    "    m.pop(val)"
   ]
  },
  {
   "cell_type": "code",
   "execution_count": 15,
   "metadata": {},
   "outputs": [
    {
     "name": "stdout",
     "output_type": "stream",
     "text": [
      "before pop\n",
      "{'a': 1, 'm': 3, 'c': 2}\n",
      "after pop\n",
      "{'a': 1, 'm': 3}\n"
     ]
    }
   ],
   "source": [
    "m = init()\n",
    "pop(m, val='c')"
   ]
  },
  {
   "cell_type": "markdown",
   "metadata": {},
   "source": [
    "#### 获取元素"
   ]
  },
  {
   "cell_type": "code",
   "execution_count": 17,
   "metadata": {},
   "outputs": [],
   "source": [
    "m = init()"
   ]
  },
  {
   "cell_type": "code",
   "execution_count": 34,
   "metadata": {},
   "outputs": [
    {
     "data": {
      "text/plain": [
       "{'a': 1, 'c': 2, 'm': 3}"
      ]
     },
     "execution_count": 34,
     "metadata": {},
     "output_type": "execute_result"
    }
   ],
   "source": [
    "m"
   ]
  },
  {
   "cell_type": "code",
   "execution_count": 31,
   "metadata": {},
   "outputs": [
    {
     "data": {
      "text/plain": [
       "1"
      ]
     },
     "execution_count": 31,
     "metadata": {},
     "output_type": "execute_result"
    }
   ],
   "source": [
    "m.get('a', 0)"
   ]
  },
  {
   "cell_type": "code",
   "execution_count": 33,
   "metadata": {},
   "outputs": [
    {
     "data": {
      "text/plain": [
       "4"
      ]
     },
     "execution_count": 33,
     "metadata": {},
     "output_type": "execute_result"
    }
   ],
   "source": [
    "m.get('d', 4)"
   ]
  },
  {
   "cell_type": "code",
   "execution_count": 35,
   "metadata": {},
   "outputs": [
    {
     "name": "stdout",
     "output_type": "stream",
     "text": [
      "('a', 1)\n",
      "('m', 3)\n",
      "('c', 2)\n"
     ]
    }
   ],
   "source": [
    "for item in m.items():\n",
    "    print(item)"
   ]
  },
  {
   "cell_type": "code",
   "execution_count": 36,
   "metadata": {},
   "outputs": [
    {
     "name": "stdout",
     "output_type": "stream",
     "text": [
      "a\n",
      "m\n",
      "c\n"
     ]
    }
   ],
   "source": [
    "for key in m.keys():\n",
    "    print(key)"
   ]
  },
  {
   "cell_type": "code",
   "execution_count": 37,
   "metadata": {},
   "outputs": [
    {
     "name": "stdout",
     "output_type": "stream",
     "text": [
      "1\n",
      "3\n",
      "2\n"
     ]
    }
   ],
   "source": [
    "for value in m.values():\n",
    "    print(value)"
   ]
  },
  {
   "cell_type": "code",
   "execution_count": 39,
   "metadata": {},
   "outputs": [
    {
     "data": {
      "text/plain": [
       "1"
      ]
     },
     "execution_count": 39,
     "metadata": {},
     "output_type": "execute_result"
    }
   ],
   "source": [
    "m.setdefault('a', 3)"
   ]
  },
  {
   "cell_type": "code",
   "execution_count": 41,
   "metadata": {},
   "outputs": [
    {
     "data": {
      "text/plain": [
       "4"
      ]
     },
     "execution_count": 41,
     "metadata": {},
     "output_type": "execute_result"
    }
   ],
   "source": [
    "m.setdefault('d', 4)"
   ]
  },
  {
   "cell_type": "code",
   "execution_count": 42,
   "metadata": {},
   "outputs": [
    {
     "data": {
      "text/plain": [
       "{'a': 1, 'c': 2, 'd': 4, 'm': 3}"
      ]
     },
     "execution_count": 42,
     "metadata": {},
     "output_type": "execute_result"
    }
   ],
   "source": [
    "m"
   ]
  },
  {
   "cell_type": "markdown",
   "metadata": {},
   "source": [
    "## 参考"
   ]
  },
  {
   "cell_type": "markdown",
   "metadata": {},
   "source": [
    "1. [语句和表达式](http://interactivepython.org/runestone/static/CS152f17/SimplePythonData/StatementsandExpressions.html) \n",
    "2. [python3 的位移操作](https://www.jianshu.com/p/24d11ab44ae6)\n",
    "3. [python 展开列表](https://blog.csdn.net/XX_123_1_RJ/article/details/80591107)\n"
   ]
  }
 ],
 "metadata": {
  "kernelspec": {
   "display_name": "Python 3",
   "language": "python",
   "name": "python3"
  },
  "language_info": {
   "codemirror_mode": {
    "name": "ipython",
    "version": 3
   },
   "file_extension": ".py",
   "mimetype": "text/x-python",
   "name": "python",
   "nbconvert_exporter": "python",
   "pygments_lexer": "ipython3",
   "version": "3.5.2"
  },
  "toc": {
   "base_numbering": 1,
   "nav_menu": {},
   "number_sections": true,
   "sideBar": true,
   "skip_h1_title": false,
   "title_cell": "Table of Contents",
   "title_sidebar": "Contents",
   "toc_cell": false,
   "toc_position": {
    "height": "calc(100% - 180px)",
    "left": "10px",
    "top": "150px",
    "width": "307.2px"
   },
   "toc_section_display": true,
   "toc_window_display": true
  }
 },
 "nbformat": 4,
 "nbformat_minor": 2
}
