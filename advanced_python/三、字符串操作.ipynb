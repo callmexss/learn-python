{
 "cells": [
  {
   "cell_type": "code",
   "execution_count": 103,
   "metadata": {
    "ExecuteTime": {
     "end_time": "2019-08-06T08:14:59.497672Z",
     "start_time": "2019-08-06T08:14:59.493056Z"
    }
   },
   "outputs": [],
   "source": [
    "import re\n",
    "import string\n",
    "import os\n",
    "import stat\n",
    "import random"
   ]
  },
  {
   "cell_type": "markdown",
   "metadata": {},
   "source": [
    "## 字符串分割"
   ]
  },
  {
   "cell_type": "code",
   "execution_count": 2,
   "metadata": {
    "ExecuteTime": {
     "end_time": "2019-08-06T07:27:33.252763Z",
     "start_time": "2019-08-06T07:27:33.247247Z"
    }
   },
   "outputs": [
    {
     "name": "stdout",
     "output_type": "stream",
     "text": [
      "['abcde']\n"
     ]
    }
   ],
   "source": [
    "s = 'abcde'\n",
    "print(s.split())"
   ]
  },
  {
   "cell_type": "code",
   "execution_count": 3,
   "metadata": {
    "ExecuteTime": {
     "end_time": "2019-08-06T07:28:05.213895Z",
     "start_time": "2019-08-06T07:28:05.208351Z"
    }
   },
   "outputs": [
    {
     "name": "stdout",
     "output_type": "stream",
     "text": [
      "['an', 'apple', 'a', 'day,', 'keeps', 'doctor', 'away.']\n"
     ]
    }
   ],
   "source": [
    "s = 'an apple a day, keeps doctor away.'\n",
    "print(s.split())"
   ]
  },
  {
   "cell_type": "code",
   "execution_count": 53,
   "metadata": {
    "ExecuteTime": {
     "end_time": "2019-08-06T07:45:11.490717Z",
     "start_time": "2019-08-06T07:45:11.484018Z"
    }
   },
   "outputs": [],
   "source": [
    "def my_split(s, seps):\n",
    "    res = [s]\n",
    "    \n",
    "    for sep in seps:\n",
    "        t = []\n",
    "        # print(res)\n",
    "        # map(lambda x: t.extend(x.split(sep)), res)\n",
    "        [t.extend(x.split(sep)) for x in res]\n",
    "        res = t\n",
    "    \n",
    "    return [x for x in res if x]"
   ]
  },
  {
   "cell_type": "code",
   "execution_count": 54,
   "metadata": {
    "ExecuteTime": {
     "end_time": "2019-08-06T07:45:12.125946Z",
     "start_time": "2019-08-06T07:45:12.121260Z"
    }
   },
   "outputs": [
    {
     "name": "stdout",
     "output_type": "stream",
     "text": [
      "['an', 'apple', 'a', 'day', 'keeps', 'doctor', 'away']\n"
     ]
    }
   ],
   "source": [
    "print(my_split(s, \" ,.\"))"
   ]
  },
  {
   "cell_type": "code",
   "execution_count": 55,
   "metadata": {
    "ExecuteTime": {
     "end_time": "2019-08-06T07:45:30.383902Z",
     "start_time": "2019-08-06T07:45:30.378557Z"
    }
   },
   "outputs": [
    {
     "name": "stdout",
     "output_type": "stream",
     "text": [
      "Split the source string by the occurrences of the pattern,\n",
      "    returning a list containing the resulting substrings.  If\n",
      "    capturing parentheses are used in pattern, then the text of all\n",
      "    groups in the pattern are also returned as part of the resulting\n",
      "    list.  If maxsplit is nonzero, at most maxsplit splits occur,\n",
      "    and the remainder of the string is returned as the final element\n",
      "    of the list.\n"
     ]
    }
   ],
   "source": [
    "print(re.split.__doc__)"
   ]
  },
  {
   "cell_type": "code",
   "execution_count": 56,
   "metadata": {
    "ExecuteTime": {
     "end_time": "2019-08-06T07:46:00.412600Z",
     "start_time": "2019-08-06T07:46:00.408313Z"
    }
   },
   "outputs": [
    {
     "name": "stdout",
     "output_type": "stream",
     "text": [
      "['an', 'apple', 'a', 'day', 'keeps', 'doctor', 'away', '']\n"
     ]
    }
   ],
   "source": [
    "print(re.split(r\"[ ,.]+\", s))"
   ]
  },
  {
   "cell_type": "markdown",
   "metadata": {},
   "source": [
    "## startswith, endswith"
   ]
  },
  {
   "cell_type": "code",
   "execution_count": 58,
   "metadata": {
    "ExecuteTime": {
     "end_time": "2019-08-06T07:49:00.237622Z",
     "start_time": "2019-08-06T07:49:00.234145Z"
    }
   },
   "outputs": [],
   "source": [
    "li = ['e.py', 'g.sh', 'd.java', 'h.c', 'f.cpp', 'a.sh', 'c.h', 'b.py']"
   ]
  },
  {
   "cell_type": "code",
   "execution_count": 59,
   "metadata": {
    "ExecuteTime": {
     "end_time": "2019-08-06T07:49:19.488429Z",
     "start_time": "2019-08-06T07:49:19.473365Z"
    }
   },
   "outputs": [
    {
     "data": {
      "text/plain": [
       "True"
      ]
     },
     "execution_count": 59,
     "metadata": {},
     "output_type": "execute_result"
    }
   ],
   "source": [
    "li[0].endswith(('.py', '.sh'))"
   ]
  },
  {
   "cell_type": "code",
   "execution_count": 63,
   "metadata": {
    "ExecuteTime": {
     "end_time": "2019-08-06T07:51:42.642653Z",
     "start_time": "2019-08-06T07:51:42.633646Z"
    }
   },
   "outputs": [
    {
     "data": {
      "text/plain": [
       "os.stat_result(st_mode=33188, st_ino=1327406, st_dev=64769, st_nlink=1, st_uid=0, st_gid=0, st_size=12081, st_atime=1565059974, st_mtime=1565059974, st_ctime=1565060019)"
      ]
     },
     "execution_count": 63,
     "metadata": {},
     "output_type": "execute_result"
    }
   ],
   "source": [
    "os.stat('一、基础数据结构.ipynb')"
   ]
  },
  {
   "cell_type": "code",
   "execution_count": 65,
   "metadata": {
    "ExecuteTime": {
     "end_time": "2019-08-06T07:52:12.863443Z",
     "start_time": "2019-08-06T07:52:12.857775Z"
    }
   },
   "outputs": [
    {
     "data": {
      "text/plain": [
       "'0o100644'"
      ]
     },
     "execution_count": 65,
     "metadata": {},
     "output_type": "execute_result"
    }
   ],
   "source": [
    "oct(os.stat('一、基础数据结构.ipynb').st_mode)"
   ]
  },
  {
   "cell_type": "code",
   "execution_count": 77,
   "metadata": {
    "ExecuteTime": {
     "end_time": "2019-08-06T07:55:05.934415Z",
     "start_time": "2019-08-06T07:55:05.928513Z"
    }
   },
   "outputs": [],
   "source": [
    "os.chmod('一、基础数据结构.ipynb', os.stat('一、基础数据结构.ipynb').st_mode | stat.S_IXUSR)"
   ]
  },
  {
   "cell_type": "code",
   "execution_count": 78,
   "metadata": {
    "ExecuteTime": {
     "end_time": "2019-08-06T07:55:06.410893Z",
     "start_time": "2019-08-06T07:55:06.279636Z"
    }
   },
   "outputs": [
    {
     "name": "stdout",
     "output_type": "stream",
     "text": [
      "total 88\r\n",
      "-rwxr--r-- 1 root 12081 Aug  6 10:52 \u001b[0m\u001b[01;32m一、基础数据结构.ipynb\u001b[0m*\r\n",
      "-rw-r--r-- 1 root  7397 Aug  6 15:54 三、字符串操作.ipynb\r\n",
      "-rw-r--r-- 1 root 18781 Aug  6 15:24 二、迭代器，生成器和可迭代对象.ipynb\r\n",
      "-rw-r--r-- 1 root  5385 Aug  6 10:22 并行编程.ipynb\r\n",
      "-rw-r--r-- 1 root 40763 Aug  6 10:19 装饰器.ipynb\r\n"
     ]
    }
   ],
   "source": [
    "ll"
   ]
  },
  {
   "cell_type": "code",
   "execution_count": 79,
   "metadata": {
    "ExecuteTime": {
     "end_time": "2019-08-06T07:55:06.877376Z",
     "start_time": "2019-08-06T07:55:06.872305Z"
    }
   },
   "outputs": [],
   "source": [
    "os.chmod('一、基础数据结构.ipynb', os.stat('一、基础数据结构.ipynb').st_mode - stat.S_IXUSR)"
   ]
  },
  {
   "cell_type": "code",
   "execution_count": 80,
   "metadata": {
    "ExecuteTime": {
     "end_time": "2019-08-06T07:55:07.474428Z",
     "start_time": "2019-08-06T07:55:07.344291Z"
    }
   },
   "outputs": [
    {
     "name": "stdout",
     "output_type": "stream",
     "text": [
      "total 88\r\n",
      "-rw-r--r-- 1 root 12081 Aug  6 10:52 一、基础数据结构.ipynb\r\n",
      "-rw-r--r-- 1 root  7397 Aug  6 15:54 三、字符串操作.ipynb\r\n",
      "-rw-r--r-- 1 root 18781 Aug  6 15:24 二、迭代器，生成器和可迭代对象.ipynb\r\n",
      "-rw-r--r-- 1 root  5385 Aug  6 10:22 并行编程.ipynb\r\n",
      "-rw-r--r-- 1 root 40763 Aug  6 10:19 装饰器.ipynb\r\n"
     ]
    }
   ],
   "source": [
    "ll"
   ]
  },
  {
   "cell_type": "markdown",
   "metadata": {
    "ExecuteTime": {
     "end_time": "2019-08-06T08:01:11.241526Z",
     "start_time": "2019-08-06T08:01:11.238596Z"
    }
   },
   "source": [
    "## 调整格式"
   ]
  },
  {
   "cell_type": "code",
   "execution_count": 101,
   "metadata": {
    "ExecuteTime": {
     "end_time": "2019-08-06T08:09:39.996212Z",
     "start_time": "2019-08-06T08:09:39.990001Z"
    }
   },
   "outputs": [
    {
     "name": "stdout",
     "output_type": "stream",
     "text": [
      "2019-06-09 16:09:54 startup archives unpack\n",
      "2019-06-09 16:09:55 install libmhash2:amd64 <none> 0.9.9.9-7\n",
      "2019-06-09 16:09:55 status half-installed libmhash2:amd64 0.9.9.9-7\n",
      "2019-06-09 16:09:55 status ...\n",
      "--------------------------------------------------------------------------------\n",
      "06/09/2019 16:09:54 startup archives unpack\n",
      "06/09/2019 16:09:55 install libmhash2:amd64 <none> 0.9.9.9-7\n",
      "06/09/2019 16:09:55 status half-installed libmhash2:amd64 0.9.9.9-7\n",
      "06/09/2019 16:09:55 status ...\n"
     ]
    }
   ],
   "source": [
    "with open('dpkg.log', 'r') as f:\n",
    "    log = f.read()\n",
    "    print(log[:200] + '...')\n",
    "    print('-' * 80)\n",
    "    # print(re.sub('(\\d{4})-(\\d{2})-(\\d{2})', r'\\2/\\3/\\1', log)[:200] + '...')\n",
    "    print(re.sub('(?P<y>\\d{4})-(?P<m>\\d{2})-(?P<d>\\d{2})', r'\\g<m>/\\g<d>/\\g<y>', log[:200] + '...'))"
   ]
  },
  {
   "cell_type": "markdown",
   "metadata": {},
   "source": [
    "## 字符串拼接"
   ]
  },
  {
   "cell_type": "code",
   "execution_count": 111,
   "metadata": {
    "ExecuteTime": {
     "end_time": "2019-08-06T08:16:32.798914Z",
     "start_time": "2019-08-06T08:16:32.795542Z"
    }
   },
   "outputs": [],
   "source": [
    "li = list(string.ascii_letters)\n",
    "\n",
    "random.shuffle(li)"
   ]
  },
  {
   "cell_type": "code",
   "execution_count": 112,
   "metadata": {
    "ExecuteTime": {
     "end_time": "2019-08-06T08:16:33.263188Z",
     "start_time": "2019-08-06T08:16:33.259194Z"
    }
   },
   "outputs": [
    {
     "name": "stdout",
     "output_type": "stream",
     "text": [
      "DMqVZvgJxTRbGLlfnUwtCQeKjBsirAyOIumXEPNdkHoFazWYcpSh\n"
     ]
    }
   ],
   "source": [
    "s = ''\n",
    "for each in li:\n",
    "    s += each\n",
    "    \n",
    "print(s)"
   ]
  },
  {
   "cell_type": "code",
   "execution_count": 114,
   "metadata": {
    "ExecuteTime": {
     "end_time": "2019-08-06T08:16:57.617038Z",
     "start_time": "2019-08-06T08:16:57.612534Z"
    }
   },
   "outputs": [
    {
     "name": "stdout",
     "output_type": "stream",
     "text": [
      "DMqVZvgJxTRbGLlfnUwtCQeKjBsirAyOIumXEPNdkHoFazWYcpSh\n"
     ]
    }
   ],
   "source": [
    "print(''.join(li))"
   ]
  },
  {
   "cell_type": "code",
   "execution_count": 115,
   "metadata": {
    "ExecuteTime": {
     "end_time": "2019-08-06T08:17:22.616840Z",
     "start_time": "2019-08-06T08:17:22.611450Z"
    }
   },
   "outputs": [
    {
     "name": "stdout",
     "output_type": "stream",
     "text": [
      "123sa\n"
     ]
    }
   ],
   "source": [
    "li = [123, 's', 'a']\n",
    "print(''.join(str(x) for x in li))"
   ]
  },
  {
   "cell_type": "markdown",
   "metadata": {},
   "source": [
    "## 字符串对齐"
   ]
  },
  {
   "cell_type": "code",
   "execution_count": 117,
   "metadata": {
    "ExecuteTime": {
     "end_time": "2019-08-06T08:19:01.653893Z",
     "start_time": "2019-08-06T08:19:01.647346Z"
    }
   },
   "outputs": [
    {
     "name": "stdout",
     "output_type": "stream",
     "text": [
      "123                 \n",
      "-----------------123\n",
      "********123*********\n"
     ]
    }
   ],
   "source": [
    "s = '123'\n",
    "print(s.ljust(20))\n",
    "print(s.rjust(20, '-'))\n",
    "print(s.center(20, '*'))"
   ]
  },
  {
   "cell_type": "code",
   "execution_count": 121,
   "metadata": {
    "ExecuteTime": {
     "end_time": "2019-08-06T08:19:43.482126Z",
     "start_time": "2019-08-06T08:19:43.477442Z"
    }
   },
   "outputs": [
    {
     "name": "stdout",
     "output_type": "stream",
     "text": [
      "123                 \n",
      "                 123\n",
      "        123         \n"
     ]
    }
   ],
   "source": [
    "print(format(s, '<20'))\n",
    "print(format(s, '>20'))\n",
    "print(format(s, '^20'))"
   ]
  },
  {
   "cell_type": "code",
   "execution_count": 122,
   "metadata": {
    "ExecuteTime": {
     "end_time": "2019-08-06T08:20:25.184607Z",
     "start_time": "2019-08-06T08:20:25.180327Z"
    }
   },
   "outputs": [],
   "source": [
    "d = {\n",
    "    'Distcull': 500.0,\n",
    "    'SmallCul1': 0.04,\n",
    "    'farclip': 477,\n",
    "    'LodDist': 100.0,\n",
    "    'trilinear': 40\n",
    "}"
   ]
  },
  {
   "cell_type": "code",
   "execution_count": 131,
   "metadata": {
    "ExecuteTime": {
     "end_time": "2019-08-06T08:25:19.790332Z",
     "start_time": "2019-08-06T08:25:19.785891Z"
    }
   },
   "outputs": [],
   "source": [
    "max_len = len(max(d.keys(), key=lambda x: len(x)))\n",
    "max_len = max(map(len, d.keys()))"
   ]
  },
  {
   "cell_type": "code",
   "execution_count": 132,
   "metadata": {
    "ExecuteTime": {
     "end_time": "2019-08-06T08:25:20.211054Z",
     "start_time": "2019-08-06T08:25:20.203849Z"
    }
   },
   "outputs": [
    {
     "name": "stdout",
     "output_type": "stream",
     "text": [
      "Distcull : 500.0\n",
      "SmallCul1: 0.04\n",
      "farclip  : 477\n",
      "LodDist  : 100.0\n",
      "trilinear: 40\n"
     ]
    }
   ],
   "source": [
    "for k, v in d.items():\n",
    "    print(k.ljust(max_len) + \": \" + str(v))"
   ]
  },
  {
   "cell_type": "markdown",
   "metadata": {
    "ExecuteTime": {
     "end_time": "2019-08-06T08:29:59.026438Z",
     "start_time": "2019-08-06T08:29:59.020659Z"
    }
   },
   "source": [
    "## 去掉不需要的字符串"
   ]
  },
  {
   "cell_type": "code",
   "execution_count": 135,
   "metadata": {
    "ExecuteTime": {
     "end_time": "2019-08-06T08:32:54.313002Z",
     "start_time": "2019-08-06T08:32:54.306170Z"
    }
   },
   "outputs": [
    {
     "name": "stdout",
     "output_type": "stream",
     "text": [
      "abc------\n",
      "+++++abc\n",
      "abc\n"
     ]
    }
   ],
   "source": [
    "s1 = '+++++abc------'\n",
    "print(s1.lstrip('+'))\n",
    "print(s1.rstrip('-'))\n",
    "print(s1.strip('+-'))"
   ]
  },
  {
   "cell_type": "code",
   "execution_count": 137,
   "metadata": {
    "ExecuteTime": {
     "end_time": "2019-08-06T08:33:24.407353Z",
     "start_time": "2019-08-06T08:33:24.401960Z"
    }
   },
   "outputs": [
    {
     "name": "stdout",
     "output_type": "stream",
     "text": [
      "abc\n"
     ]
    }
   ],
   "source": [
    "print(s1.replace('+', '').replace('-', ''))"
   ]
  },
  {
   "cell_type": "code",
   "execution_count": 141,
   "metadata": {
    "ExecuteTime": {
     "end_time": "2019-08-06T08:34:20.447293Z",
     "start_time": "2019-08-06T08:34:20.440562Z"
    }
   },
   "outputs": [
    {
     "name": "stdout",
     "output_type": "stream",
     "text": [
      "abc\n"
     ]
    }
   ],
   "source": [
    "print(re.sub(r'[+-]', '', s1))"
   ]
  },
  {
   "cell_type": "code",
   "execution_count": 155,
   "metadata": {
    "ExecuteTime": {
     "end_time": "2019-08-06T08:37:55.901622Z",
     "start_time": "2019-08-06T08:37:55.895784Z"
    }
   },
   "outputs": [
    {
     "name": "stdout",
     "output_type": "stream",
     "text": [
      "{43: '', 45: ''}\n",
      "abc\n"
     ]
    }
   ],
   "source": [
    "tb = {'+': '', '-': ''}\n",
    "mapped = str.maketrans(tb)\n",
    "print(mapped)\n",
    "print(s1.translate(mapped))"
   ]
  }
 ],
 "metadata": {
  "kernelspec": {
   "display_name": "Python 3",
   "language": "python",
   "name": "python3"
  },
  "language_info": {
   "codemirror_mode": {
    "name": "ipython",
    "version": 3
   },
   "file_extension": ".py",
   "mimetype": "text/x-python",
   "name": "python",
   "nbconvert_exporter": "python",
   "pygments_lexer": "ipython3",
   "version": "3.6.3"
  },
  "toc": {
   "base_numbering": 1,
   "nav_menu": {},
   "number_sections": true,
   "sideBar": true,
   "skip_h1_title": false,
   "title_cell": "Table of Contents",
   "title_sidebar": "Contents",
   "toc_cell": false,
   "toc_position": {},
   "toc_section_display": true,
   "toc_window_display": false
  }
 },
 "nbformat": 4,
 "nbformat_minor": 2
}
