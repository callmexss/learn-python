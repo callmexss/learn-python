{
 "cells": [
  {
   "cell_type": "markdown",
   "metadata": {},
   "source": [
    "# Chapter 5 – Dictionaries and Structuring Data"
   ]
  },
  {
   "cell_type": "code",
   "execution_count": 1,
   "metadata": {},
   "outputs": [],
   "source": [
    "class Board(object):\n",
    "    \"\"\"Alpha version\"\"\"\n",
    "    def __init__(self):\n",
    "        self.board = {\n",
    "            '1': ' ', '2': ' ', '3': ' ',\n",
    "            '4': ' ', '5': ' ', '6': ' ',\n",
    "            '7': ' ', '8': ' ', '9': ' '\n",
    "        }\n",
    "        \n",
    "        self.step = 0\n",
    "        self.first = 'x'\n",
    "        self.second = 'o'\n",
    "        self.over = False\n",
    "        \n",
    "    def marker(self):\n",
    "        return 'x' if self.step % 2 == 0 else 'o'\n",
    "        \n",
    "    def play(self):\n",
    "        # last_marker = ''\n",
    "        while not self.over:\n",
    "            valid = False\n",
    "            while not valid:\n",
    "                try:\n",
    "                    choice = input('Input your choice({}): '.format(self.marker()))\n",
    "                    if choice not in self.board.keys() or self.board[choice] != ' ':  # or marker == last_marker:\n",
    "                        print('Invalid choice')\n",
    "                        continue\n",
    "                    else:\n",
    "                        self.board[choice] = self.marker()\n",
    "                        valid = True\n",
    "                except Exception as err:\n",
    "                    print(err)\n",
    "                    \n",
    "            # self.print_board()\n",
    "            self.printBoard()\n",
    "            self.check_win()\n",
    "            self.step += 1\n",
    "            \n",
    "            \n",
    "    def print_board(self):\n",
    "        for n, v in enumerate([\"1\", \"2\", \"3\",\n",
    "                               \"4\", \"5\", \"6\",\n",
    "                               \"7\", \"8\", \"9\"], 1):\n",
    "            if n % 3 != 0:\n",
    "                print(self.board[v], end=' ')\n",
    "            else:\n",
    "                print(self.board[v])\n",
    "                \n",
    "    def printBoard(self):\n",
    "        board = self.board\n",
    "        print(board['1'] + '|' + board['2'] + '|' + board['3'])\n",
    "        print('-+-+-')\n",
    "        print(board['4'] + '|' + board['5'] + '|' + board['6'])\n",
    "        print('-+-+-')\n",
    "        print(board['7'] + '|' + board['8'] + '|' + board['9'])\n",
    "                        \n",
    "    def check_win(self):\n",
    "        \"\"\"This can be optimise\n",
    "        \"\"\"\n",
    "        if (self.board['1'] == self.board['2'] == self.board['3'] != ' ' or \n",
    "            self.board['4'] == self.board['5'] == self.board['6'] != ' ' or\n",
    "            self.board['7'] == self.board['8'] == self.board['9'] != ' ' or\n",
    "            self.board['1'] == self.board['4'] == self.board['7'] != ' ' or\n",
    "            self.board['2'] == self.board['5'] == self.board['8'] != ' ' or\n",
    "            self.board['3'] == self.board['6'] == self.board['9'] != ' ' or\n",
    "            self.board['1'] == self.board['5'] == self.board['9'] != ' ' or\n",
    "            self.board['3'] == self.board['5'] == self.board['7'] != ' '):\n",
    "            print(\"Game Over. Winner is: \", self.marker())\n",
    "            self.over = True\n",
    "        elif self.step == 8:\n",
    "            print('Game Over. It\\' a draw.')\n",
    "            self.over = True\n",
    "            \n",
    "    def checkWin(self):\n",
    "        pass"
   ]
  },
  {
   "cell_type": "code",
   "execution_count": 2,
   "metadata": {},
   "outputs": [],
   "source": [
    "# b = Board()\n",
    "# b.play()"
   ]
  },
  {
   "cell_type": "code",
   "execution_count": 3,
   "metadata": {},
   "outputs": [],
   "source": [
    "class Board(object):\n",
    "    \"\"\"Beta version\"\"\"\n",
    "    def __init__(self):\n",
    "        self.board = {\n",
    "            '1': ' ', '2': ' ', '3': ' ',\n",
    "            '4': ' ', '5': ' ', '6': ' ',\n",
    "            '7': ' ', '8': ' ', '9': ' '\n",
    "        }\n",
    "        \n",
    "        self.step = 0\n",
    "        self.marker = 'x'\n",
    "        self.last_marker = ''\n",
    "        self.over = False\n",
    "        \n",
    "    def play(self):\n",
    "        # last_marker = ''\n",
    "        while not self.over:\n",
    "            valid = False\n",
    "            while not valid:\n",
    "                try:\n",
    "                    choice = input('Input your choice({}): '.format(self.marker))\n",
    "                    if choice not in self.board.keys() or self.board[choice] != ' ':  # or marker == last_marker:\n",
    "                        print('Invalid choice')\n",
    "                        continue\n",
    "                    else:\n",
    "                        self.board[choice] = self.marker\n",
    "                        self.last_marker = self.marker\n",
    "                        if self.marker == 'x':\n",
    "                            self.marker = 'o'\n",
    "                        else:\n",
    "                            self.marker = 'x'\n",
    "                        valid = True\n",
    "                except Exception as err:\n",
    "                    print(err)\n",
    "                    \n",
    "            self.printBoard()\n",
    "            self.check_win()\n",
    "            self.step += 1\n",
    "                \n",
    "    def printBoard(self):\n",
    "        board = self.board\n",
    "        print(board['1'] + '|' + board['2'] + '|' + board['3'])\n",
    "        print('-+-+-')\n",
    "        print(board['4'] + '|' + board['5'] + '|' + board['6'])\n",
    "        print('-+-+-')\n",
    "        print(board['7'] + '|' + board['8'] + '|' + board['9'])\n",
    "                        \n",
    "    def check_win(self):\n",
    "        \"\"\"This can be optimise\n",
    "        \"\"\"\n",
    "        if (self.board['1'] == self.board['2'] == self.board['3'] != ' ' or \n",
    "            self.board['4'] == self.board['5'] == self.board['6'] != ' ' or\n",
    "            self.board['7'] == self.board['8'] == self.board['9'] != ' ' or\n",
    "            self.board['1'] == self.board['4'] == self.board['7'] != ' ' or\n",
    "            self.board['2'] == self.board['5'] == self.board['8'] != ' ' or\n",
    "            self.board['3'] == self.board['6'] == self.board['9'] != ' ' or\n",
    "            self.board['1'] == self.board['5'] == self.board['9'] != ' ' or\n",
    "            self.board['3'] == self.board['5'] == self.board['7'] != ' '):\n",
    "            print(\"Game Over. Winner is: \", self.last_marker)\n",
    "            self.over = True\n",
    "        elif self.step == 8:\n",
    "            print('Game Over. It\\' a draw.')\n",
    "            self.over = True\n",
    "            \n",
    "    def checkWin(self):\n",
    "        pass"
   ]
  },
  {
   "cell_type": "code",
   "execution_count": 4,
   "metadata": {},
   "outputs": [],
   "source": [
    "# b = Board()\n",
    "# b.play()"
   ]
  },
  {
   "cell_type": "markdown",
   "metadata": {},
   "source": [
    "## Practice"
   ]
  },
  {
   "cell_type": "code",
   "execution_count": 5,
   "metadata": {},
   "outputs": [
    {
     "name": "stdout",
     "output_type": "stream",
     "text": [
      "Inventory:\n",
      "12 arrow\n",
      "1 dagger\n",
      "42 gold coin\n",
      "1 rope\n",
      "6 torch\n",
      "Total number of items: 62\n"
     ]
    }
   ],
   "source": [
    "# inventory.py\n",
    "stuff = {'rope': 1, 'torch': 6, 'gold coin': 42, 'dagger': 1, 'arrow': 12}\n",
    "\n",
    "def displayInventory(inventory):\n",
    "    print(\"Inventory:\")\n",
    "    item_total = 0\n",
    "    for k, v in inventory.items():\n",
    "        # FILL IN THE CODE HERE\n",
    "        item_total += v\n",
    "        print(v, k)\n",
    "    print(\"Total number of items: \" + str(item_total))\n",
    "\n",
    "displayInventory(stuff)"
   ]
  },
  {
   "cell_type": "code",
   "execution_count": 6,
   "metadata": {},
   "outputs": [
    {
     "name": "stdout",
     "output_type": "stream",
     "text": [
      "Inventory:\n",
      "1 ruby\n",
      "1 dagger\n",
      "45 gold coin\n",
      "1 rope\n",
      "Total number of items: 48\n"
     ]
    }
   ],
   "source": [
    "def addToInventory(inventory, addedItems):\n",
    "    # your code goes here\n",
    "    for item in addedItems:\n",
    "        inventory.setdefault(item, 0)\n",
    "        inventory[item] += 1\n",
    "    return inventory\n",
    "\n",
    "inv = {'gold coin': 42, 'rope': 1}\n",
    "dragonLoot = ['gold coin', 'dagger', 'gold coin', 'gold coin', 'ruby']\n",
    "inv = addToInventory(inv, dragonLoot)\n",
    "displayInventory(inv)"
   ]
  }
 ],
 "metadata": {
  "kernelspec": {
   "display_name": "Python 3",
   "language": "python",
   "name": "python3"
  },
  "language_info": {
   "codemirror_mode": {
    "name": "ipython",
    "version": 3
   },
   "file_extension": ".py",
   "mimetype": "text/x-python",
   "name": "python",
   "nbconvert_exporter": "python",
   "pygments_lexer": "ipython3",
   "version": "3.5.2"
  },
  "toc": {
   "base_numbering": 1,
   "nav_menu": {},
   "number_sections": true,
   "sideBar": true,
   "skip_h1_title": false,
   "title_cell": "Table of Contents",
   "title_sidebar": "Contents",
   "toc_cell": false,
   "toc_position": {},
   "toc_section_display": true,
   "toc_window_display": false
  }
 },
 "nbformat": 4,
 "nbformat_minor": 2
}
