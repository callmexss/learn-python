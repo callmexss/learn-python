{
 "cells": [
  {
   "cell_type": "markdown",
   "metadata": {},
   "source": [
    "## Logic Gate"
   ]
  },
  {
   "attachments": {
    "image.png": {
     "image/png": "[encoded data removed]"
    }
   },
   "cell_type": "markdown",
   "metadata": {},
   "source": [
    "![image.png](attachment:image.png)"
   ]
  },
  {
   "cell_type": "code",
   "execution_count": 1,
   "metadata": {
    "ExecuteTime": {
     "end_time": "2018-12-18T12:11:19.056829Z",
     "start_time": "2018-12-18T12:11:19.050043Z"
    }
   },
   "outputs": [],
   "source": [
    "class LogicGate(object):\n",
    "    def __init__(self, label):\n",
    "        self.label = label\n",
    "        self.output = None\n",
    "        \n",
    "    def get_label(self):\n",
    "        return self.label\n",
    "    \n",
    "    def get_output(self):\n",
    "        self.output = self.perform_gate_logic()\n",
    "        return self.output"
   ]
  },
  {
   "cell_type": "code",
   "execution_count": 2,
   "metadata": {
    "ExecuteTime": {
     "end_time": "2018-12-18T12:11:19.560886Z",
     "start_time": "2018-12-18T12:11:19.542630Z"
    }
   },
   "outputs": [],
   "source": [
    "class BinaryGate(LogicGate):\n",
    "    def __init__(self, label):\n",
    "        LogicGate.__init__(self, label)\n",
    "        \n",
    "        self.pin_a = None\n",
    "        self.pin_b = None\n",
    "        \n",
    "    def get_pin_a(self):\n",
    "        if self.pin_a is None:\n",
    "            return int(input(\"Enter Pin A input for gate {} -->\".format(self.label)))\n",
    "        else:\n",
    "            return self.pin_a.get_from().get_output()\n",
    "    \n",
    "    def get_pin_b(self):\n",
    "        if self.pin_b is None:\n",
    "            return int(input(\"Enter Pin B input for gate {} -->\".format(self.label)))    \n",
    "        else:\n",
    "            return self.pin_b.get_from().get_output()\n",
    "    \n",
    "    def set_next_pin(self, source):\n",
    "        if self.pin_a is None:\n",
    "            self.pin_a = source\n",
    "        else:\n",
    "            if self.pin_b is None:\n",
    "                self.pin_b = source\n",
    "            else:\n",
    "                raise RuntimeError('Error: NO EMPTY PINS.')"
   ]
  },
  {
   "cell_type": "code",
   "execution_count": 3,
   "metadata": {
    "ExecuteTime": {
     "end_time": "2018-12-18T12:11:20.266983Z",
     "start_time": "2018-12-18T12:11:20.258354Z"
    }
   },
   "outputs": [],
   "source": [
    "class UnaryGate(LogicGate):\n",
    "    def __init__(self, label):\n",
    "        LogicGate.__init__(self, label)\n",
    "        \n",
    "        self.pin = None\n",
    "        \n",
    "    def get_pin(self):\n",
    "        if self.pin is None:\n",
    "            return int(input(\"Enter Pin input for gate {} -->\".format(self.label)))\n",
    "        else:\n",
    "            return self.pin.get_from().get_output()\n",
    "    \n",
    "    def set_next_pin(self, source):\n",
    "        if self.pin is None:\n",
    "            self.pin = source\n",
    "        else:\n",
    "            raise RuntimeError(\"Error: NO EMPTY PINS.\")"
   ]
  },
  {
   "cell_type": "code",
   "execution_count": 4,
   "metadata": {
    "ExecuteTime": {
     "end_time": "2018-12-18T12:11:21.048756Z",
     "start_time": "2018-12-18T12:11:21.038079Z"
    }
   },
   "outputs": [],
   "source": [
    "class AndGate(BinaryGate):\n",
    "    def __init__(self, label):\n",
    "        BinaryGate.__init__(self, label)\n",
    "    \n",
    "    def perform_gate_logic(self):\n",
    "        a = self.get_pin_a()\n",
    "        b = self.get_pin_b()\n",
    "        return 1 if a == b == 1 else 0"
   ]
  },
  {
   "cell_type": "code",
   "execution_count": 5,
   "metadata": {
    "ExecuteTime": {
     "end_time": "2018-12-18T12:11:21.503411Z",
     "start_time": "2018-12-18T12:11:21.492055Z"
    }
   },
   "outputs": [],
   "source": [
    "class OrGate(BinaryGate):\n",
    "    def __init__(self, label):\n",
    "        BinaryGate.__init__(self, label)\n",
    "        \n",
    "    def perform_gate_logic(self):\n",
    "        a = self.get_pin_a()\n",
    "        b = self.get_pin_b()\n",
    "        return 1 if a == 1 or b == 1 else 0"
   ]
  },
  {
   "cell_type": "code",
   "execution_count": 6,
   "metadata": {
    "ExecuteTime": {
     "end_time": "2018-12-18T12:11:21.952153Z",
     "start_time": "2018-12-18T12:11:21.942716Z"
    }
   },
   "outputs": [],
   "source": [
    "class NotGate(UnaryGate):\n",
    "    def __init__(self, label):\n",
    "        UnaryGate.__init__(self, label)\n",
    "        \n",
    "    def perform_gate_logic(self):\n",
    "        pin = self.get_pin()\n",
    "        return 1 if pin == 0 else 0"
   ]
  },
  {
   "cell_type": "code",
   "execution_count": 10,
   "metadata": {
    "ExecuteTime": {
     "end_time": "2018-12-18T12:13:43.863391Z",
     "start_time": "2018-12-18T12:13:43.858041Z"
    }
   },
   "outputs": [],
   "source": [
    "# class NorGate(BinaryGate):\n",
    "#     def __init__(self, label):\n",
    "#         BinaryGate.__init__(self, label)\n",
    "        \n",
    "#     def perform_gate_logic(self):\n",
    "#         a = self.get_pin_a()\n",
    "#         b = self.get_pin_b()\n",
    "#         return 0 if a == 1 or b == 1 else 1\n",
    "\n",
    "class NorGate(OrGate):\n",
    "    def perform_gate_logic(self):\n",
    "        return 1 if super().perform_gate_logic() == 0 else 0"
   ]
  },
  {
   "cell_type": "code",
   "execution_count": 11,
   "metadata": {
    "ExecuteTime": {
     "end_time": "2018-12-18T12:13:44.335223Z",
     "start_time": "2018-12-18T12:13:44.330916Z"
    }
   },
   "outputs": [],
   "source": [
    "# class NandGate(BinaryGate):\n",
    "#     def __init__(self, label):\n",
    "#         BinaryGate.__init__(self, label)\n",
    "        \n",
    "#     def perform_gate_logic(self):\n",
    "#         a = self.get_pin_a()\n",
    "#         b = self.get_pin_b()\n",
    "#         return 1 if not (a == 1 and b == 1) else 0\n",
    "\n",
    "class NandGate(AndGate):\n",
    "    def perform_gate_logic(self):\n",
    "        return 1 if super().perform_gate_logic() == 0 else 0"
   ]
  },
  {
   "cell_type": "code",
   "execution_count": 12,
   "metadata": {
    "ExecuteTime": {
     "end_time": "2018-12-18T12:13:48.960930Z",
     "start_time": "2018-12-18T12:13:48.954230Z"
    }
   },
   "outputs": [],
   "source": [
    "class XorGate(BinaryGate):\n",
    "    def __init__(self, label):\n",
    "        BinaryGate.__init__(self, label)\n",
    "        \n",
    "    def perform_gate_logic(self):\n",
    "        a = self.get_pin_a()\n",
    "        b = self.get_pin_b()\n",
    "        return 1 if a !=  b else 0\n",
    "        "
   ]
  },
  {
   "cell_type": "code",
   "execution_count": 13,
   "metadata": {
    "ExecuteTime": {
     "end_time": "2018-12-18T12:14:18.761011Z",
     "start_time": "2018-12-18T12:14:13.988060Z"
    }
   },
   "outputs": [
    {
     "name": "stdout",
     "output_type": "stream",
     "text": [
      "Enter Pin A input for gate G1 -->1\n",
      "Enter Pin B input for gate G1 -->1\n",
      "Enter Pin A input for gate G2 -->1\n",
      "Enter Pin B input for gate G2 -->1\n",
      "Enter Pin input for gate G3 -->1\n",
      "Enter Pin A input for gate G4 -->1\n",
      "Enter Pin B input for gate G4 -->1\n",
      "Enter Pin A input for gate G5 -->1\n",
      "Enter Pin B input for gate G5 -->1\n",
      "Enter Pin A input for gate G6 -->1\n",
      "Enter Pin B input for gate G6 -->1\n",
      "1 1 0 0 0 0\n"
     ]
    }
   ],
   "source": [
    "g1 = AndGate(\"G1\")\n",
    "o1 = g1.get_output()\n",
    "g2 = OrGate(\"G2\")\n",
    "o2 = g2.get_output()\n",
    "g3 = NotGate(\"G3\")\n",
    "o3 = g3.get_output()\n",
    "g4 = NorGate(\"G4\")\n",
    "o4 = g4.get_output()\n",
    "g5 = NandGate(\"G5\")\n",
    "o5 = g5.get_output()\n",
    "g6 = XorGate(\"G6\")\n",
    "o6 = g6.get_output()\n",
    "print(o1, o2, o3, o4, o5, o6)"
   ]
  },
  {
   "cell_type": "code",
   "execution_count": 17,
   "metadata": {
    "ExecuteTime": {
     "end_time": "2018-12-18T12:14:42.076762Z",
     "start_time": "2018-12-18T12:14:41.137977Z"
    }
   },
   "outputs": [
    {
     "name": "stdout",
     "output_type": "stream",
     "text": [
      "Enter Pin A input for gate G1 -->0\n",
      "Enter Pin B input for gate G1 -->0\n"
     ]
    },
    {
     "data": {
      "text/plain": [
       "0"
      ]
     },
     "execution_count": 17,
     "metadata": {},
     "output_type": "execute_result"
    }
   ],
   "source": [
    "g1 = XorGate(\"G1\")\n",
    "g1.get_output()"
   ]
  },
  {
   "cell_type": "markdown",
   "metadata": {},
   "source": [
    "## Connector"
   ]
  },
  {
   "attachments": {
    "image.png": {
     "image/png": "[encoded data removed]"
    }
   },
   "cell_type": "markdown",
   "metadata": {},
   "source": [
    "![image.png](attachment:image.png)"
   ]
  },
  {
   "cell_type": "code",
   "execution_count": 18,
   "metadata": {
    "ExecuteTime": {
     "end_time": "2018-12-18T12:43:19.815038Z",
     "start_time": "2018-12-18T12:43:19.809847Z"
    }
   },
   "outputs": [],
   "source": [
    "class Connector:\n",
    "    def __init__(self, fgate, tgate):\n",
    "        self.fromgate = fgate\n",
    "        self.togate = tgate\n",
    "        \n",
    "        tgate.set_next_pin(self)\n",
    "        \n",
    "    def get_from(self):\n",
    "        return self.fromgate\n",
    "    \n",
    "    def get_to(self):\n",
    "        return self.togate"
   ]
  },
  {
   "cell_type": "code",
   "execution_count": 20,
   "metadata": {
    "ExecuteTime": {
     "end_time": "2018-12-18T12:43:25.857455Z",
     "start_time": "2018-12-18T12:43:23.596765Z"
    }
   },
   "outputs": [
    {
     "name": "stdout",
     "output_type": "stream",
     "text": [
      "Enter Pin A input for gate G1 -->1\n",
      "Enter Pin B input for gate G1 -->1\n",
      "Enter Pin A input for gate G2 -->1\n",
      "Enter Pin B input for gate G2 -->1\n"
     ]
    },
    {
     "data": {
      "text/plain": [
       "0"
      ]
     },
     "execution_count": 20,
     "metadata": {},
     "output_type": "execute_result"
    }
   ],
   "source": [
    "g1 = AndGate(\"G1\")\n",
    "g2 = AndGate(\"G2\")\n",
    "g3 = OrGate(\"G3\")\n",
    "g4 = NotGate(\"G4\")\n",
    "c1 = Connector(g1, g3)\n",
    "c2 = Connector(g2, g3)\n",
    "c3 = Connector(g3, g4)\n",
    "g4.get_output()"
   ]
  },
  {
   "cell_type": "code",
   "execution_count": 54,
   "metadata": {
    "ExecuteTime": {
     "end_time": "2018-12-18T04:18:40.416964Z",
     "start_time": "2018-12-18T04:18:40.413851Z"
    }
   },
   "outputs": [],
   "source": [
    "g1 = AndGate(\"G1\")"
   ]
  },
  {
   "cell_type": "code",
   "execution_count": 55,
   "metadata": {
    "ExecuteTime": {
     "end_time": "2018-12-18T04:18:44.957457Z",
     "start_time": "2018-12-18T04:18:41.467628Z"
    }
   },
   "outputs": [
    {
     "name": "stdout",
     "output_type": "stream",
     "text": [
      "Enter Pin A input for gate G1 -->1\n",
      "Enter Pin B input for gate G1 -->1\n",
      "Enter Pin A input for gate G2 -->1\n",
      "Enter Pin B input for gate G2 -->1\n"
     ]
    },
    {
     "data": {
      "text/plain": [
       "1"
      ]
     },
     "execution_count": 55,
     "metadata": {},
     "output_type": "execute_result"
    }
   ],
   "source": [
    "g4.get_pin()"
   ]
  },
  {
   "cell_type": "code",
   "execution_count": 128,
   "metadata": {
    "ExecuteTime": {
     "end_time": "2018-12-18T06:58:37.258380Z",
     "start_time": "2018-12-18T06:58:36.037509Z"
    }
   },
   "outputs": [
    {
     "name": "stdout",
     "output_type": "stream",
     "text": [
      "Enter Pin A input for gate G1 -->1\n",
      "Enter Pin B input for gate G1 -->1\n",
      "Enter Pin A input for gate g2 -->1\n",
      "Enter Pin B input for gate g2 -->1\n"
     ]
    },
    {
     "data": {
      "text/plain": [
       "0"
      ]
     },
     "execution_count": 128,
     "metadata": {},
     "output_type": "execute_result"
    }
   ],
   "source": [
    "g1 = AndGate(\"G1\")\n",
    "g2 = AndGate(\"g2\")\n",
    "g3 = OrGate(\"G3\")\n",
    "Connector(g1, g3)\n",
    "Connector(g2, g3)\n",
    "g4 = NotGate(\"G4\")\n",
    "Connector(g3, g4)\n",
    "g4.get_output()"
   ]
  },
  {
   "cell_type": "code",
   "execution_count": 126,
   "metadata": {
    "ExecuteTime": {
     "end_time": "2018-12-18T06:58:27.175510Z",
     "start_time": "2018-12-18T06:58:25.801393Z"
    }
   },
   "outputs": [
    {
     "name": "stdout",
     "output_type": "stream",
     "text": [
      "Enter Pin A input for gate G1 -->1\n",
      "Enter Pin B input for gate G1 -->1\n",
      "Enter Pin A input for gate G2 -->1\n",
      "Enter Pin B input for gate G2 -->1\n"
     ]
    },
    {
     "data": {
      "text/plain": [
       "0"
      ]
     },
     "execution_count": 126,
     "metadata": {},
     "output_type": "execute_result"
    }
   ],
   "source": [
    "g1 = NandGate(\"G1\")\n",
    "g2 = NandGate(\"G2\")\n",
    "g3 = AndGate(\"G3\")\n",
    "Connector(g1, g3)\n",
    "Connector(g2, g3)\n",
    "g3.get_output()"
   ]
  },
  {
   "cell_type": "code",
   "execution_count": 127,
   "metadata": {
    "ExecuteTime": {
     "end_time": "2018-12-18T06:58:30.545117Z",
     "start_time": "2018-12-18T06:58:29.145094Z"
    }
   },
   "outputs": [
    {
     "name": "stdout",
     "output_type": "stream",
     "text": [
      "Enter Pin A input for gate G1 -->1\n",
      "Enter Pin B input for gate G1 -->1\n",
      "Enter Pin A input for gate G2 -->1\n",
      "Enter Pin B input for gate G2 -->1\n"
     ]
    },
    {
     "data": {
      "text/plain": [
       "0"
      ]
     },
     "execution_count": 127,
     "metadata": {},
     "output_type": "execute_result"
    }
   ],
   "source": [
    "g1 = AndGate(\"G1\")\n",
    "g2 = AndGate(\"G2\")\n",
    "g3 = NorGate(\"G3\")\n",
    "Connector(g1, g3)\n",
    "Connector(g2, g3)\n",
    "g3.get_output()"
   ]
  },
  {
   "cell_type": "markdown",
   "metadata": {},
   "source": [
    "## Half Adder"
   ]
  },
  {
   "attachments": {
    "image.png": {
     "image/png": "[encoded data removed]"
    }
   },
   "cell_type": "markdown",
   "metadata": {},
   "source": [
    "![image.png](attachment:image.png)"
   ]
  },
  {
   "cell_type": "markdown",
   "metadata": {},
   "source": [
    "An adder is a digital circuit that performs addition of numbers. The half adder adds two binary digits called as augend and addend and produces two outputs as sum and carry; XOR is applied to both inputs to produce sum and AND gate is applied to both inputs to produce carry. "
   ]
  },
  {
   "cell_type": "code",
   "execution_count": 24,
   "metadata": {
    "ExecuteTime": {
     "end_time": "2018-12-18T12:46:21.717746Z",
     "start_time": "2018-12-18T12:46:21.706069Z"
    }
   },
   "outputs": [],
   "source": [
    "class HalfAdder:\n",
    "    def __init__(self, label):\n",
    "        self.label = label\n",
    "        \n",
    "    def calculate(self):\n",
    "        s = AndGate(\"SUM\")\n",
    "        c = XorGate(\"CARRY\")\n",
    "        rsum = s.get_output()\n",
    "        rcarry = c.get_output()\n",
    "        return rsum, rcarry"
   ]
  },
  {
   "cell_type": "code",
   "execution_count": 25,
   "metadata": {
    "ExecuteTime": {
     "end_time": "2018-12-18T12:46:22.576584Z",
     "start_time": "2018-12-18T12:46:22.573685Z"
    }
   },
   "outputs": [],
   "source": [
    "half_adder = HalfAdder(\"HalfAdder\")"
   ]
  },
  {
   "cell_type": "code",
   "execution_count": 26,
   "metadata": {
    "ExecuteTime": {
     "end_time": "2018-12-18T12:46:26.090441Z",
     "start_time": "2018-12-18T12:46:23.887950Z"
    }
   },
   "outputs": [
    {
     "name": "stdout",
     "output_type": "stream",
     "text": [
      "Enter Pin A input for gate SUM -->1\n",
      "Enter Pin B input for gate SUM -->1\n",
      "Enter Pin A input for gate CARRY -->1\n",
      "Enter Pin B input for gate CARRY -->1\n"
     ]
    },
    {
     "data": {
      "text/plain": [
       "(1, 0)"
      ]
     },
     "execution_count": 26,
     "metadata": {},
     "output_type": "execute_result"
    }
   ],
   "source": [
    "half_adder.calculate()"
   ]
  },
  {
   "cell_type": "code",
   "execution_count": null,
   "metadata": {},
   "outputs": [],
   "source": []
  }
 ],
 "metadata": {
  "kernelspec": {
   "display_name": "Python 3",
   "language": "python",
   "name": "python3"
  },
  "language_info": {
   "codemirror_mode": {
    "name": "ipython",
    "version": 3
   },
   "file_extension": ".py",
   "mimetype": "text/x-python",
   "name": "python",
   "nbconvert_exporter": "python",
   "pygments_lexer": "ipython3",
   "version": "3.5.2"
  },
  "toc": {
   "base_numbering": 1,
   "nav_menu": {},
   "number_sections": true,
   "sideBar": true,
   "skip_h1_title": false,
   "title_cell": "Table of Contents",
   "title_sidebar": "Contents",
   "toc_cell": false,
   "toc_position": {},
   "toc_section_display": true,
   "toc_window_display": true
  }
 },
 "nbformat": 4,
 "nbformat_minor": 2
}
