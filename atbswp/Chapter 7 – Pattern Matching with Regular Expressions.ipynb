{
 "cells": [
  {
   "cell_type": "markdown",
   "metadata": {},
   "source": [
    "# Pattern Matching with Regular Expressions"
   ]
  },
  {
   "cell_type": "markdown",
   "metadata": {},
   "source": [
    "## Finding Patterns of Text Without Regular Expressions"
   ]
  },
  {
   "cell_type": "code",
   "execution_count": 1,
   "metadata": {
    "ExecuteTime": {
     "end_time": "2018-12-08T15:21:16.634135Z",
     "start_time": "2018-12-08T15:21:16.627940Z"
    }
   },
   "outputs": [],
   "source": [
    "def is_phone_number(s):\n",
    "    if len(s) != 12:\n",
    "        return False\n",
    "    if not (s[3] == s[7] == '-'):\n",
    "        return False\n",
    "    for i in s[:3]:\n",
    "        if not i.isdigit():\n",
    "            return False\n",
    "    for i in s[4:7]:\n",
    "        if not i.isdigit():\n",
    "            return False\n",
    "    for i in s[8:]:\n",
    "        if not i.isdigit():\n",
    "            return False\n",
    "    return True"
   ]
  },
  {
   "cell_type": "code",
   "execution_count": 2,
   "metadata": {
    "ExecuteTime": {
     "end_time": "2018-12-08T15:21:16.652996Z",
     "start_time": "2018-12-08T15:21:16.640078Z"
    }
   },
   "outputs": [
    {
     "data": {
      "text/plain": [
       "True"
      ]
     },
     "execution_count": 2,
     "metadata": {},
     "output_type": "execute_result"
    }
   ],
   "source": [
    "s = '415-555-4242'\n",
    "is_phone_number(s)"
   ]
  },
  {
   "cell_type": "code",
   "execution_count": 3,
   "metadata": {
    "ExecuteTime": {
     "end_time": "2018-12-08T15:21:16.664446Z",
     "start_time": "2018-12-08T15:21:16.657209Z"
    }
   },
   "outputs": [
    {
     "name": "stdout",
     "output_type": "stream",
     "text": [
      "Phone number found: 415-555-1011\n",
      "Phone number found: 415-555-9999\n",
      "Done\n"
     ]
    }
   ],
   "source": [
    "message = 'Call me at 415-555-1011 tomorrow. 415-555-9999 is my office.'\n",
    "for i in range(len(message)):\n",
    "    chunk = message[i:i+12]\n",
    "    if is_phone_number(chunk):\n",
    "        print('Phone number found: ' + chunk)\n",
    "print('Done')"
   ]
  },
  {
   "cell_type": "markdown",
   "metadata": {},
   "source": [
    "## Finding Patterns of Text with Regular Expressions"
   ]
  },
  {
   "cell_type": "code",
   "execution_count": 4,
   "metadata": {
    "ExecuteTime": {
     "end_time": "2018-12-08T15:21:16.672594Z",
     "start_time": "2018-12-08T15:21:16.668968Z"
    }
   },
   "outputs": [],
   "source": [
    "import re\n",
    "from pprint import pprint"
   ]
  },
  {
   "cell_type": "markdown",
   "metadata": {},
   "source": [
    "### Regex Objects"
   ]
  },
  {
   "cell_type": "code",
   "execution_count": 5,
   "metadata": {
    "ExecuteTime": {
     "end_time": "2018-12-08T15:21:16.681537Z",
     "start_time": "2018-12-08T15:21:16.675891Z"
    }
   },
   "outputs": [],
   "source": [
    "def is_phone_number_re(s):\n",
    "    p = re.compile(r'\\d{3}-\\d{3}-\\d{4}')\n",
    "    # res = re.findall(p, s)\n",
    "    res = p.findall(s)\n",
    "    return list(res)"
   ]
  },
  {
   "cell_type": "code",
   "execution_count": 6,
   "metadata": {
    "ExecuteTime": {
     "end_time": "2018-12-08T15:21:16.690663Z",
     "start_time": "2018-12-08T15:21:16.684936Z"
    }
   },
   "outputs": [
    {
     "name": "stdout",
     "output_type": "stream",
     "text": [
      "['415-555-1011', '415-555-9999']\n"
     ]
    }
   ],
   "source": [
    "res = is_phone_number_re(message)\n",
    "pprint(res)"
   ]
  },
  {
   "cell_type": "markdown",
   "metadata": {},
   "source": [
    "### re.search()"
   ]
  },
  {
   "cell_type": "code",
   "execution_count": 7,
   "metadata": {
    "ExecuteTime": {
     "end_time": "2018-12-08T15:21:16.702138Z",
     "start_time": "2018-12-08T15:21:16.698314Z"
    }
   },
   "outputs": [
    {
     "name": "stdout",
     "output_type": "stream",
     "text": [
      "Phone number found: 415-555-4242\n"
     ]
    }
   ],
   "source": [
    "phoneNumRegex = re.compile(r'\\d\\d\\d-\\d\\d\\d-\\d\\d\\d\\d')\n",
    "mo = phoneNumRegex.search(s)\n",
    "print('Phone number found: ' + mo.group(0))"
   ]
  },
  {
   "cell_type": "markdown",
   "metadata": {},
   "source": [
    "### re.group() & re.groups()"
   ]
  },
  {
   "cell_type": "code",
   "execution_count": 8,
   "metadata": {
    "ExecuteTime": {
     "end_time": "2018-12-08T15:21:16.716531Z",
     "start_time": "2018-12-08T15:21:16.707989Z"
    }
   },
   "outputs": [
    {
     "name": "stdout",
     "output_type": "stream",
     "text": [
      "Phone number found: 415-555-4242\n",
      "Phone number first: 415\n",
      "Phone number second: 555-4242\n"
     ]
    }
   ],
   "source": [
    "phoneNumRegex = re.compile(r'(\\d\\d\\d)-(\\d\\d\\d-\\d\\d\\d\\d)')\n",
    "mo = phoneNumRegex.search(s)\n",
    "print('Phone number found: ' + mo.group(0))\n",
    "print('Phone number first: ' + mo.group(1))\n",
    "print('Phone number second: ' + mo.group(2))"
   ]
  },
  {
   "cell_type": "code",
   "execution_count": 9,
   "metadata": {
    "ExecuteTime": {
     "end_time": "2018-12-08T15:21:16.724226Z",
     "start_time": "2018-12-08T15:21:16.718658Z"
    }
   },
   "outputs": [
    {
     "name": "stdout",
     "output_type": "stream",
     "text": [
      "('415', '555-4242')\n"
     ]
    }
   ],
   "source": [
    "pprint(mo.groups())"
   ]
  },
  {
   "cell_type": "markdown",
   "metadata": {},
   "source": [
    "### Optional Matching with the Question Mark"
   ]
  },
  {
   "cell_type": "code",
   "execution_count": 10,
   "metadata": {
    "ExecuteTime": {
     "end_time": "2018-12-08T15:21:16.731666Z",
     "start_time": "2018-12-08T15:21:16.726212Z"
    }
   },
   "outputs": [],
   "source": [
    "batRegex = re.compile(r'Bat(wo)?man')"
   ]
  },
  {
   "cell_type": "code",
   "execution_count": 11,
   "metadata": {
    "ExecuteTime": {
     "end_time": "2018-12-08T15:21:16.738950Z",
     "start_time": "2018-12-08T15:21:16.733597Z"
    }
   },
   "outputs": [
    {
     "data": {
      "text/plain": [
       "'Batman'"
      ]
     },
     "execution_count": 11,
     "metadata": {},
     "output_type": "execute_result"
    }
   ],
   "source": [
    "mo1 = batRegex.search('The Adventures of Batman')\n",
    "mo1.group()"
   ]
  },
  {
   "cell_type": "code",
   "execution_count": 12,
   "metadata": {
    "ExecuteTime": {
     "end_time": "2018-12-08T15:21:16.748729Z",
     "start_time": "2018-12-08T15:21:16.741998Z"
    }
   },
   "outputs": [
    {
     "data": {
      "text/plain": [
       "'Batwoman'"
      ]
     },
     "execution_count": 12,
     "metadata": {},
     "output_type": "execute_result"
    }
   ],
   "source": [
    "mo2 = batRegex.search('The Adventures of Batwoman')\n",
    "mo2.group()"
   ]
  },
  {
   "cell_type": "markdown",
   "metadata": {},
   "source": [
    "### Matching Zero or More with the Star"
   ]
  },
  {
   "cell_type": "code",
   "execution_count": 13,
   "metadata": {
    "ExecuteTime": {
     "end_time": "2018-12-08T15:21:16.755991Z",
     "start_time": "2018-12-08T15:21:16.750761Z"
    }
   },
   "outputs": [],
   "source": [
    "batRegex = re.compile(r'Bat(wo)*man')"
   ]
  },
  {
   "cell_type": "code",
   "execution_count": 14,
   "metadata": {
    "ExecuteTime": {
     "end_time": "2018-12-08T15:21:16.764541Z",
     "start_time": "2018-12-08T15:21:16.758020Z"
    }
   },
   "outputs": [
    {
     "data": {
      "text/plain": [
       "'Batman'"
      ]
     },
     "execution_count": 14,
     "metadata": {},
     "output_type": "execute_result"
    }
   ],
   "source": [
    "mo1 = batRegex.search('The Adventures of Batman')\n",
    "mo1.group()"
   ]
  },
  {
   "cell_type": "code",
   "execution_count": 15,
   "metadata": {
    "ExecuteTime": {
     "end_time": "2018-12-08T15:21:16.773884Z",
     "start_time": "2018-12-08T15:21:16.770028Z"
    }
   },
   "outputs": [
    {
     "data": {
      "text/plain": [
       "'Batwoman'"
      ]
     },
     "execution_count": 15,
     "metadata": {},
     "output_type": "execute_result"
    }
   ],
   "source": [
    "mo2 = batRegex.search('The Adventures of Batwoman')\n",
    "mo2.group()"
   ]
  },
  {
   "cell_type": "code",
   "execution_count": 16,
   "metadata": {
    "ExecuteTime": {
     "end_time": "2018-12-08T15:21:16.782944Z",
     "start_time": "2018-12-08T15:21:16.775969Z"
    }
   },
   "outputs": [
    {
     "data": {
      "text/plain": [
       "'Batwowowowoman'"
      ]
     },
     "execution_count": 16,
     "metadata": {},
     "output_type": "execute_result"
    }
   ],
   "source": [
    "mo3 = batRegex.search('The Adventures of Batwowowowoman')\n",
    "mo3.group()"
   ]
  },
  {
   "cell_type": "markdown",
   "metadata": {},
   "source": [
    "### Matching One or More with the Plus"
   ]
  },
  {
   "cell_type": "code",
   "execution_count": 17,
   "metadata": {
    "ExecuteTime": {
     "end_time": "2018-12-08T15:21:16.791210Z",
     "start_time": "2018-12-08T15:21:16.786521Z"
    }
   },
   "outputs": [],
   "source": [
    "batRegex = re.compile(r'Bat(wo)+man')"
   ]
  },
  {
   "cell_type": "code",
   "execution_count": 18,
   "metadata": {
    "ExecuteTime": {
     "end_time": "2018-12-08T15:21:16.800448Z",
     "start_time": "2018-12-08T15:21:16.793272Z"
    }
   },
   "outputs": [
    {
     "data": {
      "text/plain": [
       "'Batwoman'"
      ]
     },
     "execution_count": 18,
     "metadata": {},
     "output_type": "execute_result"
    }
   ],
   "source": [
    "mo1 = batRegex.search('The Adventures of Batwoman')\n",
    "mo1.group()"
   ]
  },
  {
   "cell_type": "code",
   "execution_count": 19,
   "metadata": {
    "ExecuteTime": {
     "end_time": "2018-12-08T15:21:16.809052Z",
     "start_time": "2018-12-08T15:21:16.802620Z"
    }
   },
   "outputs": [
    {
     "data": {
      "text/plain": [
       "'Batwowowowoman'"
      ]
     },
     "execution_count": 19,
     "metadata": {},
     "output_type": "execute_result"
    }
   ],
   "source": [
    "mo2 = batRegex.search('The Adventures of Batwowowowoman')\n",
    "mo2.group()"
   ]
  },
  {
   "cell_type": "code",
   "execution_count": 20,
   "metadata": {
    "ExecuteTime": {
     "end_time": "2018-12-08T15:21:16.821192Z",
     "start_time": "2018-12-08T15:21:16.812119Z"
    }
   },
   "outputs": [
    {
     "data": {
      "text/plain": [
       "True"
      ]
     },
     "execution_count": 20,
     "metadata": {},
     "output_type": "execute_result"
    }
   ],
   "source": [
    "mo3 = batRegex.search('The Adventures of Batman')\n",
    "mo3 == None"
   ]
  },
  {
   "cell_type": "markdown",
   "metadata": {},
   "source": [
    "### ?*+ Summary"
   ]
  },
  {
   "cell_type": "markdown",
   "metadata": {},
   "source": [
    "- \\? zero or one\n",
    "- \\* zero or more\n",
    "- \\+ one or more"
   ]
  },
  {
   "cell_type": "markdown",
   "metadata": {},
   "source": [
    "### Greedy and Nongreedy Matching"
   ]
  },
  {
   "cell_type": "code",
   "execution_count": 21,
   "metadata": {
    "ExecuteTime": {
     "end_time": "2018-12-08T15:21:16.828597Z",
     "start_time": "2018-12-08T15:21:16.823254Z"
    }
   },
   "outputs": [
    {
     "data": {
      "text/plain": [
       "'HaHaHaHaHa'"
      ]
     },
     "execution_count": 21,
     "metadata": {},
     "output_type": "execute_result"
    }
   ],
   "source": [
    "greedyHaRegex = re.compile(r'(Ha){3,5}')\n",
    "mo1 = greedyHaRegex.search('HaHaHaHaHa')\n",
    "mo1.group()"
   ]
  },
  {
   "cell_type": "code",
   "execution_count": 22,
   "metadata": {
    "ExecuteTime": {
     "end_time": "2018-12-08T15:21:16.836912Z",
     "start_time": "2018-12-08T15:21:16.832711Z"
    }
   },
   "outputs": [
    {
     "data": {
      "text/plain": [
       "('Ha',)"
      ]
     },
     "execution_count": 22,
     "metadata": {},
     "output_type": "execute_result"
    }
   ],
   "source": [
    "mo1.groups()"
   ]
  },
  {
   "cell_type": "code",
   "execution_count": 23,
   "metadata": {
    "ExecuteTime": {
     "end_time": "2018-12-08T15:21:16.846004Z",
     "start_time": "2018-12-08T15:21:16.841164Z"
    }
   },
   "outputs": [
    {
     "data": {
      "text/plain": [
       "'HaHaHa'"
      ]
     },
     "execution_count": 23,
     "metadata": {},
     "output_type": "execute_result"
    }
   ],
   "source": [
    "nongreedyHaRegex = re.compile(r'(Ha){3,5}?')\n",
    "mo2 = nongreedyHaRegex.search('HaHaHaHaHa')\n",
    "mo2.group()"
   ]
  },
  {
   "cell_type": "code",
   "execution_count": 24,
   "metadata": {
    "ExecuteTime": {
     "end_time": "2018-12-08T15:21:16.854373Z",
     "start_time": "2018-12-08T15:21:16.848466Z"
    }
   },
   "outputs": [
    {
     "data": {
      "text/plain": [
       "('Ha',)"
      ]
     },
     "execution_count": 24,
     "metadata": {},
     "output_type": "execute_result"
    }
   ],
   "source": [
    "mo2.groups()"
   ]
  },
  {
   "cell_type": "markdown",
   "metadata": {},
   "source": [
    "### The findall() Method"
   ]
  },
  {
   "cell_type": "code",
   "execution_count": 25,
   "metadata": {
    "ExecuteTime": {
     "end_time": "2018-12-08T15:21:16.862996Z",
     "start_time": "2018-12-08T15:21:16.858314Z"
    }
   },
   "outputs": [
    {
     "data": {
      "text/plain": [
       "['415-555-9999', '212-555-0000']"
      ]
     },
     "execution_count": 25,
     "metadata": {},
     "output_type": "execute_result"
    }
   ],
   "source": [
    "phoneNumRegex = re.compile(r'\\d\\d\\d-\\d\\d\\d-\\d\\d\\d\\d') # has no groups\n",
    "phoneNumRegex.findall('Cell: 415-555-9999 Work: 212-555-0000')"
   ]
  },
  {
   "cell_type": "code",
   "execution_count": 26,
   "metadata": {
    "ExecuteTime": {
     "end_time": "2018-12-08T15:21:16.872932Z",
     "start_time": "2018-12-08T15:21:16.866393Z"
    }
   },
   "outputs": [
    {
     "data": {
      "text/plain": [
       "[('415', '555', '9999'), ('212', '555', '0000')]"
      ]
     },
     "execution_count": 26,
     "metadata": {},
     "output_type": "execute_result"
    }
   ],
   "source": [
    "phoneNumRegex = re.compile(r'(\\d\\d\\d)-(\\d\\d\\d)-(\\d\\d\\d\\d)') # has groups\n",
    "phoneNumRegex.findall('Cell: 415-555-9999 Work: 212-555-0000')"
   ]
  },
  {
   "cell_type": "markdown",
   "metadata": {},
   "source": [
    "### Character Classes"
   ]
  },
  {
   "cell_type": "markdown",
   "metadata": {},
   "source": [
    "### Substituting Strings with the sub() Method"
   ]
  },
  {
   "cell_type": "code",
   "execution_count": 27,
   "metadata": {
    "ExecuteTime": {
     "end_time": "2018-12-08T15:21:16.880754Z",
     "start_time": "2018-12-08T15:21:16.878000Z"
    }
   },
   "outputs": [],
   "source": [
    "namesRegex = re.compile(r'Agent \\w+')\n",
    "agentNamesRegex = re.compile(r'Agent (\\w)\\w*')"
   ]
  },
  {
   "cell_type": "code",
   "execution_count": 28,
   "metadata": {
    "ExecuteTime": {
     "end_time": "2018-12-08T15:21:16.889325Z",
     "start_time": "2018-12-08T15:21:16.882826Z"
    }
   },
   "outputs": [
    {
     "data": {
      "text/plain": [
       "'A**** told C**** that E**** knew B**** was a double agent.'"
      ]
     },
     "execution_count": 28,
     "metadata": {},
     "output_type": "execute_result"
    }
   ],
   "source": [
    "agentNamesRegex = re.compile(r'Agent (\\w)\\w*')\n",
    "agentNamesRegex.sub(r'\\1****', 'Agent Alice told Agent Carol that Agent '\n",
    "                    'Eve knew Agent Bob was a double agent.')"
   ]
  },
  {
   "cell_type": "markdown",
   "metadata": {},
   "source": [
    "## Question"
   ]
  },
  {
   "cell_type": "code",
   "execution_count": 29,
   "metadata": {
    "ExecuteTime": {
     "end_time": "2018-12-08T15:21:16.902986Z",
     "start_time": "2018-12-08T15:21:16.891530Z"
    }
   },
   "outputs": [
    {
     "name": "stdout",
     "output_type": "stream",
     "text": [
      "match: 42\n",
      "match: 1,234\n",
      "match: 123,234\n",
      "match: 6,368,745\n",
      "not match: 12,34,567\n",
      "not match: 1234\n",
      "not match: 123456\n"
     ]
    }
   ],
   "source": [
    "p = re.compile(r'^\\d{1,3}(,\\d{3})*$')\n",
    "s = '''42\n",
    "1,234\n",
    "123,234\n",
    "6,368,745\n",
    "12,34,567\n",
    "1234\n",
    "123456\n",
    "'''\n",
    "\n",
    "for each in s.split():\n",
    "    if p.match(each):\n",
    "        print('match:', each)\n",
    "    else:\n",
    "        print('not match:', each)"
   ]
  },
  {
   "cell_type": "code",
   "execution_count": 30,
   "metadata": {
    "ExecuteTime": {
     "end_time": "2018-12-08T15:21:16.915111Z",
     "start_time": "2018-12-08T15:21:16.904986Z"
    }
   },
   "outputs": [
    {
     "name": "stdout",
     "output_type": "stream",
     "text": [
      "match: Satoshi Nakamoto\n",
      "match: Alice Nakamoto\n",
      "match: Robocop Nakamoto\n",
      "not match: satoshi Nakamoto\n",
      "not match: Mr. Nakamoto\n",
      "not match: Nakamoto\n",
      "not match: Satoshi nakamoto\n"
     ]
    }
   ],
   "source": [
    "p = re.compile(r'^[A-Z][a-z]*\\sNakamoto')\n",
    "\n",
    "s = '''Satoshi Nakamoto\n",
    "Alice Nakamoto\n",
    "Robocop Nakamoto\n",
    "satoshi Nakamoto\n",
    "Mr. Nakamoto\n",
    "Nakamoto\n",
    "Satoshi nakamoto'''\n",
    "\n",
    "for each in s.split('\\n'):\n",
    "    if p.match(each):\n",
    "        print('match:', each)\n",
    "    else:\n",
    "        print('not match:', each)"
   ]
  },
  {
   "cell_type": "code",
   "execution_count": 31,
   "metadata": {
    "ExecuteTime": {
     "end_time": "2018-12-08T15:21:16.927771Z",
     "start_time": "2018-12-08T15:21:16.917086Z"
    }
   },
   "outputs": [
    {
     "name": "stdout",
     "output_type": "stream",
     "text": [
      "match: Alice eats apples.\n",
      "match: Bob pets cats.\n",
      "match: Carol throws baseballs.\n",
      "match: Alice throws Apples.\n",
      "match: BOB EATS CATS.\n",
      "not match: Robocop eats apples.\n",
      "not match: ALICE THROWS FOOTBALLS.\n",
      "not match: Carol eats 7 cats.\n"
     ]
    }
   ],
   "source": [
    "p = re.compile(r'(Alice|Bob|Carol)\\s(eats|throws|pets)\\s(apples|cats|baseballs)\\.', re.I)\n",
    "\n",
    "s = '''Alice eats apples.\n",
    "Bob pets cats.\n",
    "Carol throws baseballs.\n",
    "Alice throws Apples.\n",
    "BOB EATS CATS.\n",
    "Robocop eats apples.\n",
    "ALICE THROWS FOOTBALLS.\n",
    "Carol eats 7 cats.'''\n",
    "\n",
    "for each in s.split('\\n'):\n",
    "    if p.match(each):\n",
    "        print('match:', each)\n",
    "    else:\n",
    "        print('not match:', each)"
   ]
  },
  {
   "cell_type": "markdown",
   "metadata": {},
   "source": [
    "## Practise"
   ]
  },
  {
   "cell_type": "code",
   "execution_count": 32,
   "metadata": {
    "ExecuteTime": {
     "end_time": "2018-12-08T15:21:16.937857Z",
     "start_time": "2018-12-08T15:21:16.929718Z"
    }
   },
   "outputs": [],
   "source": [
    "def strong_password_check(s):\n",
    "    if is_strong(s):\n",
    "        print(\"Strong password!\")\n",
    "    else:\n",
    "        print('Not strong enough!')\n",
    "\n",
    "\n",
    "def is_strong(s):\n",
    "    if len(s) < 8:\n",
    "        return False\n",
    "    if (re.search(r'\\d+', s) != None and\n",
    "        re.search(r'[A-Z]+', s) != None and\n",
    "        re.search(r'[a-z]+', s) != None):\n",
    "        return True\n",
    "    return False"
   ]
  },
  {
   "cell_type": "code",
   "execution_count": 33,
   "metadata": {
    "ExecuteTime": {
     "end_time": "2018-12-08T15:21:16.946928Z",
     "start_time": "2018-12-08T15:21:16.940884Z"
    }
   },
   "outputs": [
    {
     "name": "stdout",
     "output_type": "stream",
     "text": [
      "Strong password!\n"
     ]
    }
   ],
   "source": [
    "pass1 = 'ASWDjpwijea3'\n",
    "strong_password_check(pass1)"
   ]
  },
  {
   "cell_type": "markdown",
   "metadata": {},
   "source": [
    "## Appendix"
   ]
  },
  {
   "cell_type": "code",
   "execution_count": 34,
   "metadata": {
    "ExecuteTime": {
     "end_time": "2018-12-08T15:21:16.955526Z",
     "start_time": "2018-12-08T15:21:16.948860Z"
    }
   },
   "outputs": [],
   "source": [
    "def func():\n",
    "    \"\"\"Do nothing\"\"\"\n",
    "    print('do nothing')"
   ]
  },
  {
   "cell_type": "code",
   "execution_count": 35,
   "metadata": {
    "ExecuteTime": {
     "end_time": "2018-12-08T15:21:16.963752Z",
     "start_time": "2018-12-08T15:21:16.957723Z"
    }
   },
   "outputs": [
    {
     "data": {
      "text/plain": [
       "['__annotations__',\n",
       " '__call__',\n",
       " '__class__',\n",
       " '__closure__',\n",
       " '__code__',\n",
       " '__defaults__',\n",
       " '__delattr__',\n",
       " '__dict__',\n",
       " '__dir__',\n",
       " '__doc__',\n",
       " '__eq__',\n",
       " '__format__',\n",
       " '__ge__',\n",
       " '__get__',\n",
       " '__getattribute__',\n",
       " '__globals__',\n",
       " '__gt__',\n",
       " '__hash__',\n",
       " '__init__',\n",
       " '__kwdefaults__',\n",
       " '__le__',\n",
       " '__lt__',\n",
       " '__module__',\n",
       " '__name__',\n",
       " '__ne__',\n",
       " '__new__',\n",
       " '__qualname__',\n",
       " '__reduce__',\n",
       " '__reduce_ex__',\n",
       " '__repr__',\n",
       " '__setattr__',\n",
       " '__sizeof__',\n",
       " '__str__',\n",
       " '__subclasshook__']"
      ]
     },
     "execution_count": 35,
     "metadata": {},
     "output_type": "execute_result"
    }
   ],
   "source": [
    "dir(func)"
   ]
  },
  {
   "cell_type": "code",
   "execution_count": 36,
   "metadata": {
    "ExecuteTime": {
     "end_time": "2018-12-08T15:21:16.973288Z",
     "start_time": "2018-12-08T15:21:16.965995Z"
    }
   },
   "outputs": [],
   "source": [
    "class Test():\n",
    "    \"\"\"Simple test class\"\"\"\n",
    "    def __init__(self):\n",
    "        pass\n",
    "    \n",
    "    def func1(self):\n",
    "        \"\"\"func1\"\"\"\n",
    "        pass\n",
    "    \n",
    "    def func2(self):\n",
    "        \"\"\"func2\"\"\"\n",
    "        pass\n",
    "    \n",
    "    def func3(self):\n",
    "        \"\"\"func3\"\"\"\n",
    "        pass"
   ]
  },
  {
   "cell_type": "code",
   "execution_count": 37,
   "metadata": {
    "ExecuteTime": {
     "end_time": "2018-12-08T15:21:16.990008Z",
     "start_time": "2018-12-08T15:21:16.985172Z"
    }
   },
   "outputs": [
    {
     "data": {
      "text/plain": [
       "dict_items([('func1', <function Test.func1 at 0x7f29b8341840>), ('func3', <function Test.func3 at 0x7f29b8341950>), ('__weakref__', <attribute '__weakref__' of 'Test' objects>), ('__dict__', <attribute '__dict__' of 'Test' objects>), ('func2', <function Test.func2 at 0x7f29b83418c8>), ('__init__', <function Test.__init__ at 0x7f29b83417b8>), ('__doc__', 'Simple test class'), ('__module__', '__main__')])"
      ]
     },
     "execution_count": 37,
     "metadata": {},
     "output_type": "execute_result"
    }
   ],
   "source": [
    "Test.__dict__.items()"
   ]
  },
  {
   "cell_type": "code",
   "execution_count": 38,
   "metadata": {
    "ExecuteTime": {
     "end_time": "2018-12-08T15:21:17.000381Z",
     "start_time": "2018-12-08T15:21:16.994300Z"
    }
   },
   "outputs": [
    {
     "name": "stdout",
     "output_type": "stream",
     "text": [
      "[<function Test.func1 at 0x7f29b8341840>,\n",
      " <function Test.func3 at 0x7f29b8341950>,\n",
      " <function Test.func2 at 0x7f29b83418c8>]\n"
     ]
    }
   ],
   "source": [
    "li = [x[1] for x in Test.__dict__.items() if not x[0].startswith('_')]\n",
    "pprint(li)"
   ]
  },
  {
   "cell_type": "code",
   "execution_count": 39,
   "metadata": {
    "ExecuteTime": {
     "end_time": "2018-12-08T15:21:17.008734Z",
     "start_time": "2018-12-08T15:21:17.002351Z"
    }
   },
   "outputs": [
    {
     "name": "stdout",
     "output_type": "stream",
     "text": [
      "func1 func1\n",
      "func2 func2\n",
      "func3 func3\n"
     ]
    }
   ],
   "source": [
    "for each in sorted(li, key=lambda x: x.__name__):\n",
    "    print (each.__name__, each.__doc__)"
   ]
  }
 ],
 "metadata": {
  "kernelspec": {
   "display_name": "Python 3",
   "language": "python",
   "name": "python3"
  },
  "language_info": {
   "codemirror_mode": {
    "name": "ipython",
    "version": 3
   },
   "file_extension": ".py",
   "mimetype": "text/x-python",
   "name": "python",
   "nbconvert_exporter": "python",
   "pygments_lexer": "ipython3",
   "version": "3.5.2"
  },
  "toc": {
   "base_numbering": 1,
   "nav_menu": {},
   "number_sections": true,
   "sideBar": true,
   "skip_h1_title": false,
   "title_cell": "Table of Contents",
   "title_sidebar": "Contents",
   "toc_cell": false,
   "toc_position": {},
   "toc_section_display": true,
   "toc_window_display": true
  }
 },
 "nbformat": 4,
 "nbformat_minor": 2
}
