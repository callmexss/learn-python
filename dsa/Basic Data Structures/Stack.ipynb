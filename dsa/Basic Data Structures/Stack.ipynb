{
 "cells": [
  {
   "cell_type": "markdown",
   "metadata": {},
   "source": [
    "## Stack"
   ]
  },
  {
   "cell_type": "code",
   "execution_count": 3,
   "metadata": {
    "ExecuteTime": {
     "end_time": "2018-12-27T07:09:33.799659Z",
     "start_time": "2018-12-27T07:09:33.791173Z"
    }
   },
   "outputs": [],
   "source": [
    "class Stack:\n",
    "    def __init__(self):\n",
    "        self.items = []\n",
    "        \n",
    "    def size(self):\n",
    "        return len(self.items)\n",
    "        \n",
    "    # O(1)\n",
    "    def push(self, item):\n",
    "        self.items.append(item)\n",
    "        \n",
    "    def isEmpty(self):\n",
    "        return self.items == []\n",
    "        \n",
    "    # O(1)\n",
    "    def pop(self):\n",
    "        if self.isEmpty():\n",
    "            return None\n",
    "        return self.items.pop()\n",
    "    \n",
    "    def peek(self):\n",
    "        if self.isEmpty():\n",
    "            return None\n",
    "        return self.items[-1]"
   ]
  },
  {
   "cell_type": "code",
   "execution_count": 4,
   "metadata": {
    "ExecuteTime": {
     "end_time": "2018-12-27T07:09:34.155137Z",
     "start_time": "2018-12-27T07:09:34.152213Z"
    }
   },
   "outputs": [],
   "source": [
    "stack = Stack()"
   ]
  },
  {
   "cell_type": "code",
   "execution_count": 5,
   "metadata": {
    "ExecuteTime": {
     "end_time": "2018-12-27T07:09:34.598722Z",
     "start_time": "2018-12-27T07:09:34.594761Z"
    }
   },
   "outputs": [],
   "source": [
    "stack.push(3)\n",
    "stack.push(1)\n",
    "stack.push(4)"
   ]
  },
  {
   "cell_type": "code",
   "execution_count": 6,
   "metadata": {
    "ExecuteTime": {
     "end_time": "2018-12-27T07:09:34.998780Z",
     "start_time": "2018-12-27T07:09:34.984043Z"
    }
   },
   "outputs": [
    {
     "data": {
      "text/plain": [
       "[3, 1, 4]"
      ]
     },
     "execution_count": 6,
     "metadata": {},
     "output_type": "execute_result"
    }
   ],
   "source": [
    "stack.items"
   ]
  },
  {
   "cell_type": "code",
   "execution_count": 7,
   "metadata": {
    "ExecuteTime": {
     "end_time": "2018-12-27T07:09:35.388188Z",
     "start_time": "2018-12-27T07:09:35.382089Z"
    }
   },
   "outputs": [
    {
     "name": "stdout",
     "output_type": "stream",
     "text": [
      "4\n",
      "1\n",
      "3\n"
     ]
    }
   ],
   "source": [
    "while not stack.isEmpty():\n",
    "    print(stack.pop())"
   ]
  },
  {
   "cell_type": "code",
   "execution_count": 8,
   "metadata": {
    "ExecuteTime": {
     "end_time": "2018-12-27T07:09:35.802944Z",
     "start_time": "2018-12-27T07:09:35.793600Z"
    }
   },
   "outputs": [
    {
     "name": "stdout",
     "output_type": "stream",
     "text": [
      "True\n",
      "dog\n",
      "3\n",
      "False\n",
      "8.4\n",
      "True\n",
      "2\n"
     ]
    }
   ],
   "source": [
    "s=Stack()\n",
    "\n",
    "print(s.isEmpty())\n",
    "s.push(4)\n",
    "s.push('dog')\n",
    "print(s.peek())\n",
    "s.push(True)\n",
    "print(s.size())\n",
    "print(s.isEmpty())\n",
    "s.push(8.4)\n",
    "print(s.pop())\n",
    "print(s.pop())\n",
    "print(s.size())"
   ]
  },
  {
   "cell_type": "code",
   "execution_count": 9,
   "metadata": {
    "ExecuteTime": {
     "end_time": "2018-12-27T07:09:36.229879Z",
     "start_time": "2018-12-27T07:09:36.224340Z"
    }
   },
   "outputs": [],
   "source": [
    "def revstring(mystr):\n",
    "    s = Stack()\n",
    "    for each in mystr:\n",
    "        s.push(each)\n",
    "        \n",
    "    res = []\n",
    "    while not s.isEmpty():\n",
    "        res.append(s.pop())\n",
    "        \n",
    "    return ''.join(res)"
   ]
  },
  {
   "cell_type": "code",
   "execution_count": 10,
   "metadata": {
    "ExecuteTime": {
     "end_time": "2018-12-27T07:09:36.724119Z",
     "start_time": "2018-12-27T07:09:36.719589Z"
    }
   },
   "outputs": [
    {
     "data": {
      "text/plain": [
       "'elppa'"
      ]
     },
     "execution_count": 10,
     "metadata": {},
     "output_type": "execute_result"
    }
   ],
   "source": [
    "revstring('apple')"
   ]
  },
  {
   "cell_type": "markdown",
   "metadata": {},
   "source": [
    "## Parentheses"
   ]
  },
  {
   "cell_type": "code",
   "execution_count": 11,
   "metadata": {
    "ExecuteTime": {
     "end_time": "2018-12-27T07:09:37.603920Z",
     "start_time": "2018-12-27T07:09:37.595699Z"
    }
   },
   "outputs": [],
   "source": [
    "def parChecker(symbolString):\n",
    "    \"\"\"Check parenthesis.\"\"\"\n",
    "    if len(symbolString) % 2 != 0:\n",
    "        return False\n",
    "    in_list = ['(', '[', '{']\n",
    "    out_list = [')', ']', '}']\n",
    "    s = Stack()\n",
    "    for each in symbolString:\n",
    "        if each in in_list:\n",
    "            s.push(each)\n",
    "        elif each in out_list:\n",
    "            if s.isEmpty():\n",
    "                return False\n",
    "            if each == out_list[in_list.index(s.peek())]:\n",
    "                s.pop()\n",
    "            else:\n",
    "                return False\n",
    "    if s.isEmpty():\n",
    "        return True"
   ]
  },
  {
   "cell_type": "code",
   "execution_count": 12,
   "metadata": {
    "ExecuteTime": {
     "end_time": "2018-12-27T07:09:38.183973Z",
     "start_time": "2018-12-27T07:09:38.178480Z"
    }
   },
   "outputs": [
    {
     "data": {
      "text/plain": [
       "True"
      ]
     },
     "execution_count": 12,
     "metadata": {},
     "output_type": "execute_result"
    }
   ],
   "source": [
    "parChecker('(((())))'.replace(' ', ''))"
   ]
  },
  {
   "cell_type": "markdown",
   "metadata": {},
   "source": [
    "## Decimal to Binary"
   ]
  },
  {
   "cell_type": "code",
   "execution_count": 27,
   "metadata": {
    "ExecuteTime": {
     "end_time": "2018-12-27T07:18:31.598548Z",
     "start_time": "2018-12-27T07:18:31.590296Z"
    }
   },
   "outputs": [],
   "source": [
    "def divideBy2(decNumber):\n",
    "    \"\"\"Decimal to binary.\"\"\"\n",
    "    s = Stack()\n",
    "    while decNumber != 0:\n",
    "        decNumber, rem = divmod(decNumber, 2) \n",
    "        s.push(str(rem))\n",
    "        \n",
    "    res = []\n",
    "    while not s.isEmpty():\n",
    "        res.append(s.pop())\n",
    "        \n",
    "    return '0b' + ''.join(res)"
   ]
  },
  {
   "cell_type": "code",
   "execution_count": 29,
   "metadata": {
    "ExecuteTime": {
     "end_time": "2018-12-27T07:18:51.031447Z",
     "start_time": "2018-12-27T07:18:51.007082Z"
    }
   },
   "outputs": [
    {
     "name": "stderr",
     "output_type": "stream",
     "text": [
      "test (__main__.DivideBy2Test) ... "
     ]
    },
    {
     "name": "stdout",
     "output_type": "stream",
     "text": [
      "0b101010 0b101010\n",
      "0b10001 0b10001\n",
      "0b101101 0b101101\n",
      "0b1100000 0b1100000\n"
     ]
    },
    {
     "name": "stderr",
     "output_type": "stream",
     "text": [
      "ok\n",
      "\n",
      "----------------------------------------------------------------------\n",
      "Ran 1 test in 0.003s\n",
      "\n",
      "OK\n"
     ]
    },
    {
     "data": {
      "text/plain": [
       "<unittest.main.TestProgram at 0x7f765c6c86d8>"
      ]
     },
     "execution_count": 29,
     "metadata": {},
     "output_type": "execute_result"
    }
   ],
   "source": [
    "print(divideBy2(42), bin(42))\n",
    "print(divideBy2(17), bin(17))\n",
    "print(divideBy2(45), bin(45))\n",
    "print(divideBy2(96), bin(96))\n",
    "import unittest\n",
    "\n",
    "class DivideBy2Test(unittest.TestCase):\n",
    "    def test(self):\n",
    "        self.assertEqual(divideBy2(42), bin(42))\n",
    "        self.assertEqual(divideBy2(17), bin(17))\n",
    "        self.assertEqual(divideBy2(45), bin(45))\n",
    "        self.assertEqual(divideBy2(96), bin(96))\n",
    "        \n",
    "unittest.main(argv=[\"\"], verbosity=2, exit=False)\n"
   ]
  },
  {
   "cell_type": "markdown",
   "metadata": {},
   "source": [
    "## Decimal to Any"
   ]
  },
  {
   "cell_type": "code",
   "execution_count": 13,
   "metadata": {
    "ExecuteTime": {
     "end_time": "2018-12-22T15:59:52.703879Z",
     "start_time": "2018-12-22T15:59:52.693861Z"
    }
   },
   "outputs": [],
   "source": [
    "def baseConverter(decNumber, base):\n",
    "    \"\"\"Decimal to arbitary scale.\"\"\"\n",
    "    digits = \"0123456789ABCDEF\"\n",
    "    \n",
    "    s = Stack()\n",
    "    \n",
    "    while decNumber != 0:\n",
    "        decNumber, rem = divmod(decNumber, base)\n",
    "        rem = digits[rem]\n",
    "        s.push(rem)\n",
    "        \n",
    "    res = []\n",
    "    while not s.isEmpty():\n",
    "        res.append(s.pop())\n",
    "        \n",
    "    return ''.join(res)\n",
    "        "
   ]
  },
  {
   "cell_type": "code",
   "execution_count": 14,
   "metadata": {
    "ExecuteTime": {
     "end_time": "2018-12-22T15:59:52.717459Z",
     "start_time": "2018-12-22T15:59:52.706317Z"
    }
   },
   "outputs": [
    {
     "name": "stdout",
     "output_type": "stream",
     "text": [
      "10\n",
      "100\n"
     ]
    }
   ],
   "source": [
    "print(baseConverter(26, 26))\n",
    "print(baseConverter(256, 16))"
   ]
  },
  {
   "cell_type": "markdown",
   "metadata": {},
   "source": [
    "## infix to postfix"
   ]
  },
  {
   "cell_type": "markdown",
   "metadata": {},
   "source": [
    "1. Create an empty stack called opstack for keeping operators. Create an empty list for output.\n",
    "2. Convert the input infix string to a list by using the string method split.\n",
    "3. Scan the token list from left to right.\n",
    "    - If the token is an operand, append it to the end of the output list.\n",
    "    - If the token is a left parenthesis, push it on the opstack.\n",
    "    - If the token is a right parenthesis, pop the opstack until the corresponding left parenthesis is removed. Append each operator to the end of the output list.\n",
    "    - If the token is an operator, *, /, +, or -, push it on the opstack. However, first remove any operators already on the opstack that have higher or equal precedence and append them to the output list.\n",
    "4. When the input expression has been completely processed, check the opstack. Any operators still on the stack can be removed and appended to the end of the output list."
   ]
  },
  {
   "cell_type": "code",
   "execution_count": 30,
   "metadata": {
    "ExecuteTime": {
     "end_time": "2018-12-27T07:21:50.933261Z",
     "start_time": "2018-12-27T07:21:50.923983Z"
    }
   },
   "outputs": [],
   "source": [
    "def infixToPostfix(infixexpr):\n",
    "    \"\"\"Infix expression to postfix expression.\"\"\"\n",
    "    opstack = Stack()\n",
    "    output = []\n",
    "    operators = {\n",
    "        '^': 4,\n",
    "        '*': 3,\n",
    "        '/': 3,\n",
    "        '+': 2,\n",
    "        '-': 2,\n",
    "        '(': 1\n",
    "    }\n",
    "    \n",
    "    for token in infixexpr:\n",
    "        # print(opstack.items)\n",
    "        import string\n",
    "        if token in string.ascii_uppercase + string.digits:\n",
    "            if token == ' ':\n",
    "                continue\n",
    "            output.append(token)\n",
    "            continue\n",
    "            \n",
    "        if token == '(':\n",
    "            opstack.push(token)\n",
    "        elif token == ')':\n",
    "            while opstack.peek() != '(':\n",
    "                output.append(opstack.pop())\n",
    "            opstack.pop()\n",
    "        elif token in operators:\n",
    "            if opstack.isEmpty():\n",
    "                opstack.push(token)\n",
    "            else:\n",
    "                while not opstack.isEmpty():\n",
    "                    if operators[opstack.peek()] >= operators[token]:\n",
    "                        output.append(opstack.pop())\n",
    "                    else:\n",
    "                        break\n",
    "                opstack.push(token)\n",
    "            \n",
    "    while not opstack.isEmpty():\n",
    "        output.append(opstack.pop())\n",
    "        \n",
    "    return ' '.join(output)\n",
    "    "
   ]
  },
  {
   "cell_type": "code",
   "execution_count": 31,
   "metadata": {
    "ExecuteTime": {
     "end_time": "2018-12-27T07:21:51.320603Z",
     "start_time": "2018-12-27T07:21:51.314269Z"
    }
   },
   "outputs": [
    {
     "data": {
      "text/plain": [
       "'5 3 4 2 - ^ *'"
      ]
     },
     "execution_count": 31,
     "metadata": {},
     "output_type": "execute_result"
    }
   ],
   "source": [
    "infixToPostfix('5 * 3 ^ (4 - 2)')"
   ]
  },
  {
   "cell_type": "code",
   "execution_count": 51,
   "metadata": {
    "ExecuteTime": {
     "end_time": "2018-12-27T07:30:36.273797Z",
     "start_time": "2018-12-27T07:30:36.268005Z"
    }
   },
   "outputs": [
    {
     "data": {
      "text/plain": [
       "'A B + C * D E - F G + * -'"
      ]
     },
     "execution_count": 51,
     "metadata": {},
     "output_type": "execute_result"
    }
   ],
   "source": [
    "infixToPostfix('( A + B ) * C - ( D - E ) * ( F + G )')"
   ]
  },
  {
   "cell_type": "code",
   "execution_count": 33,
   "metadata": {
    "ExecuteTime": {
     "end_time": "2018-12-27T07:21:52.250178Z",
     "start_time": "2018-12-27T07:21:52.243158Z"
    }
   },
   "outputs": [],
   "source": [
    "def calculate(first, second, token):\n",
    "    if token == '+':\n",
    "        return first + second\n",
    "    if token == '-':\n",
    "        return first - second\n",
    "    if token == '*':\n",
    "        return first * second\n",
    "    if token == '/':\n",
    "        return first / second\n",
    "    else:\n",
    "        return None"
   ]
  },
  {
   "cell_type": "code",
   "execution_count": 34,
   "metadata": {
    "ExecuteTime": {
     "end_time": "2018-12-27T07:21:52.958848Z",
     "start_time": "2018-12-27T07:21:52.953252Z"
    }
   },
   "outputs": [
    {
     "data": {
      "text/plain": [
       "3.0"
      ]
     },
     "execution_count": 34,
     "metadata": {},
     "output_type": "execute_result"
    }
   ],
   "source": [
    "calculate(3, 1, '/')"
   ]
  },
  {
   "cell_type": "code",
   "execution_count": 39,
   "metadata": {
    "ExecuteTime": {
     "end_time": "2018-12-27T07:24:00.895122Z",
     "start_time": "2018-12-27T07:24:00.888137Z"
    }
   },
   "outputs": [],
   "source": [
    "def postfixEval(postfixExpr):\n",
    "    operand_stack = Stack()\n",
    "    \n",
    "    for token in postfixExpr:\n",
    "        if token.isdigit():\n",
    "            operand_stack.push(token)\n",
    "        elif token in '+-*/':\n",
    "            # last in first out\n",
    "            later = operand_stack.pop()\n",
    "            former = operand_stack.pop()\n",
    "            print(\"{} {} {}\".format(former, token, later))\n",
    "            operand_stack.push(calculate(int(former), int(later), token))\n",
    "    return operand_stack.pop()"
   ]
  },
  {
   "cell_type": "code",
   "execution_count": 40,
   "metadata": {
    "ExecuteTime": {
     "end_time": "2018-12-27T07:24:01.651755Z",
     "start_time": "2018-12-27T07:24:01.642295Z"
    }
   },
   "outputs": [
    {
     "name": "stdout",
     "output_type": "stream",
     "text": [
      "1 + 0\n"
     ]
    },
    {
     "data": {
      "text/plain": [
       "1"
      ]
     },
     "execution_count": 40,
     "metadata": {},
     "output_type": "execute_result"
    }
   ],
   "source": [
    "postfixEval('17 10 +')"
   ]
  },
  {
   "cell_type": "code",
   "execution_count": 41,
   "metadata": {
    "ExecuteTime": {
     "end_time": "2018-12-27T07:24:02.726329Z",
     "start_time": "2018-12-27T07:24:02.720283Z"
    }
   },
   "outputs": [
    {
     "data": {
      "text/plain": [
       "'A B + C D + * E F + *'"
      ]
     },
     "execution_count": 41,
     "metadata": {},
     "output_type": "execute_result"
    }
   ],
   "source": [
    "infixToPostfix('(A+B)*(C+D)*(E+F)')"
   ]
  },
  {
   "cell_type": "code",
   "execution_count": 42,
   "metadata": {
    "ExecuteTime": {
     "end_time": "2018-12-27T07:24:03.870472Z",
     "start_time": "2018-12-27T07:24:03.864370Z"
    }
   },
   "outputs": [
    {
     "name": "stdout",
     "output_type": "stream",
     "text": [
      "2 * 3\n",
      "6 + 4\n"
     ]
    },
    {
     "data": {
      "text/plain": [
       "10"
      ]
     },
     "execution_count": 42,
     "metadata": {},
     "output_type": "execute_result"
    }
   ],
   "source": [
    "postfixEval('2 3 * 4 +')"
   ]
  },
  {
   "cell_type": "code",
   "execution_count": 43,
   "metadata": {
    "ExecuteTime": {
     "end_time": "2018-12-27T07:24:20.103551Z",
     "start_time": "2018-12-27T07:24:20.094631Z"
    }
   },
   "outputs": [
    {
     "name": "stdout",
     "output_type": "stream",
     "text": [
      "1 + 2\n",
      "3 + 3\n",
      "6 + 4\n",
      "10 + 5\n"
     ]
    },
    {
     "data": {
      "text/plain": [
       "15"
      ]
     },
     "execution_count": 43,
     "metadata": {},
     "output_type": "execute_result"
    }
   ],
   "source": [
    "postfixEval('1 2 + 3 + 4 + 5 +')"
   ]
  },
  {
   "cell_type": "code",
   "execution_count": 44,
   "metadata": {
    "ExecuteTime": {
     "end_time": "2018-12-27T07:24:48.306455Z",
     "start_time": "2018-12-27T07:24:48.297993Z"
    }
   },
   "outputs": [
    {
     "name": "stdout",
     "output_type": "stream",
     "text": [
      "4 * 5\n",
      "3 + 20\n",
      "2 * 23\n",
      "1 + 46\n"
     ]
    },
    {
     "data": {
      "text/plain": [
       "47"
      ]
     },
     "execution_count": 44,
     "metadata": {},
     "output_type": "execute_result"
    }
   ],
   "source": [
    "postfixEval('1 2 3 4 5 * + * +')"
   ]
  },
  {
   "cell_type": "code",
   "execution_count": null,
   "metadata": {},
   "outputs": [],
   "source": []
  }
 ],
 "metadata": {
  "kernelspec": {
   "display_name": "Python 3",
   "language": "python",
   "name": "python3"
  },
  "language_info": {
   "codemirror_mode": {
    "name": "ipython",
    "version": 3
   },
   "file_extension": ".py",
   "mimetype": "text/x-python",
   "name": "python",
   "nbconvert_exporter": "python",
   "pygments_lexer": "ipython3",
   "version": "3.5.2"
  },
  "toc": {
   "base_numbering": 1,
   "nav_menu": {},
   "number_sections": true,
   "sideBar": true,
   "skip_h1_title": false,
   "title_cell": "Table of Contents",
   "title_sidebar": "Contents",
   "toc_cell": false,
   "toc_position": {},
   "toc_section_display": true,
   "toc_window_display": false
  }
 },
 "nbformat": 4,
 "nbformat_minor": 2
}
