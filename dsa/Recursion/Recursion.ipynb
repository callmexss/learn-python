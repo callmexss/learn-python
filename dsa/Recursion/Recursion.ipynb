{
 "cells": [
  {
   "cell_type": "markdown",
   "metadata": {},
   "source": [
    "## Calculating the Sum of a List of Numbers"
   ]
  },
  {
   "cell_type": "code",
   "execution_count": 1,
   "metadata": {
    "ExecuteTime": {
     "end_time": "2018-12-28T07:56:36.623633Z",
     "start_time": "2018-12-28T07:56:36.618319Z"
    }
   },
   "outputs": [],
   "source": [
    "def listNum(numList):\n",
    "    if len(numList) == 1:\n",
    "        return numList[0]\n",
    "    else:\n",
    "        return numList[0] + listNum(numList[1:])"
   ]
  },
  {
   "cell_type": "code",
   "execution_count": 2,
   "metadata": {
    "ExecuteTime": {
     "end_time": "2018-12-28T07:56:36.684429Z",
     "start_time": "2018-12-28T07:56:36.655516Z"
    }
   },
   "outputs": [
    {
     "data": {
      "text/plain": [
       "16"
      ]
     },
     "execution_count": 2,
     "metadata": {},
     "output_type": "execute_result"
    }
   ],
   "source": [
    "listNum([1, 3, 5, 7])"
   ]
  },
  {
   "cell_type": "markdown",
   "metadata": {},
   "source": [
    "## The Three Laws of Recursion"
   ]
  },
  {
   "cell_type": "markdown",
   "metadata": {
    "ExecuteTime": {
     "end_time": "2018-12-27T08:35:49.715161Z",
     "start_time": "2018-12-27T08:35:49.708776Z"
    }
   },
   "source": [
    "Like the robots of Asimov, all recursive algorithms must obey three important laws:\n",
    "\n",
    "1. A recursive algorithm must have a base case.\n",
    "2. A recursive algorithm must change its state and move toward the base case.\n",
    "3. A recursive algorithm must call itself, recursively."
   ]
  },
  {
   "cell_type": "code",
   "execution_count": 3,
   "metadata": {
    "ExecuteTime": {
     "end_time": "2018-12-28T07:56:36.773320Z",
     "start_time": "2018-12-28T07:56:36.761491Z"
    }
   },
   "outputs": [],
   "source": [
    "def toStr(n, base):\n",
    "    convertString = \"0123456789ABCDEF\"\n",
    "    if n < base:\n",
    "        return convertString[n]\n",
    "    else:\n",
    "        n, r = divmod(n, base)\n",
    "        return toStr(n, base) + convertString[r]\n",
    "        "
   ]
  },
  {
   "cell_type": "code",
   "execution_count": 4,
   "metadata": {
    "ExecuteTime": {
     "end_time": "2018-12-28T07:56:36.792510Z",
     "start_time": "2018-12-28T07:56:36.783482Z"
    }
   },
   "outputs": [
    {
     "data": {
      "text/plain": [
       "'5AD'"
      ]
     },
     "execution_count": 4,
     "metadata": {},
     "output_type": "execute_result"
    }
   ],
   "source": [
    "toStr(1453, 16)"
   ]
  },
  {
   "cell_type": "code",
   "execution_count": 5,
   "metadata": {
    "ExecuteTime": {
     "end_time": "2018-12-28T07:56:36.818919Z",
     "start_time": "2018-12-28T07:56:36.809643Z"
    }
   },
   "outputs": [],
   "source": [
    "def reverse(s):\n",
    "    if len(s) == 1:\n",
    "        return s[0]\n",
    "    else:\n",
    "        return reverse(s[1:]) + s[0]"
   ]
  },
  {
   "cell_type": "code",
   "execution_count": 6,
   "metadata": {
    "ExecuteTime": {
     "end_time": "2018-12-28T07:56:36.853527Z",
     "start_time": "2018-12-28T07:56:36.844927Z"
    }
   },
   "outputs": [
    {
     "data": {
      "text/plain": [
       "'cba'"
      ]
     },
     "execution_count": 6,
     "metadata": {},
     "output_type": "execute_result"
    }
   ],
   "source": [
    "reverse('abc')"
   ]
  },
  {
   "cell_type": "code",
   "execution_count": 7,
   "metadata": {
    "ExecuteTime": {
     "end_time": "2018-12-28T07:56:36.893629Z",
     "start_time": "2018-12-28T07:56:36.880000Z"
    }
   },
   "outputs": [],
   "source": [
    "def isPal(s):\n",
    "    s = ''.join([x for x in s if x.isalpha()])\n",
    "    start = 0\n",
    "    end = len(s) - 1\n",
    "    if end - start < 1:\n",
    "        return True\n",
    "    elif s[start] != s[end]:\n",
    "        return False\n",
    "    else:\n",
    "        return isPal(s[1:-1])\n",
    "    "
   ]
  },
  {
   "cell_type": "code",
   "execution_count": 8,
   "metadata": {
    "ExecuteTime": {
     "end_time": "2018-12-28T07:56:36.922846Z",
     "start_time": "2018-12-28T07:56:36.915808Z"
    }
   },
   "outputs": [
    {
     "data": {
      "text/plain": [
       "True"
      ]
     },
     "execution_count": 8,
     "metadata": {},
     "output_type": "execute_result"
    }
   ],
   "source": [
    "isPal('madam i\\'m adam')"
   ]
  },
  {
   "cell_type": "code",
   "execution_count": 9,
   "metadata": {
    "ExecuteTime": {
     "end_time": "2018-12-28T07:56:36.973120Z",
     "start_time": "2018-12-28T07:56:36.961164Z"
    }
   },
   "outputs": [
    {
     "data": {
      "text/plain": [
       "'1010'"
      ]
     },
     "execution_count": 9,
     "metadata": {},
     "output_type": "execute_result"
    }
   ],
   "source": [
    "rStack = []\n",
    "def toStr(n, base):\n",
    "    convertString = \"0123456789ABCDEF\"\n",
    "    while n > 0:\n",
    "        if n < base:\n",
    "            rStack.append(convertString[n])\n",
    "        else:\n",
    "            rStack.append(convertString[n % base])\n",
    "        n = n // base\n",
    "        \n",
    "    res = \"\"\n",
    "    while rStack:\n",
    "        res += rStack.pop()\n",
    "    return res\n",
    "\n",
    "toStr(10, 2)"
   ]
  },
  {
   "cell_type": "code",
   "execution_count": 10,
   "metadata": {
    "ExecuteTime": {
     "end_time": "2018-12-28T07:56:37.047798Z",
     "start_time": "2018-12-28T07:56:37.028340Z"
    }
   },
   "outputs": [],
   "source": [
    "import logging\n",
    "\n",
    "logging.basicConfig(level=logging.DEBUG)\n",
    "\n",
    "def merge_sort(num):\n",
    "    if not num or len(num) == 1:\n",
    "        return num\n",
    "    \n",
    "    mid = len(num) // 2\n",
    "    left = num[:mid]\n",
    "    right = num[mid:]\n",
    "    # print(\"left\", left)\n",
    "    logging.debug(\"left {}\".format(left))\n",
    "    # print(\"right\", right)\n",
    "    logging.debug(\"right {}\".format(right))\n",
    "    \n",
    "    left = merge_sort(left)\n",
    "    right = merge_sort(right)\n",
    "    \n",
    "    merged = merge(left, right)\n",
    "    # print(\"merged\", merged)\n",
    "    logging.debug(\"merged {}\".format(merged))\n",
    "    return merged\n",
    "\n",
    "def merge(left, right):\n",
    "    l = 0\n",
    "    r = 0\n",
    "    res = []\n",
    "    while l < len(left) and r < len(right):\n",
    "        # print(\"left\", left[l], \"right\", right[r])\n",
    "        logging.debug(\"left {} right {}\".format(left[l], right[r]))\n",
    "        if left[l] <= right[r]:\n",
    "            res.append(left[l])\n",
    "            l += 1\n",
    "        else:\n",
    "            res.append(right[r])\n",
    "            r += 1\n",
    "            \n",
    "    # print(\"res\", res)\n",
    "    # print(\"left\", left[l:])\n",
    "    # print(\"right\", right[r:])\n",
    "    \n",
    "            \n",
    "    return res + left[l:] if l <= len(left) - 1 else res + right[r:]"
   ]
  },
  {
   "cell_type": "code",
   "execution_count": 11,
   "metadata": {
    "ExecuteTime": {
     "end_time": "2018-12-28T07:56:37.112711Z",
     "start_time": "2018-12-28T07:56:37.062460Z"
    }
   },
   "outputs": [
    {
     "name": "stderr",
     "output_type": "stream",
     "text": [
      "DEBUG:root:left [3434, 3356, 67]\n",
      "DEBUG:root:right [12334, 878667, 387]\n",
      "DEBUG:root:left [3434]\n",
      "DEBUG:root:right [3356, 67]\n",
      "DEBUG:root:left [3356]\n",
      "DEBUG:root:right [67]\n",
      "DEBUG:root:left 3356 right 67\n",
      "DEBUG:root:merged [67, 3356]\n",
      "DEBUG:root:left 3434 right 67\n",
      "DEBUG:root:left 3434 right 3356\n",
      "DEBUG:root:merged [67, 3356, 3434]\n",
      "DEBUG:root:left [12334]\n",
      "DEBUG:root:right [878667, 387]\n",
      "DEBUG:root:left [878667]\n",
      "DEBUG:root:right [387]\n",
      "DEBUG:root:left 878667 right 387\n",
      "DEBUG:root:merged [387, 878667]\n",
      "DEBUG:root:left 12334 right 387\n",
      "DEBUG:root:left 12334 right 878667\n",
      "DEBUG:root:merged [387, 12334, 878667]\n",
      "DEBUG:root:left 67 right 387\n",
      "DEBUG:root:left 3356 right 387\n",
      "DEBUG:root:left 3356 right 12334\n",
      "DEBUG:root:left 3434 right 12334\n",
      "DEBUG:root:merged [67, 387, 3356, 3434, 12334, 878667]\n"
     ]
    },
    {
     "data": {
      "text/plain": [
       "[67, 387, 3356, 3434, 12334, 878667]"
      ]
     },
     "execution_count": 11,
     "metadata": {},
     "output_type": "execute_result"
    }
   ],
   "source": [
    "merge_sort([3434, 3356, 67, 12334, 878667, 387])"
   ]
  },
  {
   "cell_type": "code",
   "execution_count": 12,
   "metadata": {
    "ExecuteTime": {
     "end_time": "2018-12-28T07:56:37.152354Z",
     "start_time": "2018-12-28T07:56:37.138195Z"
    }
   },
   "outputs": [
    {
     "data": {
      "text/plain": [
       "89"
      ]
     },
     "execution_count": 12,
     "metadata": {},
     "output_type": "execute_result"
    }
   ],
   "source": [
    "def steps(n):\n",
    "    if n == 1:\n",
    "        return 1\n",
    "    if n == 2:\n",
    "        return 2\n",
    "    else:\n",
    "        return steps(n - 1) + steps(n - 2)\n",
    "\n",
    "steps(10)"
   ]
  },
  {
   "cell_type": "markdown",
   "metadata": {},
   "source": [
    "## Some Test"
   ]
  },
  {
   "cell_type": "code",
   "execution_count": 13,
   "metadata": {
    "ExecuteTime": {
     "end_time": "2018-12-28T07:56:37.184898Z",
     "start_time": "2018-12-28T07:56:37.170133Z"
    }
   },
   "outputs": [],
   "source": [
    "rewards = [1, 2, 5, 10]  # 四种面额的货币\n",
    "\n",
    "def get(total_rewards=10, result=[]):\n",
    "    if total_rewards == 0:  # base case, 结束递归的标志\n",
    "        print(result)\n",
    "        return\n",
    "    \n",
    "    elif total_rewards < 0:\n",
    "        return \n",
    "    \n",
    "    else:\n",
    "        for reward in rewards:\n",
    "            new_result = result[:]  # 每一种新情况都用一个新列表来存储，因此此处不使用引用\n",
    "            new_result.append(reward)  # 记录当前选择，解决一点问题\n",
    "            get(total_rewards - reward, new_result)  # 剩下的问题，留给嵌套调用去解决"
   ]
  },
  {
   "cell_type": "code",
   "execution_count": 14,
   "metadata": {
    "ExecuteTime": {
     "end_time": "2018-12-28T07:56:37.232709Z",
     "start_time": "2018-12-28T07:56:37.200953Z"
    }
   },
   "outputs": [
    {
     "name": "stdout",
     "output_type": "stream",
     "text": [
      "[1, 1, 1, 1, 1, 1, 1, 1, 1, 1]\n",
      "[1, 1, 1, 1, 1, 1, 1, 1, 2]\n",
      "[1, 1, 1, 1, 1, 1, 1, 2, 1]\n",
      "[1, 1, 1, 1, 1, 1, 2, 1, 1]\n",
      "[1, 1, 1, 1, 1, 1, 2, 2]\n",
      "[1, 1, 1, 1, 1, 2, 1, 1, 1]\n",
      "[1, 1, 1, 1, 1, 2, 1, 2]\n",
      "[1, 1, 1, 1, 1, 2, 2, 1]\n",
      "[1, 1, 1, 1, 1, 5]\n",
      "[1, 1, 1, 1, 2, 1, 1, 1, 1]\n",
      "[1, 1, 1, 1, 2, 1, 1, 2]\n",
      "[1, 1, 1, 1, 2, 1, 2, 1]\n",
      "[1, 1, 1, 1, 2, 2, 1, 1]\n",
      "[1, 1, 1, 1, 2, 2, 2]\n",
      "[1, 1, 1, 1, 5, 1]\n",
      "[1, 1, 1, 2, 1, 1, 1, 1, 1]\n",
      "[1, 1, 1, 2, 1, 1, 1, 2]\n",
      "[1, 1, 1, 2, 1, 1, 2, 1]\n",
      "[1, 1, 1, 2, 1, 2, 1, 1]\n",
      "[1, 1, 1, 2, 1, 2, 2]\n",
      "[1, 1, 1, 2, 2, 1, 1, 1]\n",
      "[1, 1, 1, 2, 2, 1, 2]\n",
      "[1, 1, 1, 2, 2, 2, 1]\n",
      "[1, 1, 1, 2, 5]\n",
      "[1, 1, 1, 5, 1, 1]\n",
      "[1, 1, 1, 5, 2]\n",
      "[1, 1, 2, 1, 1, 1, 1, 1, 1]\n",
      "[1, 1, 2, 1, 1, 1, 1, 2]\n",
      "[1, 1, 2, 1, 1, 1, 2, 1]\n",
      "[1, 1, 2, 1, 1, 2, 1, 1]\n",
      "[1, 1, 2, 1, 1, 2, 2]\n",
      "[1, 1, 2, 1, 2, 1, 1, 1]\n",
      "[1, 1, 2, 1, 2, 1, 2]\n",
      "[1, 1, 2, 1, 2, 2, 1]\n",
      "[1, 1, 2, 1, 5]\n",
      "[1, 1, 2, 2, 1, 1, 1, 1]\n",
      "[1, 1, 2, 2, 1, 1, 2]\n",
      "[1, 1, 2, 2, 1, 2, 1]\n",
      "[1, 1, 2, 2, 2, 1, 1]\n",
      "[1, 1, 2, 2, 2, 2]\n",
      "[1, 1, 2, 5, 1]\n",
      "[1, 1, 5, 1, 1, 1]\n",
      "[1, 1, 5, 1, 2]\n",
      "[1, 1, 5, 2, 1]\n",
      "[1, 2, 1, 1, 1, 1, 1, 1, 1]\n",
      "[1, 2, 1, 1, 1, 1, 1, 2]\n",
      "[1, 2, 1, 1, 1, 1, 2, 1]\n",
      "[1, 2, 1, 1, 1, 2, 1, 1]\n",
      "[1, 2, 1, 1, 1, 2, 2]\n",
      "[1, 2, 1, 1, 2, 1, 1, 1]\n",
      "[1, 2, 1, 1, 2, 1, 2]\n",
      "[1, 2, 1, 1, 2, 2, 1]\n",
      "[1, 2, 1, 1, 5]\n",
      "[1, 2, 1, 2, 1, 1, 1, 1]\n",
      "[1, 2, 1, 2, 1, 1, 2]\n",
      "[1, 2, 1, 2, 1, 2, 1]\n",
      "[1, 2, 1, 2, 2, 1, 1]\n",
      "[1, 2, 1, 2, 2, 2]\n",
      "[1, 2, 1, 5, 1]\n",
      "[1, 2, 2, 1, 1, 1, 1, 1]\n",
      "[1, 2, 2, 1, 1, 1, 2]\n",
      "[1, 2, 2, 1, 1, 2, 1]\n",
      "[1, 2, 2, 1, 2, 1, 1]\n",
      "[1, 2, 2, 1, 2, 2]\n",
      "[1, 2, 2, 2, 1, 1, 1]\n",
      "[1, 2, 2, 2, 1, 2]\n",
      "[1, 2, 2, 2, 2, 1]\n",
      "[1, 2, 2, 5]\n",
      "[1, 2, 5, 1, 1]\n",
      "[1, 2, 5, 2]\n",
      "[1, 5, 1, 1, 1, 1]\n",
      "[1, 5, 1, 1, 2]\n",
      "[1, 5, 1, 2, 1]\n",
      "[1, 5, 2, 1, 1]\n",
      "[1, 5, 2, 2]\n",
      "[2, 1, 1, 1, 1, 1, 1, 1, 1]\n",
      "[2, 1, 1, 1, 1, 1, 1, 2]\n",
      "[2, 1, 1, 1, 1, 1, 2, 1]\n",
      "[2, 1, 1, 1, 1, 2, 1, 1]\n",
      "[2, 1, 1, 1, 1, 2, 2]\n",
      "[2, 1, 1, 1, 2, 1, 1, 1]\n",
      "[2, 1, 1, 1, 2, 1, 2]\n",
      "[2, 1, 1, 1, 2, 2, 1]\n",
      "[2, 1, 1, 1, 5]\n",
      "[2, 1, 1, 2, 1, 1, 1, 1]\n",
      "[2, 1, 1, 2, 1, 1, 2]\n",
      "[2, 1, 1, 2, 1, 2, 1]\n",
      "[2, 1, 1, 2, 2, 1, 1]\n",
      "[2, 1, 1, 2, 2, 2]\n",
      "[2, 1, 1, 5, 1]\n",
      "[2, 1, 2, 1, 1, 1, 1, 1]\n",
      "[2, 1, 2, 1, 1, 1, 2]\n",
      "[2, 1, 2, 1, 1, 2, 1]\n",
      "[2, 1, 2, 1, 2, 1, 1]\n",
      "[2, 1, 2, 1, 2, 2]\n",
      "[2, 1, 2, 2, 1, 1, 1]\n",
      "[2, 1, 2, 2, 1, 2]\n",
      "[2, 1, 2, 2, 2, 1]\n",
      "[2, 1, 2, 5]\n",
      "[2, 1, 5, 1, 1]\n",
      "[2, 1, 5, 2]\n",
      "[2, 2, 1, 1, 1, 1, 1, 1]\n",
      "[2, 2, 1, 1, 1, 1, 2]\n",
      "[2, 2, 1, 1, 1, 2, 1]\n",
      "[2, 2, 1, 1, 2, 1, 1]\n",
      "[2, 2, 1, 1, 2, 2]\n",
      "[2, 2, 1, 2, 1, 1, 1]\n",
      "[2, 2, 1, 2, 1, 2]\n",
      "[2, 2, 1, 2, 2, 1]\n",
      "[2, 2, 1, 5]\n",
      "[2, 2, 2, 1, 1, 1, 1]\n",
      "[2, 2, 2, 1, 1, 2]\n",
      "[2, 2, 2, 1, 2, 1]\n",
      "[2, 2, 2, 2, 1, 1]\n",
      "[2, 2, 2, 2, 2]\n",
      "[2, 2, 5, 1]\n",
      "[2, 5, 1, 1, 1]\n",
      "[2, 5, 1, 2]\n",
      "[2, 5, 2, 1]\n",
      "[5, 1, 1, 1, 1, 1]\n",
      "[5, 1, 1, 1, 2]\n",
      "[5, 1, 1, 2, 1]\n",
      "[5, 1, 2, 1, 1]\n",
      "[5, 1, 2, 2]\n",
      "[5, 2, 1, 1, 1]\n",
      "[5, 2, 1, 2]\n",
      "[5, 2, 2, 1]\n",
      "[5, 5]\n",
      "[10]\n"
     ]
    }
   ],
   "source": [
    "get()"
   ]
  },
  {
   "cell_type": "code",
   "execution_count": 4,
   "metadata": {
    "ExecuteTime": {
     "end_time": "2018-12-28T08:08:26.541246Z",
     "start_time": "2018-12-28T08:07:41.101533Z"
    }
   },
   "outputs": [
    {
     "name": "stdout",
     "output_type": "stream",
     "text": [
      "6\n"
     ]
    }
   ],
   "source": [
    "def recMC(coinValueList, change):\n",
    "    minCoins = change\n",
    "    if change in coinValueList:  # 如果零钱在零钱列表里，一次就可以找开\n",
    "        return 1\n",
    "    else:\n",
    "        for i in [c for c in coinValueList if c <= change]:  # 递归调用当前全部的合法选择\n",
    "            numCoins = 1 + recMC(coinValueList, change - i)  # 记录找零钱需要硬币的数目\n",
    "            if numCoins < minCoins:\n",
    "                minCoins = numCoins  # 更新最小硬币数目\n",
    "    return minCoins\n",
    "\n",
    "\n",
    "print(recMC([1, 5, 10, 25], 63))"
   ]
  },
  {
   "cell_type": "code",
   "execution_count": 10,
   "metadata": {
    "ExecuteTime": {
     "end_time": "2018-12-28T08:35:54.687033Z",
     "start_time": "2018-12-28T08:35:54.676238Z"
    }
   },
   "outputs": [
    {
     "name": "stdout",
     "output_type": "stream",
     "text": [
      "6\n"
     ]
    }
   ],
   "source": [
    "def recDC(coinValueList, change, knownResults):  # knownResults 是引用，每一次改变都作用域内存中的同一对象\n",
    "    minCoins = change\n",
    "    if change in coinValueList:  # 如果是标准硬币金额，则1枚硬币就够了\n",
    "        knownResults[change] = 1  # 记录该找零金额为某硬币金额时的最小数目为1\n",
    "        return 1\n",
    "    elif knownResults[change] > 0:\n",
    "        return knownResults[change]  # 如果已经知道了某找零金额对应的最小硬币数目时直接返回\n",
    "    else:\n",
    "        for i in [c for c in coinValueList if c <= change]:\n",
    "            numCoins = 1 + recDC(coinValueList, change - i, knownResults)\n",
    "            if numCoins < minCoins:\n",
    "                minCoins = numCoins\n",
    "                knownResults[change] = minCoins  # 记录该找零数目时需要的最小硬币数目\n",
    "    return minCoins\n",
    "\n",
    "\n",
    "print(recDC([1, 5, 10, 25], 63, [0] * 64))"
   ]
  },
  {
   "cell_type": "code",
   "execution_count": 14,
   "metadata": {
    "ExecuteTime": {
     "end_time": "2018-12-28T08:51:35.254254Z",
     "start_time": "2018-12-28T08:51:35.236128Z"
    }
   },
   "outputs": [
    {
     "data": {
      "text/plain": [
       "6"
      ]
     },
     "execution_count": 14,
     "metadata": {},
     "output_type": "execute_result"
    }
   ],
   "source": [
    "def dpMakeChange(coinValueList, change, minCoins):\n",
    "    for cents in range(change + 1):\n",
    "        coinCount = cents\n",
    "        for j in [c for c in coinValueList if c <= cents]:\n",
    "            if minCoins[cents - j] + 1 < coinCount:\n",
    "                coinCount = minCoins[cents - j] + 1\n",
    "        minCoins[cents] = coinCount\n",
    "    return minCoins[change]\n",
    "\n",
    "\n",
    "dpMakeChange([1, 5, 10, 25], 63, [0] * 64)"
   ]
  },
  {
   "cell_type": "markdown",
   "metadata": {},
   "source": [
    "## Programming Exercises"
   ]
  },
  {
   "cell_type": "markdown",
   "metadata": {},
   "source": [
    "Write a recursive function to compute the factorial of a number."
   ]
  },
  {
   "cell_type": "code",
   "execution_count": 23,
   "metadata": {
    "ExecuteTime": {
     "end_time": "2018-12-28T09:08:43.818399Z",
     "start_time": "2018-12-28T09:08:43.813711Z"
    }
   },
   "outputs": [],
   "source": [
    "def factorial(n):\n",
    "    if n == 1:\n",
    "        return 1\n",
    "    else:\n",
    "        return n * factorial(n - 1)"
   ]
  },
  {
   "cell_type": "code",
   "execution_count": 24,
   "metadata": {
    "ExecuteTime": {
     "end_time": "2018-12-28T09:08:44.184258Z",
     "start_time": "2018-12-28T09:08:44.175508Z"
    }
   },
   "outputs": [
    {
     "data": {
      "text/plain": [
       "1"
      ]
     },
     "execution_count": 24,
     "metadata": {},
     "output_type": "execute_result"
    }
   ],
   "source": [
    "factorial(1)"
   ]
  },
  {
   "cell_type": "markdown",
   "metadata": {},
   "source": [
    "Write a recursive function to reverse a list."
   ]
  },
  {
   "cell_type": "code",
   "execution_count": 27,
   "metadata": {
    "ExecuteTime": {
     "end_time": "2018-12-28T09:10:11.360962Z",
     "start_time": "2018-12-28T09:10:11.354414Z"
    }
   },
   "outputs": [],
   "source": [
    "def reverse(li):\n",
    "    if len(li) == 1:\n",
    "        return li[0]\n",
    "    else:\n",
    "        return li[-1] + reverse(li[:-1])"
   ]
  },
  {
   "cell_type": "code",
   "execution_count": 28,
   "metadata": {
    "ExecuteTime": {
     "end_time": "2018-12-28T09:10:11.793651Z",
     "start_time": "2018-12-28T09:10:11.782615Z"
    }
   },
   "outputs": [
    {
     "data": {
      "text/plain": [
       "'nohtyp'"
      ]
     },
     "execution_count": 28,
     "metadata": {},
     "output_type": "execute_result"
    }
   ],
   "source": [
    "li = [x for x in 'python']\n",
    "reverse(li)"
   ]
  },
  {
   "cell_type": "markdown",
   "metadata": {},
   "source": [
    "Write a recursive function to compute the Fibonacci sequence. How does the performance of the recursive function compare to that of an iterative version?"
   ]
  },
  {
   "cell_type": "code",
   "execution_count": 29,
   "metadata": {
    "ExecuteTime": {
     "end_time": "2018-12-28T09:21:15.988216Z",
     "start_time": "2018-12-28T09:21:15.981684Z"
    }
   },
   "outputs": [],
   "source": [
    "def fibonacci(n):\n",
    "    if n == 0 or n == 1:\n",
    "        return n\n",
    "    else:\n",
    "        return fibonacci(n - 1) + fibonacci(n - 2)"
   ]
  },
  {
   "cell_type": "code",
   "execution_count": 30,
   "metadata": {
    "ExecuteTime": {
     "end_time": "2018-12-28T09:21:20.121262Z",
     "start_time": "2018-12-28T09:21:20.115403Z"
    }
   },
   "outputs": [
    {
     "data": {
      "text/plain": [
       "55"
      ]
     },
     "execution_count": 30,
     "metadata": {},
     "output_type": "execute_result"
    }
   ],
   "source": [
    "fibonacci(10)"
   ]
  },
  {
   "cell_type": "code",
   "execution_count": 34,
   "metadata": {
    "ExecuteTime": {
     "end_time": "2018-12-28T09:25:46.149783Z",
     "start_time": "2018-12-28T09:25:45.309679Z"
    }
   },
   "outputs": [
    {
     "name": "stdout",
     "output_type": "stream",
     "text": [
      "How many Fibonacci numbers do you want? 11\n",
      "[0, 1, 1, 2, 3, 5, 8, 13, 21, 34, 55]\n"
     ]
    }
   ],
   "source": [
    "fibs = [0, 1]\n",
    "numZS = input('How many Fibonacci numbers do you want? ')\n",
    "for i in range(int(numZS) - 2):\n",
    "    fibs.append(fibs[-2] + fibs[-1])\n",
    "print(fibs)"
   ]
  },
  {
   "cell_type": "code",
   "execution_count": null,
   "metadata": {},
   "outputs": [],
   "source": []
  }
 ],
 "metadata": {
  "kernelspec": {
   "display_name": "Python 3",
   "language": "python",
   "name": "python3"
  },
  "language_info": {
   "codemirror_mode": {
    "name": "ipython",
    "version": 3
   },
   "file_extension": ".py",
   "mimetype": "text/x-python",
   "name": "python",
   "nbconvert_exporter": "python",
   "pygments_lexer": "ipython3",
   "version": "3.5.2"
  },
  "toc": {
   "base_numbering": 1,
   "nav_menu": {},
   "number_sections": true,
   "sideBar": true,
   "skip_h1_title": false,
   "title_cell": "Table of Contents",
   "title_sidebar": "Contents",
   "toc_cell": false,
   "toc_position": {},
   "toc_section_display": true,
   "toc_window_display": false
  }
 },
 "nbformat": 4,
 "nbformat_minor": 2
}
