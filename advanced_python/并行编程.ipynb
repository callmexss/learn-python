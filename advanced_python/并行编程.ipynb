{
 "cells": [
  {
   "cell_type": "markdown",
   "metadata": {},
   "source": [
    "## 如何使用多线程"
   ]
  },
  {
   "cell_type": "code",
   "execution_count": 1,
   "metadata": {},
   "outputs": [],
   "source": [
    "import random\n",
    "import time\n",
    "from threading import Thread"
   ]
  },
  {
   "cell_type": "markdown",
   "metadata": {},
   "source": [
    "### 使用函数创建线程"
   ]
  },
  {
   "cell_type": "code",
   "execution_count": 2,
   "metadata": {},
   "outputs": [],
   "source": [
    "def download():\n",
    "    time.sleep(random.randint(1, 2))\n",
    "    print(\"download!\")"
   ]
  },
  {
   "cell_type": "code",
   "execution_count": 3,
   "metadata": {},
   "outputs": [
    {
     "name": "stdout",
     "output_type": "stream",
     "text": [
      "hello\n"
     ]
    }
   ],
   "source": [
    "t = Thread(target=download)\n",
    "t.start()\n",
    "print(\"hello\")"
   ]
  },
  {
   "cell_type": "code",
   "execution_count": 4,
   "metadata": {},
   "outputs": [
    {
     "name": "stdout",
     "output_type": "stream",
     "text": [
      "download!\n",
      "hello\n"
     ]
    }
   ],
   "source": [
    "t = Thread(target=download)\n",
    "t.start()\n",
    "t.join()\n",
    "print(\"hello\")"
   ]
  },
  {
   "cell_type": "markdown",
   "metadata": {},
   "source": [
    "### 使用继承创建线程"
   ]
  },
  {
   "cell_type": "code",
   "execution_count": 5,
   "metadata": {},
   "outputs": [],
   "source": [
    "class MyThread(Thread):\n",
    "    def __init__(self):\n",
    "        Thread.__init__(self)\n",
    "        \n",
    "    def run(self):\n",
    "        time.sleep(random.randint(1, 2))\n",
    "        print(\"download!\")"
   ]
  },
  {
   "cell_type": "code",
   "execution_count": 6,
   "metadata": {},
   "outputs": [
    {
     "name": "stdout",
     "output_type": "stream",
     "text": [
      "download!\n",
      "download!download!download!\n",
      "\n",
      "\n",
      "download!download!download!\n",
      "\n",
      "download!download!download!\n",
      "download!\n",
      "\n",
      "\n",
      "\n",
      "hello\n"
     ]
    }
   ],
   "source": [
    "threads = [MyThread() for i in range(10)]\n",
    "[t.start() for t in threads]\n",
    "[t.join() for t in threads]\n",
    "print(\"hello\")"
   ]
  },
  {
   "cell_type": "markdown",
   "metadata": {},
   "source": [
    "## 如何线程通信"
   ]
  },
  {
   "cell_type": "code",
   "execution_count": 7,
   "metadata": {},
   "outputs": [],
   "source": [
    "from queue import Queue"
   ]
  },
  {
   "cell_type": "code",
   "execution_count": 8,
   "metadata": {},
   "outputs": [],
   "source": [
    "class Producer(Thread):\n",
    "    def __init__(self, queue):\n",
    "        Thread.__init__(self)\n",
    "        self.queue = queue\n",
    "        \n",
    "    def produce(self):\n",
    "        time.sleep(random.random())\n",
    "        stuff = random.randint(1, 10)\n",
    "        self.queue.put(stuff)\n",
    "        print(f\"produce {stuff}\")\n",
    "        \n",
    "    def run(self):\n",
    "        self.produce()"
   ]
  },
  {
   "cell_type": "code",
   "execution_count": 11,
   "metadata": {},
   "outputs": [],
   "source": [
    "class Consumer(Thread):\n",
    "    def __init__(self, queue):\n",
    "        Thread.__init__(self)\n",
    "        self.queue = queue\n",
    "        \n",
    "    def run(self):\n",
    "        while True:\n",
    "            time.sleep(random.random())\n",
    "            stuff = self.queue.get()\n",
    "            if stuff == -1:\n",
    "                print(\"finished\")\n",
    "                break\n",
    "            print(f\"consume {stuff}\")"
   ]
  },
  {
   "cell_type": "code",
   "execution_count": 12,
   "metadata": {},
   "outputs": [
    {
     "name": "stdout",
     "output_type": "stream",
     "text": [
      "produce 10produce 2\n",
      "\n",
      "produce 1\n",
      "produce 7\n",
      "produce 4\n",
      "produce 8\n",
      "produce 6\n",
      "produce 9\n",
      "consume 10\n",
      "produce 9\n",
      "produce 3\n",
      "consume 2\n",
      "consume 1\n",
      "consume 7\n",
      "consume 4\n",
      "consume 8\n",
      "consume 6\n",
      "consume 9\n",
      "consume 9\n",
      "consume 3\n",
      "finished\n"
     ]
    }
   ],
   "source": [
    "queue = Queue()\n",
    "producers = [Producer(queue) for i in range(10)]\n",
    "consumer = Consumer(queue)\n",
    "[t.start() for t in producers]\n",
    "consumer.start()\n",
    "[t.join() for t in producers]\n",
    "queue.put(-1)"
   ]
  }
 ],
 "metadata": {
  "kernelspec": {
   "display_name": "Python 3",
   "language": "python",
   "name": "python3"
  },
  "language_info": {
   "codemirror_mode": {
    "name": "ipython",
    "version": 3
   },
   "file_extension": ".py",
   "mimetype": "text/x-python",
   "name": "python",
   "nbconvert_exporter": "python",
   "pygments_lexer": "ipython3",
   "version": "3.6.2"
  }
 },
 "nbformat": 4,
 "nbformat_minor": 2
}
