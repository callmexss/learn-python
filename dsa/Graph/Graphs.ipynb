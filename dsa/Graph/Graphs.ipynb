{
 "cells": [
  {
   "cell_type": "markdown",
   "metadata": {},
   "source": [
    "## 图"
   ]
  },
  {
   "cell_type": "markdown",
   "metadata": {},
   "source": [
    "what: \n",
    "\n",
    "how:\n",
    "\n",
    "why:"
   ]
  },
  {
   "cell_type": "code",
   "execution_count": 98,
   "metadata": {
    "ExecuteTime": {
     "end_time": "2018-12-11T12:27:53.952823Z",
     "start_time": "2018-12-11T12:27:53.949371Z"
    }
   },
   "outputs": [],
   "source": [
    "from queue import Queue\n",
    "\n",
    "from pprint import pprint"
   ]
  },
  {
   "cell_type": "code",
   "execution_count": 99,
   "metadata": {
    "ExecuteTime": {
     "end_time": "2018-12-11T12:27:54.265612Z",
     "start_time": "2018-12-11T12:27:54.259717Z"
    }
   },
   "outputs": [],
   "source": [
    "V = set([x for x in 'abcde'])\n",
    "E = {'ab', 'ac', 'bd', 'cd', 'de'}"
   ]
  },
  {
   "cell_type": "code",
   "execution_count": 107,
   "metadata": {
    "ExecuteTime": {
     "end_time": "2018-12-11T12:48:35.145960Z",
     "start_time": "2018-12-11T12:48:35.140983Z"
    }
   },
   "outputs": [],
   "source": [
    "# 在python中可以用字典表示图。\n",
    "graph = {v:[] for v in V}\n",
    "\n",
    "for e in E:\n",
    "    graph[e[0]].append(e[1])\n",
    "    graph[e[1]].append(e[0])"
   ]
  },
  {
   "cell_type": "code",
   "execution_count": 154,
   "metadata": {
    "ExecuteTime": {
     "end_time": "2018-12-11T12:59:11.045432Z",
     "start_time": "2018-12-11T12:59:11.039769Z"
    }
   },
   "outputs": [
    {
     "data": {
      "text/plain": [
       "{'a': ['c', 'b'],\n",
       " 'b': ['d', 'a'],\n",
       " 'c': ['a', 'd'],\n",
       " 'd': ['b', 'e', 'c'],\n",
       " 'e': ['d']}"
      ]
     },
     "execution_count": 154,
     "metadata": {},
     "output_type": "execute_result"
    }
   ],
   "source": [
    "graph"
   ]
  },
  {
   "cell_type": "code",
   "execution_count": 198,
   "metadata": {
    "ExecuteTime": {
     "end_time": "2018-12-11T13:06:43.793508Z",
     "start_time": "2018-12-11T13:06:43.777950Z"
    }
   },
   "outputs": [],
   "source": [
    "class Graph(object):\n",
    "    def __init__(self, gdict=[]):\n",
    "        self.gdict = gdict\n",
    "        self.found = False  # for dfs\n",
    "        \n",
    "    def getVertices(self):\n",
    "        return list(self.gdict.keys())\n",
    "    \n",
    "    def addEdge(self, v1, v2):\n",
    "        if v2 not in self.gdict[v1]:\n",
    "            self.gdict[v1].append(v2)\n",
    "        if v1 not in self.gdict[v2]:\n",
    "            self.gdict[v2].append(v1)\n",
    "        \n",
    "    def bfs(self, src, dst):\n",
    "        if src == dst:\n",
    "            return\n",
    "        \n",
    "        visited = {k: False for k in self.getVertices()}\n",
    "        \n",
    "        visited[src] = True\n",
    "        queue = Queue()\n",
    "        queue.put(src)\n",
    "        prev = {v: \"\" for v in self.getVertices()}\n",
    "        \n",
    "        while queue.qsize() != 0:\n",
    "            w = queue.get()\n",
    "            for i in range(len(self.gdict[w])):\n",
    "                q = self.gdict[w][i]\n",
    "                if not visited[q]:\n",
    "                    prev[q] = w\n",
    "                    if q == dst:\n",
    "                        self._print(prev, src, dst)\n",
    "                        return\n",
    "                    visited[q] = True\n",
    "                    queue.put(q)\n",
    "                    \n",
    "    def dfs(self, src, dst):\n",
    "        self.found = False\n",
    "        # visited = {k: False for k in self.getVertices()}\n",
    "        visited = []\n",
    "        prev = {v: \"\" for v in self.getVertices()}\n",
    "        \n",
    "        self.recurDfs(src, dst, visited, prev)\n",
    "        # pprint(prev)\n",
    "        # pprint(visited)\n",
    "        self._print(prev, src, dst)\n",
    "        \n",
    "    def recurDfs(self, w, t, visited, prev):\n",
    "        if self.found:\n",
    "            return\n",
    "        # visited[w] = True\n",
    "        visited.append(w)\n",
    "        # pprint(visited)\n",
    "        # print(w, t)\n",
    "        if w == t:\n",
    "            self.found = True\n",
    "            return\n",
    "        for i in range(len(self.gdict[w])):\n",
    "            q = self.gdict[w][i]\n",
    "            # print(visited[q])\n",
    "            # if not visited[q]:\n",
    "            if q not in visited:\n",
    "                prev[q] = w\n",
    "                self.recurDfs(q, t, visited, prev)\n",
    "                    \n",
    "    def _print(self, prev, s, t):  # 递归打印 s -> t 的路径\n",
    "        if prev[t] and t != s:\n",
    "            self._print(prev, s, prev[t])\n",
    "        print(t + \" \")\n",
    "        "
   ]
  },
  {
   "cell_type": "code",
   "execution_count": 199,
   "metadata": {
    "ExecuteTime": {
     "end_time": "2018-12-11T13:06:44.471255Z",
     "start_time": "2018-12-11T13:06:44.467369Z"
    }
   },
   "outputs": [],
   "source": [
    "g = Graph(graph)"
   ]
  },
  {
   "cell_type": "code",
   "execution_count": 200,
   "metadata": {
    "ExecuteTime": {
     "end_time": "2018-12-11T13:06:45.269222Z",
     "start_time": "2018-12-11T13:06:45.264140Z"
    }
   },
   "outputs": [
    {
     "name": "stdout",
     "output_type": "stream",
     "text": [
      "a \n",
      "c \n",
      "d \n",
      "e \n"
     ]
    }
   ],
   "source": [
    "g.dfs('a', 'e')"
   ]
  },
  {
   "cell_type": "code",
   "execution_count": 201,
   "metadata": {
    "ExecuteTime": {
     "end_time": "2018-12-11T13:06:45.738127Z",
     "start_time": "2018-12-11T13:06:45.731191Z"
    }
   },
   "outputs": [
    {
     "data": {
      "text/plain": [
       "['a', 'c', 'e', 'd', 'b']"
      ]
     },
     "execution_count": 201,
     "metadata": {},
     "output_type": "execute_result"
    }
   ],
   "source": [
    "g.getVertices()"
   ]
  },
  {
   "cell_type": "code",
   "execution_count": 202,
   "metadata": {
    "ExecuteTime": {
     "end_time": "2018-12-11T13:06:46.328515Z",
     "start_time": "2018-12-11T13:06:46.323308Z"
    }
   },
   "outputs": [
    {
     "name": "stdout",
     "output_type": "stream",
     "text": [
      "a \n",
      "e \n"
     ]
    }
   ],
   "source": [
    "g.bfs('a', 'e')"
   ]
  },
  {
   "cell_type": "code",
   "execution_count": 207,
   "metadata": {
    "ExecuteTime": {
     "end_time": "2018-12-11T13:07:05.245393Z",
     "start_time": "2018-12-11T13:07:05.239877Z"
    }
   },
   "outputs": [
    {
     "name": "stdout",
     "output_type": "stream",
     "text": [
      "a \n",
      "e \n"
     ]
    }
   ],
   "source": [
    "g.addEdge('a', 'e')\n",
    "g.bfs('a', 'e')"
   ]
  },
  {
   "cell_type": "code",
   "execution_count": 208,
   "metadata": {
    "ExecuteTime": {
     "end_time": "2018-12-11T13:07:05.420396Z",
     "start_time": "2018-12-11T13:07:05.414252Z"
    }
   },
   "outputs": [
    {
     "data": {
      "text/plain": [
       "{'a': ['c', 'b', 'e'],\n",
       " 'b': ['d', 'a'],\n",
       " 'c': ['a', 'd'],\n",
       " 'd': ['b', 'e', 'c'],\n",
       " 'e': ['d', 'a']}"
      ]
     },
     "execution_count": 208,
     "metadata": {},
     "output_type": "execute_result"
    }
   ],
   "source": [
    "g.gdict"
   ]
  },
  {
   "cell_type": "markdown",
   "metadata": {},
   "source": [
    "## Python Queue"
   ]
  },
  {
   "cell_type": "code",
   "execution_count": 209,
   "metadata": {
    "ExecuteTime": {
     "end_time": "2018-12-11T13:07:22.856487Z",
     "start_time": "2018-12-11T13:07:22.852081Z"
    }
   },
   "outputs": [],
   "source": [
    "q = queue.Queue()"
   ]
  },
  {
   "cell_type": "code",
   "execution_count": 210,
   "metadata": {
    "ExecuteTime": {
     "end_time": "2018-12-11T13:07:23.008260Z",
     "start_time": "2018-12-11T13:07:23.004869Z"
    }
   },
   "outputs": [],
   "source": [
    "q.put(1)\n",
    "q.put(7)\n",
    "q.put(3)"
   ]
  },
  {
   "cell_type": "code",
   "execution_count": 211,
   "metadata": {
    "ExecuteTime": {
     "end_time": "2018-12-11T13:07:23.116111Z",
     "start_time": "2018-12-11T13:07:23.110927Z"
    }
   },
   "outputs": [
    {
     "data": {
      "text/plain": [
       "3"
      ]
     },
     "execution_count": 211,
     "metadata": {},
     "output_type": "execute_result"
    }
   ],
   "source": [
    "q.qsize()"
   ]
  },
  {
   "cell_type": "code",
   "execution_count": 212,
   "metadata": {
    "ExecuteTime": {
     "end_time": "2018-12-11T13:07:23.324926Z",
     "start_time": "2018-12-11T13:07:23.319515Z"
    }
   },
   "outputs": [
    {
     "data": {
      "text/plain": [
       "deque([1, 7, 3])"
      ]
     },
     "execution_count": 212,
     "metadata": {},
     "output_type": "execute_result"
    }
   ],
   "source": [
    "q.queue"
   ]
  },
  {
   "cell_type": "code",
   "execution_count": 213,
   "metadata": {
    "ExecuteTime": {
     "end_time": "2018-12-11T13:07:23.698125Z",
     "start_time": "2018-12-11T13:07:23.692834Z"
    }
   },
   "outputs": [
    {
     "data": {
      "text/plain": [
       "'freshman junior sophomore senior'"
      ]
     },
     "execution_count": 213,
     "metadata": {},
     "output_type": "execute_result"
    }
   ],
   "source": [
    "\"FRESHMAN JUNIOR SOPHOMORE SENIOR\".lower()"
   ]
  },
  {
   "cell_type": "markdown",
   "metadata": {},
   "source": [
    "## 列表作为参数"
   ]
  },
  {
   "cell_type": "code",
   "execution_count": 214,
   "metadata": {
    "ExecuteTime": {
     "end_time": "2018-12-11T13:07:24.636915Z",
     "start_time": "2018-12-11T13:07:24.632668Z"
    }
   },
   "outputs": [],
   "source": [
    "def change(li):\n",
    "    # li.append(3)\n",
    "    li[0] = 3"
   ]
  },
  {
   "cell_type": "code",
   "execution_count": 132,
   "metadata": {
    "ExecuteTime": {
     "end_time": "2018-12-11T12:53:59.528011Z",
     "start_time": "2018-12-11T12:53:59.523383Z"
    }
   },
   "outputs": [
    {
     "name": "stdout",
     "output_type": "stream",
     "text": [
      "[3]\n"
     ]
    }
   ],
   "source": [
    "li = [1]\n",
    "change(li)\n",
    "print(li)"
   ]
  },
  {
   "cell_type": "markdown",
   "metadata": {},
   "source": [
    "## 集合"
   ]
  },
  {
   "cell_type": "code",
   "execution_count": 215,
   "metadata": {
    "ExecuteTime": {
     "end_time": "2018-12-11T14:15:26.882618Z",
     "start_time": "2018-12-11T14:15:26.876379Z"
    }
   },
   "outputs": [
    {
     "data": {
      "text/plain": [
       "False"
      ]
     },
     "execution_count": 215,
     "metadata": {},
     "output_type": "execute_result"
    }
   ],
   "source": [
    "set1 = {3}\n",
    "set2 = {5, 8}\n",
    "set1 <= set2"
   ]
  },
  {
   "cell_type": "code",
   "execution_count": 216,
   "metadata": {
    "ExecuteTime": {
     "end_time": "2018-12-11T14:15:45.743642Z",
     "start_time": "2018-12-11T14:15:45.737999Z"
    }
   },
   "outputs": [
    {
     "data": {
      "text/plain": [
       "True"
      ]
     },
     "execution_count": 216,
     "metadata": {},
     "output_type": "execute_result"
    }
   ],
   "source": [
    "set1 = {2}\n",
    "set2 = {2, 4}\n",
    "set1 <= set2"
   ]
  }
 ],
 "metadata": {
  "kernelspec": {
   "display_name": "Python 3",
   "language": "python",
   "name": "python3"
  },
  "language_info": {
   "codemirror_mode": {
    "name": "ipython",
    "version": 3
   },
   "file_extension": ".py",
   "mimetype": "text/x-python",
   "name": "python",
   "nbconvert_exporter": "python",
   "pygments_lexer": "ipython3",
   "version": "3.5.2"
  },
  "toc": {
   "base_numbering": 1,
   "nav_menu": {},
   "number_sections": true,
   "sideBar": true,
   "skip_h1_title": false,
   "title_cell": "Table of Contents",
   "title_sidebar": "Contents",
   "toc_cell": false,
   "toc_position": {},
   "toc_section_display": true,
   "toc_window_display": true
  }
 },
 "nbformat": 4,
 "nbformat_minor": 2
}
