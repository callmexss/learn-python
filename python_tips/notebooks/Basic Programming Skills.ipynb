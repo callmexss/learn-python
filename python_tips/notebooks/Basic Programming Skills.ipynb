{
 "cells": [
  {
   "cell_type": "markdown",
   "metadata": {},
   "source": [
    "# 基础编程技能"
   ]
  },
  {
   "cell_type": "markdown",
   "metadata": {},
   "source": [
    "## 基本语法"
   ]
  },
  {
   "cell_type": "markdown",
   "metadata": {},
   "source": [
    "### 常量"
   ]
  },
  {
   "cell_type": "code",
   "execution_count": 11,
   "metadata": {
    "ExecuteTime": {
     "end_time": "2019-04-09T09:09:35.582290Z",
     "start_time": "2019-04-09T09:09:35.579556Z"
    }
   },
   "outputs": [],
   "source": [
    "COUNTRY = 'CHINA'  # 常量只是名称上的，实际可以被修改"
   ]
  },
  {
   "cell_type": "markdown",
   "metadata": {},
   "source": [
    "### 变量"
   ]
  },
  {
   "cell_type": "code",
   "execution_count": 5,
   "metadata": {
    "ExecuteTime": {
     "end_time": "2019-04-09T09:07:03.121977Z",
     "start_time": "2019-04-09T09:07:03.119094Z"
    }
   },
   "outputs": [],
   "source": [
    "name = 'Tom'"
   ]
  },
  {
   "cell_type": "code",
   "execution_count": 6,
   "metadata": {
    "ExecuteTime": {
     "end_time": "2019-04-09T09:07:03.441049Z",
     "start_time": "2019-04-09T09:07:03.436676Z"
    }
   },
   "outputs": [],
   "source": [
    "age = 18"
   ]
  },
  {
   "cell_type": "markdown",
   "metadata": {},
   "source": [
    "### 表达式"
   ]
  },
  {
   "cell_type": "markdown",
   "metadata": {},
   "source": [
    "表达式和语句的区别:\n",
    "\n",
    "- 语句是Python解释器可以执行的一条指令。例如赋值语句、while语句、for语句、if语句和import语句。(还有其他种类!)\n",
    "- 表达式是值、变量、操作符和函数调用的组合。表达式需要计算。例如如果要求Python打印表达式，解释器将计算表达式并显示结果。"
   ]
  },
  {
   "cell_type": "code",
   "execution_count": 22,
   "metadata": {
    "ExecuteTime": {
     "end_time": "2019-04-09T09:15:05.279888Z",
     "start_time": "2019-04-09T09:15:05.275786Z"
    }
   },
   "outputs": [],
   "source": [
    "assert 1 + 1 == 2"
   ]
  },
  {
   "cell_type": "markdown",
   "metadata": {},
   "source": [
    "### 函数"
   ]
  },
  {
   "cell_type": "code",
   "execution_count": 7,
   "metadata": {
    "ExecuteTime": {
     "end_time": "2019-04-09T09:08:02.640913Z",
     "start_time": "2019-04-09T09:08:02.638008Z"
    }
   },
   "outputs": [],
   "source": [
    "def get_age():\n",
    "    return age"
   ]
  },
  {
   "cell_type": "code",
   "execution_count": 8,
   "metadata": {
    "ExecuteTime": {
     "end_time": "2019-04-09T09:08:05.259963Z",
     "start_time": "2019-04-09T09:08:05.244906Z"
    }
   },
   "outputs": [
    {
     "data": {
      "text/plain": [
       "18"
      ]
     },
     "execution_count": 8,
     "metadata": {},
     "output_type": "execute_result"
    }
   ],
   "source": [
    "get_age()"
   ]
  },
  {
   "cell_type": "code",
   "execution_count": 9,
   "metadata": {
    "ExecuteTime": {
     "end_time": "2019-04-09T09:08:57.179028Z",
     "start_time": "2019-04-09T09:08:57.175908Z"
    }
   },
   "outputs": [],
   "source": [
    "def print_info():\n",
    "    print('My name is {}, I\\'m {} years old'.format(name, age))"
   ]
  },
  {
   "cell_type": "code",
   "execution_count": 10,
   "metadata": {
    "ExecuteTime": {
     "end_time": "2019-04-09T09:09:00.577633Z",
     "start_time": "2019-04-09T09:09:00.570977Z"
    }
   },
   "outputs": [
    {
     "name": "stdout",
     "output_type": "stream",
     "text": [
      "My name is Tom, I'm 18 years old\n"
     ]
    }
   ],
   "source": [
    "print_info()"
   ]
  },
  {
   "cell_type": "code",
   "execution_count": 12,
   "metadata": {
    "ExecuteTime": {
     "end_time": "2019-04-09T09:11:24.181035Z",
     "start_time": "2019-04-09T09:11:24.176444Z"
    }
   },
   "outputs": [],
   "source": [
    "def change_name(new_name):\n",
    "    name = new_name  # 由于字符串是不可变类型，因此这里是产生了一个新的字符串\n",
    "    assert id(name) == id(new_name)"
   ]
  },
  {
   "cell_type": "code",
   "execution_count": 13,
   "metadata": {
    "ExecuteTime": {
     "end_time": "2019-04-09T09:11:34.096747Z",
     "start_time": "2019-04-09T09:11:34.091888Z"
    }
   },
   "outputs": [],
   "source": [
    "change_name(\"Bob\")"
   ]
  },
  {
   "cell_type": "code",
   "execution_count": 15,
   "metadata": {
    "ExecuteTime": {
     "end_time": "2019-04-09T09:12:49.951915Z",
     "start_time": "2019-04-09T09:12:49.947798Z"
    }
   },
   "outputs": [
    {
     "name": "stdout",
     "output_type": "stream",
     "text": [
      "My name is Tom, I'm 18 years old\n"
     ]
    }
   ],
   "source": [
    "print_info()  # 此处 name 没有发生变化是因为变量的作用域，函数内的 name 和函数外的 name 是不同的"
   ]
  },
  {
   "cell_type": "code",
   "execution_count": 17,
   "metadata": {
    "ExecuteTime": {
     "end_time": "2019-04-09T09:13:29.943792Z",
     "start_time": "2019-04-09T09:13:29.940079Z"
    }
   },
   "outputs": [],
   "source": [
    "def change_name2(new_name):\n",
    "    global name\n",
    "    name = new_name\n",
    "    assert id(name) == id(new_name)"
   ]
  },
  {
   "cell_type": "code",
   "execution_count": 18,
   "metadata": {
    "ExecuteTime": {
     "end_time": "2019-04-09T09:13:35.451329Z",
     "start_time": "2019-04-09T09:13:35.447392Z"
    }
   },
   "outputs": [],
   "source": [
    "change_name2('Bob')"
   ]
  },
  {
   "cell_type": "code",
   "execution_count": 20,
   "metadata": {
    "ExecuteTime": {
     "end_time": "2019-04-09T09:13:52.729085Z",
     "start_time": "2019-04-09T09:13:52.725002Z"
    }
   },
   "outputs": [
    {
     "name": "stdout",
     "output_type": "stream",
     "text": [
      "My name is Bob, I'm 18 years old\n"
     ]
    }
   ],
   "source": [
    "print_info()  # 这里就改名成功了"
   ]
  },
  {
   "cell_type": "markdown",
   "metadata": {},
   "source": [
    "### 语句"
   ]
  },
  {
   "cell_type": "markdown",
   "metadata": {},
   "source": [
    "#### 条件"
   ]
  },
  {
   "cell_type": "code",
   "execution_count": 29,
   "metadata": {
    "ExecuteTime": {
     "end_time": "2019-04-09T09:18:11.792579Z",
     "start_time": "2019-04-09T09:18:11.788120Z"
    }
   },
   "outputs": [],
   "source": [
    "def is_tom(name):\n",
    "    if name.lower() == 'tom':\n",
    "        print('Yes, it\\'s Tom')\n",
    "    else:\n",
    "        print('Wrong person. It\\'s {}.'.format(name))"
   ]
  },
  {
   "cell_type": "code",
   "execution_count": 30,
   "metadata": {
    "ExecuteTime": {
     "end_time": "2019-04-09T09:18:11.983708Z",
     "start_time": "2019-04-09T09:18:11.979043Z"
    }
   },
   "outputs": [
    {
     "name": "stdout",
     "output_type": "stream",
     "text": [
      "Wrong person. It's Bob.\n"
     ]
    }
   ],
   "source": [
    "is_tom(name)"
   ]
  },
  {
   "cell_type": "markdown",
   "metadata": {},
   "source": [
    "#### 循环"
   ]
  },
  {
   "cell_type": "code",
   "execution_count": 31,
   "metadata": {
    "ExecuteTime": {
     "end_time": "2019-04-09T09:18:53.718133Z",
     "start_time": "2019-04-09T09:18:53.712892Z"
    }
   },
   "outputs": [
    {
     "name": "stdout",
     "output_type": "stream",
     "text": [
      "a\n",
      "p\n",
      "p\n",
      "l\n",
      "e\n"
     ]
    }
   ],
   "source": [
    "# for\n",
    "for i in 'apple':\n",
    "    print(i)"
   ]
  },
  {
   "cell_type": "code",
   "execution_count": 33,
   "metadata": {
    "ExecuteTime": {
     "end_time": "2019-04-09T09:19:51.032384Z",
     "start_time": "2019-04-09T09:19:51.027518Z"
    }
   },
   "outputs": [
    {
     "name": "stdout",
     "output_type": "stream",
     "text": [
      "0\n",
      "1\n",
      "2\n",
      "3\n",
      "4\n"
     ]
    }
   ],
   "source": [
    "# while\n",
    "i = 0\n",
    "while i < 5:\n",
    "    print(i)\n",
    "    i += 1  #  这很重要，不要忘记了"
   ]
  },
  {
   "cell_type": "markdown",
   "metadata": {},
   "source": [
    "#### 分支"
   ]
  },
  {
   "cell_type": "markdown",
   "metadata": {},
   "source": [
    "Python 中没有 `switch` 语句，分支可以使用自建字典数据结构实现。\n",
    "TODO：字典实现 Python 分支语句。 "
   ]
  },
  {
   "cell_type": "markdown",
   "metadata": {},
   "source": [
    "### 基本输入输出"
   ]
  },
  {
   "cell_type": "code",
   "execution_count": 35,
   "metadata": {
    "ExecuteTime": {
     "end_time": "2019-04-09T09:22:04.153954Z",
     "start_time": "2019-04-09T09:21:58.988315Z"
    }
   },
   "outputs": [
    {
     "name": "stdout",
     "output_type": "stream",
     "text": [
      "Input your name: world\n"
     ]
    }
   ],
   "source": [
    "name = input('Input your name: ')"
   ]
  },
  {
   "cell_type": "code",
   "execution_count": 36,
   "metadata": {
    "ExecuteTime": {
     "end_time": "2019-04-09T09:24:15.706445Z",
     "start_time": "2019-04-09T09:24:15.701592Z"
    }
   },
   "outputs": [
    {
     "name": "stdout",
     "output_type": "stream",
     "text": [
      "Hello world!\n"
     ]
    }
   ],
   "source": [
    "print('Hello {}!'.format(name))"
   ]
  },
  {
   "cell_type": "markdown",
   "metadata": {},
   "source": [
    "## 內键数据结构"
   ]
  },
  {
   "cell_type": "markdown",
   "metadata": {},
   "source": [
    "### 数字"
   ]
  },
  {
   "cell_type": "markdown",
   "metadata": {},
   "source": [
    "#### 整数"
   ]
  },
  {
   "cell_type": "code",
   "execution_count": 40,
   "metadata": {
    "ExecuteTime": {
     "end_time": "2019-04-09T09:35:04.956122Z",
     "start_time": "2019-04-09T09:35:04.948261Z"
    }
   },
   "outputs": [
    {
     "name": "stdout",
     "output_type": "stream",
     "text": [
      "123456\n",
      "0b11110001001000000\n",
      "0o361100\n",
      "0x1e240\n"
     ]
    }
   ],
   "source": [
    "interger = 123456             # 十进制\n",
    "bin_int = bin(interger)       # 二进制\n",
    "oct_int = oct(interger)       # 八进制\n",
    "hex_int = hex(interger)       # 十六进制\n",
    "\n",
    "print(interger, bin_int, oct_int, hex_int, sep='\\n')"
   ]
  },
  {
   "cell_type": "code",
   "execution_count": 46,
   "metadata": {
    "ExecuteTime": {
     "end_time": "2019-04-09T09:37:19.829746Z",
     "start_time": "2019-04-09T09:37:19.823449Z"
    }
   },
   "outputs": [
    {
     "name": "stdout",
     "output_type": "stream",
     "text": [
      "97 a\n"
     ]
    }
   ],
   "source": [
    "# 字符和整数映射\n",
    "interger = ord('a')\n",
    "charachter = chr(97)\n",
    "\n",
    "print(interger, charachter)"
   ]
  },
  {
   "cell_type": "markdown",
   "metadata": {},
   "source": [
    "Python 没有无符号右移操作符 `>>>`，需要自己实现："
   ]
  },
  {
   "cell_type": "code",
   "execution_count": 61,
   "metadata": {
    "ExecuteTime": {
     "end_time": "2019-04-09T12:59:54.779607Z",
     "start_time": "2019-04-09T12:59:54.773165Z"
    }
   },
   "outputs": [
    {
     "name": "stdout",
     "output_type": "stream",
     "text": [
      "4095\n"
     ]
    }
   ],
   "source": [
    "import ctypes\n",
    "def unsigned_right_shitf(n,i):\n",
    "    # 数字小于0，则转为32位无符号uint\n",
    "    if n < 0:\n",
    "        n = ctypes.c_uint32(n).value\n",
    "    # 正常位移位数是为正数，但是为了兼容js之类的，负数就右移变成左移好了\n",
    "    if i < 0:\n",
    "        return -int_overflow(n << abs(i))\n",
    "    #print(n)\n",
    "    return int_overflow(n >> i)\n",
    "\n",
    "ret = unsigned_right_shitf(-1,20)\n",
    "print(ret)"
   ]
  },
  {
   "cell_type": "code",
   "execution_count": 54,
   "metadata": {
    "ExecuteTime": {
     "end_time": "2019-04-09T12:50:35.331428Z",
     "start_time": "2019-04-09T12:50:35.325704Z"
    }
   },
   "outputs": [
    {
     "name": "stdout",
     "output_type": "stream",
     "text": [
      "0\n",
      "1\n",
      "1\n",
      "-2\n",
      "2\n",
      "0\n"
     ]
    }
   ],
   "source": [
    "# 位运算\n",
    "and_op = 1 & 0\n",
    "or_op = 1 | 0\n",
    "xor_op = 1 ^ 0\n",
    "not_op = ~1\n",
    "left_shift = 1 << 1\n",
    "right_shift = 1 >> 1\n",
    "\n",
    "print(and_op, or_op, xor_op, not_op, left_shift, right_shift, sep='\\n')"
   ]
  },
  {
   "cell_type": "code",
   "execution_count": 58,
   "metadata": {
    "ExecuteTime": {
     "end_time": "2019-04-09T12:56:04.318155Z",
     "start_time": "2019-04-09T12:56:04.312326Z"
    }
   },
   "outputs": [],
   "source": [
    "def int_overflow(val):\n",
    "    maxint = 2147483647\n",
    "    if not -maxint-1 <= val <= maxint:\n",
    "        val = (val + (maxint + 1)) % (2 * (maxint + 1)) - maxint - 1\n",
    "    return val"
   ]
  },
  {
   "cell_type": "code",
   "execution_count": 60,
   "metadata": {
    "ExecuteTime": {
     "end_time": "2019-04-09T12:56:19.739710Z",
     "start_time": "2019-04-09T12:56:19.732544Z"
    }
   },
   "outputs": [
    {
     "data": {
      "text/plain": [
       "-763916744"
      ]
     },
     "execution_count": 60,
     "metadata": {},
     "output_type": "execute_result"
    }
   ],
   "source": [
    "int_overflow(32768888888888888888)"
   ]
  },
  {
   "cell_type": "markdown",
   "metadata": {},
   "source": [
    "#### 浮点数"
   ]
  },
  {
   "cell_type": "code",
   "execution_count": 56,
   "metadata": {
    "ExecuteTime": {
     "end_time": "2019-04-09T12:51:39.240578Z",
     "start_time": "2019-04-09T12:51:39.236537Z"
    }
   },
   "outputs": [],
   "source": [
    "import math\n",
    "float_num = 3.14\n",
    "pi = math.pi"
   ]
  },
  {
   "cell_type": "code",
   "execution_count": 57,
   "metadata": {
    "ExecuteTime": {
     "end_time": "2019-04-09T12:51:41.524099Z",
     "start_time": "2019-04-09T12:51:41.519100Z"
    }
   },
   "outputs": [
    {
     "data": {
      "text/plain": [
       "3.141592653589793"
      ]
     },
     "execution_count": 57,
     "metadata": {},
     "output_type": "execute_result"
    }
   ],
   "source": [
    "pi"
   ]
  },
  {
   "cell_type": "markdown",
   "metadata": {},
   "source": [
    "#### 复数"
   ]
  },
  {
   "cell_type": "code",
   "execution_count": 63,
   "metadata": {
    "ExecuteTime": {
     "end_time": "2019-04-09T13:06:52.294172Z",
     "start_time": "2019-04-09T13:06:52.291588Z"
    },
    "collapsed": true
   },
   "outputs": [],
   "source": [
    "complex_num = 3 + 4j"
   ]
  },
  {
   "cell_type": "code",
   "execution_count": 64,
   "metadata": {
    "ExecuteTime": {
     "end_time": "2019-04-09T13:07:00.921029Z",
     "start_time": "2019-04-09T13:07:00.915875Z"
    }
   },
   "outputs": [
    {
     "name": "stdout",
     "output_type": "stream",
     "text": [
      "(3+4j)\n"
     ]
    }
   ],
   "source": [
    "print(complex_num)"
   ]
  },
  {
   "cell_type": "markdown",
   "metadata": {},
   "source": [
    "### 字符串"
   ]
  },
  {
   "cell_type": "code",
   "execution_count": 66,
   "metadata": {
    "ExecuteTime": {
     "end_time": "2019-04-09T13:08:38.413011Z",
     "start_time": "2019-04-09T13:08:38.408432Z"
    }
   },
   "outputs": [
    {
     "name": "stdout",
     "output_type": "stream",
     "text": [
      "example 139763403457792\n"
     ]
    }
   ],
   "source": [
    "s = 'example'\n",
    "print(s, id(s))"
   ]
  },
  {
   "cell_type": "markdown",
   "metadata": {},
   "source": [
    "## 参考"
   ]
  },
  {
   "cell_type": "markdown",
   "metadata": {},
   "source": [
    "1. [语句和表达式](http://interactivepython.org/runestone/static/CS152f17/SimplePythonData/StatementsandExpressions.html) \n",
    "2. [python3的位移操作](https://www.jianshu.com/p/24d11ab44ae6)\n"
   ]
  }
 ],
 "metadata": {
  "kernelspec": {
   "display_name": "Python 3",
   "language": "python",
   "name": "python3"
  },
  "language_info": {
   "codemirror_mode": {
    "name": "ipython",
    "version": 3
   },
   "file_extension": ".py",
   "mimetype": "text/x-python",
   "name": "python",
   "nbconvert_exporter": "python",
   "pygments_lexer": "ipython3",
   "version": "3.5.2"
  },
  "toc": {
   "base_numbering": 1,
   "nav_menu": {},
   "number_sections": true,
   "sideBar": true,
   "skip_h1_title": false,
   "title_cell": "Table of Contents",
   "title_sidebar": "Contents",
   "toc_cell": false,
   "toc_position": {},
   "toc_section_display": true,
   "toc_window_display": true
  }
 },
 "nbformat": 4,
 "nbformat_minor": 2
}
