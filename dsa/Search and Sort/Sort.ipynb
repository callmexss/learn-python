{
 "cells": [
  {
   "cell_type": "code",
   "execution_count": 1,
   "metadata": {
    "ExecuteTime": {
     "end_time": "2019-01-07T13:00:36.235214Z",
     "start_time": "2019-01-07T13:00:36.229715Z"
    }
   },
   "outputs": [],
   "source": [
    "%run ../funclib.py"
   ]
  },
  {
   "cell_type": "markdown",
   "metadata": {},
   "source": [
    "## Bubble Sort"
   ]
  },
  {
   "cell_type": "code",
   "execution_count": 26,
   "metadata": {
    "ExecuteTime": {
     "end_time": "2019-01-07T13:13:33.977340Z",
     "start_time": "2019-01-07T13:13:33.969944Z"
    }
   },
   "outputs": [],
   "source": [
    "def bubble_sort_fake(li):\n",
    "    for i in range(len(li)):\n",
    "        for j in range(i, len(li)):\n",
    "            if li[i] > li[j]:\n",
    "                li[i], li[j] = li[j], li[i]\n",
    "                \n",
    "    return li"
   ]
  },
  {
   "cell_type": "code",
   "execution_count": 30,
   "metadata": {
    "ExecuteTime": {
     "end_time": "2019-01-07T13:15:41.254919Z",
     "start_time": "2019-01-07T13:15:41.247916Z"
    }
   },
   "outputs": [],
   "source": [
    "def bubble_sort(li):\n",
    "    for i in range(len(li)):\n",
    "        for j in range(len(li)-i-1):\n",
    "            if li[j] > li[j+1]:\n",
    "                li[j], li[j+1] = li[j+1], li[j]\n",
    "    \n",
    "    return li"
   ]
  },
  {
   "cell_type": "code",
   "execution_count": 36,
   "metadata": {
    "ExecuteTime": {
     "end_time": "2019-01-07T13:18:32.837049Z",
     "start_time": "2019-01-07T13:18:32.829176Z"
    }
   },
   "outputs": [],
   "source": [
    "def bubble_sort_short(li):\n",
    "    for i in range(len(li)):\n",
    "        change = False\n",
    "        for j in range(len(li)-i-1):\n",
    "            if li[j] > li[j+1]:\n",
    "                li[j], li[j+1] = li[j+1], li[j]\n",
    "                change = True\n",
    "        if not change:\n",
    "            break\n",
    "    return li\n",
    "            "
   ]
  },
  {
   "cell_type": "code",
   "execution_count": 56,
   "metadata": {
    "ExecuteTime": {
     "end_time": "2019-01-07T13:22:50.751229Z",
     "start_time": "2019-01-07T13:22:50.746970Z"
    }
   },
   "outputs": [
    {
     "name": "stdout",
     "output_type": "stream",
     "text": [
      "[28, 8, -10, 60, 53, 22, 39, 13, -95, -67]\n"
     ]
    }
   ],
   "source": [
    "li = gen_list(10)\n",
    "print(li)"
   ]
  },
  {
   "cell_type": "code",
   "execution_count": 57,
   "metadata": {
    "ExecuteTime": {
     "end_time": "2019-01-07T13:22:51.777965Z",
     "start_time": "2019-01-07T13:22:51.771587Z"
    }
   },
   "outputs": [
    {
     "data": {
      "text/plain": [
       "[-95, -67, -10, 8, 13, 22, 28, 39, 53, 60]"
      ]
     },
     "execution_count": 57,
     "metadata": {},
     "output_type": "execute_result"
    }
   ],
   "source": [
    "bubble_sort_fake(li)"
   ]
  },
  {
   "cell_type": "code",
   "execution_count": 58,
   "metadata": {
    "ExecuteTime": {
     "end_time": "2019-01-07T13:22:52.820400Z",
     "start_time": "2019-01-07T13:22:52.812778Z"
    }
   },
   "outputs": [
    {
     "data": {
      "text/plain": [
       "[-95, -67, -10, 8, 13, 22, 28, 39, 53, 60]"
      ]
     },
     "execution_count": 58,
     "metadata": {},
     "output_type": "execute_result"
    }
   ],
   "source": [
    "bubble_sort(li)"
   ]
  },
  {
   "cell_type": "code",
   "execution_count": 59,
   "metadata": {
    "ExecuteTime": {
     "end_time": "2019-01-07T13:22:53.523467Z",
     "start_time": "2019-01-07T13:22:53.518255Z"
    }
   },
   "outputs": [
    {
     "data": {
      "text/plain": [
       "[-95, -67, -10, 8, 13, 22, 28, 39, 53, 60]"
      ]
     },
     "execution_count": 59,
     "metadata": {},
     "output_type": "execute_result"
    }
   ],
   "source": [
    "bubble_sort_short(li)"
   ]
  },
  {
   "cell_type": "markdown",
   "metadata": {},
   "source": [
    "## Select Sort"
   ]
  },
  {
   "cell_type": "code",
   "execution_count": 62,
   "metadata": {
    "ExecuteTime": {
     "end_time": "2019-01-07T13:35:13.050357Z",
     "start_time": "2019-01-07T13:35:13.037028Z"
    }
   },
   "outputs": [],
   "source": [
    "def select_sort(li):\n",
    "    for i in range(len(li)):\n",
    "        position_of_max = 0\n",
    "        for j in range(len(li) - i - 1):\n",
    "            if li[j] > li[position_of_max]:\n",
    "                position_of_max = j\n",
    "                \n",
    "        li[position_of_max], li[j] = li[position_of_max], li[j]\n",
    "        \n",
    "    return li"
   ]
  },
  {
   "cell_type": "code",
   "execution_count": 63,
   "metadata": {
    "ExecuteTime": {
     "end_time": "2019-01-07T13:35:25.928774Z",
     "start_time": "2019-01-07T13:35:25.917099Z"
    }
   },
   "outputs": [
    {
     "data": {
      "text/plain": [
       "[-95, -67, -10, 8, 13, 22, 28, 39, 53, 60]"
      ]
     },
     "execution_count": 63,
     "metadata": {},
     "output_type": "execute_result"
    }
   ],
   "source": [
    "select_sort(li)"
   ]
  },
  {
   "cell_type": "markdown",
   "metadata": {},
   "source": [
    "## Insertion Sort"
   ]
  },
  {
   "cell_type": "code",
   "execution_count": 64,
   "metadata": {
    "ExecuteTime": {
     "end_time": "2019-01-07T13:44:07.972674Z",
     "start_time": "2019-01-07T13:44:07.962921Z"
    }
   },
   "outputs": [],
   "source": [
    "def insertion_sort(li):\n",
    "    for i in range(1, len(li)):\n",
    "        current = li[i]\n",
    "        position = i\n",
    "        \n",
    "        while position > 0 and li[position-1] > current:\n",
    "            li[position] = li[position-1]\n",
    "            position = position - 1\n",
    "        \n",
    "        li[position] = current"
   ]
  },
  {
   "cell_type": "code",
   "execution_count": 66,
   "metadata": {
    "ExecuteTime": {
     "end_time": "2019-01-07T13:44:37.329240Z",
     "start_time": "2019-01-07T13:44:37.325069Z"
    }
   },
   "outputs": [
    {
     "name": "stdout",
     "output_type": "stream",
     "text": [
      "[-95, -67, -10, 8, 13, 22, 28, 39, 53, 60]\n"
     ]
    }
   ],
   "source": [
    "insertion_sort(li)\n",
    "print(li)"
   ]
  },
  {
   "cell_type": "markdown",
   "metadata": {},
   "source": [
    "## Merge Sort"
   ]
  },
  {
   "cell_type": "code",
   "execution_count": 12,
   "metadata": {
    "ExecuteTime": {
     "end_time": "2019-01-07T13:06:34.488315Z",
     "start_time": "2019-01-07T13:06:34.478418Z"
    }
   },
   "outputs": [],
   "source": [
    "def merge_sort(li):\n",
    "    if len(li) <= 1:\n",
    "        return li\n",
    "    \n",
    "    start = 0\n",
    "    end = len(li)\n",
    "    mid = (start + end) // 2\n",
    "    left = merge_sort(li[:mid])\n",
    "    right = merge_sort(li[mid:])\n",
    "    \n",
    "    merged = merge(left, right)\n",
    "    \n",
    "    return merged\n",
    "\n",
    "def merge(left, right):\n",
    "    res = []\n",
    "    l = 0\n",
    "    r = 0\n",
    "    \n",
    "    while l < len(left) and r < len(right):\n",
    "        if left[l] < right[r]:\n",
    "            res.append(left[l])\n",
    "            l += 1\n",
    "        else:\n",
    "            res.append(right[r])\n",
    "            r += 1\n",
    "        \n",
    "    return res + left[l:] if l < len(left) else res + right[r:]"
   ]
  },
  {
   "cell_type": "code",
   "execution_count": 13,
   "metadata": {
    "ExecuteTime": {
     "end_time": "2019-01-07T13:06:36.254927Z",
     "start_time": "2019-01-07T13:06:36.250628Z"
    }
   },
   "outputs": [],
   "source": [
    "li = gen_list()"
   ]
  },
  {
   "cell_type": "code",
   "execution_count": 60,
   "metadata": {
    "ExecuteTime": {
     "end_time": "2019-01-07T13:23:00.168756Z",
     "start_time": "2019-01-07T13:23:00.162958Z"
    }
   },
   "outputs": [
    {
     "name": "stdout",
     "output_type": "stream",
     "text": [
      "[-95, -67, -10, 8, 13, 22, 28, 39, 53, 60]\n",
      "[-95, -67, -10, 8, 13, 22, 28, 39, 53, 60]\n"
     ]
    }
   ],
   "source": [
    "print(li)\n",
    "print(merge_sort(li))"
   ]
  },
  {
   "cell_type": "code",
   "execution_count": 55,
   "metadata": {
    "ExecuteTime": {
     "end_time": "2019-01-07T13:22:31.436403Z",
     "start_time": "2019-01-07T13:22:26.442204Z"
    }
   },
   "outputs": [
    {
     "data": {
      "text/plain": [
       "True"
      ]
     },
     "execution_count": 55,
     "metadata": {},
     "output_type": "execute_result"
    }
   ],
   "source": [
    "merge_sort(li) == bubble_sort_fake(li)"
   ]
  },
  {
   "cell_type": "markdown",
   "metadata": {
    "ExecuteTime": {
     "end_time": "2019-01-07T14:07:05.507579Z",
     "start_time": "2019-01-07T14:07:05.497860Z"
    }
   },
   "source": [
    "## Quick Sort"
   ]
  },
  {
   "cell_type": "code",
   "execution_count": 1,
   "metadata": {
    "ExecuteTime": {
     "end_time": "2019-02-01T17:06:16.402954Z",
     "start_time": "2019-02-01T17:06:16.398929Z"
    }
   },
   "outputs": [],
   "source": [
    "def quick_sort(li):\n",
    "    pass"
   ]
  },
  {
   "cell_type": "code",
   "execution_count": null,
   "metadata": {},
   "outputs": [],
   "source": []
  }
 ],
 "metadata": {
  "kernelspec": {
   "display_name": "Python 3",
   "language": "python",
   "name": "python3"
  },
  "language_info": {
   "codemirror_mode": {
    "name": "ipython",
    "version": 3
   },
   "file_extension": ".py",
   "mimetype": "text/x-python",
   "name": "python",
   "nbconvert_exporter": "python",
   "pygments_lexer": "ipython3",
   "version": "3.5.2"
  },
  "toc": {
   "base_numbering": 1,
   "nav_menu": {},
   "number_sections": true,
   "sideBar": true,
   "skip_h1_title": false,
   "title_cell": "Table of Contents",
   "title_sidebar": "Contents",
   "toc_cell": false,
   "toc_position": {},
   "toc_section_display": true,
   "toc_window_display": false
  }
 },
 "nbformat": 4,
 "nbformat_minor": 2
}
