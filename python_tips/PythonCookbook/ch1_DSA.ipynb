{
 "cells": [
  {
   "cell_type": "markdown",
   "metadata": {},
   "source": [
    "# 数据结构和算法"
   ]
  },
  {
   "cell_type": "markdown",
   "metadata": {},
   "source": [
    "## 1.1 将序列分解为单独的变量"
   ]
  },
  {
   "cell_type": "markdown",
   "metadata": {},
   "source": [
    "###  1.1 将一个包含N个元素的元组或序列分解成N个单独的变量"
   ]
  },
  {
   "cell_type": "code",
   "execution_count": 1,
   "metadata": {},
   "outputs": [],
   "source": [
    "from myfunc import *"
   ]
  },
  {
   "cell_type": "code",
   "execution_count": 2,
   "metadata": {},
   "outputs": [
    {
     "name": "stdout",
     "output_type": "stream",
     "text": [
      "1 3 5\n"
     ]
    }
   ],
   "source": [
    "vars = (1, 3, 5)\n",
    "x, y, z = vars\n",
    "print(x, y, z)"
   ]
  },
  {
   "cell_type": "code",
   "execution_count": 3,
   "metadata": {},
   "outputs": [
    {
     "name": "stdout",
     "output_type": "stream",
     "text": [
      "Alice male 20\n"
     ]
    }
   ],
   "source": [
    "alice = ['Alice', 'male', '20']\n",
    "name, gender, age = alice\n",
    "print(name, gender, age)"
   ]
  },
  {
   "cell_type": "code",
   "execution_count": 4,
   "metadata": {},
   "outputs": [
    {
     "name": "stdout",
     "output_type": "stream",
     "text": [
      "50 91.1\n"
     ]
    }
   ],
   "source": [
    "data = ['ACME', 50, 91.1, (2012, 12, 21)]\n",
    "_, shares, price, _ = data # 选一个用不到的变量名 _ 代表丢弃的数据\n",
    "print(shares, price)"
   ]
  },
  {
   "cell_type": "markdown",
   "metadata": {},
   "source": [
    "### 1.2 从任意长度的可迭代对象中分解元素"
   ]
  },
  {
   "cell_type": "code",
   "execution_count": 5,
   "metadata": {},
   "outputs": [
    {
     "name": "stdout",
     "output_type": "stream",
     "text": [
      "[21, 37, 38, 41, 60, 68, 73, 80, 89, 91]\n",
      "after drop first and last: [37, 38, 41, 60, 68, 73, 80, 89]\n",
      "the average score is 60.75\n"
     ]
    }
   ],
   "source": [
    "import random\n",
    "\n",
    "\n",
    "def avg(li):\n",
    "    return sum(li) / len(li)\n",
    "\n",
    "def drop_first_lasst():\n",
    "    grades = gen_random(10)\n",
    "    grades.sort()\n",
    "    print(grades)\n",
    "    first, *middle, last = grades # 注意*表达式的使用\n",
    "    print('after drop first and last:', middle)\n",
    "    return avg(middle)\n",
    "\n",
    "avg = drop_first_lasst()\n",
    "print('the average score is', avg)"
   ]
  },
  {
   "cell_type": "code",
   "execution_count": 6,
   "metadata": {},
   "outputs": [
    {
     "name": "stdout",
     "output_type": "stream",
     "text": [
      "you are now at (1, 1)\n",
      "attack! ha!\n",
      "Level up! congratulations!\n"
     ]
    }
   ],
   "source": [
    "records = [\n",
    "    ('move', 1, 1),\n",
    "    ('attack', 'ha!'),\n",
    "    ('level up')\n",
    "]\n",
    "\n",
    "def move(x, y):\n",
    "    print('you are now at ({}, {})'.format(x, y))\n",
    "        \n",
    "def attack(info):\n",
    "    print('attack!', info)\n",
    "\n",
    "def level_up():\n",
    "    print('Level up! congratulations!')\n",
    "    \n",
    "for order, *args in records:\n",
    "    if order == 'move':\n",
    "        move(*args)\n",
    "    elif order == 'attack':\n",
    "        attack(*args)\n",
    "    else:\n",
    "        level_up()"
   ]
  },
  {
   "cell_type": "code",
   "execution_count": 7,
   "metadata": {},
   "outputs": [
    {
     "name": "stdout",
     "output_type": "stream",
     "text": [
      "ACME 2012\n"
     ]
    }
   ],
   "source": [
    "record = ['ACME', 50, 123.45, (12, 18, 2012)]\n",
    "name, *_, (*_, year) = record\n",
    "print(name, year)"
   ]
  },
  {
   "cell_type": "code",
   "execution_count": 9,
   "metadata": {},
   "outputs": [
    {
     "name": "stdout",
     "output_type": "stream",
     "text": [
      "[47, 57, 78, 9, 12, 40, 97, 31]\n",
      "47 [57, 78, 9, 12, 40, 97, 31]\n"
     ]
    }
   ],
   "source": [
    "items = gen_unique_random(8)\n",
    "print(items)\n",
    "head, *tail = items\n",
    "print(head, tail)"
   ]
  },
  {
   "cell_type": "code",
   "execution_count": 15,
   "metadata": {},
   "outputs": [],
   "source": [
    "def _sum(items):\n",
    "    '''利用拆分功能实现精巧的递归（但并不实用...\n",
    "    '''\n",
    "    head, *tail = items\n",
    "    return head + _sum(tail) if tail else head\n",
    "\n",
    "items = gen_unique_random(10)\n",
    "assert sum(items) == _sum(items)"
   ]
  },
  {
   "cell_type": "markdown",
   "metadata": {},
   "source": [
    "### 1.3 保存最后N个元素"
   ]
  },
  {
   "cell_type": "code",
   "execution_count": 34,
   "metadata": {},
   "outputs": [],
   "source": [
    "from collections import deque\n",
    "\n",
    "def search(lines, pattern, history=5):\n",
    "    previous_lines = deque(maxlen=history) # 用于存储pattern开始的前maxlen行\n",
    "    for line in lines:\n",
    "        if pattern in line:\n",
    "            yield line, previous_lines # 匹配到则使用生成器返回结果\n",
    "        previous_lines.append(line) # 否则将该行添加到队列中"
   ]
  },
  {
   "cell_type": "code",
   "execution_count": 35,
   "metadata": {},
   "outputs": [
    {
     "name": "stdout",
     "output_type": "stream",
     "text": [
      " cal_time\n",
      "--------------------\n",
      " gen_random\n",
      "--------------------\n",
      " gen_unique_random\n",
      "--------------------\n"
     ]
    }
   ],
   "source": [
    "with open('myfunc.py') as f:\n",
    "    for line, previous_lines in search(f, 'def', 1):\n",
    "        for pline in previous_lines:\n",
    "            print(pline[start: end], end='')\n",
    "        start = line.find(' ')\n",
    "        end = line.find('(')\n",
    "        print(line[start: end])\n",
    "        print('-' * 20)"
   ]
  },
  {
   "cell_type": "markdown",
   "metadata": {},
   "source": [
    "**有关deque的补充内容**"
   ]
  },
  {
   "cell_type": "markdown",
   "metadata": {},
   "source": [
    "创建一个固定长度的队列"
   ]
  },
  {
   "cell_type": "code",
   "execution_count": 38,
   "metadata": {},
   "outputs": [
    {
     "name": "stdout",
     "output_type": "stream",
     "text": [
      "deque([0, 1, 2], maxlen=3)\n",
      "deque([1, 2, 3], maxlen=3)\n"
     ]
    }
   ],
   "source": [
    "q = deque(maxlen=3)\n",
    "for i in range(3):\n",
    "    q.append(i)\n",
    "\n",
    "print(q)\n",
    "\n",
    "q.append(3)\n",
    "print(q)"
   ]
  },
  {
   "cell_type": "markdown",
   "metadata": {},
   "source": [
    "不指定参数则生成一个两边无界的队列"
   ]
  },
  {
   "cell_type": "code",
   "execution_count": 39,
   "metadata": {},
   "outputs": [
    {
     "name": "stdout",
     "output_type": "stream",
     "text": [
      "deque([1, 2, 3])\n",
      "deque([4, 1, 2, 3])\n"
     ]
    }
   ],
   "source": [
    "q = deque()\n",
    "for i in range(1, 4):\n",
    "    q.append(i)\n",
    "    \n",
    "print(q)\n",
    "q.appendleft(4)\n",
    "print(q)\n",
    "assert q.pop() == 3\n",
    "assert q.poplefttft() == 4"
   ]
  },
  {
   "cell_type": "markdown",
   "metadata": {},
   "source": [
    "从队列两端添加或弹出元素的复杂度都是$O(1)$。这和列表不同，当从列表头部插入或移除元素时，列表的复杂度为$O(n)$。"
   ]
  },
  {
   "cell_type": "code",
   "execution_count": 43,
   "metadata": {},
   "outputs": [
    {
     "name": "stdout",
     "output_type": "stream",
     "text": [
      "total time 3.4121339321136475\n",
      "total time 0.019765377044677734\n"
     ]
    }
   ],
   "source": [
    "def test_insert_head(obj):\n",
    "    for i in range(100000):\n",
    "        obj.insert(0, i)\n",
    "        \n",
    "li = gen_random(10000)\n",
    "q = deque(li)\n",
    "\n",
    "cal_time(test_insert_head, li)\n",
    "cal_time(test_insert_head, q)"
   ]
  },
  {
   "cell_type": "markdown",
   "metadata": {},
   "source": [
    "### 1.4 找到最大或最小的N个元素"
   ]
  },
  {
   "cell_type": "markdown",
   "metadata": {},
   "source": [
    "`heapq`中有两个函数——`nlargest()`和`nsmallest()`"
   ]
  },
  {
   "cell_type": "code",
   "execution_count": 47,
   "metadata": {},
   "outputs": [
    {
     "name": "stdout",
     "output_type": "stream",
     "text": [
      "[1, -8, 7, 9, -4, -9, 0, 2, 4, 10]\n",
      "[10, 9, 7]\n",
      "[-9, -8, -4]\n"
     ]
    }
   ],
   "source": [
    "import heapq\n",
    "\n",
    "nums = gen_unique_random(10, -10, 10)\n",
    "print(nums)\n",
    "print(heapq.nlargest(3, nums))\n",
    "print(heapq.nsmallest(3, nums))"
   ]
  },
  {
   "cell_type": "markdown",
   "metadata": {},
   "source": [
    "这两个函数都接受一个参数`key`，从而允许它们工作在更加复杂的数据结构上。"
   ]
  },
  {
   "cell_type": "code",
   "execution_count": 58,
   "metadata": {},
   "outputs": [
    {
     "name": "stdout",
     "output_type": "stream",
     "text": [
      "[People(name='Tom', age=23, salery=5000, brith='1995-07-02'),\n",
      " People(name='Alice', age=21, salery=5500, brith='1997-11-20')]\n",
      "[People(name='Alice', age=21, salery=5500, brith='1997-11-20'),\n",
      " People(name='Tom', age=23, salery=5000, brith='1995-07-02')]\n",
      "[People(name='Alice', age=21, salery=5500, brith='1997-11-20'),\n",
      " People(name='Bob', age=38, salery=12000, brith='1980-09-10'),\n",
      " People(name='John', age=27, salery=9000, brith='1991-01-31')]\n"
     ]
    }
   ],
   "source": [
    "from collections import namedtuple\n",
    "from pprint import pprint\n",
    "\n",
    "People = namedtuple('People', 'name age salery brith')\n",
    "Tom = People('Tom', 23, 5000, '1995-07-02')\n",
    "Alice = People('Alice', 21, 5500, '1997-11-20')\n",
    "John = People('John', 27, 9000, '1991-01-31')\n",
    "Bob = People('Bob', 38, 12000, '1980-09-10')\n",
    "workers = [Tom, Alice, John, Bob]\n",
    "\n",
    "pprint(heapq.nsmallest(2, workers, key=lambda x: x.salery))\n",
    "pprint(heapq.nlargest(2, workers, key=lambda x: x.brith))\n",
    "pprint(heapq.nsmallest(3, workers, key=lambda x: x.name))"
   ]
  },
  {
   "cell_type": "markdown",
   "metadata": {},
   "source": [
    "如果正在寻找的最大或最小的N个元素，且同集合中元素的总数目相比，N很小，那么使用下面这种方法能提供更好的性能。"
   ]
  },
  {
   "cell_type": "code",
   "execution_count": 59,
   "metadata": {},
   "outputs": [
    {
     "name": "stdout",
     "output_type": "stream",
     "text": [
      "[4, -6, 3, -9, -8, -6, -2, -1, -7, -6]\n",
      "[-9, -8, -6, -7, -6, 3, -2, -1, -6, 4]\n"
     ]
    }
   ],
   "source": [
    "nums = gen_random(10, -10, 10)\n",
    "print(nums)\n",
    "\n",
    "heap = list(nums)\n",
    "heapq.heapify(heap)\n",
    "print(heap)"
   ]
  },
  {
   "cell_type": "markdown",
   "metadata": {},
   "source": [
    "堆最重要的特性就是`heap[0]`总是最小的那个元素。接下来的元素可以通过`heapq.heappop()`方法轻松找到，该方法将最小的元素弹出，然后以第二小的元素取而代之（这个操作的复杂度是$O(logN)$, $N$代表堆的大小）。"
   ]
  },
  {
   "cell_type": "code",
   "execution_count": 60,
   "metadata": {},
   "outputs": [
    {
     "name": "stdout",
     "output_type": "stream",
     "text": [
      "-9\n",
      "-8\n",
      "-7\n"
     ]
    }
   ],
   "source": [
    "for i in range(3):\n",
    "    print(heapq.heappop(heap))"
   ]
  },
  {
   "cell_type": "markdown",
   "metadata": {},
   "source": [
    "当所要找的元素数量相对较小时，函数`nlargest()`和`nsmallest()`才是最适用的。如果只是简单的找最大最小元素，那么用`max()`和`min()`会更快。如果N和集合本身大小差不多时，通常更快的方法是先对集合排序，然后做切片操作（例如,使用`sorted(items)[:N]`或者`sorted(items[-N:])`）。"
   ]
  }
 ],
 "metadata": {
  "kernelspec": {
   "display_name": "Python 3",
   "language": "python",
   "name": "python3"
  },
  "language_info": {
   "codemirror_mode": {
    "name": "ipython",
    "version": 3
   },
   "file_extension": ".py",
   "mimetype": "text/x-python",
   "name": "python",
   "nbconvert_exporter": "python",
   "pygments_lexer": "ipython3",
   "version": "3.5.2"
  }
 },
 "nbformat": 4,
 "nbformat_minor": 2
}
