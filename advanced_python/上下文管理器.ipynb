{
 "cells": [
  {
   "cell_type": "code",
   "execution_count": 21,
   "metadata": {
    "ExecuteTime": {
     "end_time": "2019-08-06T09:26:01.657763Z",
     "start_time": "2019-08-06T09:26:01.653264Z"
    }
   },
   "outputs": [],
   "source": [
    "from contextlib import contextmanager\n",
    "from itertools import islice"
   ]
  },
  {
   "cell_type": "markdown",
   "metadata": {},
   "source": [
    "## 上下文管理器"
   ]
  },
  {
   "cell_type": "markdown",
   "metadata": {},
   "source": [
    "### 基于类的实现"
   ]
  },
  {
   "cell_type": "code",
   "execution_count": 19,
   "metadata": {
    "ExecuteTime": {
     "end_time": "2019-08-06T09:25:45.990448Z",
     "start_time": "2019-08-06T09:25:45.984235Z"
    }
   },
   "outputs": [],
   "source": [
    "class MyReader:\n",
    "    def __init__(self, filename):\n",
    "        self.obj = open(filename, 'r')\n",
    "        \n",
    "    def __enter__(self):\n",
    "        return self.obj\n",
    "    \n",
    "    def __exit__(self, ex_type, ex_value, ex_tb):\n",
    "        self.obj.close()"
   ]
  },
  {
   "cell_type": "code",
   "execution_count": 24,
   "metadata": {
    "ExecuteTime": {
     "end_time": "2019-08-06T09:26:23.473370Z",
     "start_time": "2019-08-06T09:26:23.468011Z"
    }
   },
   "outputs": [
    {
     "name": "stdout",
     "output_type": "stream",
     "text": [
      "2019-06-09 16:09:55 install libmhash2:amd64 <none> 0.9.9.9-7\n",
      "\n",
      "2019-06-09 16:09:55 status half-installed libmhash2:amd64 0.9.9.9-7\n",
      "\n",
      "2019-06-09 16:09:55 status unpacked libmhash2:amd64 0.9.9.9-7\n",
      "\n",
      "2019-06-09 16:09:55 status unpacked libmhash2:amd64 0.9.9.9-7\n",
      "\n"
     ]
    }
   ],
   "source": [
    "with MyReader('dpkg.log') as f:\n",
    "    for line in islice(f, 1, 5):\n",
    "        print(line)"
   ]
  },
  {
   "cell_type": "markdown",
   "metadata": {},
   "source": [
    "### 基于装饰器的实现"
   ]
  },
  {
   "cell_type": "code",
   "execution_count": 27,
   "metadata": {
    "ExecuteTime": {
     "end_time": "2019-08-06T09:28:40.430568Z",
     "start_time": "2019-08-06T09:28:40.426539Z"
    }
   },
   "outputs": [],
   "source": [
    "@contextmanager\n",
    "def reader(filename):\n",
    "    f = open(filename, 'r')\n",
    "    yield f\n",
    "    f.close()"
   ]
  },
  {
   "cell_type": "code",
   "execution_count": 28,
   "metadata": {
    "ExecuteTime": {
     "end_time": "2019-08-06T09:28:40.920093Z",
     "start_time": "2019-08-06T09:28:40.914564Z"
    }
   },
   "outputs": [
    {
     "name": "stdout",
     "output_type": "stream",
     "text": [
      "2019-06-09 16:09:55 install libmhash2:amd64 <none> 0.9.9.9-7\n",
      "\n",
      "2019-06-09 16:09:55 status half-installed libmhash2:amd64 0.9.9.9-7\n",
      "\n",
      "2019-06-09 16:09:55 status unpacked libmhash2:amd64 0.9.9.9-7\n",
      "\n",
      "2019-06-09 16:09:55 status unpacked libmhash2:amd64 0.9.9.9-7\n",
      "\n"
     ]
    }
   ],
   "source": [
    "with reader('dpkg.log') as f:\n",
    "    for line in islice(f, 1, 5):\n",
    "        print(line)"
   ]
  },
  {
   "cell_type": "code",
   "execution_count": null,
   "metadata": {},
   "outputs": [],
   "source": []
  }
 ],
 "metadata": {
  "kernelspec": {
   "display_name": "Python 3",
   "language": "python",
   "name": "python3"
  },
  "language_info": {
   "codemirror_mode": {
    "name": "ipython",
    "version": 3
   },
   "file_extension": ".py",
   "mimetype": "text/x-python",
   "name": "python",
   "nbconvert_exporter": "python",
   "pygments_lexer": "ipython3",
   "version": "3.6.3"
  },
  "toc": {
   "base_numbering": 1,
   "nav_menu": {},
   "number_sections": true,
   "sideBar": true,
   "skip_h1_title": false,
   "title_cell": "Table of Contents",
   "title_sidebar": "Contents",
   "toc_cell": false,
   "toc_position": {},
   "toc_section_display": true,
   "toc_window_display": false
  }
 },
 "nbformat": 4,
 "nbformat_minor": 2
}
