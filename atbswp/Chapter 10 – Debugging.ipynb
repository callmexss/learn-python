{
 "cells": [
  {
   "cell_type": "markdown",
   "metadata": {},
   "source": [
    "## Raising Exceptions"
   ]
  },
  {
   "cell_type": "code",
   "execution_count": 10,
   "metadata": {
    "ExecuteTime": {
     "end_time": "2018-12-14T08:36:40.677970Z",
     "start_time": "2018-12-14T08:36:40.665077Z"
    }
   },
   "outputs": [
    {
     "ename": "Exception",
     "evalue": "Just wanna raise",
     "output_type": "error",
     "traceback": [
      "\u001b[0;31m---------------------------------------------------------------------------\u001b[0m",
      "\u001b[0;31mException\u001b[0m                                 Traceback (most recent call last)",
      "\u001b[0;32m<ipython-input-10-00ab092529cb>\u001b[0m in \u001b[0;36m<module>\u001b[0;34m\u001b[0m\n\u001b[0;32m----> 1\u001b[0;31m \u001b[0;32mraise\u001b[0m \u001b[0mException\u001b[0m\u001b[0;34m(\u001b[0m\u001b[0;34m'Just wanna raise'\u001b[0m\u001b[0;34m)\u001b[0m\u001b[0;34m\u001b[0m\u001b[0m\n\u001b[0m",
      "\u001b[0;31mException\u001b[0m: Just wanna raise"
     ]
    }
   ],
   "source": [
    "raise Exception('Just wanna raise')"
   ]
  },
  {
   "cell_type": "markdown",
   "metadata": {},
   "source": [
    "### Getting the Traceback as a String"
   ]
  },
  {
   "cell_type": "code",
   "execution_count": null,
   "metadata": {
    "ExecuteTime": {
     "end_time": "2018-12-14T08:36:40.685119Z",
     "start_time": "2018-12-14T08:36:40.570Z"
    }
   },
   "outputs": [],
   "source": [
    "import traceback"
   ]
  },
  {
   "cell_type": "code",
   "execution_count": null,
   "metadata": {
    "ExecuteTime": {
     "end_time": "2018-12-14T08:36:40.686515Z",
     "start_time": "2018-12-14T08:36:40.573Z"
    }
   },
   "outputs": [],
   "source": [
    "try:\n",
    "    raise Exception('This is the error message.')\n",
    "except:\n",
    "    errorFile = open('ch10_project/errorInfo.txt', 'w')\n",
    "    errorFile.write(traceback.format_exc())\n",
    "    errorFile.close()\n",
    "    print('The traceback info was written to errorInfo.txt.')"
   ]
  },
  {
   "cell_type": "markdown",
   "metadata": {},
   "source": [
    "### Assertions"
   ]
  },
  {
   "cell_type": "code",
   "execution_count": null,
   "metadata": {
    "ExecuteTime": {
     "end_time": "2018-12-14T08:36:40.687832Z",
     "start_time": "2018-12-14T08:36:40.578Z"
    }
   },
   "outputs": [],
   "source": [
    "fruit = 'apple'\n",
    "assert fruit == 'peer', 'fruit should be peer'"
   ]
  },
  {
   "cell_type": "markdown",
   "metadata": {},
   "source": [
    "Disabling Assertions. Assertions can be disabled by passing the -O option when running Python. "
   ]
  },
  {
   "cell_type": "markdown",
   "metadata": {
    "ExecuteTime": {
     "end_time": "2018-12-14T08:28:53.299191Z",
     "start_time": "2018-12-14T08:28:53.294030Z"
    }
   },
   "source": [
    "## Logging"
   ]
  },
  {
   "cell_type": "code",
   "execution_count": null,
   "metadata": {
    "ExecuteTime": {
     "end_time": "2018-12-14T08:36:40.690312Z",
     "start_time": "2018-12-14T08:36:40.581Z"
    }
   },
   "outputs": [],
   "source": [
    "import logging"
   ]
  },
  {
   "cell_type": "code",
   "execution_count": null,
   "metadata": {
    "ExecuteTime": {
     "end_time": "2018-12-14T08:36:40.693301Z",
     "start_time": "2018-12-14T08:36:40.585Z"
    }
   },
   "outputs": [],
   "source": [
    "logging.basicConfig(level=logging.DEBUG, format=' %(asctime)s - %(levelname)s - %(message)s')"
   ]
  },
  {
   "cell_type": "code",
   "execution_count": 11,
   "metadata": {
    "ExecuteTime": {
     "end_time": "2018-12-14T08:36:40.818435Z",
     "start_time": "2018-12-14T08:36:40.796892Z"
    }
   },
   "outputs": [
    {
     "name": "stderr",
     "output_type": "stream",
     "text": [
      " 2018-12-14 16:36:40,802 - DEBUG - Start of program\n",
      " 2018-12-14 16:36:40,804 - DEBUG - Start of factorial(5)\n",
      " 2018-12-14 16:36:40,805 - DEBUG - i is 0, total is 0\n",
      " 2018-12-14 16:36:40,806 - DEBUG - i is 1, total is 0\n",
      " 2018-12-14 16:36:40,808 - DEBUG - i is 2, total is 0\n",
      " 2018-12-14 16:36:40,809 - DEBUG - i is 3, total is 0\n",
      " 2018-12-14 16:36:40,814 - DEBUG - i is 4, total is 0\n",
      " 2018-12-14 16:36:40,814 - DEBUG - i is 5, total is 0\n",
      " 2018-12-14 16:36:40,815 - DEBUG - End of factorial(5)\n",
      " 2018-12-14 16:36:40,816 - DEBUG - End of program\n"
     ]
    },
    {
     "name": "stdout",
     "output_type": "stream",
     "text": [
      "0\n"
     ]
    }
   ],
   "source": [
    "logging.debug('Start of program')\n",
    "\n",
    "def factorial(n):\n",
    "    logging.debug('Start of factorial(%s)' % (n))\n",
    "    total = 1\n",
    "    for i in range(n + 1):\n",
    "        total *= i\n",
    "        logging.debug('i is ' + str(i) + ', total is ' + str(total))\n",
    "    logging.debug('End of factorial(%s)' % (n))\n",
    "    return total\n",
    "\n",
    "print(factorial(5))\n",
    "logging.debug('End of program')"
   ]
  },
  {
   "cell_type": "markdown",
   "metadata": {
    "ExecuteTime": {
     "end_time": "2018-12-14T08:33:20.584877Z",
     "start_time": "2018-12-14T08:33:20.582133Z"
    }
   },
   "source": [
    "### Don’t Debug with print()"
   ]
  },
  {
   "cell_type": "markdown",
   "metadata": {},
   "source": [
    "Once you’re done debugging, you’ll end up spending a lot of time removing print() calls from your code for each log message. You might even accidentally remove some print() calls that were being used for nonlog messages. The nice thing about log messages is that you’re free to fill your program with as many as you like, and you can always disable them later by adding a single logging.disable(logging.CRITICAL) call. Unlike print(), the logging module makes it easy to switch between showing and hiding log messages."
   ]
  },
  {
   "cell_type": "markdown",
   "metadata": {},
   "source": [
    "### Logging Levels\n",
    " "
   ]
  },
  {
   "cell_type": "markdown",
   "metadata": {},
   "source": [
    "```python\n",
    ">>> import logging\n",
    ">>> logging.basicConfig(level=logging.DEBUG, format=' %(asctime)s -\n",
    "%(levelname)s - %(message)s')\n",
    ">>> logging.debug('Some debugging details.')\n",
    "2015-05-18 19:04:26,901 - DEBUG - Some debugging details.\n",
    ">>> logging.info('The logging module is working.')\n",
    "2015-05-18 19:04:35,569 - INFO - The logging module is working.\n",
    ">>> logging.warning('An error message is about to be logged.')\n",
    "2015-05-18 19:04:56,843 - WARNING - An error message is about to be logged.\n",
    ">>> logging.error('An error has occurred.')\n",
    "2015-05-18 19:05:07,737 - ERROR - An error has occurred.\n",
    ">>> logging.critical('The program is unable to recover!')\n",
    "2015-05-18 19:05:45,794 - CRITICAL - The program is unable to recover!\n",
    "```"
   ]
  },
  {
   "cell_type": "markdown",
   "metadata": {},
   "source": [
    "### Disabling Logging"
   ]
  },
  {
   "cell_type": "markdown",
   "metadata": {},
   "source": [
    "After you’ve debugged your program, you probably don’t want all these log messages cluttering the screen. The logging.disable() function disables these so that you don’t have to go into your program and remove all the logging calls by hand. You simply pass logging.disable() a logging level, and it will suppress all log messages at that level or lower. So if you want to disable logging entirely, just add logging.disable(logging.CRITICAL) to your program. "
   ]
  },
  {
   "cell_type": "markdown",
   "metadata": {},
   "source": [
    "### Logging to a File"
   ]
  },
  {
   "cell_type": "markdown",
   "metadata": {},
   "source": [
    "```python\n",
    "Instead of displaying the log messages to the screen, you can write them to a text file. The logging.basicConfig() function takes a filename keyword argument, like so:\n",
    "\n",
    "\n",
    "import logging\n",
    "logging.basicConfig(filename='myProgramLog.txt', level=logging.DEBUG, format='\n",
    "%(asctime)s - %(levelname)s - %(message)s')\n",
    "```"
   ]
  },
  {
   "cell_type": "markdown",
   "metadata": {
    "ExecuteTime": {
     "end_time": "2018-12-14T08:41:46.543877Z",
     "start_time": "2018-12-14T08:41:46.538607Z"
    }
   },
   "source": [
    "## Debugger"
   ]
  },
  {
   "cell_type": "markdown",
   "metadata": {},
   "source": [
    "### Breakpoint"
   ]
  },
  {
   "cell_type": "code",
   "execution_count": 19,
   "metadata": {
    "ExecuteTime": {
     "end_time": "2018-12-14T08:44:05.194880Z",
     "start_time": "2018-12-14T08:44:05.184828Z"
    }
   },
   "outputs": [
    {
     "name": "stdout",
     "output_type": "stream",
     "text": [
      "Halfway done!\n",
      "Heads came up 504 times.\n"
     ]
    }
   ],
   "source": [
    "import random\n",
    "heads = 0\n",
    "for i in range(1, 1001):\n",
    "    if random.randint(0, 1) == 1:\n",
    "        heads = heads + 1\n",
    "    if i == 500:\n",
    "        print('Halfway done!')\n",
    "print('Heads came up ' + str(heads) + ' times.')"
   ]
  },
  {
   "cell_type": "markdown",
   "metadata": {
    "ExecuteTime": {
     "end_time": "2018-12-14T08:48:36.756493Z",
     "start_time": "2018-12-14T08:48:36.753271Z"
    }
   },
   "source": [
    "## Practice Questions"
   ]
  },
  {
   "cell_type": "code",
   "execution_count": 21,
   "metadata": {
    "ExecuteTime": {
     "end_time": "2018-12-14T08:49:21.346307Z",
     "start_time": "2018-12-14T08:49:21.336421Z"
    }
   },
   "outputs": [
    {
     "ename": "AssertionError",
     "evalue": "spam shuold larger than 10",
     "output_type": "error",
     "traceback": [
      "\u001b[0;31m---------------------------------------------------------------------------\u001b[0m",
      "\u001b[0;31mAssertionError\u001b[0m                            Traceback (most recent call last)",
      "\u001b[0;32m<ipython-input-21-ba73cca879bb>\u001b[0m in \u001b[0;36m<module>\u001b[0;34m\u001b[0m\n\u001b[1;32m      1\u001b[0m \u001b[0mspam\u001b[0m \u001b[0;34m=\u001b[0m \u001b[0;36m5\u001b[0m\u001b[0;34m\u001b[0m\u001b[0m\n\u001b[0;32m----> 2\u001b[0;31m \u001b[0;32massert\u001b[0m \u001b[0mspam\u001b[0m \u001b[0;34m>\u001b[0m \u001b[0;36m10\u001b[0m\u001b[0;34m,\u001b[0m \u001b[0;34m'spam shuold larger than 10'\u001b[0m\u001b[0;34m\u001b[0m\u001b[0m\n\u001b[0m",
      "\u001b[0;31mAssertionError\u001b[0m: spam shuold larger than 10"
     ]
    }
   ],
   "source": [
    "spam = 5\n",
    "assert spam > 10, 'spam shuold larger than 10'"
   ]
  },
  {
   "cell_type": "code",
   "execution_count": 22,
   "metadata": {
    "ExecuteTime": {
     "end_time": "2018-12-14T08:50:22.843357Z",
     "start_time": "2018-12-14T08:50:22.832890Z"
    }
   },
   "outputs": [
    {
     "ename": "AssertionError",
     "evalue": "spam and egg should not equal.",
     "output_type": "error",
     "traceback": [
      "\u001b[0;31m---------------------------------------------------------------------------\u001b[0m",
      "\u001b[0;31mAssertionError\u001b[0m                            Traceback (most recent call last)",
      "\u001b[0;32m<ipython-input-22-63d100a6401c>\u001b[0m in \u001b[0;36m<module>\u001b[0;34m\u001b[0m\n\u001b[1;32m      1\u001b[0m \u001b[0mspam\u001b[0m \u001b[0;34m=\u001b[0m \u001b[0;34m'food'\u001b[0m\u001b[0;34m\u001b[0m\u001b[0m\n\u001b[1;32m      2\u001b[0m \u001b[0megg\u001b[0m \u001b[0;34m=\u001b[0m \u001b[0;34m'Food'\u001b[0m\u001b[0;34m\u001b[0m\u001b[0m\n\u001b[0;32m----> 3\u001b[0;31m \u001b[0;32massert\u001b[0m \u001b[0mspam\u001b[0m\u001b[0;34m.\u001b[0m\u001b[0mlower\u001b[0m\u001b[0;34m(\u001b[0m\u001b[0;34m)\u001b[0m \u001b[0;34m!=\u001b[0m \u001b[0megg\u001b[0m\u001b[0;34m.\u001b[0m\u001b[0mlower\u001b[0m\u001b[0;34m(\u001b[0m\u001b[0;34m)\u001b[0m\u001b[0;34m,\u001b[0m \u001b[0;34m'spam and egg should not equal.'\u001b[0m\u001b[0;34m\u001b[0m\u001b[0m\n\u001b[0m",
      "\u001b[0;31mAssertionError\u001b[0m: spam and egg should not equal."
     ]
    }
   ],
   "source": [
    "spam = 'food'\n",
    "egg = 'Food'\n",
    "assert spam.lower() != egg.lower(), 'spam and egg should not equal.'"
   ]
  },
  {
   "cell_type": "code",
   "execution_count": 24,
   "metadata": {
    "ExecuteTime": {
     "end_time": "2018-12-14T08:51:08.710881Z",
     "start_time": "2018-12-14T08:51:08.701491Z"
    }
   },
   "outputs": [
    {
     "ename": "AssertionError",
     "evalue": "Always triggers an AssertionError",
     "output_type": "error",
     "traceback": [
      "\u001b[0;31m---------------------------------------------------------------------------\u001b[0m",
      "\u001b[0;31mAssertionError\u001b[0m                            Traceback (most recent call last)",
      "\u001b[0;32m<ipython-input-24-f0fe8d99d361>\u001b[0m in \u001b[0;36m<module>\u001b[0;34m\u001b[0m\n\u001b[0;32m----> 1\u001b[0;31m \u001b[0;32massert\u001b[0m \u001b[0;32mFalse\u001b[0m\u001b[0;34m,\u001b[0m \u001b[0;34m'Always triggers an AssertionError'\u001b[0m\u001b[0;34m\u001b[0m\u001b[0m\n\u001b[0m",
      "\u001b[0;31mAssertionError\u001b[0m: Always triggers an AssertionError"
     ]
    }
   ],
   "source": [
    "assert False, 'Always triggers an AssertionError'"
   ]
  },
  {
   "cell_type": "code",
   "execution_count": 26,
   "metadata": {
    "ExecuteTime": {
     "end_time": "2018-12-14T08:52:18.970849Z",
     "start_time": "2018-12-14T08:52:18.966024Z"
    }
   },
   "outputs": [],
   "source": [
    "import logging\n",
    "logging.basicConfig(level=logging.DEBUG)"
   ]
  },
  {
   "cell_type": "code",
   "execution_count": 28,
   "metadata": {
    "ExecuteTime": {
     "end_time": "2018-12-14T08:54:02.760645Z",
     "start_time": "2018-12-14T08:54:02.753418Z"
    }
   },
   "outputs": [
    {
     "name": "stderr",
     "output_type": "stream",
     "text": [
      " 2018-12-14 16:54:02,757 - DEBUG - something.\n"
     ]
    }
   ],
   "source": [
    "import logging\n",
    "logging.basicConfig(filename='ch10_project/programLog.txt', level=logging.DEBUG)\n",
    "logging.debug('something.')\n",
    "logging."
   ]
  },
  {
   "cell_type": "code",
   "execution_count": 29,
   "metadata": {
    "ExecuteTime": {
     "end_time": "2018-12-14T08:55:50.146041Z",
     "start_time": "2018-12-14T08:55:50.143209Z"
    }
   },
   "outputs": [],
   "source": [
    "# DEBUG INFO WARNING ERROR CRITICAL "
   ]
  },
  {
   "cell_type": "code",
   "execution_count": 30,
   "metadata": {
    "ExecuteTime": {
     "end_time": "2018-12-14T08:56:17.766503Z",
     "start_time": "2018-12-14T08:56:17.759878Z"
    }
   },
   "outputs": [],
   "source": [
    "logging.disable(logging.CRITICAL)"
   ]
  },
  {
   "cell_type": "code",
   "execution_count": 31,
   "metadata": {
    "ExecuteTime": {
     "end_time": "2018-12-14T08:57:06.324393Z",
     "start_time": "2018-12-14T08:57:06.321630Z"
    }
   },
   "outputs": [],
   "source": [
    "# It is more graceful when you fix some bugs."
   ]
  },
  {
   "cell_type": "markdown",
   "metadata": {},
   "source": [
    "## Practice Project"
   ]
  },
  {
   "cell_type": "code",
   "execution_count": 52,
   "metadata": {
    "ExecuteTime": {
     "end_time": "2018-12-14T09:08:51.863843Z",
     "start_time": "2018-12-14T09:08:47.880146Z"
    }
   },
   "outputs": [
    {
     "name": "stdout",
     "output_type": "stream",
     "text": [
      "Guess the coin toss! Enter heads or tails:\n",
      "heads\n",
      "Nope! Guess again!\n",
      "tails\n",
      "You got it!\n"
     ]
    }
   ],
   "source": [
    "import random\n",
    "guess = ''\n",
    "while guess not in ('heads', 'tails'):\n",
    "    print('Guess the coin toss! Enter heads or tails:')\n",
    "    guess = input()\n",
    "toss =['heads', 'tails'][random.randint(0, 1)] # 0 is tails, 1 is heads\n",
    "# import pdb; pdb.set_trace()\n",
    "if toss == guess:\n",
    "    print('You got it!')\n",
    "else:\n",
    "    print('Nope! Guess again!')\n",
    "    guess = input()\n",
    "    if toss == guess:\n",
    "        print('You got it!')\n",
    "    else:\n",
    "        print('Nope. You are really bad at this game.')"
   ]
  },
  {
   "cell_type": "code",
   "execution_count": null,
   "metadata": {},
   "outputs": [],
   "source": []
  }
 ],
 "metadata": {
  "kernelspec": {
   "display_name": "Python 3",
   "language": "python",
   "name": "python3"
  },
  "language_info": {
   "codemirror_mode": {
    "name": "ipython",
    "version": 3
   },
   "file_extension": ".py",
   "mimetype": "text/x-python",
   "name": "python",
   "nbconvert_exporter": "python",
   "pygments_lexer": "ipython3",
   "version": "3.5.2"
  },
  "toc": {
   "base_numbering": 1,
   "nav_menu": {},
   "number_sections": true,
   "sideBar": true,
   "skip_h1_title": false,
   "title_cell": "Table of Contents",
   "title_sidebar": "Contents",
   "toc_cell": false,
   "toc_position": {},
   "toc_section_display": true,
   "toc_window_display": true
  }
 },
 "nbformat": 4,
 "nbformat_minor": 2
}
