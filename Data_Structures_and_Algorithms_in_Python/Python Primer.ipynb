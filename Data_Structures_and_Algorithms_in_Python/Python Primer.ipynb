{
 "cells": [
  {
   "cell_type": "code",
   "execution_count": 1,
   "metadata": {},
   "outputs": [],
   "source": [
    "import unittest\n",
    "import doctest"
   ]
  },
  {
   "cell_type": "code",
   "execution_count": 2,
   "metadata": {},
   "outputs": [],
   "source": [
    "import random"
   ]
  },
  {
   "cell_type": "code",
   "execution_count": 3,
   "metadata": {},
   "outputs": [],
   "source": [
    "import pysnooper"
   ]
  },
  {
   "cell_type": "markdown",
   "metadata": {},
   "source": [
    "## Exercise"
   ]
  },
  {
   "cell_type": "markdown",
   "metadata": {},
   "source": [
    "### Reinforcement"
   ]
  },
  {
   "cell_type": "markdown",
   "metadata": {},
   "source": [
    "#### 1.1"
   ]
  },
  {
   "cell_type": "code",
   "execution_count": 4,
   "metadata": {
    "scrolled": false
   },
   "outputs": [],
   "source": [
    "def is_multiple(n, m):\n",
    "    \"\"\"\n",
    "    >>> is_multiple(4, 2)\n",
    "    True\n",
    "    \n",
    "    >>> is_multiple(3, 2)\n",
    "    False\n",
    "    \"\"\"\n",
    "    return True if n % m == 0 else False"
   ]
  },
  {
   "cell_type": "markdown",
   "metadata": {},
   "source": [
    "#### 1.2"
   ]
  },
  {
   "cell_type": "code",
   "execution_count": 5,
   "metadata": {},
   "outputs": [],
   "source": [
    "def is_even(k):\n",
    "    \"\"\"\n",
    "    >>> is_even(2)\n",
    "    True\n",
    "    \n",
    "    >>> is_even(3)\n",
    "    False\n",
    "    \n",
    "    >>> is_even(-1)\n",
    "    False\n",
    "    \"\"\"\n",
    "    return False if k & 1 else True"
   ]
  },
  {
   "cell_type": "markdown",
   "metadata": {},
   "source": [
    "#### 1.3"
   ]
  },
  {
   "cell_type": "code",
   "execution_count": 6,
   "metadata": {},
   "outputs": [],
   "source": [
    "def minmax(data):\n",
    "    \"\"\"\n",
    "    >>> minmax([1, 3, 2, 9, 7])\n",
    "    (1, 9)\n",
    "    \n",
    "    >>> minmax([1, 3, 2, 5, -7])\n",
    "    (-7, 5)\n",
    "    \"\"\"\n",
    "    data.sort()\n",
    "    return data[0], data[-1]"
   ]
  },
  {
   "cell_type": "markdown",
   "metadata": {},
   "source": [
    "#### 1.4"
   ]
  },
  {
   "cell_type": "code",
   "execution_count": 7,
   "metadata": {},
   "outputs": [],
   "source": [
    "def sum_of_zero_2(n):\n",
    "    \"\"\"\n",
    "    >>> sum_of_zero_2(3)\n",
    "    6\n",
    "    \n",
    "    >>> sum_of_zero_2(100)\n",
    "    5050\n",
    "    \"\"\"\n",
    "    return sum(range(n + 1))"
   ]
  },
  {
   "cell_type": "markdown",
   "metadata": {},
   "source": [
    "#### 1.5"
   ]
  },
  {
   "cell_type": "code",
   "execution_count": 8,
   "metadata": {},
   "outputs": [],
   "source": [
    "def sum_of_zero_22(n):\n",
    "    \"\"\"\n",
    "    >>> sum_of_zero_22(3)\n",
    "    6\n",
    "    \n",
    "    >>> sum_of_zero_22(100)\n",
    "    5050\n",
    "    \"\"\"\n",
    "    return sum(x for x in range(n+1))"
   ]
  },
  {
   "cell_type": "markdown",
   "metadata": {},
   "source": [
    "#### 1.6"
   ]
  },
  {
   "cell_type": "code",
   "execution_count": 9,
   "metadata": {},
   "outputs": [],
   "source": [
    "def sum_of_squares_of_odd_in_range_zero_2(n):\n",
    "    \"\"\"\n",
    "    >>> sum_of_squares_of_odd_in_range_zero_2(1)\n",
    "    1\n",
    "    \n",
    "    >>> sum_of_squares_of_odd_in_range_zero_2(3)\n",
    "    10\n",
    "    \n",
    "    >>> sum_of_squares_of_odd_in_range_zero_2(5)\n",
    "    35\n",
    "    \"\"\"\n",
    "    # return sum(map(lambda x: x * x, [x for x in range(n + 1) if not is_even(x)]))\n",
    "    return sum(x * x for x in range(n + 1) if not is_even(x))"
   ]
  },
  {
   "cell_type": "markdown",
   "metadata": {},
   "source": [
    "#### 1.7"
   ]
  },
  {
   "cell_type": "code",
   "execution_count": 10,
   "metadata": {},
   "outputs": [],
   "source": [
    "# the same as 1.6"
   ]
  },
  {
   "cell_type": "markdown",
   "metadata": {},
   "source": [
    "#### 1.8"
   ]
  },
  {
   "cell_type": "code",
   "execution_count": 11,
   "metadata": {},
   "outputs": [],
   "source": [
    "s = \"apple\"\n",
    "assert s[-1] == s[4]\n",
    "assert s[-2] == s[3]\n",
    "assert s[-3] == s[2]\n",
    "assert s[-4] == s[1]"
   ]
  },
  {
   "cell_type": "markdown",
   "metadata": {},
   "source": [
    "#### 1.9"
   ]
  },
  {
   "cell_type": "code",
   "execution_count": 12,
   "metadata": {},
   "outputs": [
    {
     "data": {
      "text/plain": [
       "[50, 60, 70, 80]"
      ]
     },
     "execution_count": 12,
     "metadata": {},
     "output_type": "execute_result"
    }
   ],
   "source": [
    "list(range(50, 90, 10))"
   ]
  },
  {
   "cell_type": "markdown",
   "metadata": {},
   "source": [
    "#### 1.10"
   ]
  },
  {
   "cell_type": "code",
   "execution_count": 13,
   "metadata": {},
   "outputs": [
    {
     "data": {
      "text/plain": [
       "[8, 6, 4, 2, 0, -2, -4, -6, -8]"
      ]
     },
     "execution_count": 13,
     "metadata": {},
     "output_type": "execute_result"
    }
   ],
   "source": [
    "list(range(8, -10, -2))"
   ]
  },
  {
   "cell_type": "markdown",
   "metadata": {},
   "source": [
    "#### 1.11"
   ]
  },
  {
   "cell_type": "code",
   "execution_count": 14,
   "metadata": {},
   "outputs": [
    {
     "data": {
      "text/plain": [
       "[1, 2, 4, 8, 16, 32, 64, 128, 256]"
      ]
     },
     "execution_count": 14,
     "metadata": {},
     "output_type": "execute_result"
    }
   ],
   "source": [
    "[2 ** i for i in range(9)]"
   ]
  },
  {
   "cell_type": "markdown",
   "metadata": {},
   "source": [
    "#### 1.12"
   ]
  },
  {
   "cell_type": "code",
   "execution_count": 15,
   "metadata": {},
   "outputs": [],
   "source": [
    "def choice(data):\n",
    "    return data[random.randrange(0, len(data))]"
   ]
  },
  {
   "cell_type": "code",
   "execution_count": 16,
   "metadata": {},
   "outputs": [
    {
     "data": {
      "text/plain": [
       "3"
      ]
     },
     "execution_count": 16,
     "metadata": {},
     "output_type": "execute_result"
    }
   ],
   "source": [
    "choice(range(10))"
   ]
  },
  {
   "cell_type": "code",
   "execution_count": 17,
   "metadata": {},
   "outputs": [
    {
     "data": {
      "text/plain": [
       "7"
      ]
     },
     "execution_count": 17,
     "metadata": {},
     "output_type": "execute_result"
    }
   ],
   "source": [
    "random.choice(range(10))"
   ]
  },
  {
   "cell_type": "markdown",
   "metadata": {},
   "source": [
    "### Creativity"
   ]
  },
  {
   "cell_type": "markdown",
   "metadata": {},
   "source": [
    "#### 1.13"
   ]
  },
  {
   "cell_type": "code",
   "execution_count": 18,
   "metadata": {},
   "outputs": [],
   "source": [
    "def my_reverse(seq):\n",
    "    \"\"\"\n",
    "    >>> my_reverse([1, 3, 5])\n",
    "    [5, 3, 1]\n",
    "    \"\"\"\n",
    "    start = 0\n",
    "    end = len(seq) - 1\n",
    "    while start < end:\n",
    "        seq[start], seq[end] = seq[end], seq[start]\n",
    "        start += 1\n",
    "        end -=1\n",
    "    return seq"
   ]
  },
  {
   "cell_type": "code",
   "execution_count": 19,
   "metadata": {},
   "outputs": [
    {
     "data": {
      "text/plain": [
       "[5, 3, 1]"
      ]
     },
     "execution_count": 19,
     "metadata": {},
     "output_type": "execute_result"
    }
   ],
   "source": [
    "li = [1, 3, 5]\n",
    "my_reverse(li)  # reference as argument\n",
    "li"
   ]
  },
  {
   "cell_type": "code",
   "execution_count": 20,
   "metadata": {},
   "outputs": [],
   "source": [
    "li = list(range(5))\n",
    "assert my_reverse(list(reversed(li))) == li"
   ]
  },
  {
   "cell_type": "markdown",
   "metadata": {},
   "source": [
    "#### 1.14"
   ]
  },
  {
   "cell_type": "code",
   "execution_count": 21,
   "metadata": {},
   "outputs": [],
   "source": [
    "def product_is_odd(nums):\n",
    "    \"\"\"\n",
    "    >>> product_is_odd([1, 2, 3, 4, 5])\n",
    "    True\n",
    "    \n",
    "    >>> product_is_odd([1, 2, 4, 6, 8])\n",
    "    False\n",
    "    \"\"\"\n",
    "    odd_count = 0\n",
    "    for num in list(set(nums)):\n",
    "        if num & 1:\n",
    "            odd_count += 1\n",
    "        if odd_count >= 2:\n",
    "            return True\n",
    "    return False"
   ]
  },
  {
   "cell_type": "markdown",
   "metadata": {},
   "source": [
    "#### 1.15"
   ]
  },
  {
   "cell_type": "code",
   "execution_count": 22,
   "metadata": {},
   "outputs": [],
   "source": [
    "def unique(nums):\n",
    "    \"\"\"\n",
    "    >>> unique([1, 2, 2, 3])\n",
    "    False\n",
    "    \n",
    "    >>> unique([1, 2, 5, 3])\n",
    "    True\n",
    "    \"\"\"\n",
    "    return len(set(nums)) == len(nums)"
   ]
  },
  {
   "cell_type": "markdown",
   "metadata": {},
   "source": [
    "#### 1.16"
   ]
  },
  {
   "cell_type": "code",
   "execution_count": 23,
   "metadata": {},
   "outputs": [],
   "source": [
    "def scale(data, factor):\n",
    "    for i, _ in enumerate(data):\n",
    "        data[i] *= factor"
   ]
  },
  {
   "cell_type": "code",
   "execution_count": 24,
   "metadata": {},
   "outputs": [
    {
     "name": "stdout",
     "output_type": "stream",
     "text": [
      "82247072\n",
      "[1487300736, 1487300768, 1487300800]\n",
      "[2, 6, 10]\n",
      "[1487300752, 1487300816, 1487300880]\n",
      "82247072\n"
     ]
    }
   ],
   "source": [
    "data, factor = [1, 3, 5], 2\n",
    "print(id(data))\n",
    "print([id(x) for x in data])\n",
    "scale(data, factor)\n",
    "print(data)\n",
    "print([id(x) for x in data])\n",
    "print(id(data))"
   ]
  },
  {
   "cell_type": "markdown",
   "metadata": {},
   "source": [
    "It changes the list element not the integer."
   ]
  },
  {
   "cell_type": "markdown",
   "metadata": {},
   "source": [
    "#### 1.17"
   ]
  },
  {
   "cell_type": "code",
   "execution_count": 25,
   "metadata": {},
   "outputs": [],
   "source": [
    "def scale(data, factor):\n",
    "    for i, val in enumerate(data):\n",
    "        print(id(data[i]), id(val))\n",
    "        val *= factor\n",
    "        print(id(data[i]), id(val))\n",
    "        print('-' * 30)"
   ]
  },
  {
   "cell_type": "code",
   "execution_count": 26,
   "metadata": {},
   "outputs": [
    {
     "name": "stdout",
     "output_type": "stream",
     "text": [
      "82247192\n",
      "[1487300736, 1487300768, 1487300800]\n",
      "1487300736 1487300736\n",
      "1487300736 1487300752\n",
      "------------------------------\n",
      "1487300768 1487300768\n",
      "1487300768 1487300816\n",
      "------------------------------\n",
      "1487300800 1487300800\n",
      "1487300800 1487300880\n",
      "------------------------------\n",
      "[1, 3, 5]\n",
      "82247192\n",
      "[1487300736, 1487300768, 1487300800]\n"
     ]
    }
   ],
   "source": [
    "data, factor = [1, 3, 5], 2\n",
    "print(id(data))\n",
    "print([id(x) for x in data])\n",
    "scale(data, factor)\n",
    "print(data)\n",
    "print(id(data))\n",
    "print([id(x) for x in data])"
   ]
  },
  {
   "cell_type": "markdown",
   "metadata": {},
   "source": [
    "`val` is a temporary varible, change `val` will not affect the value in the list."
   ]
  },
  {
   "cell_type": "markdown",
   "metadata": {},
   "source": [
    "#### 1.18(TODO)"
   ]
  },
  {
   "cell_type": "code",
   "execution_count": 27,
   "metadata": {},
   "outputs": [
    {
     "data": {
      "text/plain": [
       "[0, 1, 2, 3, 4, 5, 6, 7, 8, 9]"
      ]
     },
     "execution_count": 27,
     "metadata": {},
     "output_type": "execute_result"
    }
   ],
   "source": [
    "[0, 2, 6, 12, 20, 30, 42, 56, 72, 90]\n",
    "[0, 2, 4,  6,  8, 10, 12, 14, 16, 18]\n",
    "[0, 2, 2,  6, 12, 20, 30, 42, 56, 72]\n",
    "[0, 1, 2,  3,  4,  5,  6,  7,  8,  9]"
   ]
  },
  {
   "cell_type": "code",
   "execution_count": 28,
   "metadata": {},
   "outputs": [
    {
     "data": {
      "text/plain": [
       "[0, 2, 4, 6, 8, 10, 12, 14, 16, 18]"
      ]
     },
     "execution_count": 28,
     "metadata": {},
     "output_type": "execute_result"
    }
   ],
   "source": [
    "[x * 2 if x < 2 else x * 2 for x in range(10)]"
   ]
  },
  {
   "cell_type": "markdown",
   "metadata": {},
   "source": [
    "#### 1.19"
   ]
  },
  {
   "cell_type": "code",
   "execution_count": 29,
   "metadata": {},
   "outputs": [
    {
     "data": {
      "text/plain": [
       "['a',\n",
       " 'b',\n",
       " 'c',\n",
       " 'd',\n",
       " 'e',\n",
       " 'f',\n",
       " 'g',\n",
       " 'h',\n",
       " 'i',\n",
       " 'j',\n",
       " 'k',\n",
       " 'l',\n",
       " 'm',\n",
       " 'n',\n",
       " 'o',\n",
       " 'p',\n",
       " 'q',\n",
       " 'r',\n",
       " 's',\n",
       " 't',\n",
       " 'u',\n",
       " 'v',\n",
       " 'w',\n",
       " 'x',\n",
       " 'y',\n",
       " 'z']"
      ]
     },
     "execution_count": 29,
     "metadata": {},
     "output_type": "execute_result"
    }
   ],
   "source": [
    "[chr(x) for x in range(ord('a'), ord('a') + 26)]"
   ]
  },
  {
   "cell_type": "markdown",
   "metadata": {},
   "source": [
    "#### 1.20(TODO)"
   ]
  },
  {
   "cell_type": "code",
   "execution_count": 30,
   "metadata": {},
   "outputs": [],
   "source": [
    "def shuffle(data):\n",
    "    pass"
   ]
  },
  {
   "cell_type": "markdown",
   "metadata": {},
   "source": [
    "#### 1.21"
   ]
  },
  {
   "cell_type": "code",
   "execution_count": 31,
   "metadata": {},
   "outputs": [],
   "source": [
    "def reverse_input_while_eof():\n",
    "    stack = []\n",
    "    while True:\n",
    "        try:\n",
    "            stack.append(input())\n",
    "        except EOFError:\n",
    "            break\n",
    "    while stack:\n",
    "        print(stack.pop())"
   ]
  },
  {
   "cell_type": "markdown",
   "metadata": {},
   "source": [
    "do not run this in notebook, coz c-d or c-z may not be recognize."
   ]
  },
  {
   "cell_type": "markdown",
   "metadata": {},
   "source": [
    "#### 1.22"
   ]
  },
  {
   "cell_type": "code",
   "execution_count": 32,
   "metadata": {},
   "outputs": [],
   "source": [
    "def dot_product_of_(a, b):\n",
    "    \"\"\"\n",
    "    >>> dot_product_of_([1, 2, 3], [1, 2, 3])\n",
    "    [1, 4, 9]\n",
    "    \n",
    "    >>> dot_product_of_([1, 2], [0])\n",
    "    \n",
    "    \"\"\"\n",
    "    if len(a) != len(b):\n",
    "        return\n",
    "    \n",
    "    return list(map(lambda x, y: x * y, a, b))"
   ]
  },
  {
   "cell_type": "markdown",
   "metadata": {},
   "source": [
    "#### 1.23"
   ]
  },
  {
   "cell_type": "code",
   "execution_count": 33,
   "metadata": {},
   "outputs": [
    {
     "name": "stdout",
     "output_type": "stream",
     "text": [
      "Don’t try buffer overflow attacks in Python!\n"
     ]
    }
   ],
   "source": [
    "li = [1, 3, 5]\n",
    "try:\n",
    "    print(li[5])\n",
    "except IndexError:\n",
    "    print(\"Don’t try buffer overflow attacks in Python!\")"
   ]
  },
  {
   "cell_type": "markdown",
   "metadata": {},
   "source": [
    "#### 1.24"
   ]
  },
  {
   "cell_type": "code",
   "execution_count": 34,
   "metadata": {},
   "outputs": [],
   "source": [
    "def count_vowels(s):\n",
    "    \"\"\"\n",
    "    >>> count_vowels(\"apple\")\n",
    "    2\n",
    "    \n",
    "    >>> count_vowels(\"Write a short Python function that counts the number of vowels in a given character string. \")\n",
    "    25\n",
    "    \"\"\"\n",
    "    count = 0\n",
    "    vowels = {'a', 'e', 'i', 'o', 'u'}\n",
    "    for c in s:\n",
    "        if c in vowels:\n",
    "            count += 1\n",
    "    return count"
   ]
  },
  {
   "cell_type": "markdown",
   "metadata": {},
   "source": [
    "#### 1.25"
   ]
  },
  {
   "cell_type": "code",
   "execution_count": 35,
   "metadata": {},
   "outputs": [],
   "source": [
    "import string"
   ]
  },
  {
   "cell_type": "code",
   "execution_count": 36,
   "metadata": {},
   "outputs": [],
   "source": [
    "def remove_punctuation_of(s):\n",
    "    \"\"\"\n",
    "    >>> remove_punctuation_of(\"Let's try, Mike.\")\n",
    "    'Lets try Mike'\n",
    "    \"\"\"\n",
    "    return ''.join([x for x in s if x in string.ascii_letters + string.whitespace])"
   ]
  },
  {
   "cell_type": "markdown",
   "metadata": {},
   "source": [
    "#### 1.26"
   ]
  },
  {
   "cell_type": "code",
   "execution_count": 37,
   "metadata": {},
   "outputs": [],
   "source": [
    "def judge_formula():\n",
    "    input_list = ['a', 'b', 'c']\n",
    "    input_num = []\n",
    "    \n",
    "    for each in input_list:\n",
    "        while True:\n",
    "            tmp = input(\"Please input \" + each + \": \")\n",
    "            if tmp.isdigit():\n",
    "                input_num.append(int(tmp))\n",
    "                break\n",
    "            else:\n",
    "                print(\"Invalid input, try again.\")\n",
    "    \n",
    "    m = dict(zip(input_list, input_num))\n",
    "    return m['a'] + m['b'] == m['c']"
   ]
  },
  {
   "cell_type": "code",
   "execution_count": 38,
   "metadata": {},
   "outputs": [
    {
     "name": "stdout",
     "output_type": "stream",
     "text": [
      "Please input a: 5\n",
      "Please input b: 3\n",
      "Please input c: 1\n"
     ]
    },
    {
     "data": {
      "text/plain": [
       "False"
      ]
     },
     "execution_count": 38,
     "metadata": {},
     "output_type": "execute_result"
    }
   ],
   "source": [
    "judge_formula()"
   ]
  },
  {
   "cell_type": "markdown",
   "metadata": {},
   "source": [
    "#### 1.27"
   ]
  },
  {
   "cell_type": "code",
   "execution_count": 39,
   "metadata": {},
   "outputs": [],
   "source": [
    "def factor_old(m):\n",
    "    \"\"\"\n",
    "    >>> list(factor_old(100))\n",
    "    [1, 100, 2, 50, 4, 25, 5, 20, 10]\n",
    "    \"\"\"\n",
    "    k = 1\n",
    "    saved = []\n",
    "    while k * k < m:\n",
    "        if m % k == 0:\n",
    "            yield k\n",
    "            yield m // k\n",
    "        k += 1\n",
    "    if k * k == m:\n",
    "        yield k"
   ]
  },
  {
   "cell_type": "code",
   "execution_count": 40,
   "metadata": {},
   "outputs": [],
   "source": [
    "def factor(m):\n",
    "    \"\"\"\n",
    "    >>> list(factor(100))\n",
    "    [1, 2, 4, 5, 10, 20, 25, 50, 100]\n",
    "    \"\"\"\n",
    "    k = 1\n",
    "    saved = []\n",
    "    while k * k < m:\n",
    "        if m % k == 0:\n",
    "            yield k\n",
    "            saved.append(m // k)\n",
    "        k += 1\n",
    "    if k * k == m:\n",
    "        yield k\n",
    "    while saved:\n",
    "        yield saved.pop()"
   ]
  },
  {
   "cell_type": "code",
   "execution_count": 41,
   "metadata": {},
   "outputs": [
    {
     "name": "stdout",
     "output_type": "stream",
     "text": [
      "6.51 µs ± 606 ns per loop (mean ± std. dev. of 7 runs, 100000 loops each)\n"
     ]
    }
   ],
   "source": [
    "%timeit list(factor_old(1000))"
   ]
  },
  {
   "cell_type": "code",
   "execution_count": 42,
   "metadata": {},
   "outputs": [
    {
     "name": "stdout",
     "output_type": "stream",
     "text": [
      "8.13 µs ± 647 ns per loop (mean ± std. dev. of 7 runs, 100000 loops each)\n"
     ]
    }
   ],
   "source": [
    "%timeit list(factor(1000))"
   ]
  },
  {
   "cell_type": "markdown",
   "metadata": {},
   "source": [
    "#### 1.28"
   ]
  },
  {
   "cell_type": "code",
   "execution_count": 43,
   "metadata": {},
   "outputs": [],
   "source": [
    "def norm(v, p=2):\n",
    "    \"\"\"\n",
    "    >>> norm([3, 4])\n",
    "    5.0\n",
    "    \"\"\"\n",
    "    return sum(map(lambda x: x**p, v)) ** (1/p)  # ** is priority than /"
   ]
  },
  {
   "cell_type": "markdown",
   "metadata": {},
   "source": [
    "### Projects"
   ]
  },
  {
   "cell_type": "markdown",
   "metadata": {},
   "source": [
    "#### 1.29"
   ]
  },
  {
   "cell_type": "code",
   "execution_count": 44,
   "metadata": {},
   "outputs": [],
   "source": [
    "from itertools import permutations"
   ]
  },
  {
   "cell_type": "code",
   "execution_count": 45,
   "metadata": {},
   "outputs": [],
   "source": [
    "def all_possible():\n",
    "    given = \"catdog\"\n",
    "    return [''.join(x) for x in permutations(given, len(given))]"
   ]
  },
  {
   "cell_type": "code",
   "execution_count": 46,
   "metadata": {},
   "outputs": [
    {
     "data": {
      "text/plain": [
       "['catdog',\n",
       " 'catdgo',\n",
       " 'catodg',\n",
       " 'catogd',\n",
       " 'catgdo',\n",
       " 'catgod',\n",
       " 'cadtog',\n",
       " 'cadtgo',\n",
       " 'cadotg',\n",
       " 'cadogt',\n",
       " 'cadgto',\n",
       " 'cadgot',\n",
       " 'caotdg',\n",
       " 'caotgd',\n",
       " 'caodtg',\n",
       " 'caodgt',\n",
       " 'caogtd',\n",
       " 'caogdt',\n",
       " 'cagtdo',\n",
       " 'cagtod',\n",
       " 'cagdto',\n",
       " 'cagdot',\n",
       " 'cagotd',\n",
       " 'cagodt',\n",
       " 'ctadog',\n",
       " 'ctadgo',\n",
       " 'ctaodg',\n",
       " 'ctaogd',\n",
       " 'ctagdo',\n",
       " 'ctagod',\n",
       " 'ctdaog',\n",
       " 'ctdago',\n",
       " 'ctdoag',\n",
       " 'ctdoga',\n",
       " 'ctdgao',\n",
       " 'ctdgoa',\n",
       " 'ctoadg',\n",
       " 'ctoagd',\n",
       " 'ctodag',\n",
       " 'ctodga',\n",
       " 'ctogad',\n",
       " 'ctogda',\n",
       " 'ctgado',\n",
       " 'ctgaod',\n",
       " 'ctgdao',\n",
       " 'ctgdoa',\n",
       " 'ctgoad',\n",
       " 'ctgoda',\n",
       " 'cdatog',\n",
       " 'cdatgo',\n",
       " 'cdaotg',\n",
       " 'cdaogt',\n",
       " 'cdagto',\n",
       " 'cdagot',\n",
       " 'cdtaog',\n",
       " 'cdtago',\n",
       " 'cdtoag',\n",
       " 'cdtoga',\n",
       " 'cdtgao',\n",
       " 'cdtgoa',\n",
       " 'cdoatg',\n",
       " 'cdoagt',\n",
       " 'cdotag',\n",
       " 'cdotga',\n",
       " 'cdogat',\n",
       " 'cdogta',\n",
       " 'cdgato',\n",
       " 'cdgaot',\n",
       " 'cdgtao',\n",
       " 'cdgtoa',\n",
       " 'cdgoat',\n",
       " 'cdgota',\n",
       " 'coatdg',\n",
       " 'coatgd',\n",
       " 'coadtg',\n",
       " 'coadgt',\n",
       " 'coagtd',\n",
       " 'coagdt',\n",
       " 'cotadg',\n",
       " 'cotagd',\n",
       " 'cotdag',\n",
       " 'cotdga',\n",
       " 'cotgad',\n",
       " 'cotgda',\n",
       " 'codatg',\n",
       " 'codagt',\n",
       " 'codtag',\n",
       " 'codtga',\n",
       " 'codgat',\n",
       " 'codgta',\n",
       " 'cogatd',\n",
       " 'cogadt',\n",
       " 'cogtad',\n",
       " 'cogtda',\n",
       " 'cogdat',\n",
       " 'cogdta',\n",
       " 'cgatdo',\n",
       " 'cgatod',\n",
       " 'cgadto',\n",
       " 'cgadot',\n",
       " 'cgaotd',\n",
       " 'cgaodt',\n",
       " 'cgtado',\n",
       " 'cgtaod',\n",
       " 'cgtdao',\n",
       " 'cgtdoa',\n",
       " 'cgtoad',\n",
       " 'cgtoda',\n",
       " 'cgdato',\n",
       " 'cgdaot',\n",
       " 'cgdtao',\n",
       " 'cgdtoa',\n",
       " 'cgdoat',\n",
       " 'cgdota',\n",
       " 'cgoatd',\n",
       " 'cgoadt',\n",
       " 'cgotad',\n",
       " 'cgotda',\n",
       " 'cgodat',\n",
       " 'cgodta',\n",
       " 'actdog',\n",
       " 'actdgo',\n",
       " 'actodg',\n",
       " 'actogd',\n",
       " 'actgdo',\n",
       " 'actgod',\n",
       " 'acdtog',\n",
       " 'acdtgo',\n",
       " 'acdotg',\n",
       " 'acdogt',\n",
       " 'acdgto',\n",
       " 'acdgot',\n",
       " 'acotdg',\n",
       " 'acotgd',\n",
       " 'acodtg',\n",
       " 'acodgt',\n",
       " 'acogtd',\n",
       " 'acogdt',\n",
       " 'acgtdo',\n",
       " 'acgtod',\n",
       " 'acgdto',\n",
       " 'acgdot',\n",
       " 'acgotd',\n",
       " 'acgodt',\n",
       " 'atcdog',\n",
       " 'atcdgo',\n",
       " 'atcodg',\n",
       " 'atcogd',\n",
       " 'atcgdo',\n",
       " 'atcgod',\n",
       " 'atdcog',\n",
       " 'atdcgo',\n",
       " 'atdocg',\n",
       " 'atdogc',\n",
       " 'atdgco',\n",
       " 'atdgoc',\n",
       " 'atocdg',\n",
       " 'atocgd',\n",
       " 'atodcg',\n",
       " 'atodgc',\n",
       " 'atogcd',\n",
       " 'atogdc',\n",
       " 'atgcdo',\n",
       " 'atgcod',\n",
       " 'atgdco',\n",
       " 'atgdoc',\n",
       " 'atgocd',\n",
       " 'atgodc',\n",
       " 'adctog',\n",
       " 'adctgo',\n",
       " 'adcotg',\n",
       " 'adcogt',\n",
       " 'adcgto',\n",
       " 'adcgot',\n",
       " 'adtcog',\n",
       " 'adtcgo',\n",
       " 'adtocg',\n",
       " 'adtogc',\n",
       " 'adtgco',\n",
       " 'adtgoc',\n",
       " 'adoctg',\n",
       " 'adocgt',\n",
       " 'adotcg',\n",
       " 'adotgc',\n",
       " 'adogct',\n",
       " 'adogtc',\n",
       " 'adgcto',\n",
       " 'adgcot',\n",
       " 'adgtco',\n",
       " 'adgtoc',\n",
       " 'adgoct',\n",
       " 'adgotc',\n",
       " 'aoctdg',\n",
       " 'aoctgd',\n",
       " 'aocdtg',\n",
       " 'aocdgt',\n",
       " 'aocgtd',\n",
       " 'aocgdt',\n",
       " 'aotcdg',\n",
       " 'aotcgd',\n",
       " 'aotdcg',\n",
       " 'aotdgc',\n",
       " 'aotgcd',\n",
       " 'aotgdc',\n",
       " 'aodctg',\n",
       " 'aodcgt',\n",
       " 'aodtcg',\n",
       " 'aodtgc',\n",
       " 'aodgct',\n",
       " 'aodgtc',\n",
       " 'aogctd',\n",
       " 'aogcdt',\n",
       " 'aogtcd',\n",
       " 'aogtdc',\n",
       " 'aogdct',\n",
       " 'aogdtc',\n",
       " 'agctdo',\n",
       " 'agctod',\n",
       " 'agcdto',\n",
       " 'agcdot',\n",
       " 'agcotd',\n",
       " 'agcodt',\n",
       " 'agtcdo',\n",
       " 'agtcod',\n",
       " 'agtdco',\n",
       " 'agtdoc',\n",
       " 'agtocd',\n",
       " 'agtodc',\n",
       " 'agdcto',\n",
       " 'agdcot',\n",
       " 'agdtco',\n",
       " 'agdtoc',\n",
       " 'agdoct',\n",
       " 'agdotc',\n",
       " 'agoctd',\n",
       " 'agocdt',\n",
       " 'agotcd',\n",
       " 'agotdc',\n",
       " 'agodct',\n",
       " 'agodtc',\n",
       " 'tcadog',\n",
       " 'tcadgo',\n",
       " 'tcaodg',\n",
       " 'tcaogd',\n",
       " 'tcagdo',\n",
       " 'tcagod',\n",
       " 'tcdaog',\n",
       " 'tcdago',\n",
       " 'tcdoag',\n",
       " 'tcdoga',\n",
       " 'tcdgao',\n",
       " 'tcdgoa',\n",
       " 'tcoadg',\n",
       " 'tcoagd',\n",
       " 'tcodag',\n",
       " 'tcodga',\n",
       " 'tcogad',\n",
       " 'tcogda',\n",
       " 'tcgado',\n",
       " 'tcgaod',\n",
       " 'tcgdao',\n",
       " 'tcgdoa',\n",
       " 'tcgoad',\n",
       " 'tcgoda',\n",
       " 'tacdog',\n",
       " 'tacdgo',\n",
       " 'tacodg',\n",
       " 'tacogd',\n",
       " 'tacgdo',\n",
       " 'tacgod',\n",
       " 'tadcog',\n",
       " 'tadcgo',\n",
       " 'tadocg',\n",
       " 'tadogc',\n",
       " 'tadgco',\n",
       " 'tadgoc',\n",
       " 'taocdg',\n",
       " 'taocgd',\n",
       " 'taodcg',\n",
       " 'taodgc',\n",
       " 'taogcd',\n",
       " 'taogdc',\n",
       " 'tagcdo',\n",
       " 'tagcod',\n",
       " 'tagdco',\n",
       " 'tagdoc',\n",
       " 'tagocd',\n",
       " 'tagodc',\n",
       " 'tdcaog',\n",
       " 'tdcago',\n",
       " 'tdcoag',\n",
       " 'tdcoga',\n",
       " 'tdcgao',\n",
       " 'tdcgoa',\n",
       " 'tdacog',\n",
       " 'tdacgo',\n",
       " 'tdaocg',\n",
       " 'tdaogc',\n",
       " 'tdagco',\n",
       " 'tdagoc',\n",
       " 'tdocag',\n",
       " 'tdocga',\n",
       " 'tdoacg',\n",
       " 'tdoagc',\n",
       " 'tdogca',\n",
       " 'tdogac',\n",
       " 'tdgcao',\n",
       " 'tdgcoa',\n",
       " 'tdgaco',\n",
       " 'tdgaoc',\n",
       " 'tdgoca',\n",
       " 'tdgoac',\n",
       " 'tocadg',\n",
       " 'tocagd',\n",
       " 'tocdag',\n",
       " 'tocdga',\n",
       " 'tocgad',\n",
       " 'tocgda',\n",
       " 'toacdg',\n",
       " 'toacgd',\n",
       " 'toadcg',\n",
       " 'toadgc',\n",
       " 'toagcd',\n",
       " 'toagdc',\n",
       " 'todcag',\n",
       " 'todcga',\n",
       " 'todacg',\n",
       " 'todagc',\n",
       " 'todgca',\n",
       " 'todgac',\n",
       " 'togcad',\n",
       " 'togcda',\n",
       " 'togacd',\n",
       " 'togadc',\n",
       " 'togdca',\n",
       " 'togdac',\n",
       " 'tgcado',\n",
       " 'tgcaod',\n",
       " 'tgcdao',\n",
       " 'tgcdoa',\n",
       " 'tgcoad',\n",
       " 'tgcoda',\n",
       " 'tgacdo',\n",
       " 'tgacod',\n",
       " 'tgadco',\n",
       " 'tgadoc',\n",
       " 'tgaocd',\n",
       " 'tgaodc',\n",
       " 'tgdcao',\n",
       " 'tgdcoa',\n",
       " 'tgdaco',\n",
       " 'tgdaoc',\n",
       " 'tgdoca',\n",
       " 'tgdoac',\n",
       " 'tgocad',\n",
       " 'tgocda',\n",
       " 'tgoacd',\n",
       " 'tgoadc',\n",
       " 'tgodca',\n",
       " 'tgodac',\n",
       " 'dcatog',\n",
       " 'dcatgo',\n",
       " 'dcaotg',\n",
       " 'dcaogt',\n",
       " 'dcagto',\n",
       " 'dcagot',\n",
       " 'dctaog',\n",
       " 'dctago',\n",
       " 'dctoag',\n",
       " 'dctoga',\n",
       " 'dctgao',\n",
       " 'dctgoa',\n",
       " 'dcoatg',\n",
       " 'dcoagt',\n",
       " 'dcotag',\n",
       " 'dcotga',\n",
       " 'dcogat',\n",
       " 'dcogta',\n",
       " 'dcgato',\n",
       " 'dcgaot',\n",
       " 'dcgtao',\n",
       " 'dcgtoa',\n",
       " 'dcgoat',\n",
       " 'dcgota',\n",
       " 'dactog',\n",
       " 'dactgo',\n",
       " 'dacotg',\n",
       " 'dacogt',\n",
       " 'dacgto',\n",
       " 'dacgot',\n",
       " 'datcog',\n",
       " 'datcgo',\n",
       " 'datocg',\n",
       " 'datogc',\n",
       " 'datgco',\n",
       " 'datgoc',\n",
       " 'daoctg',\n",
       " 'daocgt',\n",
       " 'daotcg',\n",
       " 'daotgc',\n",
       " 'daogct',\n",
       " 'daogtc',\n",
       " 'dagcto',\n",
       " 'dagcot',\n",
       " 'dagtco',\n",
       " 'dagtoc',\n",
       " 'dagoct',\n",
       " 'dagotc',\n",
       " 'dtcaog',\n",
       " 'dtcago',\n",
       " 'dtcoag',\n",
       " 'dtcoga',\n",
       " 'dtcgao',\n",
       " 'dtcgoa',\n",
       " 'dtacog',\n",
       " 'dtacgo',\n",
       " 'dtaocg',\n",
       " 'dtaogc',\n",
       " 'dtagco',\n",
       " 'dtagoc',\n",
       " 'dtocag',\n",
       " 'dtocga',\n",
       " 'dtoacg',\n",
       " 'dtoagc',\n",
       " 'dtogca',\n",
       " 'dtogac',\n",
       " 'dtgcao',\n",
       " 'dtgcoa',\n",
       " 'dtgaco',\n",
       " 'dtgaoc',\n",
       " 'dtgoca',\n",
       " 'dtgoac',\n",
       " 'docatg',\n",
       " 'docagt',\n",
       " 'doctag',\n",
       " 'doctga',\n",
       " 'docgat',\n",
       " 'docgta',\n",
       " 'doactg',\n",
       " 'doacgt',\n",
       " 'doatcg',\n",
       " 'doatgc',\n",
       " 'doagct',\n",
       " 'doagtc',\n",
       " 'dotcag',\n",
       " 'dotcga',\n",
       " 'dotacg',\n",
       " 'dotagc',\n",
       " 'dotgca',\n",
       " 'dotgac',\n",
       " 'dogcat',\n",
       " 'dogcta',\n",
       " 'dogact',\n",
       " 'dogatc',\n",
       " 'dogtca',\n",
       " 'dogtac',\n",
       " 'dgcato',\n",
       " 'dgcaot',\n",
       " 'dgctao',\n",
       " 'dgctoa',\n",
       " 'dgcoat',\n",
       " 'dgcota',\n",
       " 'dgacto',\n",
       " 'dgacot',\n",
       " 'dgatco',\n",
       " 'dgatoc',\n",
       " 'dgaoct',\n",
       " 'dgaotc',\n",
       " 'dgtcao',\n",
       " 'dgtcoa',\n",
       " 'dgtaco',\n",
       " 'dgtaoc',\n",
       " 'dgtoca',\n",
       " 'dgtoac',\n",
       " 'dgocat',\n",
       " 'dgocta',\n",
       " 'dgoact',\n",
       " 'dgoatc',\n",
       " 'dgotca',\n",
       " 'dgotac',\n",
       " 'ocatdg',\n",
       " 'ocatgd',\n",
       " 'ocadtg',\n",
       " 'ocadgt',\n",
       " 'ocagtd',\n",
       " 'ocagdt',\n",
       " 'octadg',\n",
       " 'octagd',\n",
       " 'octdag',\n",
       " 'octdga',\n",
       " 'octgad',\n",
       " 'octgda',\n",
       " 'ocdatg',\n",
       " 'ocdagt',\n",
       " 'ocdtag',\n",
       " 'ocdtga',\n",
       " 'ocdgat',\n",
       " 'ocdgta',\n",
       " 'ocgatd',\n",
       " 'ocgadt',\n",
       " 'ocgtad',\n",
       " 'ocgtda',\n",
       " 'ocgdat',\n",
       " 'ocgdta',\n",
       " 'oactdg',\n",
       " 'oactgd',\n",
       " 'oacdtg',\n",
       " 'oacdgt',\n",
       " 'oacgtd',\n",
       " 'oacgdt',\n",
       " 'oatcdg',\n",
       " 'oatcgd',\n",
       " 'oatdcg',\n",
       " 'oatdgc',\n",
       " 'oatgcd',\n",
       " 'oatgdc',\n",
       " 'oadctg',\n",
       " 'oadcgt',\n",
       " 'oadtcg',\n",
       " 'oadtgc',\n",
       " 'oadgct',\n",
       " 'oadgtc',\n",
       " 'oagctd',\n",
       " 'oagcdt',\n",
       " 'oagtcd',\n",
       " 'oagtdc',\n",
       " 'oagdct',\n",
       " 'oagdtc',\n",
       " 'otcadg',\n",
       " 'otcagd',\n",
       " 'otcdag',\n",
       " 'otcdga',\n",
       " 'otcgad',\n",
       " 'otcgda',\n",
       " 'otacdg',\n",
       " 'otacgd',\n",
       " 'otadcg',\n",
       " 'otadgc',\n",
       " 'otagcd',\n",
       " 'otagdc',\n",
       " 'otdcag',\n",
       " 'otdcga',\n",
       " 'otdacg',\n",
       " 'otdagc',\n",
       " 'otdgca',\n",
       " 'otdgac',\n",
       " 'otgcad',\n",
       " 'otgcda',\n",
       " 'otgacd',\n",
       " 'otgadc',\n",
       " 'otgdca',\n",
       " 'otgdac',\n",
       " 'odcatg',\n",
       " 'odcagt',\n",
       " 'odctag',\n",
       " 'odctga',\n",
       " 'odcgat',\n",
       " 'odcgta',\n",
       " 'odactg',\n",
       " 'odacgt',\n",
       " 'odatcg',\n",
       " 'odatgc',\n",
       " 'odagct',\n",
       " 'odagtc',\n",
       " 'odtcag',\n",
       " 'odtcga',\n",
       " 'odtacg',\n",
       " 'odtagc',\n",
       " 'odtgca',\n",
       " 'odtgac',\n",
       " 'odgcat',\n",
       " 'odgcta',\n",
       " 'odgact',\n",
       " 'odgatc',\n",
       " 'odgtca',\n",
       " 'odgtac',\n",
       " 'ogcatd',\n",
       " 'ogcadt',\n",
       " 'ogctad',\n",
       " 'ogctda',\n",
       " 'ogcdat',\n",
       " 'ogcdta',\n",
       " 'ogactd',\n",
       " 'ogacdt',\n",
       " 'ogatcd',\n",
       " 'ogatdc',\n",
       " 'ogadct',\n",
       " 'ogadtc',\n",
       " 'ogtcad',\n",
       " 'ogtcda',\n",
       " 'ogtacd',\n",
       " 'ogtadc',\n",
       " 'ogtdca',\n",
       " 'ogtdac',\n",
       " 'ogdcat',\n",
       " 'ogdcta',\n",
       " 'ogdact',\n",
       " 'ogdatc',\n",
       " 'ogdtca',\n",
       " 'ogdtac',\n",
       " 'gcatdo',\n",
       " 'gcatod',\n",
       " 'gcadto',\n",
       " 'gcadot',\n",
       " 'gcaotd',\n",
       " 'gcaodt',\n",
       " 'gctado',\n",
       " 'gctaod',\n",
       " 'gctdao',\n",
       " 'gctdoa',\n",
       " 'gctoad',\n",
       " 'gctoda',\n",
       " 'gcdato',\n",
       " 'gcdaot',\n",
       " 'gcdtao',\n",
       " 'gcdtoa',\n",
       " 'gcdoat',\n",
       " 'gcdota',\n",
       " 'gcoatd',\n",
       " 'gcoadt',\n",
       " 'gcotad',\n",
       " 'gcotda',\n",
       " 'gcodat',\n",
       " 'gcodta',\n",
       " 'gactdo',\n",
       " 'gactod',\n",
       " 'gacdto',\n",
       " 'gacdot',\n",
       " 'gacotd',\n",
       " 'gacodt',\n",
       " 'gatcdo',\n",
       " 'gatcod',\n",
       " 'gatdco',\n",
       " 'gatdoc',\n",
       " 'gatocd',\n",
       " 'gatodc',\n",
       " 'gadcto',\n",
       " 'gadcot',\n",
       " 'gadtco',\n",
       " 'gadtoc',\n",
       " 'gadoct',\n",
       " 'gadotc',\n",
       " 'gaoctd',\n",
       " 'gaocdt',\n",
       " 'gaotcd',\n",
       " 'gaotdc',\n",
       " 'gaodct',\n",
       " 'gaodtc',\n",
       " 'gtcado',\n",
       " 'gtcaod',\n",
       " 'gtcdao',\n",
       " 'gtcdoa',\n",
       " 'gtcoad',\n",
       " 'gtcoda',\n",
       " 'gtacdo',\n",
       " 'gtacod',\n",
       " 'gtadco',\n",
       " 'gtadoc',\n",
       " 'gtaocd',\n",
       " 'gtaodc',\n",
       " 'gtdcao',\n",
       " 'gtdcoa',\n",
       " 'gtdaco',\n",
       " 'gtdaoc',\n",
       " 'gtdoca',\n",
       " 'gtdoac',\n",
       " 'gtocad',\n",
       " 'gtocda',\n",
       " 'gtoacd',\n",
       " 'gtoadc',\n",
       " 'gtodca',\n",
       " 'gtodac',\n",
       " 'gdcato',\n",
       " 'gdcaot',\n",
       " 'gdctao',\n",
       " 'gdctoa',\n",
       " 'gdcoat',\n",
       " 'gdcota',\n",
       " 'gdacto',\n",
       " 'gdacot',\n",
       " 'gdatco',\n",
       " 'gdatoc',\n",
       " 'gdaoct',\n",
       " 'gdaotc',\n",
       " 'gdtcao',\n",
       " 'gdtcoa',\n",
       " 'gdtaco',\n",
       " 'gdtaoc',\n",
       " 'gdtoca',\n",
       " 'gdtoac',\n",
       " 'gdocat',\n",
       " 'gdocta',\n",
       " 'gdoact',\n",
       " 'gdoatc',\n",
       " 'gdotca',\n",
       " 'gdotac',\n",
       " 'gocatd',\n",
       " 'gocadt',\n",
       " 'goctad',\n",
       " 'goctda',\n",
       " 'gocdat',\n",
       " 'gocdta',\n",
       " 'goactd',\n",
       " 'goacdt',\n",
       " 'goatcd',\n",
       " 'goatdc',\n",
       " 'goadct',\n",
       " 'goadtc',\n",
       " 'gotcad',\n",
       " 'gotcda',\n",
       " 'gotacd',\n",
       " 'gotadc',\n",
       " 'gotdca',\n",
       " 'gotdac',\n",
       " 'godcat',\n",
       " 'godcta',\n",
       " 'godact',\n",
       " 'godatc',\n",
       " 'godtca',\n",
       " 'godtac']"
      ]
     },
     "execution_count": 46,
     "metadata": {},
     "output_type": "execute_result"
    }
   ],
   "source": [
    "all_possible()"
   ]
  },
  {
   "cell_type": "markdown",
   "metadata": {},
   "source": [
    "#### 1.30"
   ]
  },
  {
   "cell_type": "code",
   "execution_count": 47,
   "metadata": {},
   "outputs": [],
   "source": [
    "def divide_times(n):\n",
    "    \"\"\"\n",
    "    >>> divide_times(2)\n",
    "    1\n",
    "    \n",
    "    >>> divide_times(-1)\n",
    "    0\n",
    "    \n",
    "    >>> divide_times(17)\n",
    "    4\n",
    "    \"\"\"\n",
    "    if n <= 0:\n",
    "        return 0\n",
    "    \n",
    "    count = 0\n",
    "    while n >= 2:\n",
    "        n >>= 1\n",
    "        count += 1\n",
    "    return count"
   ]
  },
  {
   "cell_type": "markdown",
   "metadata": {},
   "source": [
    "#### 1.31"
   ]
  },
  {
   "cell_type": "code",
   "execution_count": 48,
   "metadata": {},
   "outputs": [],
   "source": [
    "def make_change(charged, given):\n",
    "    \"\"\"Make change as few pieces of money as possible.\n",
    "    \"\"\"\n",
    "    types = [100, 50, 20, 10, 5, 1]\n",
    "    if charged > given:\n",
    "        return\n",
    "    \n",
    "    change = given - charged\n",
    "    ret = [0] * len(types)\n",
    "    for i, each in enumerate(types):\n",
    "        if each <= change:\n",
    "            ret[i], change = divmod(change, each) \n",
    "        if not change:\n",
    "            break\n",
    "    [print(types[i], \"元:\", ret[i], \"张\") for i in range(len(types)) if ret[i]]"
   ]
  },
  {
   "cell_type": "code",
   "execution_count": 49,
   "metadata": {},
   "outputs": [
    {
     "name": "stdout",
     "output_type": "stream",
     "text": [
      "50 元: 1 张\n",
      "20 元: 1 张\n",
      "5 元: 1 张\n",
      "1 元: 3 张\n"
     ]
    }
   ],
   "source": [
    "make_change(122, 200)"
   ]
  },
  {
   "cell_type": "markdown",
   "metadata": {},
   "source": [
    "#### 1.32"
   ]
  },
  {
   "cell_type": "code",
   "execution_count": 50,
   "metadata": {},
   "outputs": [],
   "source": [
    "def get_operator():\n",
    "    while True:\n",
    "        val = input(\"Input a number: \")\n",
    "        try:\n",
    "            return float(val)\n",
    "        except:\n",
    "            print(\"Invalid Input!\")"
   ]
  },
  {
   "cell_type": "code",
   "execution_count": 51,
   "metadata": {},
   "outputs": [],
   "source": [
    "def get_operand():\n",
    "    operand = input(r\"Input operand:(+-*/) \")\n",
    "    while operand not in \"+-*/\":\n",
    "        operand = input(r\"Input operand:(+-*/) \")\n",
    "    return operand"
   ]
  },
  {
   "cell_type": "code",
   "execution_count": 52,
   "metadata": {},
   "outputs": [],
   "source": [
    "def calculate():\n",
    "    operator_one = get_operator()\n",
    "    operand = get_operand()\n",
    "    operator_two = get_operator()\n",
    "    if operand == \"+\":\n",
    "        return operator_one + operator_two\n",
    "    elif operand == \"-\":\n",
    "        return operator_one - operator_two\n",
    "    elif operand == \"*\":\n",
    "        return operator_one * operator_two\n",
    "    elif operand == \"/\":\n",
    "        return operator_one / operator_two"
   ]
  },
  {
   "cell_type": "code",
   "execution_count": 53,
   "metadata": {},
   "outputs": [
    {
     "name": "stdout",
     "output_type": "stream",
     "text": [
      "Input a number: 3.14\n",
      "Input operand:(+-*/) *\n",
      "Input a number: 3.14\n"
     ]
    },
    {
     "data": {
      "text/plain": [
       "9.8596"
      ]
     },
     "execution_count": 53,
     "metadata": {},
     "output_type": "execute_result"
    }
   ],
   "source": [
    "calculate()"
   ]
  },
  {
   "cell_type": "markdown",
   "metadata": {},
   "source": [
    "#### 1.33(TODO)"
   ]
  },
  {
   "cell_type": "markdown",
   "metadata": {},
   "source": [
    "#### 1.34"
   ]
  },
  {
   "cell_type": "code",
   "execution_count": 54,
   "metadata": {},
   "outputs": [],
   "source": [
    "import random\n",
    "import string"
   ]
  },
  {
   "cell_type": "code",
   "execution_count": 55,
   "metadata": {},
   "outputs": [],
   "source": [
    "def random_char():\n",
    "    return random.choice(string.ascii_letters)"
   ]
  },
  {
   "cell_type": "code",
   "execution_count": 56,
   "metadata": {},
   "outputs": [],
   "source": [
    "def sentences_100():\n",
    "    right = \"I will never spam my friends again.\"\n",
    "    typos = set()\n",
    "    while len(typos) < 8:\n",
    "        punishment = [x for x in \"I will never spam my friends again.\"]\n",
    "        while True:\n",
    "            loc = random.randint(0, len(punishment) - 1)\n",
    "            if punishment[loc] in string.ascii_letters:\n",
    "                break\n",
    "        punishment[loc] = random_char()\n",
    "        typos.add(''.join(punishment))\n",
    "    total = [right] + list(typos)\n",
    "    for i in range(100):\n",
    "        print(random.choice(total))"
   ]
  },
  {
   "cell_type": "code",
   "execution_count": 57,
   "metadata": {
    "scrolled": false
   },
   "outputs": [
    {
     "name": "stdout",
     "output_type": "stream",
     "text": [
      "I will never spaK my friends again.\n",
      "I will neveI spam my friends again.\n",
      "I will never spam my friendY again.\n",
      "I will nerer spam my friends again.\n",
      "I will never spaK my friends again.\n",
      "I will never spaK my friends again.\n",
      "I will never spam my friends agaiU.\n",
      "I will never spam my friends agaiu.\n",
      "I will never spam my friendY again.\n",
      "I will neveI spam my friends again.\n",
      "I will nerer spam my friends again.\n",
      "I will never spam my friends again.\n",
      "I will nerer spam my friends again.\n",
      "I will never spam my friendY again.\n",
      "I will never spam my friends again.\n",
      "I will neveI spam my friends again.\n",
      "I will never spam my friends agaiU.\n",
      "I will never spam my friends again.\n",
      "I will never spam my friends agaiU.\n",
      "I will neveI spam my friends again.\n",
      "I will never spaK my friends again.\n",
      "I will nerer spam my friends again.\n",
      "I will never spam my friends again.\n",
      "I will nerer spam my friends again.\n",
      "I will never spam my friends agakn.\n",
      "I will never spam my friends agaiu.\n",
      "I will nerer spam my friends again.\n",
      "I will never spam my friends agaiU.\n",
      "I will never spam my friendY again.\n",
      "I will never spam my friends agaiU.\n",
      "I will never spam my friends agakn.\n",
      "I will never spam my friendY again.\n",
      "I will never spam my friends agaiU.\n",
      "I will nerer spam my friends again.\n",
      "I will never spam my friendY again.\n",
      "I will nerer spam my friends again.\n",
      "I will never spam my friends agaiU.\n",
      "I will never spam my friends agakn.\n",
      "I will never spaK my friends again.\n",
      "I will never spaK my friends again.\n",
      "I will never spam my friendY again.\n",
      "I will never spam my friends again.\n",
      "I will never spam my friends agaiu.\n",
      "I will nerer spam my friends again.\n",
      "I will never spah my friends again.\n",
      "I will never spam my friends agaiu.\n",
      "I will never spam my friends again.\n",
      "I will never spam my friends agaiU.\n",
      "I will neveI spam my friends again.\n",
      "I will never spah my friends again.\n",
      "I will neveI spam my friends again.\n",
      "I will never spam my friends again.\n",
      "I will nerer spam my friends again.\n",
      "I will neveI spam my friends again.\n",
      "I will neveI spam my friends again.\n",
      "I will never spah my friends again.\n",
      "I will never spam my friends agaiU.\n",
      "I will never spam my friendY again.\n",
      "I will never spam my friendY again.\n",
      "I will never spam my friends agaiU.\n",
      "I will never spam my friends again.\n",
      "I will never spam my friends again.\n",
      "I will never spah my friends again.\n",
      "I will neveI spam my friends again.\n",
      "I will never spam my friends agaiU.\n",
      "I will never spam my friendY again.\n",
      "I will neveI spam my friends again.\n",
      "I will never spam my friendY again.\n",
      "I will never spah my friends again.\n",
      "I will never spam my friends again.\n",
      "I will never spam my friends agaiu.\n",
      "I will never spam my friends again.\n",
      "I will nerer spam my friends again.\n",
      "I will never spam my friends agaiu.\n",
      "I will never spam my friends agaiU.\n",
      "I will never spam my friends again.\n",
      "I will never spam my friends again.\n",
      "I will never spam my friendY again.\n",
      "I will never spam my friends agaiu.\n",
      "I will never spah my friends again.\n",
      "I will nerer spam my friends again.\n",
      "I will never spam my friends agaiu.\n",
      "I will never spam my friendY again.\n",
      "I will never spam my friends agaiu.\n",
      "I will never spam my friends agakn.\n",
      "I will never spaK my friends again.\n",
      "I will never spam my friends agakn.\n",
      "I will never spam my friendY again.\n",
      "I will never spam my friends again.\n",
      "I will nerer spam my friends again.\n",
      "I will never spaK my friends again.\n",
      "I will never spam my friends agaiU.\n",
      "I will never spah my friends again.\n",
      "I will never spaK my friends again.\n",
      "I will never spah my friends again.\n",
      "I will nerer spam my friends again.\n",
      "I will never spam my friends agaiU.\n",
      "I will neveI spam my friends again.\n",
      "I will nerer spam my friends again.\n",
      "I will never spam my friends agaiU.\n"
     ]
    }
   ],
   "source": [
    "sentences_100()"
   ]
  },
  {
   "cell_type": "markdown",
   "metadata": {},
   "source": [
    "#### 1.35"
   ]
  },
  {
   "cell_type": "code",
   "execution_count": 58,
   "metadata": {},
   "outputs": [],
   "source": [
    "from operator import mul\n",
    "from functools import reduce"
   ]
  },
  {
   "cell_type": "code",
   "execution_count": 59,
   "metadata": {},
   "outputs": [],
   "source": [
    "def birthday_paradox(n):\n",
    "    return 1 - reduce(mul, [(365 - i) / 365 for i in range(n)])"
   ]
  },
  {
   "cell_type": "code",
   "execution_count": 60,
   "metadata": {},
   "outputs": [
    {
     "data": {
      "text/plain": [
       "0.5072972343239857"
      ]
     },
     "execution_count": 60,
     "metadata": {},
     "output_type": "execute_result"
    }
   ],
   "source": [
    "birthday_paradox(23)"
   ]
  },
  {
   "cell_type": "code",
   "execution_count": 61,
   "metadata": {},
   "outputs": [
    {
     "name": "stdout",
     "output_type": "stream",
     "text": [
      "5 0.02713557369979347\n",
      "10 0.11694817771107768\n",
      "15 0.25290131976368646\n",
      "20 0.41143838358058027\n",
      "25 0.568699703969464\n",
      "30 0.7063162427192688\n",
      "35 0.8143832388747153\n",
      "40 0.891231809817949\n",
      "45 0.940975899465775\n",
      "50 0.9703735795779884\n",
      "55 0.9862622888164461\n",
      "60 0.994122660865348\n",
      "65 0.9976831073124921\n",
      "70 0.9991595759651571\n",
      "75 0.9997198781738114\n",
      "80 0.9999143319493135\n",
      "85 0.9999759973260097\n",
      "90 0.9999938483561236\n",
      "95 0.9999985601708488\n",
      "100 0.9999996927510721\n"
     ]
    }
   ],
   "source": [
    "for i in range(5, 105, 5):\n",
    "    print(i, birthday_paradox(i))"
   ]
  },
  {
   "cell_type": "markdown",
   "metadata": {},
   "source": [
    "#### 1.36"
   ]
  },
  {
   "cell_type": "code",
   "execution_count": 62,
   "metadata": {},
   "outputs": [],
   "source": [
    "from pprint import pprint"
   ]
  },
  {
   "cell_type": "code",
   "execution_count": 63,
   "metadata": {},
   "outputs": [],
   "source": [
    "def count_words():\n",
    "    line = input(\">>> \")\n",
    "    words = line.split()\n",
    "    unique_words = set([x for x in line.split(\" \") if x])\n",
    "    words_dict = dict(zip(unique_words, [0] * len(unique_words)))\n",
    "    for word in unique_words:\n",
    "        words_dict[word] = words.count(word)\n",
    "    pprint(sorted(words_dict.items(), key=lambda x: x[1], reverse=True))"
   ]
  },
  {
   "cell_type": "code",
   "execution_count": 64,
   "metadata": {},
   "outputs": [
    {
     "name": "stdout",
     "output_type": "stream",
     "text": [
      ">>> Productivity experts say that breakthroughs come by thinking “nonlinearly.”In this chapter, we discuss one of the most important nonlinear data structures in computing—trees. Tree structures are indeed a breakthrough in data organization, for they allow us to implement a host of algorithms much faster than when using linear data structures, such as array-based lists or linked lists. Trees also provide a natural organization for data, and consequently have become ubiquitous structures in file systems, graphical user interfaces, databases, Web sites, and other computer systems.\n",
      "[('structures', 3),\n",
      " ('data', 3),\n",
      " ('a', 3),\n",
      " ('in', 3),\n",
      " ('of', 2),\n",
      " ('for', 2),\n",
      " ('and', 2),\n",
      " ('are', 1),\n",
      " ('allow', 1),\n",
      " ('us', 1),\n",
      " ('also', 1),\n",
      " ('such', 1),\n",
      " ('breakthrough', 1),\n",
      " ('have', 1),\n",
      " ('come', 1),\n",
      " ('provide', 1),\n",
      " ('as', 1),\n",
      " ('ubiquitous', 1),\n",
      " ('say', 1),\n",
      " ('systems,', 1),\n",
      " ('lists', 1),\n",
      " ('faster', 1),\n",
      " ('natural', 1),\n",
      " ('breakthroughs', 1),\n",
      " ('by', 1),\n",
      " ('interfaces,', 1),\n",
      " ('discuss', 1),\n",
      " ('they', 1),\n",
      " ('structures,', 1),\n",
      " ('data,', 1),\n",
      " ('linear', 1),\n",
      " ('indeed', 1),\n",
      " ('chapter,', 1),\n",
      " ('we', 1),\n",
      " ('sites,', 1),\n",
      " ('organization', 1),\n",
      " ('file', 1),\n",
      " ('Productivity', 1),\n",
      " ('thinking', 1),\n",
      " ('array-based', 1),\n",
      " ('this', 1),\n",
      " ('Trees', 1),\n",
      " ('other', 1),\n",
      " ('systems.', 1),\n",
      " ('algorithms', 1),\n",
      " ('“nonlinearly.”In', 1),\n",
      " ('to', 1),\n",
      " ('Web', 1),\n",
      " ('implement', 1),\n",
      " ('become', 1),\n",
      " ('databases,', 1),\n",
      " ('that', 1),\n",
      " ('much', 1),\n",
      " ('linked', 1),\n",
      " ('the', 1),\n",
      " ('computing—trees.', 1),\n",
      " ('or', 1),\n",
      " ('than', 1),\n",
      " ('using', 1),\n",
      " ('experts', 1),\n",
      " ('host', 1),\n",
      " ('one', 1),\n",
      " ('lists.', 1),\n",
      " ('when', 1),\n",
      " ('most', 1),\n",
      " ('graphical', 1),\n",
      " ('computer', 1),\n",
      " ('organization,', 1),\n",
      " ('Tree', 1),\n",
      " ('important', 1),\n",
      " ('user', 1),\n",
      " ('nonlinear', 1),\n",
      " ('consequently', 1)]\n"
     ]
    }
   ],
   "source": [
    "count_words()"
   ]
  },
  {
   "cell_type": "markdown",
   "metadata": {},
   "source": [
    "### Test"
   ]
  },
  {
   "cell_type": "code",
   "execution_count": 65,
   "metadata": {},
   "outputs": [
    {
     "data": {
      "text/plain": [
       "TestResults(failed=0, attempted=30)"
      ]
     },
     "execution_count": 65,
     "metadata": {},
     "output_type": "execute_result"
    }
   ],
   "source": [
    "doctest.testmod()"
   ]
  },
  {
   "cell_type": "code",
   "execution_count": 66,
   "metadata": {},
   "outputs": [
    {
     "name": "stderr",
     "output_type": "stream",
     "text": [
      "\n",
      "----------------------------------------------------------------------\n",
      "Ran 0 tests in 0.000s\n",
      "\n",
      "OK\n"
     ]
    },
    {
     "data": {
      "text/plain": [
       "<unittest.main.TestProgram at 0x4e6e990>"
      ]
     },
     "execution_count": 66,
     "metadata": {},
     "output_type": "execute_result"
    }
   ],
   "source": [
    "unittest.main(argv=[\"\"], verbosity=2, exit=False)"
   ]
  }
 ],
 "metadata": {
  "kernelspec": {
   "display_name": "Python 3",
   "language": "python",
   "name": "python3"
  },
  "language_info": {
   "codemirror_mode": {
    "name": "ipython",
    "version": 3
   },
   "file_extension": ".py",
   "mimetype": "text/x-python",
   "name": "python",
   "nbconvert_exporter": "python",
   "pygments_lexer": "ipython3",
   "version": "3.6.2"
  }
 },
 "nbformat": 4,
 "nbformat_minor": 2
}
