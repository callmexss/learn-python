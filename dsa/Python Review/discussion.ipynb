{
 "cells": [
  {
   "cell_type": "markdown",
   "metadata": {},
   "source": [
    "# Discussion\n",
    "1. Construct a class hierarchy for people on a college campus. Include faculty, staff, and students. What do they have in common? What distinguishes them from one another?\n",
    "2. Construct a class hierarchy for bank accounts.\n",
    "3. Construct a class hierarchy for different types of computers.\n",
    "4. Using the classes provided in the chapter, interactively construct a circuit and test it."
   ]
  },
  {
   "cell_type": "markdown",
   "metadata": {},
   "source": [
    "## College Campus"
   ]
  },
  {
   "cell_type": "code",
   "execution_count": 1,
   "metadata": {
    "ExecuteTime": {
     "end_time": "2018-12-18T07:13:36.367647Z",
     "start_time": "2018-12-18T07:13:36.360995Z"
    }
   },
   "outputs": [],
   "source": [
    "class Person:\n",
    "    def __init__(self, name, age):\n",
    "        self.name = name\n",
    "        self.age = age"
   ]
  },
  {
   "cell_type": "code",
   "execution_count": 2,
   "metadata": {
    "ExecuteTime": {
     "end_time": "2018-12-18T07:16:23.977776Z",
     "start_time": "2018-12-18T07:16:23.971042Z"
    }
   },
   "outputs": [],
   "source": [
    "class Faculty(Person):\n",
    "    def __init__(self, name, age, department, jnumber):\n",
    "        Person.__init__(self, name, age)\n",
    "        \n",
    "        self.department = department\n",
    "        self.job_number = jnumber\n",
    "        "
   ]
  },
  {
   "cell_type": "code",
   "execution_count": 3,
   "metadata": {
    "ExecuteTime": {
     "end_time": "2018-12-18T07:18:20.443748Z",
     "start_time": "2018-12-18T07:18:20.438030Z"
    }
   },
   "outputs": [],
   "source": [
    "class Stuff(Person):\n",
    "    def __init__(self, name, age, department, jnumber, subject):\n",
    "        Person.__init__(self, name, age)\n",
    "        \n",
    "        self.department = department\n",
    "        self.job_number = jnumber\n",
    "        self.subject = subject"
   ]
  },
  {
   "cell_type": "code",
   "execution_count": 4,
   "metadata": {
    "ExecuteTime": {
     "end_time": "2018-12-18T07:19:54.372527Z",
     "start_time": "2018-12-18T07:19:54.366056Z"
    }
   },
   "outputs": [],
   "source": [
    "class Student(Person):\n",
    "    def __init__(self, name, age, department, snumber, cag):\n",
    "        Person.__init__(name, age)\n",
    "        \n",
    "        self.department = department\n",
    "        self.stu_number = snumber\n",
    "        self.class_and_grade = cag"
   ]
  },
  {
   "cell_type": "markdown",
   "metadata": {},
   "source": [
    "## Bank Accounts"
   ]
  },
  {
   "cell_type": "markdown",
   "metadata": {},
   "source": [
    "## Computers"
   ]
  },
  {
   "cell_type": "code",
   "execution_count": null,
   "metadata": {},
   "outputs": [],
   "source": []
  }
 ],
 "metadata": {
  "kernelspec": {
   "display_name": "Python 3",
   "language": "python",
   "name": "python3"
  },
  "language_info": {
   "codemirror_mode": {
    "name": "ipython",
    "version": 3
   },
   "file_extension": ".py",
   "mimetype": "text/x-python",
   "name": "python",
   "nbconvert_exporter": "python",
   "pygments_lexer": "ipython3",
   "version": "3.5.2"
  },
  "toc": {
   "base_numbering": 1,
   "nav_menu": {},
   "number_sections": true,
   "sideBar": true,
   "skip_h1_title": false,
   "title_cell": "Table of Contents",
   "title_sidebar": "Contents",
   "toc_cell": false,
   "toc_position": {},
   "toc_section_display": true,
   "toc_window_display": false
  }
 },
 "nbformat": 4,
 "nbformat_minor": 2
}
