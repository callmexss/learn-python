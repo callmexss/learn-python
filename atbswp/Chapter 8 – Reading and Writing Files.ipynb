{
 "cells": [
  {
   "cell_type": "markdown",
   "metadata": {},
   "source": [
    "## os"
   ]
  },
  {
   "cell_type": "code",
   "execution_count": 1,
   "metadata": {
    "ExecuteTime": {
     "end_time": "2018-12-11T07:45:24.193953Z",
     "start_time": "2018-12-11T07:45:24.189086Z"
    }
   },
   "outputs": [],
   "source": [
    "import os"
   ]
  },
  {
   "cell_type": "markdown",
   "metadata": {},
   "source": [
    "### The Current Working Directory"
   ]
  },
  {
   "cell_type": "code",
   "execution_count": 2,
   "metadata": {
    "ExecuteTime": {
     "end_time": "2018-12-11T07:45:24.222177Z",
     "start_time": "2018-12-11T07:45:24.200966Z"
    }
   },
   "outputs": [
    {
     "data": {
      "text/plain": [
       "'/home/xss/pycode/study/atbswp'"
      ]
     },
     "execution_count": 2,
     "metadata": {},
     "output_type": "execute_result"
    }
   ],
   "source": [
    "os.getcwd()"
   ]
  },
  {
   "cell_type": "code",
   "execution_count": 3,
   "metadata": {
    "ExecuteTime": {
     "end_time": "2018-12-11T07:45:24.236108Z",
     "start_time": "2018-12-11T07:45:24.227800Z"
    }
   },
   "outputs": [
    {
     "data": {
      "text/plain": [
       "['shelve_test',\n",
       " 'Question All In One.ipynb',\n",
       " 'Chapter 6 – Manipulating Strings.ipynb',\n",
       " 'Untitled.ipynb',\n",
       " 'Chapter 7 – Pattern Matching with Regular Expressions.ipynb',\n",
       " 'Pipfile',\n",
       " 'myCats.py',\n",
       " 'Pipfile.lock',\n",
       " '.ipynb_checkpoints',\n",
       " 'Chapter 5 – Dictionaries and Structuring Data.ipynb',\n",
       " 'ch8_project']"
      ]
     },
     "execution_count": 3,
     "metadata": {},
     "output_type": "execute_result"
    }
   ],
   "source": [
    "os.listdir()"
   ]
  },
  {
   "cell_type": "markdown",
   "metadata": {},
   "source": [
    "### Absolute vs. Relative Paths"
   ]
  },
  {
   "cell_type": "code",
   "execution_count": 4,
   "metadata": {
    "ExecuteTime": {
     "end_time": "2018-12-11T07:45:24.246942Z",
     "start_time": "2018-12-11T07:45:24.242044Z"
    }
   },
   "outputs": [],
   "source": [
    "pipfile = os.path.abspath('Pipfile')"
   ]
  },
  {
   "cell_type": "code",
   "execution_count": 5,
   "metadata": {
    "ExecuteTime": {
     "end_time": "2018-12-11T07:45:24.257526Z",
     "start_time": "2018-12-11T07:45:24.250380Z"
    }
   },
   "outputs": [
    {
     "data": {
      "text/plain": [
       "('/home/xss/pycode/study/atbswp', 'Pipfile')"
      ]
     },
     "execution_count": 5,
     "metadata": {},
     "output_type": "execute_result"
    }
   ],
   "source": [
    "os.path.split(pipfile)"
   ]
  },
  {
   "cell_type": "code",
   "execution_count": 6,
   "metadata": {
    "ExecuteTime": {
     "end_time": "2018-12-11T07:45:24.270441Z",
     "start_time": "2018-12-11T07:45:24.261824Z"
    }
   },
   "outputs": [
    {
     "data": {
      "text/plain": [
       "['', 'home', 'xss', 'pycode', 'study', 'atbswp', 'Pipfile']"
      ]
     },
     "execution_count": 6,
     "metadata": {},
     "output_type": "execute_result"
    }
   ],
   "source": [
    "pipfile.split(os.path.sep)"
   ]
  },
  {
   "cell_type": "markdown",
   "metadata": {},
   "source": [
    "### Finding File Sizes and Folder Contents"
   ]
  },
  {
   "cell_type": "code",
   "execution_count": 7,
   "metadata": {
    "ExecuteTime": {
     "end_time": "2018-12-11T07:45:24.286061Z",
     "start_time": "2018-12-11T07:45:24.278433Z"
    }
   },
   "outputs": [
    {
     "data": {
      "text/plain": [
       "[12376, 4632, 7042, 27028, 25045, 236, 83, 23494, 4096, 9782, 4096]"
      ]
     },
     "execution_count": 7,
     "metadata": {},
     "output_type": "execute_result"
    }
   ],
   "source": [
    "[os.path.getsize(file,) for file in os.listdir()]"
   ]
  },
  {
   "cell_type": "code",
   "execution_count": 8,
   "metadata": {
    "ExecuteTime": {
     "end_time": "2018-12-11T07:45:24.316325Z",
     "start_time": "2018-12-11T07:45:24.294058Z"
    }
   },
   "outputs": [
    {
     "data": {
      "text/plain": [
       "os.stat_result(st_mode=33188, st_ino=1986459, st_dev=64769, st_nlink=1, st_uid=0, st_gid=0, st_size=236, st_atime=1544411655, st_mtime=1544282147, st_ctime=1544282147)"
      ]
     },
     "execution_count": 8,
     "metadata": {},
     "output_type": "execute_result"
    }
   ],
   "source": [
    "os.stat('Pipfile')"
   ]
  },
  {
   "cell_type": "markdown",
   "metadata": {},
   "source": [
    "## The File Reading/Writing Process"
   ]
  },
  {
   "cell_type": "markdown",
   "metadata": {},
   "source": [
    "### Basic Reading & Writing"
   ]
  },
  {
   "cell_type": "markdown",
   "metadata": {
    "ExecuteTime": {
     "end_time": "2018-12-11T03:02:09.927619Z",
     "start_time": "2018-12-11T03:02:09.924828Z"
    }
   },
   "source": [
    "### Saving Variables with the shelve Module"
   ]
  },
  {
   "cell_type": "code",
   "execution_count": 9,
   "metadata": {
    "ExecuteTime": {
     "end_time": "2018-12-11T07:45:24.325753Z",
     "start_time": "2018-12-11T07:45:24.320127Z"
    }
   },
   "outputs": [],
   "source": [
    "import shelve"
   ]
  },
  {
   "cell_type": "code",
   "execution_count": 10,
   "metadata": {
    "ExecuteTime": {
     "end_time": "2018-12-11T07:45:24.367941Z",
     "start_time": "2018-12-11T07:45:24.330450Z"
    }
   },
   "outputs": [],
   "source": [
    "cats = ['Zophie', 'Pooka', 'Simon']\n",
    "fruits = ['apple', 'orange']\n",
    "with shelve.open('shelve_test') as f:\n",
    "    f['cats'] = cats\n",
    "    f['fruits'] = fruits"
   ]
  },
  {
   "cell_type": "code",
   "execution_count": 11,
   "metadata": {
    "ExecuteTime": {
     "end_time": "2018-12-11T07:45:24.384438Z",
     "start_time": "2018-12-11T07:45:24.373514Z"
    }
   },
   "outputs": [
    {
     "name": "stdout",
     "output_type": "stream",
     "text": [
      "['_MutableMapping__marker', '__abstractmethods__', '__class__', '__contains__', '__del__', '__delattr__', '__delitem__', '__dict__', '__dir__', '__doc__', '__enter__', '__eq__', '__exit__', '__format__', '__ge__', '__getattribute__', '__getitem__', '__gt__', '__hash__', '__init__', '__iter__', '__le__', '__len__', '__lt__', '__module__', '__ne__', '__new__', '__reduce__', '__reduce_ex__', '__repr__', '__setattr__', '__setitem__', '__sizeof__', '__slots__', '__str__', '__subclasshook__', '__weakref__', '_abc_cache', '_abc_negative_cache', '_abc_negative_cache_version', '_abc_registry', '_protocol', 'cache', 'clear', 'close', 'dict', 'get', 'items', 'keyencoding', 'keys', 'pop', 'popitem', 'setdefault', 'sync', 'update', 'values', 'writeback']\n"
     ]
    }
   ],
   "source": [
    "with shelve.open('shelve_test') as f:\n",
    "    print(dir(f))\n",
    "    cats_from_file = f['cats']\n",
    "    fruits_from_file = f['fruits']"
   ]
  },
  {
   "cell_type": "code",
   "execution_count": 12,
   "metadata": {
    "ExecuteTime": {
     "end_time": "2018-12-11T07:45:24.393575Z",
     "start_time": "2018-12-11T07:45:24.387732Z"
    }
   },
   "outputs": [
    {
     "data": {
      "text/plain": [
       "['Zophie', 'Pooka', 'Simon']"
      ]
     },
     "execution_count": 12,
     "metadata": {},
     "output_type": "execute_result"
    }
   ],
   "source": [
    "cats_from_file"
   ]
  },
  {
   "cell_type": "code",
   "execution_count": 13,
   "metadata": {
    "ExecuteTime": {
     "end_time": "2018-12-11T07:45:24.404475Z",
     "start_time": "2018-12-11T07:45:24.396826Z"
    }
   },
   "outputs": [
    {
     "data": {
      "text/plain": [
       "['apple', 'orange']"
      ]
     },
     "execution_count": 13,
     "metadata": {},
     "output_type": "execute_result"
    }
   ],
   "source": [
    "fruits"
   ]
  },
  {
   "cell_type": "markdown",
   "metadata": {},
   "source": [
    "### Saving Variables with the pprint.pformat() Function"
   ]
  },
  {
   "cell_type": "code",
   "execution_count": 14,
   "metadata": {
    "ExecuteTime": {
     "end_time": "2018-12-11T07:45:24.410201Z",
     "start_time": "2018-12-11T07:45:24.406493Z"
    }
   },
   "outputs": [],
   "source": [
    "import pprint"
   ]
  },
  {
   "cell_type": "code",
   "execution_count": 15,
   "metadata": {
    "ExecuteTime": {
     "end_time": "2018-12-11T07:45:24.424100Z",
     "start_time": "2018-12-11T07:45:24.412129Z"
    }
   },
   "outputs": [],
   "source": [
    "cats = [{'name': 'Zophie', 'desc': 'chubby'}, {'name': 'Pooka', 'desc': 'fluffy'}]"
   ]
  },
  {
   "cell_type": "code",
   "execution_count": 16,
   "metadata": {
    "ExecuteTime": {
     "end_time": "2018-12-11T07:45:24.447328Z",
     "start_time": "2018-12-11T07:45:24.426307Z"
    }
   },
   "outputs": [
    {
     "data": {
      "text/plain": [
       "\"[{'desc': 'chubby', 'name': 'Zophie'}, {'desc': 'fluffy', 'name': 'Pooka'}]\""
      ]
     },
     "execution_count": 16,
     "metadata": {},
     "output_type": "execute_result"
    }
   ],
   "source": [
    "pprint.pformat(cats)"
   ]
  },
  {
   "cell_type": "code",
   "execution_count": 17,
   "metadata": {
    "ExecuteTime": {
     "end_time": "2018-12-11T07:45:24.455599Z",
     "start_time": "2018-12-11T07:45:24.449460Z"
    }
   },
   "outputs": [],
   "source": [
    "with open('myCats.py', 'w') as f:\n",
    "    f.write('cats = ' + pprint.pformat(cats) + '\\n')"
   ]
  },
  {
   "cell_type": "code",
   "execution_count": 18,
   "metadata": {
    "ExecuteTime": {
     "end_time": "2018-12-11T07:45:24.465127Z",
     "start_time": "2018-12-11T07:45:24.458249Z"
    }
   },
   "outputs": [],
   "source": [
    "import myCats"
   ]
  },
  {
   "cell_type": "code",
   "execution_count": 19,
   "metadata": {
    "ExecuteTime": {
     "end_time": "2018-12-11T07:45:24.479092Z",
     "start_time": "2018-12-11T07:45:24.467310Z"
    }
   },
   "outputs": [
    {
     "data": {
      "text/plain": [
       "[{'desc': 'chubby', 'name': 'Zophie'}, {'desc': 'fluffy', 'name': 'Pooka'}]"
      ]
     },
     "execution_count": 19,
     "metadata": {},
     "output_type": "execute_result"
    }
   ],
   "source": [
    "myCats.cats"
   ]
  },
  {
   "cell_type": "markdown",
   "metadata": {
    "ExecuteTime": {
     "end_time": "2018-12-11T03:16:22.017288Z",
     "start_time": "2018-12-11T03:16:22.013955Z"
    }
   },
   "source": [
    "## Project: Generating Random Quiz Files"
   ]
  },
  {
   "cell_type": "code",
   "execution_count": 20,
   "metadata": {
    "ExecuteTime": {
     "end_time": "2018-12-11T07:45:24.493089Z",
     "start_time": "2018-12-11T07:45:24.481294Z"
    }
   },
   "outputs": [],
   "source": [
    "capitals = {'Alabama': 'Montgomery', 'Alaska': 'Juneau', 'Arizona': 'Phoenix',\n",
    "   'Arkansas': 'Little Rock', 'California': 'Sacramento', 'Colorado': 'Denver',\n",
    "   'Connecticut': 'Hartford', 'Delaware': 'Dover', 'Florida': 'Tallahassee',\n",
    "   'Georgia': 'Atlanta', 'Hawaii': 'Honolulu', 'Idaho': 'Boise', 'Illinois':\n",
    "   'Springfield', 'Indiana': 'Indianapolis', 'Iowa': 'Des Moines', 'Kansas':\n",
    "   'Topeka', 'Kentucky': 'Frankfort', 'Louisiana': 'Baton Rouge', 'Maine':\n",
    "   'Augusta', 'Maryland': 'Annapolis', 'Massachusetts': 'Boston', 'Michigan':\n",
    "   'Lansing', 'Minnesota': 'Saint Paul', 'Mississippi': 'Jackson', 'Missouri':\n",
    "   'Jefferson City', 'Montana': 'Helena', 'Nebraska': 'Lincoln', 'Nevada':\n",
    "   'Carson City', 'New Hampshire': 'Concord', 'New Jersey': 'Trenton', 'New '\n",
    "   'Mexico': 'Santa Fe', 'New York': 'Albany', 'North Carolina': 'Raleigh',\n",
    "   'North Dakota': 'Bismarck', 'Ohio': 'Columbus', 'Oklahoma': 'Oklahoma City',\n",
    "   'Oregon': 'Salem', 'Pennsylvania': 'Harrisburg', 'Rhode Island': 'Providence',\n",
    "   'South Carolina': 'Columbia', 'South Dakota': 'Pierre', 'Tennessee':\n",
    "   'Nashville', 'Texas': 'Austin', 'Utah': 'Salt Lake City', 'Vermont':\n",
    "   'Montpelier', 'Virginia': 'Richmond', 'Washington': 'Olympia', 'West '\n",
    "   'Virginia': 'Charleston', 'Wisconsin': 'Madison', 'Wyoming': 'Cheyenne'}"
   ]
  },
  {
   "cell_type": "code",
   "execution_count": 21,
   "metadata": {
    "ExecuteTime": {
     "end_time": "2018-12-11T07:45:24.508719Z",
     "start_time": "2018-12-11T07:45:24.498014Z"
    }
   },
   "outputs": [],
   "source": [
    "import random"
   ]
  },
  {
   "cell_type": "markdown",
   "metadata": {},
   "source": [
    "### My Version"
   ]
  },
  {
   "cell_type": "code",
   "execution_count": 22,
   "metadata": {
    "ExecuteTime": {
     "end_time": "2018-12-11T07:45:24.527043Z",
     "start_time": "2018-12-11T07:45:24.512038Z"
    }
   },
   "outputs": [],
   "source": [
    "class QuizGenerator(object):\n",
    "    def __init__(self, capitals):\n",
    "        self.quiz_path = 'ch8_project'\n",
    "        self.quiz_num = 35\n",
    "        self.question_num = 50\n",
    "        self.capitals = capitals\n",
    "\n",
    "    def _check_quiz_path(self):\n",
    "        if not os.path.isdir(self.quiz_path):\n",
    "            os.mkdir(self.quiz_path)\n",
    "\n",
    "    def generate_quizs(self):\n",
    "        self._check_quiz_path()\n",
    "        for num in range(self.quiz_num):\n",
    "            quiz_path = os.path.join(self.quiz_path, 'capitalsquiz{}.txt'.format(num + 1))\n",
    "            ans_path = os.path.join(self.quiz_path,  'capitalsquiz_answers{}.txt'.format(num + 1))\n",
    "            with open(quiz_path, 'w') as f1, open(ans_path, 'w') as f2:\n",
    "                f1.write('Name:\\n\\nDate:\\n\\nPeriod:\\n\\n')\n",
    "                f1.write((' ' * 20) + 'State Capitals Quiz (Form {})'.format(num + 1))\n",
    "                f1.write('\\n\\n')\n",
    "                \n",
    "                states = list(self.capitals.keys())\n",
    "                random.shuffle(states)\n",
    "                \n",
    "                for i in range(self.question_num):\n",
    "                    state = states[i]\n",
    "                    captical = self.capitals[state]\n",
    "                    f1.write('{}. Which is the capital of {}?\\n'.format(i + 1, state))\n",
    "                    choice_labels = ['A', 'B', 'C', 'D']\n",
    "                    random.shuffle(choice_labels)\n",
    "                    choice_contents = [captical]\n",
    "                    while len(choice_contents) != 4:\n",
    "                        random_captical = self.capitals[states[random.randint(0, len(states) - 1)]]\n",
    "                        if  random_captical != captical:\n",
    "                            choice_contents.append(random_captical)\n",
    "                    \n",
    "                    # print(choice_labels[0], captical)\n",
    "                    \n",
    "                    sorted_choice = sorted(list(zip(choice_labels, choice_contents)), key=lambda x: x[0])\n",
    "                    for label, content in sorted_choice:\n",
    "                        f1.write('{}. {}\\n'.format(label, content))\n",
    "                    f1.write('\\n')\n",
    "                    f2.write('{}. {}: {}\\n'.format(i + 1, choice_labels[0], captical))\n",
    "                    # print(choice_labels[0], captical)\n",
    "             "
   ]
  },
  {
   "cell_type": "code",
   "execution_count": 23,
   "metadata": {
    "ExecuteTime": {
     "end_time": "2018-12-11T07:45:24.585431Z",
     "start_time": "2018-12-11T07:45:24.531736Z"
    }
   },
   "outputs": [],
   "source": [
    "quizer = QuizGenerator(capitals)\n",
    "quizer.generate_quizs()"
   ]
  },
  {
   "cell_type": "code",
   "execution_count": 24,
   "metadata": {
    "ExecuteTime": {
     "end_time": "2018-12-11T07:45:24.599304Z",
     "start_time": "2018-12-11T07:45:24.591723Z"
    }
   },
   "outputs": [
    {
     "data": {
      "text/plain": [
       "[('D', 1), ('B', 2), ('C', 3), ('A', 4)]"
      ]
     },
     "execution_count": 24,
     "metadata": {},
     "output_type": "execute_result"
    }
   ],
   "source": [
    "li = ['A', 'B', 'C', 'D']\n",
    "li2 = [1, 2, 3, 4]\n",
    "random.shuffle(li)\n",
    "list(zip(li, li2))"
   ]
  },
  {
   "cell_type": "markdown",
   "metadata": {
    "ExecuteTime": {
     "end_time": "2018-12-11T04:12:14.817839Z",
     "start_time": "2018-12-11T04:12:14.814022Z"
    }
   },
   "source": [
    "### Modify One"
   ]
  },
  {
   "cell_type": "code",
   "execution_count": 25,
   "metadata": {
    "ExecuteTime": {
     "end_time": "2018-12-11T07:45:24.617220Z",
     "start_time": "2018-12-11T07:45:24.603923Z"
    }
   },
   "outputs": [],
   "source": [
    "class QuizGenerator(object):\n",
    "    def __init__(self, capitals):\n",
    "        self.quiz_path = 'ch8_project'\n",
    "        self.quiz_num = 35\n",
    "        self.question_num = 50\n",
    "        self.capitals = capitals\n",
    "\n",
    "    def _check_quiz_path(self):\n",
    "        if not os.path.isdir(self.quiz_path):\n",
    "            os.mkdir(self.quiz_path)\n",
    "\n",
    "    def generate_quizs(self):\n",
    "        self._check_quiz_path()\n",
    "        for num in range(self.quiz_num):\n",
    "            quiz_path = os.path.join(self.quiz_path, 'capitalsquiz{}.txt'.format(num + 1))\n",
    "            ans_path = os.path.join(self.quiz_path,  'capitalsquiz_answers{}.txt'.format(num + 1))\n",
    "            with open(quiz_path, 'w') as f1, open(ans_path, 'w') as f2:\n",
    "                f1.write('Name:\\n\\nDate:\\n\\nPeriod:\\n\\n')\n",
    "                f1.write((' ' * 20) + 'State Capitals Quiz (Form {})'.format(num + 1))\n",
    "                f1.write('\\n\\n')\n",
    "                \n",
    "                states = list(self.capitals.keys())\n",
    "                random.shuffle(states)\n",
    "                \n",
    "                for i in range(self.question_num):\n",
    "                    state = states[i]\n",
    "                    correct_answer = self.capitals[state]\n",
    "                    f1.write('{}. Which is the capital of {}?\\n'.format(i + 1, state))\n",
    "                    \n",
    "                    '''Below is better.\n",
    "                    while len(choice_contents) != 4:\n",
    "                        random_captical = self.capitals[states[random.randint(0, len(states) - 1)]]\n",
    "                        if  random_captical != captical:\n",
    "                            choice_contents.append(random_captical)\n",
    "                    '''\n",
    "                    wrong_answers = list(self.capitals.values())\n",
    "                    del wrong_answers[wrong_answers.index(correct_answer)]\n",
    "                    wrong_answers = random.sample(wrong_answers, 3)\n",
    "                    answer_options = wrong_answers + [correct_answer]\n",
    "                    random.shuffle(answer_options)\n",
    "                    # print(choice_labels[0], captical)\n",
    "                    \n",
    "                    for j in range(4):\n",
    "                        f1.write('\\t{}. {}\\n'.format('ABCD'[j], answer_options[j]))\n",
    "                    f1.write('\\n')\n",
    "                    f2.write('{}. {}: {}\\n'.format(i + 1, 'ABCD'[answer_options.index(correct_answer)], correct_answer))\n",
    "                    # print(choice_labels[0], captical)"
   ]
  },
  {
   "cell_type": "code",
   "execution_count": 26,
   "metadata": {
    "ExecuteTime": {
     "end_time": "2018-12-11T07:45:24.679831Z",
     "start_time": "2018-12-11T07:45:24.622776Z"
    }
   },
   "outputs": [],
   "source": [
    "quizer = QuizGenerator(capitals)\n",
    "quizer.generate_quizs()"
   ]
  },
  {
   "cell_type": "markdown",
   "metadata": {},
   "source": [
    "### 整理"
   ]
  },
  {
   "cell_type": "markdown",
   "metadata": {},
   "source": [
    "#### random.shuffle"
   ]
  },
  {
   "cell_type": "code",
   "execution_count": 27,
   "metadata": {
    "ExecuteTime": {
     "end_time": "2018-12-11T07:45:24.693146Z",
     "start_time": "2018-12-11T07:45:24.685544Z"
    }
   },
   "outputs": [
    {
     "name": "stdout",
     "output_type": "stream",
     "text": [
      "Help on method shuffle in module random:\n",
      "\n",
      "shuffle(x, random=None) method of random.Random instance\n",
      "    Shuffle list x in place, and return None.\n",
      "    \n",
      "    Optional argument random is a 0-argument function returning a\n",
      "    random float in [0.0, 1.0); if it is the default None, the\n",
      "    standard random.random will be used.\n",
      "\n"
     ]
    }
   ],
   "source": [
    "help(random.shuffle)"
   ]
  },
  {
   "cell_type": "code",
   "execution_count": 28,
   "metadata": {
    "ExecuteTime": {
     "end_time": "2018-12-11T07:45:24.706027Z",
     "start_time": "2018-12-11T07:45:24.698040Z"
    }
   },
   "outputs": [
    {
     "name": "stdout",
     "output_type": "stream",
     "text": [
      "[3, 4, 2, 1]\n",
      "[1, 3, 2, 4]\n",
      "[1, 4, 3, 2]\n",
      "[2, 4, 1, 3]\n"
     ]
    }
   ],
   "source": [
    "li = [1, 2, 3, 4]\n",
    "for i in range(4):\n",
    "    random.shuffle(li)\n",
    "    print(li)"
   ]
  },
  {
   "cell_type": "markdown",
   "metadata": {},
   "source": [
    "#### random.sample()"
   ]
  },
  {
   "cell_type": "code",
   "execution_count": 29,
   "metadata": {
    "ExecuteTime": {
     "end_time": "2018-12-11T07:45:24.723930Z",
     "start_time": "2018-12-11T07:45:24.709264Z"
    }
   },
   "outputs": [
    {
     "name": "stdout",
     "output_type": "stream",
     "text": [
      "Help on method sample in module random:\n",
      "\n",
      "sample(population, k) method of random.Random instance\n",
      "    Chooses k unique random elements from a population sequence or set.\n",
      "    \n",
      "    Returns a new list containing elements from the population while\n",
      "    leaving the original population unchanged.  The resulting list is\n",
      "    in selection order so that all sub-slices will also be valid random\n",
      "    samples.  This allows raffle winners (the sample) to be partitioned\n",
      "    into grand prize and second place winners (the subslices).\n",
      "    \n",
      "    Members of the population need not be hashable or unique.  If the\n",
      "    population contains repeats, then each occurrence is a possible\n",
      "    selection in the sample.\n",
      "    \n",
      "    To choose a sample in a range of integers, use range as an argument.\n",
      "    This is especially fast and space efficient for sampling from a\n",
      "    large population:   sample(range(10000000), 60)\n",
      "\n"
     ]
    }
   ],
   "source": [
    "help(random.sample)"
   ]
  },
  {
   "cell_type": "code",
   "execution_count": 30,
   "metadata": {
    "ExecuteTime": {
     "end_time": "2018-12-11T07:45:24.735034Z",
     "start_time": "2018-12-11T07:45:24.726324Z"
    }
   },
   "outputs": [
    {
     "name": "stdout",
     "output_type": "stream",
     "text": [
      "[84, 32, 33, 99, 43]\n",
      "[84, 76, 27, 81, 87]\n",
      "[88, 19, 98, 90, 45]\n",
      "[35, 16, 20, 7, 56]\n"
     ]
    }
   ],
   "source": [
    "li = [x for x in range(100)]\n",
    "for i in range(4):\n",
    "    sample = random.sample(li, 5)\n",
    "    print(sample)"
   ]
  },
  {
   "cell_type": "markdown",
   "metadata": {},
   "source": [
    "## Practice Projects: Mad Libs"
   ]
  },
  {
   "cell_type": "code",
   "execution_count": 31,
   "metadata": {
    "ExecuteTime": {
     "end_time": "2018-12-11T07:45:24.743722Z",
     "start_time": "2018-12-11T07:45:24.738393Z"
    }
   },
   "outputs": [],
   "source": [
    "import re"
   ]
  },
  {
   "cell_type": "code",
   "execution_count": 32,
   "metadata": {
    "ExecuteTime": {
     "end_time": "2018-12-11T07:45:24.751243Z",
     "start_time": "2018-12-11T07:45:24.746104Z"
    }
   },
   "outputs": [],
   "source": [
    "s = '''The ADJECTIVE panda walked to the NOUN and then VERB. A nearby NOUN was\n",
    "unaffected by these events.'''"
   ]
  },
  {
   "cell_type": "code",
   "execution_count": 33,
   "metadata": {
    "ExecuteTime": {
     "end_time": "2018-12-11T07:45:24.760886Z",
     "start_time": "2018-12-11T07:45:24.753251Z"
    }
   },
   "outputs": [],
   "source": [
    "def mad_libs(s):\n",
    "    words = {}\n",
    "    p = re.compile(r'[A-Z]{2,}')\n",
    "    matches = p.findall(s)\n",
    "    for match in matches:\n",
    "        word = input(\"Enter a {} \".format(match.lower()))\n",
    "        s = s.replace(match, word, 1)\n",
    "    return s"
   ]
  },
  {
   "cell_type": "code",
   "execution_count": 34,
   "metadata": {
    "ExecuteTime": {
     "end_time": "2018-12-11T07:46:01.556287Z",
     "start_time": "2018-12-11T07:45:24.763062Z"
    }
   },
   "outputs": [
    {
     "name": "stdout",
     "output_type": "stream",
     "text": [
      "Enter a adjective silly\n",
      "Enter a noun chandelier\n",
      "Enter a verb screamed\n",
      "Enter a noun pickup truck\n",
      "The silly panda walked to the chandelier and then screamed. A nearby pickup truck was\n",
      "unaffected by these events.\n"
     ]
    }
   ],
   "source": [
    "new_s = mad_libs(s)\n",
    "print(new_s)"
   ]
  },
  {
   "cell_type": "code",
   "execution_count": 35,
   "metadata": {
    "ExecuteTime": {
     "end_time": "2018-12-11T07:46:01.566655Z",
     "start_time": "2018-12-11T07:46:01.560733Z"
    }
   },
   "outputs": [
    {
     "name": "stdout",
     "output_type": "stream",
     "text": [
      "Help on method_descriptor:\n",
      "\n",
      "replace(...)\n",
      "    S.replace(old, new[, count]) -> str\n",
      "    \n",
      "    Return a copy of S with all occurrences of substring\n",
      "    old replaced by new.  If the optional argument count is\n",
      "    given, only the first count occurrences are replaced.\n",
      "\n"
     ]
    }
   ],
   "source": [
    "help(str.replace)"
   ]
  }
 ],
 "metadata": {
  "kernelspec": {
   "display_name": "Python 3",
   "language": "python",
   "name": "python3"
  },
  "language_info": {
   "codemirror_mode": {
    "name": "ipython",
    "version": 3
   },
   "file_extension": ".py",
   "mimetype": "text/x-python",
   "name": "python",
   "nbconvert_exporter": "python",
   "pygments_lexer": "ipython3",
   "version": "3.5.2"
  },
  "toc": {
   "base_numbering": 1,
   "nav_menu": {},
   "number_sections": true,
   "sideBar": true,
   "skip_h1_title": false,
   "title_cell": "Table of Contents",
   "title_sidebar": "Contents",
   "toc_cell": false,
   "toc_position": {},
   "toc_section_display": true,
   "toc_window_display": true
  }
 },
 "nbformat": 4,
 "nbformat_minor": 2
}
