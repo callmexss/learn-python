{
 "cells": [
  {
   "cell_type": "code",
   "execution_count": 139,
   "metadata": {
    "ExecuteTime": {
     "end_time": "2019-08-06T07:22:06.849391Z",
     "start_time": "2019-08-06T07:22:06.843135Z"
    }
   },
   "outputs": [],
   "source": [
    "import random\n",
    "import requests\n",
    "\n",
    "from collections import Iterable\n",
    "from collections import Iterator\n",
    "from itertools import islice\n",
    "from itertools import chain"
   ]
  },
  {
   "cell_type": "markdown",
   "metadata": {},
   "source": [
    "## 迭代器与可迭代对象"
   ]
  },
  {
   "cell_type": "markdown",
   "metadata": {},
   "source": [
    "实现了迭代器协议的就是可迭代对象。"
   ]
  },
  {
   "cell_type": "code",
   "execution_count": 2,
   "metadata": {
    "ExecuteTime": {
     "end_time": "2019-08-06T03:41:24.428210Z",
     "start_time": "2019-08-06T03:41:24.421204Z"
    }
   },
   "outputs": [
    {
     "name": "stdout",
     "output_type": "stream",
     "text": [
      "Implement iter(self).\n",
      "1\n",
      "2\n"
     ]
    }
   ],
   "source": [
    "li = [1, 2, 3]\n",
    "print(li.__iter__.__doc__)  # iterable\n",
    "it = li.__iter__()\n",
    "print(next(it))\n",
    "it2 = iter(it)\n",
    "print(next(it2))"
   ]
  },
  {
   "cell_type": "code",
   "execution_count": 3,
   "metadata": {
    "ExecuteTime": {
     "end_time": "2019-08-06T03:41:24.440080Z",
     "start_time": "2019-08-06T03:41:24.433723Z"
    }
   },
   "outputs": [
    {
     "name": "stdout",
     "output_type": "stream",
     "text": [
      "Return self[key].\n",
      "c\n"
     ]
    }
   ],
   "source": [
    "s = \"\"\n",
    "print(s.__getitem__.__doc__)  # iterable\n",
    "s = \"abcd\"\n",
    "print(s.__getitem__(2))"
   ]
  },
  {
   "cell_type": "markdown",
   "metadata": {
    "ExecuteTime": {
     "end_time": "2019-08-06T03:04:11.347955Z",
     "start_time": "2019-08-06T03:04:11.345251Z"
    }
   },
   "source": [
    "## 用户定义的迭代器和可迭代对象"
   ]
  },
  {
   "cell_type": "code",
   "execution_count": 4,
   "metadata": {
    "ExecuteTime": {
     "end_time": "2019-08-06T03:41:24.453133Z",
     "start_time": "2019-08-06T03:41:24.444274Z"
    }
   },
   "outputs": [],
   "source": [
    "class WeatherIterator(Iterator):\n",
    "    \"\"\"Can be used in next method\"\"\"\n",
    "    def __init__(self, cities):\n",
    "        self.cities = cities\n",
    "        self.index = 0\n",
    "        \n",
    "    def __next__(self):\n",
    "        if self.index == len(self.cities):\n",
    "            raise StopIteration\n",
    "        city = cities[self.index]\n",
    "        self.index += 1\n",
    "        return self.__weather(city)\n",
    "        \n",
    "    def __weather(self, city):\n",
    "        r = requests.get(\"http://wthrcdn.etouch.cn/weather_mini?city={}\".format(city))\n",
    "        try:\n",
    "            data = r.json()['data']['forecast'][0]\n",
    "            return \"{}: {}, {}\".format(city, data['low'], data['high'])\n",
    "        except TypeError or IndexError:\n",
    "            return \"\"\n"
   ]
  },
  {
   "cell_type": "code",
   "execution_count": 6,
   "metadata": {
    "ExecuteTime": {
     "end_time": "2019-08-06T03:41:40.408129Z",
     "start_time": "2019-08-06T03:41:40.142413Z"
    }
   },
   "outputs": [
    {
     "name": "stdout",
     "output_type": "stream",
     "text": [
      "['阿勒泰: 低温 17℃, 高温 32℃', '西安: 低温 21℃, 高温 26℃', '成都: 低温 21℃, 高温 26℃', '杭州: 低温 26℃, 高温 35℃']\n",
      "\n"
     ]
    }
   ],
   "source": [
    "cities = [\"阿勒泰\", \"西安\", \"成都\", \"杭州\"]\n",
    "wi = WeatherIterator(cities)\n",
    "print(list(wi))\n",
    "print()\n",
    "for each in iter(wi):\n",
    "    print(each)"
   ]
  },
  {
   "cell_type": "code",
   "execution_count": 7,
   "metadata": {
    "ExecuteTime": {
     "end_time": "2019-08-06T03:41:41.851783Z",
     "start_time": "2019-08-06T03:41:41.845652Z"
    }
   },
   "outputs": [],
   "source": [
    "class WeatherIterable(Iterable):\n",
    "    \"\"\"Return a Iterator.\"\"\"\n",
    "    def __init__(self, cities):\n",
    "        self.cities = cities\n",
    "        \n",
    "    def __iter__(self):\n",
    "        return WeatherIterator(self.cities)"
   ]
  },
  {
   "cell_type": "code",
   "execution_count": 8,
   "metadata": {
    "ExecuteTime": {
     "end_time": "2019-08-06T03:41:42.699313Z",
     "start_time": "2019-08-06T03:41:42.415040Z"
    }
   },
   "outputs": [
    {
     "name": "stdout",
     "output_type": "stream",
     "text": [
      "阿勒泰: 低温 17℃, 高温 32℃\n",
      "西安: 低温 21℃, 高温 26℃\n",
      "成都: 低温 21℃, 高温 26℃\n",
      "杭州: 低温 26℃, 高温 35℃\n"
     ]
    }
   ],
   "source": [
    "for x in WeatherIterable(cities):\n",
    "    print(x)"
   ]
  },
  {
   "cell_type": "markdown",
   "metadata": {},
   "source": [
    "## 使用生成器函数生成可迭代对象"
   ]
  },
  {
   "cell_type": "code",
   "execution_count": 72,
   "metadata": {
    "ExecuteTime": {
     "end_time": "2019-08-06T04:09:03.248461Z",
     "start_time": "2019-08-06T04:09:03.239797Z"
    }
   },
   "outputs": [],
   "source": [
    "class PrimeNumbers:\n",
    "    def __init__(self, start, end):\n",
    "        self.start = start\n",
    "        self.end = end\n",
    "        self.cur = start\n",
    "        \n",
    "    @staticmethod\n",
    "    def is_prime(num):\n",
    "        if num < 2:\n",
    "            return False\n",
    "        \n",
    "        for i in range(2, num):\n",
    "            if num % i == 0:\n",
    "                return False\n",
    "        \n",
    "        return True\n",
    "    \n",
    "    def __iter__(self):\n",
    "        return self\n",
    "    \n",
    "    def __next__(self):\n",
    "        while not self.is_prime(self.cur):\n",
    "            self.cur += 1\n",
    "            \n",
    "        if self.cur >= self.end + 1:\n",
    "            raise StopIteration\n",
    "        \n",
    "        ret = self.cur\n",
    "        self.cur += 1\n",
    "        \n",
    "        return ret"
   ]
  },
  {
   "cell_type": "code",
   "execution_count": 73,
   "metadata": {
    "ExecuteTime": {
     "end_time": "2019-08-06T04:09:03.600577Z",
     "start_time": "2019-08-06T04:09:03.593522Z"
    }
   },
   "outputs": [
    {
     "data": {
      "text/plain": [
       "True"
      ]
     },
     "execution_count": 73,
     "metadata": {},
     "output_type": "execute_result"
    }
   ],
   "source": [
    "PrimeNumbers(1, 20).is_prime(11)"
   ]
  },
  {
   "cell_type": "code",
   "execution_count": 79,
   "metadata": {
    "ExecuteTime": {
     "end_time": "2019-08-06T04:09:24.018515Z",
     "start_time": "2019-08-06T04:09:24.015516Z"
    }
   },
   "outputs": [],
   "source": [
    "p = PrimeNumbers(1, 20)"
   ]
  },
  {
   "cell_type": "code",
   "execution_count": 80,
   "metadata": {
    "ExecuteTime": {
     "end_time": "2019-08-06T04:09:25.518526Z",
     "start_time": "2019-08-06T04:09:25.511557Z"
    }
   },
   "outputs": [
    {
     "data": {
      "text/plain": [
       "[2, 3, 5, 7, 11, 13, 17, 19]"
      ]
     },
     "execution_count": 80,
     "metadata": {},
     "output_type": "execute_result"
    }
   ],
   "source": [
    "list(p)"
   ]
  },
  {
   "cell_type": "code",
   "execution_count": 93,
   "metadata": {
    "ExecuteTime": {
     "end_time": "2019-08-06T06:53:26.340305Z",
     "start_time": "2019-08-06T06:53:26.335157Z"
    }
   },
   "outputs": [],
   "source": [
    "def prime_numbers(n):\n",
    "    \"\"\"Prime numbers generator.\"\"\"\n",
    "    for i in range(2, n + 1):\n",
    "        for j in range(2, i):\n",
    "            if i % j == 0:\n",
    "                break\n",
    "        else:\n",
    "            yield i"
   ]
  },
  {
   "cell_type": "code",
   "execution_count": 94,
   "metadata": {
    "ExecuteTime": {
     "end_time": "2019-08-06T06:53:27.021728Z",
     "start_time": "2019-08-06T06:53:27.015589Z"
    }
   },
   "outputs": [
    {
     "data": {
      "text/plain": [
       "[2, 3, 5, 7, 11, 13, 17, 19]"
      ]
     },
     "execution_count": 94,
     "metadata": {},
     "output_type": "execute_result"
    }
   ],
   "source": [
    "list(prime_numbers(20))"
   ]
  },
  {
   "cell_type": "markdown",
   "metadata": {
    "ExecuteTime": {
     "end_time": "2019-08-06T06:55:23.845070Z",
     "start_time": "2019-08-06T06:55:23.838574Z"
    }
   },
   "source": [
    "## 反向迭代"
   ]
  },
  {
   "cell_type": "code",
   "execution_count": 101,
   "metadata": {
    "ExecuteTime": {
     "end_time": "2019-08-06T06:59:23.061791Z",
     "start_time": "2019-08-06T06:59:23.053885Z"
    }
   },
   "outputs": [],
   "source": [
    "'''\n",
    "class FloatRange:\n",
    "    def __init__(self, start, end, step):\n",
    "        self.start = start\n",
    "        self.end = end\n",
    "        self.step = step\n",
    "        \n",
    "    def __iter__(self):\n",
    "        return self\n",
    "    \n",
    "    def __reversed__(self):\n",
    "        self.start, self.end = self.end, self.start\n",
    "        self.step = -self.step\n",
    "        return self\n",
    "    \n",
    "    def __next__(self):\n",
    "        if self.start + self.step > self.end:\n",
    "            raise StopIteration\n",
    "        \n",
    "        ret = self.start + self.step\n",
    "        self.start += self.step\n",
    "        return ret\n",
    "'''"
   ]
  },
  {
   "cell_type": "code",
   "execution_count": 110,
   "metadata": {
    "ExecuteTime": {
     "end_time": "2019-08-06T07:06:56.478179Z",
     "start_time": "2019-08-06T07:06:56.475766Z"
    }
   },
   "outputs": [],
   "source": [
    "# list(FloatRange(1, 2, 0.1))"
   ]
  },
  {
   "cell_type": "code",
   "execution_count": 111,
   "metadata": {
    "ExecuteTime": {
     "end_time": "2019-08-06T07:06:56.842329Z",
     "start_time": "2019-08-06T07:06:56.835098Z"
    }
   },
   "outputs": [],
   "source": [
    "class FloatRange:\n",
    "    def __init__(self, start, end, step=0.1):\n",
    "        self.start = start\n",
    "        self.end = end\n",
    "        self.step = step \n",
    "        \n",
    "    def __iter__(self):\n",
    "        t=self.start\n",
    "        while t <= self.end:\n",
    "            yield t\n",
    "            t += self.step \n",
    "            \n",
    "    def __reversed__(self):\n",
    "        t = self.end\n",
    "        while t >= self.start:\n",
    "            yield t\n",
    "            t -= self.step\n"
   ]
  },
  {
   "cell_type": "code",
   "execution_count": 112,
   "metadata": {
    "ExecuteTime": {
     "end_time": "2019-08-06T07:06:59.434535Z",
     "start_time": "2019-08-06T07:06:59.427843Z"
    }
   },
   "outputs": [
    {
     "data": {
      "text/plain": [
       "[1,\n",
       " 1.1,\n",
       " 1.2000000000000002,\n",
       " 1.3000000000000003,\n",
       " 1.4000000000000004,\n",
       " 1.5000000000000004,\n",
       " 1.6000000000000005,\n",
       " 1.7000000000000006,\n",
       " 1.8000000000000007,\n",
       " 1.9000000000000008]"
      ]
     },
     "execution_count": 112,
     "metadata": {},
     "output_type": "execute_result"
    }
   ],
   "source": [
    "list(FloatRange(1, 2, 0.1))"
   ]
  },
  {
   "cell_type": "code",
   "execution_count": 113,
   "metadata": {
    "ExecuteTime": {
     "end_time": "2019-08-06T07:07:00.579207Z",
     "start_time": "2019-08-06T07:07:00.571657Z"
    }
   },
   "outputs": [
    {
     "data": {
      "text/plain": [
       "[2,\n",
       " 1.9,\n",
       " 1.7999999999999998,\n",
       " 1.6999999999999997,\n",
       " 1.5999999999999996,\n",
       " 1.4999999999999996,\n",
       " 1.3999999999999995,\n",
       " 1.2999999999999994,\n",
       " 1.1999999999999993,\n",
       " 1.0999999999999992]"
      ]
     },
     "execution_count": 113,
     "metadata": {},
     "output_type": "execute_result"
    }
   ],
   "source": [
    "list(reversed(FloatRange(1, 2, 0.1)))"
   ]
  },
  {
   "cell_type": "markdown",
   "metadata": {},
   "source": [
    "## 迭代器切片"
   ]
  },
  {
   "cell_type": "code",
   "execution_count": 126,
   "metadata": {
    "ExecuteTime": {
     "end_time": "2019-08-06T07:13:12.041090Z",
     "start_time": "2019-08-06T07:13:12.035850Z"
    }
   },
   "outputs": [
    {
     "name": "stdout",
     "output_type": "stream",
     "text": [
      "islice(iterable, stop) --> islice object\n",
      "islice(iterable, start, stop[, step]) --> islice object\n",
      "\n",
      "Return an iterator whose next() method returns selected values from an\n",
      "iterable.  If start is specified, will skip all preceding elements;\n",
      "otherwise, start defaults to zero.  Step defaults to one.  If\n",
      "specified as another value, step determines how many values are \n",
      "skipped between successive calls.  Works like a slice() on a list\n",
      "but returns an iterator.\n"
     ]
    }
   ],
   "source": [
    "print(islice.__doc__)"
   ]
  },
  {
   "cell_type": "code",
   "execution_count": 129,
   "metadata": {
    "ExecuteTime": {
     "end_time": "2019-08-06T07:13:41.515633Z",
     "start_time": "2019-08-06T07:13:41.507133Z"
    }
   },
   "outputs": [
    {
     "name": "stdout",
     "output_type": "stream",
     "text": [
      "\n",
      "\n",
      "The above copyright notice and this permission notice shall be included in all\n",
      "\n",
      "copies or substantial portions of the Software.\n",
      "\n",
      "\n",
      "\n",
      "THE SOFTWARE IS PROVIDED \"AS IS\", WITHOUT WARRANTY OF ANY KIND, EXPRESS OR\n",
      "\n"
     ]
    }
   ],
   "source": [
    "with open(\"../LICENSE\", \"r\") as f:\n",
    "    it = islice(f, 10, 15)\n",
    "    for line in it:\n",
    "        print(line)"
   ]
  },
  {
   "cell_type": "code",
   "execution_count": 132,
   "metadata": {
    "ExecuteTime": {
     "end_time": "2019-08-06T07:16:26.629046Z",
     "start_time": "2019-08-06T07:16:26.622226Z"
    }
   },
   "outputs": [
    {
     "name": "stdout",
     "output_type": "stream",
     "text": [
      "2\n",
      "3\n"
     ]
    }
   ],
   "source": [
    "l = range(10)\n",
    "it = iter(l)\n",
    "part = islice(it, 2, 4)\n",
    "for each in part:\n",
    "    print(each)"
   ]
  },
  {
   "cell_type": "code",
   "execution_count": 133,
   "metadata": {
    "ExecuteTime": {
     "end_time": "2019-08-06T07:16:31.311378Z",
     "start_time": "2019-08-06T07:16:31.307168Z"
    }
   },
   "outputs": [
    {
     "name": "stdout",
     "output_type": "stream",
     "text": [
      "4\n",
      "5\n",
      "6\n",
      "7\n",
      "8\n",
      "9\n"
     ]
    }
   ],
   "source": [
    "for each in it:\n",
    "    print(each)"
   ]
  },
  {
   "cell_type": "markdown",
   "metadata": {},
   "source": [
    "## 在一个 For 循环中迭代多个对象"
   ]
  },
  {
   "cell_type": "code",
   "execution_count": 135,
   "metadata": {
    "ExecuteTime": {
     "end_time": "2019-08-06T07:20:06.005509Z",
     "start_time": "2019-08-06T07:20:05.998193Z"
    }
   },
   "outputs": [],
   "source": [
    "math = [random.randint(0, 100) for _ in range(10)]\n",
    "chinese = [random.randint(0, 100) for _ in range(10)]\n",
    "english = [random.randint(0, 100) for _ in range(10)]"
   ]
  },
  {
   "cell_type": "code",
   "execution_count": 136,
   "metadata": {
    "ExecuteTime": {
     "end_time": "2019-08-06T07:20:27.416704Z",
     "start_time": "2019-08-06T07:20:27.410358Z"
    }
   },
   "outputs": [
    {
     "name": "stdout",
     "output_type": "stream",
     "text": [
      "45\n",
      "108\n",
      "99\n",
      "144\n",
      "108\n",
      "83\n",
      "21\n",
      "184\n",
      "191\n",
      "156\n"
     ]
    }
   ],
   "source": [
    "for m, c, e in zip(math, chinese, english):\n",
    "    print(c + m + e)"
   ]
  },
  {
   "cell_type": "code",
   "execution_count": 137,
   "metadata": {
    "ExecuteTime": {
     "end_time": "2019-08-06T07:21:38.710467Z",
     "start_time": "2019-08-06T07:21:38.703380Z"
    }
   },
   "outputs": [],
   "source": [
    "english1 = [random.randint(0, 100) for _ in range(10)]\n",
    "english2 = [random.randint(0, 100) for _ in range(10)]\n",
    "english3 = [random.randint(0, 100) for _ in range(10)]\n",
    "english4 = [random.randint(0, 100) for _ in range(10)]"
   ]
  },
  {
   "cell_type": "code",
   "execution_count": 140,
   "metadata": {
    "ExecuteTime": {
     "end_time": "2019-08-06T07:22:15.140392Z",
     "start_time": "2019-08-06T07:22:15.136416Z"
    }
   },
   "outputs": [
    {
     "name": "stdout",
     "output_type": "stream",
     "text": [
      "chain(*iterables) --> chain object\n",
      "\n",
      "Return a chain object whose .__next__() method returns elements from the\n",
      "first iterable until it is exhausted, then elements from the next\n",
      "iterable, until all of the iterables are exhausted.\n"
     ]
    }
   ],
   "source": [
    "print(chain.__doc__)"
   ]
  },
  {
   "cell_type": "code",
   "execution_count": 143,
   "metadata": {
    "ExecuteTime": {
     "end_time": "2019-08-06T07:23:38.094228Z",
     "start_time": "2019-08-06T07:23:38.089325Z"
    }
   },
   "outputs": [],
   "source": [
    "ret = []\n",
    "for g in chain(english1, english2, english3, english4):\n",
    "    if g > 90:\n",
    "        ret.append(g)"
   ]
  },
  {
   "cell_type": "code",
   "execution_count": 144,
   "metadata": {
    "ExecuteTime": {
     "end_time": "2019-08-06T07:23:38.790798Z",
     "start_time": "2019-08-06T07:23:38.786025Z"
    }
   },
   "outputs": [
    {
     "data": {
      "text/plain": [
       "[99, 96, 96, 94, 97]"
      ]
     },
     "execution_count": 144,
     "metadata": {},
     "output_type": "execute_result"
    }
   ],
   "source": [
    "ret"
   ]
  }
 ],
 "metadata": {
  "kernelspec": {
   "display_name": "Python 3",
   "language": "python",
   "name": "python3"
  },
  "language_info": {
   "codemirror_mode": {
    "name": "ipython",
    "version": 3
   },
   "file_extension": ".py",
   "mimetype": "text/x-python",
   "name": "python",
   "nbconvert_exporter": "python",
   "pygments_lexer": "ipython3",
   "version": "3.6.3"
  },
  "toc": {
   "base_numbering": 1,
   "nav_menu": {},
   "number_sections": true,
   "sideBar": true,
   "skip_h1_title": false,
   "title_cell": "Table of Contents",
   "title_sidebar": "Contents",
   "toc_cell": false,
   "toc_position": {},
   "toc_section_display": true,
   "toc_window_display": false
  }
 },
 "nbformat": 4,
 "nbformat_minor": 2
}
