{
 "cells": [
  {
   "cell_type": "code",
   "execution_count": 3,
   "metadata": {
    "ExecuteTime": {
     "end_time": "2018-12-17T11:53:16.551888Z",
     "start_time": "2018-12-17T11:53:16.451377Z"
    }
   },
   "outputs": [],
   "source": [
    "import requests\n",
    "from bs4 import BeautifulSoup"
   ]
  },
  {
   "cell_type": "code",
   "execution_count": 4,
   "metadata": {
    "ExecuteTime": {
     "end_time": "2018-12-17T02:05:16.620234Z",
     "start_time": "2018-12-17T02:05:14.518674Z"
    }
   },
   "outputs": [],
   "source": [
    "res = requests.get('https://automatetheboringstuff.com/files/rj.txt')"
   ]
  },
  {
   "cell_type": "code",
   "execution_count": 6,
   "metadata": {
    "ExecuteTime": {
     "end_time": "2018-12-17T02:06:43.328848Z",
     "start_time": "2018-12-17T02:06:43.323830Z"
    }
   },
   "outputs": [],
   "source": [
    "with open('ch11_project/RomeoAndJuliet.txt', 'wb') as f:\n",
    "    for chunk in res.iter_content(10000):\n",
    "        f.write(chunk)"
   ]
  },
  {
   "cell_type": "code",
   "execution_count": 21,
   "metadata": {
    "ExecuteTime": {
     "end_time": "2018-12-17T02:43:47.581539Z",
     "start_time": "2018-12-17T02:43:47.274514Z"
    }
   },
   "outputs": [],
   "source": [
    "url = 'https://forecast.weather.gov/MapClick.php?lat=37.78862000000004&lon=-122.39508999999998'\n",
    "res = requests.get(url)\n",
    "soup = BeautifulSoup(res.text)\n",
    "tem = soup.select('p.myforecast-current-lrg')"
   ]
  },
  {
   "cell_type": "code",
   "execution_count": 26,
   "metadata": {
    "ExecuteTime": {
     "end_time": "2018-12-17T02:44:53.987619Z",
     "start_time": "2018-12-17T02:44:53.981493Z"
    }
   },
   "outputs": [
    {
     "data": {
      "text/plain": [
       "'57°F'"
      ]
     },
     "execution_count": 26,
     "metadata": {},
     "output_type": "execute_result"
    }
   ],
   "source": [
    "tem[0].get_text()"
   ]
  },
  {
   "cell_type": "code",
   "execution_count": 27,
   "metadata": {
    "ExecuteTime": {
     "end_time": "2018-12-17T02:45:16.205342Z",
     "start_time": "2018-12-17T02:45:16.198038Z"
    }
   },
   "outputs": [
    {
     "data": {
      "text/plain": [
       "{'class': ['myforecast-current-lrg']}"
      ]
     },
     "execution_count": 27,
     "metadata": {},
     "output_type": "execute_result"
    }
   ],
   "source": [
    "tem[0].attrs"
   ]
  },
  {
   "cell_type": "code",
   "execution_count": 42,
   "metadata": {
    "ExecuteTime": {
     "end_time": "2018-12-17T02:55:08.938572Z",
     "start_time": "2018-12-17T02:55:08.934044Z"
    }
   },
   "outputs": [],
   "source": [
    "url = 'https://weibo.cn'"
   ]
  },
  {
   "cell_type": "code",
   "execution_count": 45,
   "metadata": {
    "ExecuteTime": {
     "end_time": "2018-12-17T02:58:34.530664Z",
     "start_time": "2018-12-17T02:58:32.523591Z"
    }
   },
   "outputs": [],
   "source": [
    "headers = {'cookie': 'SCF=AjRCQ53oHqFjbwn3NUPNfX1cO5WzK1kIjjW9T5JvKZv53yL4z3hY37D38ucaeLuPFgFD-Yb40LZvvKKISOWnpcQ.; ALF=1546784588; _T_WM=9c8e14ef5e9bbee194b5d95a597c9351; SUB=_2A25xDvxeDeRhGeBM7VAR-CnOzT6IHXVS8IQWrDV6PUJbkdAKLULwkW1NRNqh1R1Bw8aynqv2OzgsLOc6-iDEw5Dq; SUHB=0FQ7mXH3ZgoRzl; SSOLoginState=1544195086',\n",
    "           'user-agent': 'Mozilla/5.0 (Windows NT 6.1; Win64; x64) AppleWebKit/537.36 (KHTML, like Gecko) Chrome/71.0.3578.98 Safari/537.36'}\n",
    "res = requests.get(url, headers=headers)\n",
    "soup = BeautifulSoup(res.text)"
   ]
  },
  {
   "cell_type": "code",
   "execution_count": 50,
   "metadata": {
    "ExecuteTime": {
     "end_time": "2018-12-17T03:03:09.041850Z",
     "start_time": "2018-12-17T03:03:09.034032Z"
    }
   },
   "outputs": [
    {
     "data": {
      "text/plain": [
       "[<span class=\"ctt\">全场结束！！梅西帽子戏法+两个助攻，苏亚雷斯皮克进球，巴萨客场5-0莱万特！ ​​​</span>]"
      ]
     },
     "execution_count": 50,
     "metadata": {},
     "output_type": "execute_result"
    }
   ],
   "source": [
    "soup.select('#M_H7ABsq2Ap > div:nth-of-type(1) > span.ctt')"
   ]
  },
  {
   "cell_type": "code",
   "execution_count": 51,
   "metadata": {
    "ExecuteTime": {
     "end_time": "2018-12-17T03:04:51.436731Z",
     "start_time": "2018-12-17T03:04:51.424886Z"
    }
   },
   "outputs": [
    {
     "data": {
      "text/plain": [
       "[<span class=\"ctt\">:三天没发微博 今夜里又有巴萨比赛 为了不让前两条说球的微博接着又是一条说球的微博 我决定发了这条既不成熟又没意义的微博... ​​​</span>]"
      ]
     },
     "execution_count": 51,
     "metadata": {},
     "output_type": "execute_result"
    }
   ],
   "source": [
    "soup.select('#M_H7wB7vWM6 > div:nth-of-type(1) > span')"
   ]
  },
  {
   "cell_type": "markdown",
   "metadata": {},
   "source": [
    "# Start"
   ]
  },
  {
   "cell_type": "code",
   "execution_count": 19,
   "metadata": {
    "ExecuteTime": {
     "end_time": "2018-12-17T12:44:34.483544Z",
     "start_time": "2018-12-17T12:44:34.480717Z"
    }
   },
   "outputs": [],
   "source": [
    "url = 'https://weibo.cn/u/1810527104'"
   ]
  },
  {
   "cell_type": "code",
   "execution_count": 4,
   "metadata": {
    "ExecuteTime": {
     "end_time": "2018-12-17T11:53:20.578954Z",
     "start_time": "2018-12-17T11:53:20.085279Z"
    }
   },
   "outputs": [],
   "source": [
    "headers = {\n",
    "    'cookie': '_T_WM=fc88b5b4110bb85436422b37ed874566; SUB=_2A25xE2kJDeRhGedJ7FUU8S3PwzmIHXVS_HdBrDV6PUJbkdAKLVX7kW1NUao5oVXR5SZ9sufxvnS2oOeH0lZyHEPl; SUHB=0XDUWdi2Jn_NxS; SCF=AnccQdTUMv0UCPDWHMLGwFy4Y3r6mCzDXVrMtT_lbjUi8K5g8RTe6fNTMPPQkc3hkC3kFZjfk0KhUCj1dPbbHn8.; SSOLoginState=1545017689',\n",
    "    'user-agent': 'Mozilla/5.0 (Windows NT 6.1; Win64; x64) AppleWebKit/537.36 (KHTML, like Gecko) Chrome/71.0.3578.98 Safari/537.36'\n",
    "}\n",
    "\n",
    "wb_data = requests.get(url, headers=headers)\n",
    "soup = BeautifulSoup(wb_data.text)"
   ]
  },
  {
   "cell_type": "code",
   "execution_count": 5,
   "metadata": {
    "ExecuteTime": {
     "end_time": "2018-12-17T11:53:21.657159Z",
     "start_time": "2018-12-17T11:53:21.642040Z"
    }
   },
   "outputs": [
    {
     "data": {
      "text/plain": [
       "'92'"
      ]
     },
     "execution_count": 5,
     "metadata": {},
     "output_type": "execute_result"
    }
   ],
   "source": [
    "# #pagelist > form > div > input[type=\"hidden\"]:nth-child(2)\n",
    "soup.select('#pagelist > form > div > input[type=\"hidden\"]')[0].get('value')"
   ]
  },
  {
   "cell_type": "code",
   "execution_count": 6,
   "metadata": {
    "ExecuteTime": {
     "end_time": "2018-12-17T11:53:23.473512Z",
     "start_time": "2018-12-17T11:53:23.462502Z"
    },
    "scrolled": true
   },
   "outputs": [
    {
     "data": {
      "text/plain": [
       "['https://weibo.cn/u/1810527104?page=1',\n",
       " 'https://weibo.cn/u/1810527104?page=2',\n",
       " 'https://weibo.cn/u/1810527104?page=3']"
      ]
     },
     "execution_count": 6,
     "metadata": {},
     "output_type": "execute_result"
    }
   ],
   "source": [
    "def get_total_pages():\n",
    "    total = int(soup.select('#pagelist > form > div > input[type=\"hidden\"]')[0].get('value'))\n",
    "    return ['https://weibo.cn/u/1810527104?page={}'.format(i) for i in range(1, total + 1)]\n",
    "\n",
    "get_total_pages()[:3]"
   ]
  },
  {
   "cell_type": "code",
   "execution_count": 7,
   "metadata": {
    "ExecuteTime": {
     "end_time": "2018-12-17T11:53:26.159224Z",
     "start_time": "2018-12-17T11:53:26.151326Z"
    }
   },
   "outputs": [],
   "source": [
    "pieces = soup.find_all('div', {'class': 'c'})"
   ]
  },
  {
   "cell_type": "code",
   "execution_count": 8,
   "metadata": {
    "ExecuteTime": {
     "end_time": "2018-12-17T11:53:27.176065Z",
     "start_time": "2018-12-17T11:53:27.170064Z"
    }
   },
   "outputs": [],
   "source": [
    "contents = [x for x in pieces if x.has_attr('id')]"
   ]
  },
  {
   "cell_type": "code",
   "execution_count": 9,
   "metadata": {
    "ExecuteTime": {
     "end_time": "2018-12-17T11:53:27.873465Z",
     "start_time": "2018-12-17T11:53:27.868081Z"
    }
   },
   "outputs": [],
   "source": [
    "piece = contents[0]"
   ]
  },
  {
   "cell_type": "code",
   "execution_count": 10,
   "metadata": {
    "ExecuteTime": {
     "end_time": "2018-12-17T11:53:28.817184Z",
     "start_time": "2018-12-17T11:53:28.806282Z"
    }
   },
   "outputs": [
    {
     "data": {
      "text/plain": [
       "<div class=\"c\" id=\"M_H7zUwDp7p\"><div><span class=\"ctt\">昨天在国内参与的第一个群展开幕了www发博以作纪念～ ​​​</span> <span class=\"cmt\">已赞[1]</span> <a href=\"https://weibo.cn/repost/H7zUwDp7p?uid=1810527104&amp;rl=0\">转发[0]</a> <a class=\"cc\" href=\"https://weibo.cn/comment/H7zUwDp7p?uid=1810527104&amp;rl=0#cmtfrm\">评论[0]</a> <a href=\"https://weibo.cn/fav/addFav/H7zUwDp7p?rl=0&amp;st=3a08c0\">收藏</a><!-- --> <span class=\"ct\">今天 03:53 来自iPhone</span></div></div>"
      ]
     },
     "execution_count": 10,
     "metadata": {},
     "output_type": "execute_result"
    }
   ],
   "source": [
    "piece"
   ]
  },
  {
   "cell_type": "code",
   "execution_count": 11,
   "metadata": {
    "ExecuteTime": {
     "end_time": "2018-12-17T11:53:31.913558Z",
     "start_time": "2018-12-17T11:53:31.904587Z"
    }
   },
   "outputs": [
    {
     "name": "stdout",
     "output_type": "stream",
     "text": [
      "M_H7zUwDp7p\n",
      "昨天在国内参与的第一个群展开幕了www发博以作纪念～ ​​​\n",
      "1\n",
      "https://weibo.cn/comment/H7zUwDp7p?uid=1810527104&rl=0#cmtfrm\n"
     ]
    }
   ],
   "source": [
    "pid = piece.get('id')\n",
    "text = piece.select('span.ctt')[0].text\n",
    "like = piece.select('span.cmt')[0].text[3:-1]\n",
    "comment_url = piece.select('a.cc')[0].get('href')\n",
    "\n",
    "\n",
    "print(pid, text, like, comment_url, sep='\\n')"
   ]
  },
  {
   "cell_type": "code",
   "execution_count": 20,
   "metadata": {
    "ExecuteTime": {
     "end_time": "2018-12-17T12:45:09.507470Z",
     "start_time": "2018-12-17T12:45:09.500946Z"
    }
   },
   "outputs": [],
   "source": [
    "a_url = soup.select('div > a.cc')[0].get('href')"
   ]
  },
  {
   "cell_type": "code",
   "execution_count": 108,
   "metadata": {
    "ExecuteTime": {
     "end_time": "2018-12-17T13:17:54.125596Z",
     "start_time": "2018-12-17T13:17:52.874047Z"
    }
   },
   "outputs": [],
   "source": [
    "import hashlib\n",
    "import time\n",
    "import random\n",
    "import re\n",
    "import logging\n",
    "\n",
    "logging.basicConfig(\n",
    "    filename='trace_new.log',\n",
    "    level=logging.INFO,\n",
    "    format='%(asctime)s : %(levelname)s : %(message)s'\n",
    ")\n",
    "\n",
    "logging.info('Start tracing new.')\n",
    "\n",
    "url = 'https://weibo.cn/u/1810527104'\n",
    "\n",
    "headers = {\n",
    "    'cookie': '_T_WM=fc88b5b4110bb85436422b37ed874566; SUB=_2A25xE2kJDeRhGedJ7FUU8S3PwzmIHXVS_HdBrDV6PUJbkdAKLVX7kW1NUao5oVXR5SZ9sufxvnS2oOeH0lZyHEPl; SUHB=0XDUWdi2Jn_NxS; SCF=AnccQdTUMv0UCPDWHMLGwFy4Y3r6mCzDXVrMtT_lbjUi8K5g8RTe6fNTMPPQkc3hkC3kFZjfk0KhUCj1dPbbHn8.; SSOLoginState=1545017689',\n",
    "    'user-agent': 'Mozilla/5.0 (Windows NT 6.1; Win64; x64) AppleWebKit/537.36 (KHTML, like Gecko) Chrome/71.0.3578.98 Safari/537.36'\n",
    "}\n",
    "\n",
    "wb_data = requests.get(url, headers=headers)\n",
    "soup = BeautifulSoup(wb_data.text, 'lxml')\n",
    "first = soup.select('div > a.cc')[0].get('href')\n",
    "logging.info('Latest one: {}.'.format(first))\n",
    "pid = re.compile(r'([A-Za-z0-9]+)\\?')\n",
    "\n",
    "\n",
    "def crawl(url):\n",
    "    page = requests.get(url, headers=headers)\n",
    "    filename = pid.findall(url)[0] + '.html'\n",
    "    logging.info('Create page {} for {}.'.format(filename, url))\n",
    "    with open(filename, 'wb') as f:\n",
    "        for chunk in page.iter_content(10000):\n",
    "            f.write(chunk)\n",
    "            \n",
    "\n",
    "while True:\n",
    "    time.sleep(random.randint(300, 900))\n",
    "    wb_data = requests.get(url, headers=headers)\n",
    "    soup = BeautifulSoup(wb_data.text, 'lxml')\n",
    "    current_first = soup.select('div > a.cc')[0].get('href')\n",
    "    if current_first != first:\n",
    "        logging.info('Find new post\\'s {}.'.format(current_first))\n",
    "        crawl(current_first)\n",
    "        first = current_first"
   ]
  },
  {
   "cell_type": "code",
   "execution_count": 75,
   "metadata": {
    "ExecuteTime": {
     "end_time": "2018-12-17T13:06:10.138539Z",
     "start_time": "2018-12-17T13:06:09.778316Z"
    }
   },
   "outputs": [],
   "source": [
    "contents = requests.get(a_url, headers=headers)"
   ]
  },
  {
   "cell_type": "code",
   "execution_count": 22,
   "metadata": {
    "ExecuteTime": {
     "end_time": "2018-12-17T12:45:39.043989Z",
     "start_time": "2018-12-17T12:45:39.036980Z"
    }
   },
   "outputs": [],
   "source": [
    "contents_soup = BeautifulSoup(contents.text, 'lxml')"
   ]
  },
  {
   "cell_type": "code",
   "execution_count": 23,
   "metadata": {
    "ExecuteTime": {
     "end_time": "2018-12-17T12:45:44.124287Z",
     "start_time": "2018-12-17T12:45:44.101463Z"
    }
   },
   "outputs": [
    {
     "data": {
      "text/plain": [
       "<?xml version=\"1.0\" encoding=\"UTF-8\"?><!DOCTYPE html PUBLIC \"-//W3C//DTD XHTML 1.0 Strict//EN\" \"http://www.w3.org/TR/xhtml1/DTD/xhtml1-strict.dtd\">\n",
       "<html xmlns=\"http://www.w3.org/1999/xhtml\"><head><meta content=\"text/html; charset=utf-8\" http-equiv=\"Content-Type\"/><meta content=\"no-cache\" http-equiv=\"Cache-Control\"/><meta content=\"width=device-width,initial-scale=1.0,minimum-scale=1.0, maximum-scale=2.0\" id=\"viewport\" name=\"viewport\"/><link color=\"black\" href=\"https://h5.sinaimg.cn/upload/2015/05/15/28/WeiboLogoCh.svg\" mask=\"\" rel=\"icon\" sizes=\"any\"/><meta content=\"240\" name=\"MobileOptimized\"/><title>评论列表</title><style id=\"internalStyle\" type=\"text/css\">html,body,p,form,div,table,textarea,input,span,select{font-size:12px;word-wrap:break-word;}body{background:#F8F9F9;color:#000;padding:1px;margin:1px;}table,tr,td{border-width:0px;margin:0px;padding:0px;}form{margin:0px;padding:0px;border:0px;}textarea{border:1px solid #96c1e6}textarea{width:95%;}a,.tl{color:#2a5492;text-decoration:underline;}/*a:link {color:#023298}*/.k{color:#2a5492;text-decoration:underline;}.kt{color:#F00;}.ib{border:1px solid #C1C1C1;}.pm,.pmy{clear:both;background:#ffffff;color:#676566;border:1px solid #b1cee7;padding:3px;margin:2px 1px;overflow:hidden;}.pms{clear:both;background:#c8d9f3;color:#666666;padding:3px;margin:0 1px;overflow:hidden;}.pmst{margin-top: 5px;}.pmsl{clear:both;padding:3px;margin:0 1px;overflow:hidden;}.pmy{background:#DADADA;border:1px solid #F8F8F8;}.t{padding:0px;margin:0px;height:35px;}.b{background:#e3efff;text-align:center;color:#2a5492;clear:both;padding:4px;}.bl{color:#2a5492;}.n{clear:both;background:#436193;color:#FFF;padding:4px; margin: 1px;}.nt{color:#b9e7ff;}.nl{color:#FFF;text-decoration:none;}.nfw{clear:both;border:1px solid #BACDEB;padding:3px;margin:2px 1px;}.s{border-bottom:1px dotted #666666;margin:3px;clear:both;}.tip{clear:both; background:#c8d9f3;color:#676566;border:1px solid #BACDEB;padding:3px;margin:2px 1px;}.tip2{color:#000000;padding:2px 3px;clear:both;}.ps{clear:both;background:#FFF;color:#676566;border:1px solid #BACDEB;padding:3px;margin:2px 1px;}.tm{background:#feffe5;border:1px solid #e6de8d;padding:4px;}.tm a{color:#ba8300;}.tmn{color:#f00}.tk{color:#ffffff}.tc{color:#63676A;}.c{padding:2px 5px;}.c div a img{border:1px solid #C1C1C1;}.ct{color:#9d9d9d;font-style:italic;}.cmt{color:#9d9d9d;}.ctt{color:#000;}.cc{color:#2a5492;}.nk{color:#2a5492;}.por {border: 1px solid #CCCCCC;height:50px;width:50px;}.me{color:#000000;background:#FEDFDF;padding:2px 5px;}.pa{padding:2px 4px;}.nm{margin:10px 5px;padding:2px;}.hm{padding:5px;background:#FFF;color:#63676A;}.u{margin:2px 1px;background:#ffffff;border:1px solid #b1cee7;}.ut{padding:2px 3px;}.cd{text-align:center;}.r{color:#F00;}.g{color:#0F0;}.bn{background: transparent;border: 0 none;text-align: left;padding-left: 0;}</style><script>if(top != self){top.location = self.location;}</script></head><body><div class=\"n\" style=\"padding: 6px 4px;\"><a class=\"nl\" href=\"https://weibo.cn/?tf=5_009\">首页<span class=\"tk\">!</span></a>|<a class=\"nl\" href=\"https://weibo.cn/msg/?tf=5_010\">消息</a>|<a class=\"nl\" href=\"https://huati.weibo.cn\">话题</a>|<a class=\"nl\" href=\"https://weibo.cn/search/?tf=5_012\">搜索</a>|<a class=\"nl\" href=\"/comment/H7qShdKEU?uid=1810527104&amp;rl=0&amp;rand=8574&amp;p=r\">刷新</a></div><div class=\"c tip\"><a class=\"tl\" href=\"https://m.weibo.cn\" id=\"top\">手机微博触屏版,点击前往&gt;&gt;</a></div><div class=\"s\"></div><div class=\"c\" id=\"M_\"><div> <a href=\"/u/1810527104\">一条读弗洛伊德的鱼</a> <span class=\"ctt\">:买书…买书使人贫穷……[允悲] ​​​</span> <!-- 是否进行翻译 -->             <span class=\"ct\">12月16日 04:53    </span>         <a href=\"/spam/?mid=H7qShdKEU&amp;fuid=1810527104&amp;type=1&amp;rl=1\">举报</a> <a href=\"/fav/addFav/H7qShdKEU?rl=1&amp;st=3a08c0\">收藏</a> <a href=\"/mblog/operation/H7qShdKEU?uid=1810527104&amp;rl=1\">操作</a> </div></div><div class=\"c\"></div><div><span> <a href=\"/repost/H7qShdKEU?uid=1810527104&amp;#rt\">转发</a> </span><span class=\"pms\"> 评论[2] </span><span> <a href=\"/attitude/H7qShdKEU?#attitude\">赞[0]</a> </span><br/></div><div class=\"pms\" id=\"cmtfrm\"><form action=\"/comments/addcomment?st=3a08c0\" method=\"post\"><div>    评论只显示前140字:<br/> <input name=\"srcuid\" type=\"hidden\" value=\"1810527104\"/> <input name=\"id\" type=\"hidden\" value=\"H7qShdKEU\"/> <input name=\"rl\" type=\"hidden\" value=\"1\"/> <textarea cols=\"20\" name=\"content\" rows=\"2\"></textarea><br/> <input type=\"submit\" value=\"评论\"/> <input name=\"rt\" type=\"submit\" value=\"评论并转发\"/></div></form></div><div class=\"c\" id=\"C_4318063493299828\"> <a href=\"/u/1810527104\">一条读弗洛伊德的鱼</a>        :<span class=\"ctt\">回复<a href=\"/n/%E8%AE%B8%E5%B1%B1%E5%B1%B1%E4%B8%B6\">@许山山丶</a>:非常押韵了！</span>     <a href=\"/spam/?cid=4318063493299828&amp;fuid=1810527104&amp;type=2&amp;rl=1\">举报</a>         <span class=\"cc\"> <a href=\"/attitude/H7zUFdQr2/update?object_type=comment&amp;uid=1777513385&amp;rl=1&amp;st=3a08c0\">赞[0]</a></span>         <span class=\"cc\"><a href=\"/comments/reply/H7qShdKEU/4318063493299828?rl=1&amp;st=3a08c0\">回复</a></span>             <span class=\"ct\">今天 03:53 来自网页    </span></div> <div class=\"s\"></div> <div class=\"c\" id=\"C_4317790909499989\"> <a href=\"/u/1777513385\">许山山丶</a>        :<span class=\"ctt\">但读书使鱼富有！</span>     <a href=\"/spam/?cid=4317790909499989&amp;fuid=1777513385&amp;type=2&amp;rl=1\">举报</a>         <span class=\"cc\"> <a href=\"/attitude/H7sP0DRnD/update?object_type=comment&amp;uid=1777513385&amp;rl=1&amp;st=3a08c0\">赞[0]</a></span>         <span class=\"cc\"><a href=\"/comments/reply/H7qShdKEU/4317790909499989?rl=1&amp;st=3a08c0\">回复</a></span>     <span class=\"cc\"><a href=\"/comments/del/H7qShdKEU/4317790909499989?rl=1&amp;cmtuid=1777513385\">删除</a></span>             <span class=\"ct\">12月16日 09:50 来自网页    </span></div> <div class=\"s\"></div></body></html>"
      ]
     },
     "execution_count": 23,
     "metadata": {},
     "output_type": "execute_result"
    }
   ],
   "source": [
    "contents_soup"
   ]
  },
  {
   "cell_type": "code",
   "execution_count": 70,
   "metadata": {
    "ExecuteTime": {
     "end_time": "2018-12-17T13:01:39.314454Z",
     "start_time": "2018-12-17T13:01:39.306017Z"
    }
   },
   "outputs": [],
   "source": [
    "po = (\n",
    "    contents_soup.select_one('#M_ > div > a').text +\n",
    "    contents_soup.select_one('#M_ > div > span.ctt').text.replace('\\u200b', ' ') +\n",
    "    contents_soup.select_one('#M_ > div > span.ct').text.strip()\n",
    ")\n",
    "\n",
    "comment = (\n",
    "    contents_soup.select_one('#C_4318063493299828 > a').text + \":\" +\n",
    "    contents_soup.select_one('#C_4318063493299828 > span.ctt').text + \"\\n\" +\n",
    "    contents_soup.select_one(\"#C_4317790909499989 > a\").text + \":\" +\n",
    "    contents_soup.select_one(\"#C_4317790909499989 > span.ctt\").text\n",
    ")"
   ]
  },
  {
   "cell_type": "code",
   "execution_count": 71,
   "metadata": {
    "ExecuteTime": {
     "end_time": "2018-12-17T13:01:40.257178Z",
     "start_time": "2018-12-17T13:01:40.250019Z"
    }
   },
   "outputs": [
    {
     "name": "stdout",
     "output_type": "stream",
     "text": [
      "一条读弗洛伊德的鱼:买书…买书使人贫穷……[允悲]    12月16日 04:53\n",
      "一条读弗洛伊德的鱼:回复@许山山丶:非常押韵了！\n",
      "许山山丶:但读书使鱼富有！\n"
     ]
    }
   ],
   "source": [
    "print(info)\n",
    "print(comment)"
   ]
  },
  {
   "cell_type": "code",
   "execution_count": 105,
   "metadata": {
    "ExecuteTime": {
     "end_time": "2018-12-17T13:12:18.040926Z",
     "start_time": "2018-12-17T13:12:18.034027Z"
    }
   },
   "outputs": [
    {
     "data": {
      "text/plain": [
       "'H7zUwDp7p'"
      ]
     },
     "execution_count": 105,
     "metadata": {},
     "output_type": "execute_result"
    }
   ],
   "source": [
    "s = 'https://weibo.cn/comment/H7zUwDp7p?uid=1810527104&rl=0#cmtfrm'\n",
    "p = re.compile(r'([A-Za-z0-9]+)\\?')\n",
    "p.findall(s)[0]"
   ]
  },
  {
   "cell_type": "code",
   "execution_count": 109,
   "metadata": {
    "ExecuteTime": {
     "end_time": "2018-12-17T13:51:38.452355Z",
     "start_time": "2018-12-17T13:51:37.760009Z"
    }
   },
   "outputs": [],
   "source": [
    "crawl('https://weibo.cn/comment/H3XY0s4XG?ckAll=1')"
   ]
  },
  {
   "cell_type": "code",
   "execution_count": 112,
   "metadata": {
    "ExecuteTime": {
     "end_time": "2018-12-17T14:12:56.516475Z",
     "start_time": "2018-12-17T14:12:56.511756Z"
    }
   },
   "outputs": [],
   "source": [
    "import logging"
   ]
  },
  {
   "cell_type": "code",
   "execution_count": 111,
   "metadata": {
    "ExecuteTime": {
     "end_time": "2018-12-17T14:11:29.618012Z",
     "start_time": "2018-12-17T14:11:29.614037Z"
    }
   },
   "outputs": [],
   "source": [
    "loger = logging.getLogger()"
   ]
  },
  {
   "cell_type": "code",
   "execution_count": null,
   "metadata": {},
   "outputs": [],
   "source": [
    "loger."
   ]
  },
  {
   "cell_type": "code",
   "execution_count": null,
   "metadata": {},
   "outputs": [],
   "source": []
  },
  {
   "cell_type": "code",
   "execution_count": null,
   "metadata": {},
   "outputs": [],
   "source": []
  },
  {
   "cell_type": "code",
   "execution_count": null,
   "metadata": {},
   "outputs": [],
   "source": []
  },
  {
   "cell_type": "code",
   "execution_count": null,
   "metadata": {},
   "outputs": [],
   "source": []
  },
  {
   "cell_type": "code",
   "execution_count": null,
   "metadata": {},
   "outputs": [],
   "source": []
  },
  {
   "cell_type": "code",
   "execution_count": null,
   "metadata": {},
   "outputs": [],
   "source": []
  },
  {
   "cell_type": "code",
   "execution_count": null,
   "metadata": {},
   "outputs": [],
   "source": []
  },
  {
   "cell_type": "code",
   "execution_count": null,
   "metadata": {},
   "outputs": [],
   "source": []
  },
  {
   "cell_type": "code",
   "execution_count": null,
   "metadata": {},
   "outputs": [],
   "source": []
  },
  {
   "cell_type": "code",
   "execution_count": null,
   "metadata": {},
   "outputs": [],
   "source": []
  },
  {
   "cell_type": "code",
   "execution_count": null,
   "metadata": {},
   "outputs": [],
   "source": []
  },
  {
   "cell_type": "code",
   "execution_count": null,
   "metadata": {},
   "outputs": [],
   "source": []
  },
  {
   "cell_type": "code",
   "execution_count": null,
   "metadata": {},
   "outputs": [],
   "source": []
  },
  {
   "cell_type": "code",
   "execution_count": null,
   "metadata": {},
   "outputs": [],
   "source": []
  },
  {
   "cell_type": "code",
   "execution_count": null,
   "metadata": {},
   "outputs": [],
   "source": []
  },
  {
   "cell_type": "code",
   "execution_count": null,
   "metadata": {},
   "outputs": [],
   "source": []
  },
  {
   "cell_type": "code",
   "execution_count": null,
   "metadata": {},
   "outputs": [],
   "source": []
  },
  {
   "cell_type": "code",
   "execution_count": null,
   "metadata": {},
   "outputs": [],
   "source": []
  },
  {
   "cell_type": "code",
   "execution_count": null,
   "metadata": {},
   "outputs": [],
   "source": []
  },
  {
   "cell_type": "code",
   "execution_count": null,
   "metadata": {},
   "outputs": [],
   "source": []
  },
  {
   "cell_type": "code",
   "execution_count": null,
   "metadata": {},
   "outputs": [],
   "source": []
  },
  {
   "cell_type": "code",
   "execution_count": null,
   "metadata": {},
   "outputs": [],
   "source": []
  },
  {
   "cell_type": "code",
   "execution_count": null,
   "metadata": {},
   "outputs": [],
   "source": []
  },
  {
   "cell_type": "code",
   "execution_count": null,
   "metadata": {},
   "outputs": [],
   "source": []
  },
  {
   "cell_type": "code",
   "execution_count": null,
   "metadata": {},
   "outputs": [],
   "source": []
  },
  {
   "cell_type": "code",
   "execution_count": null,
   "metadata": {},
   "outputs": [],
   "source": []
  },
  {
   "cell_type": "code",
   "execution_count": null,
   "metadata": {},
   "outputs": [],
   "source": []
  },
  {
   "cell_type": "code",
   "execution_count": null,
   "metadata": {},
   "outputs": [],
   "source": []
  },
  {
   "cell_type": "code",
   "execution_count": null,
   "metadata": {},
   "outputs": [],
   "source": []
  },
  {
   "cell_type": "code",
   "execution_count": null,
   "metadata": {},
   "outputs": [],
   "source": [
    "# All the code\n",
    "url = 'https://weibo.cn/u/1810527104'\n",
    "\n",
    "headers = {\n",
    "    'cookie': '_T_WM=fc88b5b4110bb85436422b37ed874566; SUB=_2A25xE2kJDeRhGedJ7FUU8S3PwzmIHXVS_HdBrDV6PUJbkdAKLVX7kW1NUao5oVXR5SZ9sufxvnS2oOeH0lZyHEPl; SUHB=0XDUWdi2Jn_NxS; SCF=AnccQdTUMv0UCPDWHMLGwFy4Y3r6mCzDXVrMtT_lbjUi8K5g8RTe6fNTMPPQkc3hkC3kFZjfk0KhUCj1dPbbHn8.; SSOLoginState=1545017689',\n",
    "    'user-agent': 'Mozilla/5.0 (Windows NT 6.1; Win64; x64) AppleWebKit/537.36 (KHTML, like Gecko) Chrome/71.0.3578.98 Safari/537.36'\n",
    "}\n",
    "\n",
    "wb_data = requests.get(url, headers=headers)\n",
    "soup = BeautifulSoup(wb_data.text)\n",
    "\n",
    "def get_total_pages():\n",
    "    total = int(soup.select('#pagelist > form > div > input[type=\"hidden\"]')[0].get('value'))\n",
    "    return ['https://weibo.cn/u/1810527104?page={}'.format(i) for i in range(1, total + 1)]\n",
    "\n",
    "\n",
    "def start():\n",
    "    pages = get_total_pages()\n",
    "    for page in pages:\n",
    "        crawl(page)"
   ]
  }
 ],
 "metadata": {
  "kernelspec": {
   "display_name": "Python 3",
   "language": "python",
   "name": "python3"
  },
  "language_info": {
   "codemirror_mode": {
    "name": "ipython",
    "version": 3
   },
   "file_extension": ".py",
   "mimetype": "text/x-python",
   "name": "python",
   "nbconvert_exporter": "python",
   "pygments_lexer": "ipython3",
   "version": "3.5.2"
  },
  "toc": {
   "base_numbering": 1,
   "nav_menu": {},
   "number_sections": true,
   "sideBar": true,
   "skip_h1_title": false,
   "title_cell": "Table of Contents",
   "title_sidebar": "Contents",
   "toc_cell": false,
   "toc_position": {},
   "toc_section_display": true,
   "toc_window_display": false
  }
 },
 "nbformat": 4,
 "nbformat_minor": 2
}
