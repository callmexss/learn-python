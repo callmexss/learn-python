{
 "cells": [
  {
   "cell_type": "code",
   "execution_count": 14,
   "metadata": {
    "ExecuteTime": {
     "end_time": "2018-12-11T14:43:01.451075Z",
     "start_time": "2018-12-11T14:43:01.446068Z"
    }
   },
   "outputs": [],
   "source": [
    "import random\n",
    "import string"
   ]
  },
  {
   "cell_type": "code",
   "execution_count": 15,
   "metadata": {
    "ExecuteTime": {
     "end_time": "2018-12-11T14:43:01.707004Z",
     "start_time": "2018-12-11T14:43:01.701476Z"
    }
   },
   "outputs": [
    {
     "data": {
      "text/plain": [
       "'abcdefghijklmnopqrstuvwxyz'"
      ]
     },
     "execution_count": 15,
     "metadata": {},
     "output_type": "execute_result"
    }
   ],
   "source": [
    "string.ascii_lowercase"
   ]
  },
  {
   "cell_type": "code",
   "execution_count": 39,
   "metadata": {
    "ExecuteTime": {
     "end_time": "2018-12-12T04:34:12.765762Z",
     "start_time": "2018-12-12T04:34:12.758018Z"
    }
   },
   "outputs": [],
   "source": [
    "lower_alpha = string.ascii_lowercase\n",
    "all_chars = [x for x in lower_alpha] + [' ']\n",
    "\n",
    "target = 'methinks it is like a weasel'\n",
    "\n",
    "def gen_str():\n",
    "    # return ''.join([all_chars[random.randint(0, len(all_chars) - 1)] for i in range(len(target))])\n",
    "    # return ''.join([all_chars[random.randrange(len(all_chars))] for i in range(len(target))])\n",
    "    return ''.join([random.sample(all_chars, 1)[0] for i in range(len(target))])\n",
    "\n",
    "def score(target, test_str):\n",
    "    current = 0\n",
    "    for i in range(len(target)):\n",
    "        if target[i] == test_str[i]:\n",
    "            current += 1\n",
    "    return current / len(target)"
   ]
  },
  {
   "cell_type": "code",
   "execution_count": 40,
   "metadata": {
    "ExecuteTime": {
     "end_time": "2018-12-12T04:34:13.121324Z",
     "start_time": "2018-12-12T04:34:13.115726Z"
    }
   },
   "outputs": [
    {
     "data": {
      "text/plain": [
       "'ctqtqivfnnmiwlhpqjpkurjcxuqv'"
      ]
     },
     "execution_count": 40,
     "metadata": {},
     "output_type": "execute_result"
    }
   ],
   "source": [
    "gen_str()"
   ]
  },
  {
   "cell_type": "code",
   "execution_count": 41,
   "metadata": {
    "ExecuteTime": {
     "end_time": "2018-12-12T04:34:17.495077Z",
     "start_time": "2018-12-12T04:34:17.488681Z"
    }
   },
   "outputs": [
    {
     "data": {
      "text/plain": [
       "0.0"
      ]
     },
     "execution_count": 41,
     "metadata": {},
     "output_type": "execute_result"
    }
   ],
   "source": [
    "test = gen_str()\n",
    "score(target, test)"
   ]
  },
  {
   "cell_type": "code",
   "execution_count": null,
   "metadata": {
    "ExecuteTime": {
     "start_time": "2018-12-12T04:36:31.839Z"
    }
   },
   "outputs": [
    {
     "name": "stdout",
     "output_type": "stream",
     "text": [
      "0.041666666666666664 ngpcgfkrccqdrpljcidycarm\n",
      "0.08333333333333333 wfwzdbbumbmbbolstqlmumoj\n",
      "0.125 gzom lu guo wdmdpx cejcd\n",
      "0.16666666666666666 fiaqaio  kdfviuqwtzelshb\n",
      "0.20833333333333334 ikki zuhnetbehjse pcbaxc\n",
      "0.25 iiia ilcjerriyqxm pzdqjv\n",
      "0.2916666666666667 jvf miblsocporbspqpyvpou\n",
      "0.3333333333333333 qifaoik gzl t onhfpnoxin\n",
      "0.375 sbfgxiquszkro psc qgxbon\n",
      "0.4166666666666667 crfewsscqhomtoudqdtdtmon\n"
     ]
    }
   ],
   "source": [
    "target = 'life is short use python'\n",
    "best = 0\n",
    "\n",
    "while True:\n",
    "    current_str = gen_str()\n",
    "    current_score = score(target, current_str)\n",
    "    if current_score > best:\n",
    "        best = current_score\n",
    "        print(best, current_str)\n",
    "        if best == 1:\n",
    "            break\n",
    "    "
   ]
  },
  {
   "cell_type": "code",
   "execution_count": null,
   "metadata": {},
   "outputs": [],
   "source": []
  }
 ],
 "metadata": {
  "kernelspec": {
   "display_name": "Python 3",
   "language": "python",
   "name": "python3"
  },
  "language_info": {
   "codemirror_mode": {
    "name": "ipython",
    "version": 3
   },
   "file_extension": ".py",
   "mimetype": "text/x-python",
   "name": "python",
   "nbconvert_exporter": "python",
   "pygments_lexer": "ipython3",
   "version": "3.5.2"
  },
  "toc": {
   "base_numbering": 1,
   "nav_menu": {},
   "number_sections": true,
   "sideBar": true,
   "skip_h1_title": false,
   "title_cell": "Table of Contents",
   "title_sidebar": "Contents",
   "toc_cell": false,
   "toc_position": {},
   "toc_section_display": true,
   "toc_window_display": false
  }
 },
 "nbformat": 4,
 "nbformat_minor": 2
}
