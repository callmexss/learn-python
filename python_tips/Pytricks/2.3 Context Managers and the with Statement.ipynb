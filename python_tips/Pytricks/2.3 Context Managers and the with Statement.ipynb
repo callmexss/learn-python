{
 "cells": [
  {
   "cell_type": "markdown",
   "metadata": {},
   "source": [
    "# Context Managers and the with Statement"
   ]
  },
  {
   "cell_type": "markdown",
   "metadata": {},
   "source": [
    "## Example"
   ]
  },
  {
   "cell_type": "markdown",
   "metadata": {},
   "source": [
    "### Open a File"
   ]
  },
  {
   "cell_type": "code",
   "execution_count": 1,
   "metadata": {},
   "outputs": [],
   "source": [
    "with open('1_assert_in_python.py') as f:\n",
    "    pass"
   ]
  },
  {
   "cell_type": "markdown",
   "metadata": {},
   "source": [
    "### Thread Lock"
   ]
  },
  {
   "cell_type": "code",
   "execution_count": 2,
   "metadata": {},
   "outputs": [],
   "source": [
    "import threading"
   ]
  },
  {
   "cell_type": "code",
   "execution_count": 3,
   "metadata": {},
   "outputs": [],
   "source": [
    "some_lock = threading.Lock()"
   ]
  },
  {
   "cell_type": "code",
   "execution_count": 4,
   "metadata": {},
   "outputs": [],
   "source": [
    "with some_lock:\n",
    "    pass"
   ]
  },
  {
   "cell_type": "markdown",
   "metadata": {},
   "source": [
    "## Support With in Your Own Objects"
   ]
  },
  {
   "cell_type": "markdown",
   "metadata": {},
   "source": [
    "### Simple Protocol"
   ]
  },
  {
   "cell_type": "markdown",
   "metadata": {},
   "source": [
    "How: by implementing the so-called context managers.\n",
    "\n",
    "Q: What’s a context manager? \n",
    "\n",
    "A: It’s a simple “protocol” (or interface) that your object needs to follow in order to support the with statement. \n",
    "\n",
    "in a word, add __enter__ and __exit__ methods to an object.\n"
   ]
  },
  {
   "cell_type": "code",
   "execution_count": 5,
   "metadata": {},
   "outputs": [],
   "source": [
    "class ManagedFile:\n",
    "    def __init__(self, name):\n",
    "        self.name = name\n",
    "        \n",
    "    def __enter__(self):\n",
    "        self.file = open(self.name, 'w')\n",
    "        return self.file\n",
    "    \n",
    "    def __exit__(self, exc_type, exc_val, exc_tb):\n",
    "        if self.file:\n",
    "            self.file.close()"
   ]
  },
  {
   "cell_type": "code",
   "execution_count": 6,
   "metadata": {},
   "outputs": [],
   "source": [
    "with ManagedFile('hello.txt') as f:\n",
    "    f.write('hello, world!')\n",
    "    f.write('bye now')"
   ]
  },
  {
   "cell_type": "markdown",
   "metadata": {},
   "source": [
    "### Decorator from Standard"
   ]
  },
  {
   "cell_type": "markdown",
   "metadata": {},
   "source": [
    "Writing a class-based context manager isn’t the only way to support the with statement in Python.\n",
    "\n",
    "The contextlib utility module in the standard library provides a few more abstractions built on top of the basic context manager protocol. "
   ]
  },
  {
   "cell_type": "code",
   "execution_count": 7,
   "metadata": {},
   "outputs": [],
   "source": [
    "from contextlib import contextmanager"
   ]
  },
  {
   "cell_type": "code",
   "execution_count": 8,
   "metadata": {},
   "outputs": [],
   "source": [
    "@contextmanager\n",
    "def managed_file(name):\n",
    "    try:\n",
    "        f = open(name, 'w')\n",
    "        yield f\n",
    "    finally:\n",
    "        f.close()"
   ]
  },
  {
   "cell_type": "code",
   "execution_count": 9,
   "metadata": {},
   "outputs": [],
   "source": [
    "with managed_file('hello.txt') as f:\n",
    "    f.write('hello, world!')\n",
    "    f.write('bye now')"
   ]
  },
  {
   "cell_type": "markdown",
   "metadata": {},
   "source": [
    "## Exercise"
   ]
  },
  {
   "cell_type": "markdown",
   "metadata": {},
   "source": [
    "### Indentation"
   ]
  },
  {
   "cell_type": "markdown",
   "metadata": {},
   "source": [
    "How to implement this?\n",
    "\n",
    "```python\n",
    "with Indenter() as indent:\n",
    "    indent.print('hi!')\n",
    "    with indent:\n",
    "        indent.print('hello')\n",
    "        with indent:\n",
    "            indent.print('bonjour')\n",
    "    indent.print('hey') \n",
    "```"
   ]
  },
  {
   "cell_type": "code",
   "execution_count": 20,
   "metadata": {},
   "outputs": [],
   "source": [
    "class Indenter:\n",
    "    def __init__(self):\n",
    "        self.indent = ''\n",
    "        \n",
    "    def __enter__(self):\n",
    "        self.indent += 4 * ' '\n",
    "        return self\n",
    "        \n",
    "    def __exit__(self, exc_type, exc_val, exc_tb):\n",
    "        self.indent = self.indent[:-4]\n",
    "        \n",
    "    def print(self, s):\n",
    "        print(self.indent + s)"
   ]
  },
  {
   "cell_type": "code",
   "execution_count": 25,
   "metadata": {},
   "outputs": [
    {
     "name": "stdout",
     "output_type": "stream",
     "text": [
      "    hi!\n",
      "        hello\n",
      "            bonjour\n",
      "    hey\n"
     ]
    }
   ],
   "source": [
    "with Indenter() as indent:\n",
    "    indent.print('hi!')\n",
    "    with indent:\n",
    "        indent.print('hello')\n",
    "        with indent:\n",
    "            indent.print('bonjour')\n",
    "    indent.print('hey')"
   ]
  },
  {
   "cell_type": "markdown",
   "metadata": {},
   "source": [
    "a reference:\n",
    "\n",
    "```python\n",
    "class Indenter:\n",
    "    def __init__(self):\n",
    "        self.level = 0\n",
    "        \n",
    "    def __enter__(self):\n",
    "        self.level += 1\n",
    "        return self\n",
    "    \n",
    "    def __exit__(self, exc_type, exc_val, exc_tb):\n",
    "        self.level -= 1\n",
    "        \n",
    "    def print(self, s):\n",
    "        print(' ' * 4 * self.level + s)\n",
    "```"
   ]
  },
  {
   "cell_type": "markdown",
   "metadata": {},
   "source": [
    "### Execution Time Calculator"
   ]
  },
  {
   "cell_type": "code",
   "execution_count": 27,
   "metadata": {},
   "outputs": [],
   "source": [
    "import time"
   ]
  },
  {
   "cell_type": "code",
   "execution_count": 48,
   "metadata": {},
   "outputs": [],
   "source": [
    "# class based implementation\n",
    "class ExecutionTimeCalculator:\n",
    "    def __init__(self, func, *args, **kwargs):\n",
    "        self.func = func\n",
    "        self.args = args\n",
    "        self.kwargs = kwargs\n",
    "    \n",
    "    def __enter__(self):\n",
    "        self.start = time.time()\n",
    "        self.func(*self.args, **self.kwargs)\n",
    "        return self\n",
    "    \n",
    "    def __exit__(self, exc_type, exc_val, exc_tb):\n",
    "        self.end = time.time()\n",
    "        print('total time:', self.end -self.start)"
   ]
  },
  {
   "cell_type": "code",
   "execution_count": 50,
   "metadata": {},
   "outputs": [
    {
     "name": "stdout",
     "output_type": "stream",
     "text": [
      "total time: 1.0010366439819336\n"
     ]
    }
   ],
   "source": [
    "with ExecutionTimeCalculator(time.sleep, 1) as etc:\n",
    "    pass"
   ]
  },
  {
   "cell_type": "code",
   "execution_count": 51,
   "metadata": {},
   "outputs": [],
   "source": [
    "@contextmanager\n",
    "def execute_time_calculate(func, *args, **kwargs):\n",
    "    try:\n",
    "        start = time.time()\n",
    "        yield func(*args, **kwargs)\n",
    "    finally:\n",
    "        end = time.time()\n",
    "        print(\"total time:\", end - start)\n",
    "        "
   ]
  },
  {
   "cell_type": "code",
   "execution_count": 55,
   "metadata": {},
   "outputs": [
    {
     "name": "stdout",
     "output_type": "stream",
     "text": [
      "total time: 1.0011117458343506\n"
     ]
    }
   ],
   "source": [
    "with execute_time_calculate(time.sleep, 1) as etc:\n",
    "    pass"
   ]
  },
  {
   "cell_type": "markdown",
   "metadata": {},
   "source": [
    "## WHY"
   ]
  },
  {
   "cell_type": "markdown",
   "metadata": {},
   "source": [
    "**Key Takeaways**\n",
    "\n",
    "- The with statement simplifies exception handling by encapsu-lating standard uses of try/finally statements in so-called context managers. \n",
    "\n",
    "- Most commonly it is used to manage the safe acquisition and release of system resources. Resources are acquired by the with statement and released automatically when execution leaves the with context. \n",
    "\n",
    "- Using with effectively can help you avoid resource leaks and make your code easier to read. "
   ]
  }
 ],
 "metadata": {
  "kernelspec": {
   "display_name": "Python 3",
   "language": "python",
   "name": "python3"
  },
  "language_info": {
   "codemirror_mode": {
    "name": "ipython",
    "version": 3
   },
   "file_extension": ".py",
   "mimetype": "text/x-python",
   "name": "python",
   "nbconvert_exporter": "python",
   "pygments_lexer": "ipython3",
   "version": "3.5.2"
  },
  "toc": {
   "base_numbering": 1,
   "nav_menu": {},
   "number_sections": true,
   "sideBar": true,
   "skip_h1_title": false,
   "title_cell": "Table of Contents",
   "title_sidebar": "Contents",
   "toc_cell": false,
   "toc_position": {},
   "toc_section_display": true,
   "toc_window_display": false
  }
 },
 "nbformat": 4,
 "nbformat_minor": 2
}
